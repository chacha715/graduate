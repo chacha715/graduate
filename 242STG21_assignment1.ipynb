{
  "cells": [
    {
      "cell_type": "markdown",
      "metadata": {
        "id": "view-in-github",
        "colab_type": "text"
      },
      "source": [
        "<a href=\"https://colab.research.google.com/github/chacha715/graduate/blob/main/242STG21_assignment1.ipynb\" target=\"_parent\"><img src=\"https://colab.research.google.com/assets/colab-badge.svg\" alt=\"Open In Colab\"/></a>"
      ]
    },
    {
      "cell_type": "markdown",
      "metadata": {
        "id": "LAftdtStJJYc"
      },
      "source": [
        "# Scientific Programming in Python - Introduction"
      ]
    },
    {
      "cell_type": "markdown",
      "metadata": {
        "id": "F-T3kEm4JJYm"
      },
      "source": [
        "## How to solve these exercises\n",
        "\n",
        "We use an iPython notebook for all of our exercises. The process is very similar compared to the live coding sessions, but instead of repeating what we do in front of the class we already made a notebook for you that you can complete yourself.\n",
        "\n",
        "We have classified exercises according to their difficulty as **Basics**, **Medium** and **Involved**. Make sure you do at least the **Basics** exercises for each topic and the **Medium** if you can, but don't worry if you get stuck on the **Involved** ones.\n",
        "\n",
        "If you have questions, just approach one of the tutors."
      ]
    },
    {
      "cell_type": "markdown",
      "metadata": {
        "id": "ZxD_USiyJJYp"
      },
      "source": [
        "### Problem 1. Convert imperial to metric"
      ]
    },
    {
      "cell_type": "markdown",
      "metadata": {
        "id": "TSib6ir_JJYq"
      },
      "source": [
        "Write a formula to convert a weight from pounds into kilograms."
      ]
    },
    {
      "cell_type": "markdown",
      "metadata": {
        "id": "zWEaOatbJJYs"
      },
      "source": [
        ">**(a)** Modify the code in the following cell in such a way that it calculates the corresponding kilogram weight. Remember that all text to the right of a ‘#’ character is a comment that is ignored by python."
      ]
    },
    {
      "cell_type": "code",
      "source": [
        "weight_lbs = 138.0 # in pounds\n",
        "weight_kg = weight_lbs * 0.45\n",
        "print('Weight in kilograms: ' + str(weight_kg))"
      ],
      "metadata": {
        "colab": {
          "base_uri": "https://localhost:8080/"
        },
        "id": "M0WKkx4oMGBX",
        "outputId": "81389faa-d8d1-4e71-b9e7-58ececf213b6"
      },
      "execution_count": null,
      "outputs": [
        {
          "output_type": "stream",
          "name": "stdout",
          "text": [
            "Weight in kilograms: 62.1\n"
          ]
        }
      ]
    },
    {
      "cell_type": "markdown",
      "metadata": {
        "id": "TZb0lne-JJYz"
      },
      "source": [
        ">**(b)** To get your program to ask you for a value and get a variable that contains that value, use the function <code>raw_input()</code>. This function will return a string and so you will have to convert it to a number using the function <code>float()</code>. Modify the the following cell so that it asks you for a weight in pounds. When you run it in ipython, it should work like this:"
      ]
    },
    {
      "cell_type": "raw",
      "metadata": {
        "id": "VeGW4inWMCVr"
      },
      "source": [
        "Enter weight in pounds: 138.0\n",
        "Weight in kilograms: 62.1"
      ]
    },
    {
      "cell_type": "code",
      "execution_count": null,
      "metadata": {
        "id": "6opUYisFJJY2",
        "colab": {
          "base_uri": "https://localhost:8080/"
        },
        "outputId": "0db873d0-e248-41d3-e76f-f78f6fba0804"
      },
      "outputs": [
        {
          "output_type": "stream",
          "name": "stdout",
          "text": [
            "무게를 pound 단위로 입력하시오: 40\n",
            "Weight in kilograms:  18.0\n"
          ]
        }
      ],
      "source": [
        "weight_lbs = float(input(\"무게를 pound 단위로 입력하시오: \")) # raw_input()은 python 3.x에서 사라짐\n",
        "weight_kg = weight_lbs * 0.45\n",
        "print('Weight in kilograms: ', weight_kg)"
      ]
    },
    {
      "cell_type": "markdown",
      "metadata": {
        "id": "P2GqDyk5JJY4"
      },
      "source": [
        ">**(c)** This program should convert Farenheit to Celcius, but there are two bugs in the code. Figure out what they are and fix them so that it converts Farenheit to Celcius.\n",
        "(Hint: if you are having trouble, break up the formula into multiple steps and put a ‘print’ statement after each one so you can see the result of the step. Make sure each of the steps are doing what you think they should do.)"
      ]
    },
    {
      "cell_type": "code",
      "execution_count": null,
      "metadata": {
        "id": "FFaZHsv-JJY5",
        "outputId": "eb2f9d19-932c-447c-91d4-76a3eebe57ba",
        "colab": {
          "base_uri": "https://localhost:8080/"
        }
      },
      "outputs": [
        {
          "output_type": "stream",
          "name": "stdout",
          "text": [
            "Enter a temperature in Farenheit: 50\n",
            "Temperature in Celcius: 10.0\n"
          ]
        }
      ],
      "source": [
        "temp_far = float(input('Enter a temperature in Farenheit: '))\n",
        "temp_cel = 5/9 * (temp_far - 32)\n",
        "print('Temperature in Celcius: ' + str(temp_cel))"
      ]
    },
    {
      "cell_type": "markdown",
      "metadata": {
        "id": "2vUh8Q1-JJY6"
      },
      "source": [
        ">**(d)** Convert the programs used in (b) and (c) in such a way that they use functions"
      ]
    },
    {
      "cell_type": "code",
      "execution_count": null,
      "metadata": {
        "id": "Hlw2ceqbJJY7"
      },
      "outputs": [],
      "source": [
        "# Complete this function:\n",
        "\n",
        "def lb_to_kg(lb):\n",
        "    \"\"\"무게를 pound(lb)로 입력하면 kg 반환\"\"\"\n",
        "    kg = lb * 0.45\n",
        "    return kg\n",
        "\n",
        "def cel_to_far(cel):\n",
        "    \"\"\"온도를 celcius(cel)로 입력하면 fahrenheit(far) 반환\"\"\"\n",
        "    far = 9/5 * cel + 32\n",
        "    return far"
      ]
    },
    {
      "cell_type": "code",
      "source": [
        "lb_to_kg(40)"
      ],
      "metadata": {
        "colab": {
          "base_uri": "https://localhost:8080/"
        },
        "id": "UWCO1bmzO9Cl",
        "outputId": "cf975edf-b6e9-4206-8173-8a00c02f2459"
      },
      "execution_count": null,
      "outputs": [
        {
          "output_type": "execute_result",
          "data": {
            "text/plain": [
              "18.0"
            ]
          },
          "metadata": {},
          "execution_count": 11
        }
      ]
    },
    {
      "cell_type": "code",
      "source": [
        "cel_to_far(10)"
      ],
      "metadata": {
        "colab": {
          "base_uri": "https://localhost:8080/"
        },
        "id": "W0QbXie-PTFv",
        "outputId": "48c98663-c5cb-4d33-dafd-0c980d02172f"
      },
      "execution_count": null,
      "outputs": [
        {
          "output_type": "execute_result",
          "data": {
            "text/plain": [
              "50.0"
            ]
          },
          "metadata": {},
          "execution_count": 12
        }
      ]
    },
    {
      "cell_type": "markdown",
      "metadata": {
        "id": "lQvL3xd-JJY8"
      },
      "source": [
        "### Problem 2. A little bit of math"
      ]
    },
    {
      "cell_type": "markdown",
      "metadata": {
        "id": "Y4zslTBkJJY8"
      },
      "source": [
        "The following code asks you to enter three numbers and then finds the mean of those numbers."
      ]
    },
    {
      "cell_type": "code",
      "execution_count": null,
      "metadata": {
        "id": "dIPItKRnJJY9",
        "outputId": "5cb3061d-1e58-48bb-b587-5b556c44bdd6",
        "colab": {
          "base_uri": "https://localhost:8080/"
        }
      },
      "outputs": [
        {
          "output_type": "stream",
          "name": "stdout",
          "text": [
            "Enter the first number: 3\n",
            "Enter the second number: 5\n",
            "Enter the third number: 1\n",
            "3.0\n"
          ]
        }
      ],
      "source": [
        "x1 = float(input('Enter the first number: '))\n",
        "x2 = float(input('Enter the second number: '))\n",
        "x3 = float(input('Enter the third number: '))\n",
        "xhat = (x1 + x2 + x3) / 3.0\n",
        "print(xhat)"
      ]
    },
    {
      "cell_type": "markdown",
      "metadata": {
        "id": "ogIBgpByJJY-"
      },
      "source": [
        ">**(a)** Modify this code so that it prints the mean on the first line of its output and prints the standard deviation of the three numbers on the second line of its output. Remember that the standard deviation of a sample $x_1,x_2,\\ldots,x_n$ with sample mean $\\hat{x}=\\sum_{i=1}^n x_i/n $ is defined to be:\n",
        "\n",
        "<center>$ s = \\sqrt{\\displaystyle\\frac{1}{n-1}\\displaystyle\\sum_{i=1}^n(x_i - \\hat{x})^2}$</center>\n",
        "\n",
        ">The program should work like this when run:"
      ]
    },
    {
      "cell_type": "code",
      "execution_count": null,
      "metadata": {
        "id": "jbG2U_u1JJY_",
        "colab": {
          "base_uri": "https://localhost:8080/"
        },
        "outputId": "d140b4b7-8a28-4e17-ff0d-b51356e57e92"
      },
      "outputs": [
        {
          "output_type": "stream",
          "name": "stdout",
          "text": [
            "Enter the first number: 3\n",
            "Enter the second number: 5\n",
            "Enter the third number: 1\n",
            "Mean:  3.0\n",
            "Standard deviation:  2.0\n"
          ]
        }
      ],
      "source": [
        "from math import sqrt\n",
        "x1 = float(input('Enter the first number: '))\n",
        "x2 = float(input('Enter the second number: '))\n",
        "x3 = float(input('Enter the third number: '))\n",
        "\n",
        "xhat = (x1+x2+x3) / 3.0\n",
        "print('Mean: ', xhat)\n",
        "\n",
        "def simple_stdev(x1, x2, x3):\n",
        "    '''This calculates the standard deviation for three numbers'''\n",
        "    std = sqrt(1/2.0 * ((x1-xhat)**2 + (x2-xhat)**2 + (x3-xhat)**2))\n",
        "    print('Standard deviation: ', std)\n",
        "    pass\n",
        "\n",
        "simple_stdev(x1, x2, x3)"
      ]
    },
    {
      "cell_type": "raw",
      "metadata": {
        "id": "Ii_gpxJtMCVy"
      },
      "source": [
        "Enter the first number: 3\n",
        "Enter the second number: 7\n",
        "Enter the third number: 29\n",
        "13.0\n",
        "14.0"
      ]
    },
    {
      "cell_type": "markdown",
      "metadata": {
        "id": "VXgVZFqdJJZB"
      },
      "source": [
        ">**Hint:** If you are having trouble, write out the standard deviation in the equation above for $n=3$ because in this example there are three samples (don't expand the squares). Then, make a new line of code where you assign a variable called $s$ to the equation you wrote out. To translate the standard deviation formula into code, $x_1,x_2$ and $x_3$ should be written as $x1$, $x2$ and $x3$. The expression $(x_1-\\hat{x})^2$ should be written as $(x1 - xhat)**2$. When you want to write the square root of something, you have to put it <code>sqrt(here)</code> inside brackets. If you are using ipython, then <code>sqrt()</code> is automatically loaded in the interpreter. Otherwise, you have to import it like this:"
      ]
    },
    {
      "cell_type": "code",
      "execution_count": null,
      "metadata": {
        "id": "J00gXTdeJJZB"
      },
      "outputs": [],
      "source": [
        "from math import sqrt"
      ]
    },
    {
      "cell_type": "markdown",
      "metadata": {
        "id": "mCZYYgBGJJZB"
      },
      "source": [
        "### Problem 3. Calculator"
      ]
    },
    {
      "cell_type": "markdown",
      "metadata": {
        "id": "2Gwl0SsTJJZC"
      },
      "source": [
        "Let’s now try our hands on computing some miscellaneous quantities."
      ]
    },
    {
      "cell_type": "markdown",
      "metadata": {
        "id": "dtbN8dw8JJZC"
      },
      "source": [
        ">**(a)** The perimeter and area of a circle."
      ]
    },
    {
      "cell_type": "code",
      "source": [
        "from math import pi"
      ],
      "metadata": {
        "id": "E3l_M28eSIdM"
      },
      "execution_count": null,
      "outputs": []
    },
    {
      "cell_type": "code",
      "execution_count": null,
      "metadata": {
        "id": "GYKlSwGXJJZC",
        "colab": {
          "base_uri": "https://localhost:8080/"
        },
        "outputId": "25a978dd-2286-411c-a6b0-d3e18e1bf3d7"
      },
      "outputs": [
        {
          "output_type": "stream",
          "name": "stdout",
          "text": [
            "A circle of radius 5.0 has a perimeter of 31.41592653589793 and an area of 78.53981633974483\n"
          ]
        }
      ],
      "source": [
        "radius = 5.\n",
        "circle_perimeter = 2. * pi * radius\n",
        "circle_area = pi * radius**2\n",
        "\n",
        "print('A circle of radius ' + str(radius) + ' has a perimeter of ' +\n",
        "   str(circle_perimeter) + ' and an area of ' + str(circle_area))"
      ]
    },
    {
      "cell_type": "markdown",
      "metadata": {
        "id": "9j28PnGQJJZD"
      },
      "source": [
        ">**(b)** The golden ratio."
      ]
    },
    {
      "cell_type": "code",
      "execution_count": null,
      "metadata": {
        "id": "oXmDpaf6JJZD",
        "colab": {
          "base_uri": "https://localhost:8080/"
        },
        "outputId": "ec0781d1-b5a7-4e5c-9dc2-8c331063cd23"
      },
      "outputs": [
        {
          "output_type": "stream",
          "name": "stdout",
          "text": [
            "The golden ratio is equal to 1.618033988749895\n"
          ]
        }
      ],
      "source": [
        "# https://ko.wikipedia.org/wiki/%ED%99%A9%EA%B8%88%EB%B9%84\n",
        "# 황금비 공식\n",
        "\n",
        "golden_ratio = (1. + sqrt(5)) / 2\n",
        "print('The golden ratio is equal to ' + str(golden_ratio))"
      ]
    },
    {
      "cell_type": "markdown",
      "metadata": {
        "id": "ztNN1ZfPJJZD"
      },
      "source": [
        ">**(c)** The height, volume and area of a **regular** pentagonal pyramid."
      ]
    },
    {
      "cell_type": "code",
      "execution_count": null,
      "metadata": {
        "id": "__uUWOJ9JJZD",
        "colab": {
          "base_uri": "https://localhost:8080/"
        },
        "outputId": "f69276b7-e558-4dab-f1d1-545e8be47eaf"
      },
      "outputs": [
        {
          "output_type": "stream",
          "name": "stdout",
          "text": [
            "A regular pentagonal pyramid of side length 2.0 has a height of 1.0514622242382672, an area of 15.542163640200254 and a volume of 2.4120226591665967.\n",
            "Interesting, I suppose.\n"
          ]
        }
      ],
      "source": [
        "# https://ko.wikipedia.org/wiki/%EC%98%A4%EA%B0%81%EB%BF%94\n",
        "# 오각뿔 공식\n",
        "\n",
        "side_length = 2.\n",
        "pyramid_height = sqrt((5 - sqrt(5)) / 10) * side_length\n",
        "pyramid_area = (sqrt(25. + 10. * sqrt(5)) / 4. + 5 * sqrt(3.)/4.) * side_length**2.\n",
        "pyramid_volume = ((5. + sqrt(5)) / 24) * side_length**3.\n",
        "print('A regular pentagonal pyramid of side length ' + str(side_length) + ' has a height of ' + \\\n",
        "        str(pyramid_height) + ', an area of ' + str(pyramid_area) + ' and a volume of ' +\n",
        "        str(pyramid_volume) + '.\\nInteresting, I suppose.')"
      ]
    },
    {
      "cell_type": "markdown",
      "metadata": {
        "id": "KdP0JK33JJZE"
      },
      "source": [
        ">**(d)** The fractal dimension (Hausdorff dimension) of a Sierpinski Dodecahedron. Is it larger or smaller than the fractal dimension of a cauliflower?"
      ]
    },
    {
      "cell_type": "code",
      "source": [
        "from math import log"
      ],
      "metadata": {
        "id": "E8LZV7DmUqHR"
      },
      "execution_count": null,
      "outputs": []
    },
    {
      "cell_type": "code",
      "execution_count": null,
      "metadata": {
        "id": "euobV5V0JJZE",
        "colab": {
          "base_uri": "https://localhost:8080/"
        },
        "outputId": "0787a384-e93a-4ed4-e7bd-8580a0102e95"
      },
      "outputs": [
        {
          "output_type": "stream",
          "name": "stdout",
          "text": [
            "A Sierpinski Dodecahedron has a fractal dimension of 2.329621716170345, how intriguing!\n",
            "A cauliflower has a fractal dimension of 2.3347175194727927\n",
            "The cauliflower wins. Obviously.\n"
          ]
        }
      ],
      "source": [
        "# https://en.wikipedia.org/wiki/List_of_fractals_by_Hausdorff_dimension\n",
        "# 프랙탈 설명\n",
        "\n",
        "dodecahedron_fractal_dimension = log(20) / log(2. + golden_ratio)\n",
        "cauliflower_fractal_dimension = log(13) / log(3) ## 3D quadratic Koch surface (type 1)\n",
        "\n",
        "print('A Sierpinski Dodecahedron has a fractal dimension of ' +\n",
        "        str(dodecahedron_fractal_dimension) + ', how intriguing!')\n",
        "print('A cauliflower has a fractal dimension of ' + str(cauliflower_fractal_dimension))\n",
        "\n",
        "if dodecahedron_fractal_dimension > cauliflower_fractal_dimension:\n",
        "    print('The dodecahedron wins.')\n",
        "else:\n",
        "    print('The cauliflower wins. Obviously.')"
      ]
    },
    {
      "cell_type": "markdown",
      "metadata": {
        "id": "i73UWlpNJJZF"
      },
      "source": [
        ">**Hints:** The use of Wikipedia to refresh your memory is completely encouraged. All the mathematic formulae that you’ll need are in the module math. Either check online (http://docs.python.org/library/math.html) or by importing the module and looking for its content using ipython:\n"
      ]
    },
    {
      "cell_type": "code",
      "execution_count": null,
      "metadata": {
        "id": "puidj-QwJJZF"
      },
      "outputs": [],
      "source": [
        "import math"
      ]
    },
    {
      "cell_type": "markdown",
      "metadata": {
        "id": "cF4hFM65JJZF"
      },
      "source": [
        "### Problem 4. Strings manipulation\n",
        "\n",
        "We will now try a few functions from the standard library for strings. Everything you need should be available in the string module."
      ]
    },
    {
      "cell_type": "markdown",
      "metadata": {
        "id": "191ytjniJJZG"
      },
      "source": [
        ">**(a)** Find the functions to transform the following string into: lowercase, uppercase, sentence- case (first letter of first word is capitalized)."
      ]
    },
    {
      "cell_type": "code",
      "execution_count": null,
      "metadata": {
        "id": "_l12cpk1JJZG",
        "colab": {
          "base_uri": "https://localhost:8080/"
        },
        "outputId": "b6c32f14-d972-4518-8498-644405917303"
      },
      "outputs": [
        {
          "output_type": "stream",
          "name": "stdout",
          "text": [
            "uSiNg aPPrOpRiAtE cApiTaLISAtiOn iS iMpOrTaNt fOr yOuR rEaDerS' SANity\n",
            "using appropriate capitalisation is important for your readers' sanity\n",
            "USING APPROPRIATE CAPITALISATION IS IMPORTANT FOR YOUR READERS' SANITY\n",
            "Using appropriate capitalisation is important for your readers' sanity\n"
          ]
        }
      ],
      "source": [
        "import string\n",
        "\n",
        "message = \"uSiNg aPPrOpRiAtE cApiTaLISAtiOn iS iMpOrTaNt fOr yOuR rEaDerS' SANity\"\n",
        "lowercased = message.lower()\n",
        "uppercased = message.upper()\n",
        "sentencecased = message.capitalize()\n",
        "\n",
        "print(message + '\\n' + lowercased + '\\n' + uppercased + '\\n' + sentencecased)"
      ]
    },
    {
      "cell_type": "markdown",
      "metadata": {
        "id": "HsB3ZLj1JJZG"
      },
      "source": [
        ">**Hints:** Read the string module documentation carefully! https://docs.python.org/2/library/string.html Functions sometimes have similar names, but do different things!\n"
      ]
    },
    {
      "cell_type": "markdown",
      "metadata": {
        "id": "r5djtLquJJZH"
      },
      "source": [
        ">**(b)** Find how to align some text to the left, the right or to the center of a string of known fixed width. This could be useful to align your table in the next problem for example."
      ]
    },
    {
      "cell_type": "code",
      "execution_count": null,
      "metadata": {
        "id": "nM1_kBKOJJZR",
        "colab": {
          "base_uri": "https://localhost:8080/"
        },
        "outputId": "b8bd68fa-54a1-4027-87fb-74530f788683"
      },
      "outputs": [
        {
          "output_type": "stream",
          "name": "stdout",
          "text": [
            "I want this aligned properly! \n",
            "********************\n",
            "align me            \n",
            "            align me\n",
            "      align me      \n",
            "********************\n"
          ]
        }
      ],
      "source": [
        "import string\n",
        "# Question (b)\n",
        "text = 'align me'\n",
        "width = 20\n",
        "stars = '*'*width\n",
        "text_left   =  str.ljust(text, width)\n",
        "text_right  =  str.rjust(text, width)\n",
        "text_center =  str.center(text, width)\n",
        "\n",
        "print('I want this aligned properly! ' + '\\n' + stars + '\\n' + text_left + '\\n' +\n",
        "        text_right + '\\n' + text_center + '\\n' + stars)"
      ]
    },
    {
      "cell_type": "markdown",
      "metadata": {
        "id": "RGaRJLo3JJZS"
      },
      "source": [
        ">**(c)** Enforce the correct spelling of Python. It is not “Pyhton”, “python” or “pythons”. (Hint: you can chain multiple function calls: the output of one function can be the input of another one)"
      ]
    },
    {
      "cell_type": "code",
      "execution_count": null,
      "metadata": {
        "id": "8Yap7QHbJJZT",
        "colab": {
          "base_uri": "https://localhost:8080/"
        },
        "outputId": "2c09fe26-9d9a-4df8-9063-849299dba972"
      },
      "outputs": [
        {
          "output_type": "stream",
          "name": "stdout",
          "text": [
            "Scientific Programming in Pyhton: The student will be able to write simple programs in pythons.\n",
            "Scientific Programming in Python: The student will be able to write simple programs in Python.\n",
            "Scientific Programming in Python: The student will be able to write simple programs in Python.\n"
          ]
        }
      ],
      "source": [
        "# Question (c)\n",
        "email = \"Scientific Programming in Pyhton: The student will be able to write simple programs in pythons.\"\n",
        "corrected = str.replace(str.replace(email, 'Pyhton', 'Python'), 'pythons', 'Python')\n",
        "print(email + '\\n' + corrected)\n",
        "\n",
        "def spellchecker(email):\n",
        "  corrected_email = []\n",
        "  email = email.split()\n",
        "  for i, word in enumerate(email):\n",
        "    if email[i] == \"pythons.\":\n",
        "      email[i] = \"Python.\"\n",
        "    elif email[i] == \"Pyhton:\":\n",
        "      email[i] = \"Python:\"\n",
        "    corrected_email.append(email[i])\n",
        "  corrected_email = \" \".join(corrected_email)\n",
        "  print(corrected_email)\n",
        "  pass\n",
        "\n",
        "spellchecker(email)"
      ]
    },
    {
      "cell_type": "markdown",
      "metadata": {
        "id": "CXu9_2UOJJZT"
      },
      "source": [
        ">**(d)** Do what Python is doing to your code: remove everything after the first “#” you find on a line. Also remove all trailing (e.g. at the end) whitespaces."
      ]
    },
    {
      "cell_type": "code",
      "execution_count": null,
      "metadata": {
        "id": "QRvBz_kmJJZU",
        "colab": {
          "base_uri": "https://localhost:8080/"
        },
        "outputId": "1a633246-ffbd-4162-f2e7-28aacc8c3522"
      },
      "outputs": [
        {
          "output_type": "stream",
          "name": "stdout",
          "text": [
            "print 'I quite like Python already!'  # Actually, I just want easy credits\n",
            "'I quite like Python already!'\n"
          ]
        }
      ],
      "source": [
        "line = \"print 'I quite like Python already!'  # Actually, I just want easy credits\"\n",
        "no_comments = line.split()\n",
        "del no_comments[6:]\n",
        "del no_comments[0]\n",
        "no_comments = \" \".join(no_comments)\n",
        "text.strip()\n",
        "print(line + '\\n' + no_comments)"
      ]
    },
    {
      "cell_type": "markdown",
      "metadata": {
        "id": "tgaBKvfMJJZU"
      },
      "source": [
        "### Problem 5 *Basics*: Alphabet\n",
        "In this problem we’ll recap basic list methods, using the alphabet"
      ]
    },
    {
      "cell_type": "markdown",
      "metadata": {
        "id": "XLrxhIPOJJZV"
      },
      "source": [
        ">**(a)** We’ll first start by making a list each of the upper and lower case letters in the English alphabet:"
      ]
    },
    {
      "cell_type": "code",
      "execution_count": null,
      "metadata": {
        "id": "TeYjUl95JJZV",
        "colab": {
          "base_uri": "https://localhost:8080/"
        },
        "outputId": "0db08b92-ed4c-4613-cc1d-e0b9d1ed732a"
      },
      "outputs": [
        {
          "output_type": "stream",
          "name": "stdout",
          "text": [
            "uc =  ['A', 'B', 'C', 'D', 'E', 'F', 'G', 'H', 'I', 'J', 'K', 'L', 'M', 'N', 'O', 'P', 'Q', 'R', 'S', 'T', 'U', 'V', 'W', 'X', 'Y', 'Z'] \n",
            " lc =  ['a', 'b', 'c', 'd', 'e', 'f', 'g', 'h', 'i', 'j', 'k', 'l', 'm', 'n', 'o', 'p', 'q', 'r', 's', 't', 'u', 'v', 'w', 'x', 'y', 'z']\n"
          ]
        }
      ],
      "source": [
        "import string\n",
        "\n",
        "uc = list(string.ascii_uppercase)\n",
        "lc = list(string.ascii_lowercase)\n",
        "print(\"uc = \", uc , '\\n', \"lc = \", lc)\n",
        "\n",
        "# The result should look like this:\n",
        "# uc = ['A', 'B', 'C', 'D', 'E', 'F', 'G', 'H', 'I', 'J', 'K', 'L', 'M', 'N', 'O',\n",
        "#       'P', 'Q', 'R', 'S', 'T', 'U', 'V', 'W', 'X', 'Y', 'Z']\n",
        "# lc = ['a', 'b', 'c', 'd', 'e', 'f', 'g', 'h', 'i', 'j', 'k', 'l', 'm', 'n', 'o',\n",
        "#       'p', 'q', 'r', 's', 't', 'u', 'v', 'w', 'x', 'y', 'z']"
      ]
    },
    {
      "cell_type": "markdown",
      "metadata": {
        "id": "ge2g6B4dJJZW"
      },
      "source": [
        ">**(b)** Blank your full name from both lists, using a ```for``` loop (it's easiest to first concatenate them):"
      ]
    },
    {
      "cell_type": "code",
      "execution_count": null,
      "metadata": {
        "id": "brQSajaWJJZX",
        "colab": {
          "base_uri": "https://localhost:8080/"
        },
        "outputId": "55723562-f4e4-4fe5-96b5-cce114f85435"
      },
      "outputs": [
        {
          "output_type": "stream",
          "name": "stdout",
          "text": [
            "['A', 'B', '*', 'D', 'E', 'F', 'G', 'H', 'I', 'J', 'K', 'L', '*', 'N', 'O', 'P', 'Q', 'R', 'S', 'T', 'U', 'V', 'W', 'X', 'Y', 'Z', '*', 'b', 'c', 'd', 'e', 'f', '*', '*', '*', 'j', '*', 'l', 'm', '*', '*', 'p', 'q', 'r', 's', 't', '*', 'v', 'w', 'x', '*', 'z']\n"
          ]
        }
      ],
      "source": [
        "# Hint: For each item in the list, check whether it is in the name\n",
        "\n",
        "full = uc + lc\n",
        "name = \"Minkyoung Cha\"\n",
        "\n",
        "for i in range(len(full)):\n",
        "  if full[i] in name:\n",
        "    full[i] = '*'\n",
        "\n",
        "print(full)\n",
        "\n",
        "# The result should look like this if you blank \"Jeremy Bentham\":\n",
        "# ['A', '*', 'C', 'D', 'E', 'F', 'G', 'H', 'I', '*', 'K', 'L', 'M', 'N', 'O', 'P', 'Q', 'R', 'S', 'T',\n",
        "#  'U', 'V', 'W', 'X', 'Y', 'Z', '*', 'b', 'c', 'd', '*', 'f', 'g', '*', 'i', 'j', 'k', 'l', '*', '*',\n",
        "#  'o', 'p', 'q', '*', 's', '*', 'u', 'v', 'w', 'x', '*', 'z']"
      ]
    },
    {
      "cell_type": "markdown",
      "metadata": {
        "id": "GbsfYtiOJJZX"
      },
      "source": [
        ">**(c)** Sort the list and remove the leading blanks:\n",
        "\n",
        "> Hint: print each letter along with its index; you can then create a new list with a ```slice```"
      ]
    },
    {
      "cell_type": "code",
      "execution_count": null,
      "metadata": {
        "id": "6s133Y3nJJZY",
        "colab": {
          "base_uri": "https://localhost:8080/"
        },
        "outputId": "a6c26489-5643-4dea-d8ca-f6b9c494bf0a"
      },
      "outputs": [
        {
          "output_type": "stream",
          "name": "stdout",
          "text": [
            "0 *\n",
            "1 *\n",
            "2 *\n",
            "3 *\n",
            "4 *\n",
            "5 *\n",
            "6 *\n",
            "7 *\n",
            "8 *\n",
            "9 *\n",
            "10 *\n",
            "11 A\n",
            "12 B\n",
            "13 D\n",
            "14 E\n",
            "15 F\n",
            "16 G\n",
            "17 H\n",
            "18 I\n",
            "19 J\n",
            "20 K\n",
            "21 L\n",
            "22 N\n",
            "23 O\n",
            "24 P\n",
            "25 Q\n",
            "26 R\n",
            "27 S\n",
            "28 T\n",
            "29 U\n",
            "30 V\n",
            "31 W\n",
            "32 X\n",
            "33 Y\n",
            "34 Z\n",
            "35 b\n",
            "36 c\n",
            "37 d\n",
            "38 e\n",
            "39 f\n",
            "40 j\n",
            "41 l\n",
            "42 m\n",
            "43 p\n",
            "44 q\n",
            "45 r\n",
            "46 s\n",
            "47 t\n",
            "48 v\n",
            "49 w\n",
            "50 x\n",
            "51 z\n",
            "['A', 'B', 'D', 'E', 'F', 'G', 'H', 'I', 'J', 'K', 'L', 'N', 'O', 'P', 'Q', 'R', 'S', 'T', 'U', 'V', 'W', 'X', 'Y', 'Z', 'b', 'c', 'd', 'e', 'f', 'j', 'l', 'm', 'p', 'q', 'r', 's', 't', 'v', 'w', 'x', 'z']\n"
          ]
        }
      ],
      "source": [
        "full_sorted = sorted(full)\n",
        "\n",
        "for index, letter in enumerate(full_sorted):\n",
        "  print(index, letter)\n",
        "\n",
        "full_removed = full_sorted[11:]\n",
        "print(full_removed)\n",
        "\n",
        "# The result should look like this:\n",
        "# blanks_removed = ['A', 'C', 'D', 'E', 'F', 'G', 'H', 'I', 'K', 'L', 'M', 'N', 'O', 'P', 'Q', 'R',\n",
        "#                   'S', 'T', 'U', 'V', 'W', 'X', 'Y', 'Z', 'b', 'c', 'd', 'f', 'g', 'i', 'j', 'k',\n",
        "#                   'l', 'o', 'p', 'q', 's', 'u', 'v', 'w', 'x', 'z']"
      ]
    },
    {
      "cell_type": "markdown",
      "metadata": {
        "id": "BxKtL2KmJJZY"
      },
      "source": [
        ">**(d)** Try doing all of (a),(b) and (c) using a single list comprehension:"
      ]
    },
    {
      "cell_type": "code",
      "execution_count": null,
      "metadata": {
        "id": "eOvcSi4oJJZZ",
        "colab": {
          "base_uri": "https://localhost:8080/"
        },
        "outputId": "88eebd05-f7e8-4045-c0d5-01b57c433715"
      },
      "outputs": [
        {
          "output_type": "stream",
          "name": "stdout",
          "text": [
            "['A', 'B', 'D', 'E', 'F', 'G', 'H', 'I', 'J', 'K', 'L', 'N', 'O', 'P', 'Q', 'R', 'S', 'T', 'U', 'V', 'W', 'X', 'Y', 'Z', 'b', 'c', 'd', 'e', 'f', 'j', 'l', 'm', 'p', 'q', 'r', 's', 't', 'v', 'w', 'x', 'z']\n"
          ]
        }
      ],
      "source": [
        "# Hint: you will need a conditional statement in your list comprehension. The result should look the same as in (c)\n",
        "\n",
        "blanks_removed = [letter for letter in list(string.ascii_uppercase) + list(string.ascii_lowercase) if letter not in 'Minkyoung Cha']\n",
        "print(blanks_removed)\n",
        "\n",
        "#We’ll first start by making a list each of the upper and lower case letters in the English alphabet:\n",
        "#Blank your full name from both lists, using a for loop (it's easiest to first concatenate them):\n",
        "#Sort the list and remove the leading blanks:\n",
        "\n"
      ]
    },
    {
      "cell_type": "markdown",
      "metadata": {
        "id": "d0VGEt7SJJZZ"
      },
      "source": [
        "### Problem 6 *Medium*: Multiplication Table\n",
        "In this problem we’ll use for-loops, some lists and control how values are printed on screen, to produce a full multiplication table (from 1 to 12). https://en.wikipedia.org/wiki/Multiplication_table"
      ]
    },
    {
      "cell_type": "markdown",
      "metadata": {
        "id": "FKw6_7TgJJZa"
      },
      "source": [
        ">**(a)** We’ll first start by creating the multiplication table for the number 2, i.e. what you get when you multiply the numbers from 1 to 12 by 2. Use a for-loop:"
      ]
    },
    {
      "cell_type": "code",
      "execution_count": null,
      "metadata": {
        "id": "ETo2u1yqJJZa",
        "colab": {
          "base_uri": "https://localhost:8080/"
        },
        "outputId": "421b8786-3fad-4b90-bcdd-465cf7cfae20"
      },
      "outputs": [
        {
          "output_type": "stream",
          "name": "stdout",
          "text": [
            "[2, 4, 6, 8, 10, 12, 14, 16, 18, 20, 22, 24]\n"
          ]
        }
      ],
      "source": [
        "max_time = 12\n",
        "number = 2\n",
        "\n",
        "times_2 = []\n",
        "for i in range(max_time):\n",
        "  times_2.append(number*(i+1))\n",
        "\n",
        "print(times_2)\n",
        "\n",
        "# times_2 should now be [2, 4, 6, 8, 10, 12, 14, 16, 18, 20, 22, 24]"
      ]
    },
    {
      "cell_type": "markdown",
      "metadata": {
        "id": "WdKG1ZF8JJZb"
      },
      "source": [
        ">**Hint:** remember that <code>range(x)</code> starts at 0 and finishes at $(x − 1)$. Give it 2 parameters to control where it should start at.)"
      ]
    },
    {
      "cell_type": "markdown",
      "metadata": {
        "id": "P_kSMVX4JJZc"
      },
      "source": [
        ">**(b)** Now we’ll just format the result so that it looks nicer. Write code to automatically convert times_2 into the following string (separate with spaces):"
      ]
    },
    {
      "cell_type": "raw",
      "metadata": {
        "id": "swC6UCCzJJZd"
      },
      "source": [
        "2 | 2 4 6 8 10 12 14 16 18 20"
      ]
    },
    {
      "cell_type": "code",
      "execution_count": null,
      "metadata": {
        "id": "f2QbAeIWJJZd",
        "colab": {
          "base_uri": "https://localhost:8080/"
        },
        "outputId": "a1560fac-ccb3-4d3d-ddb9-f9f2ce363c79"
      },
      "outputs": [
        {
          "output_type": "stream",
          "name": "stdout",
          "text": [
            "2 4 6 8 10 12 14 16 18 20 22 24\n"
          ]
        }
      ],
      "source": [
        "# Your code here\n",
        "\n",
        "times_2_str = ' '.join(str(s) for s in times_2)\n",
        "\n",
        "print(times_2_str)"
      ]
    },
    {
      "cell_type": "markdown",
      "metadata": {
        "id": "xTAJlOjiJJZe"
      },
      "source": [
        ">**(c)** We’ve actually already generated one line of our full table. You could just copy and paste your code and change the loop to get all the lines from 1 to 12, but you might make a mistake, or you might want to get lines from 1 to 1000. Looking at your code, if you change the <code>number</code> variable it should create the correct line for the value contained in <code>number</code>. So we just have to loop over the values of 1 to 12 for this <code>number</code> variable.\n",
        "This is called nested loops, and you’ll use nested loops over and over again in your programs. Simply put another loop into your loop (make sure that you give the iterating variable a different name for each loop). What does the following piece of code do? Write down what you think the output would be if <code>max\\_time</code> contained the value 4 and then set <code>max\\_time</code> to 4 and run this piece of code and make sure you were right."
      ]
    },
    {
      "cell_type": "code",
      "execution_count": null,
      "metadata": {
        "id": "BjrkGoxMJJZf"
      },
      "outputs": [],
      "source": [
        "for i in range(max_time):\n",
        "    for j in range(max_time):\n",
        "        print(i, j)"
      ]
    },
    {
      "cell_type": "code",
      "source": [
        "max_time = 4\n",
        "\n",
        "for i in range(max_time):\n",
        "    for j in range(max_time):\n",
        "        print(i, j)\n",
        "# max_time을 4로 설정하였기에 range(max_time)이 0~3의 수가 되어 (i, j) 순서쌍이 4*4의 16개가 출력되었다."
      ],
      "metadata": {
        "colab": {
          "base_uri": "https://localhost:8080/"
        },
        "id": "tybhkRuab4pJ",
        "outputId": "d88df5fb-211f-4b3b-c539-0ebc59e1d5a7"
      },
      "execution_count": null,
      "outputs": [
        {
          "output_type": "stream",
          "name": "stdout",
          "text": [
            "0 0\n",
            "0 1\n",
            "0 2\n",
            "0 3\n",
            "1 0\n",
            "1 1\n",
            "1 2\n",
            "1 3\n",
            "2 0\n",
            "2 1\n",
            "2 2\n",
            "2 3\n",
            "3 0\n",
            "3 1\n",
            "3 2\n",
            "3 3\n"
          ]
        }
      ]
    },
    {
      "cell_type": "markdown",
      "metadata": {
        "id": "H85aDk-xJJZf"
      },
      "source": [
        ">**(d)** Using nested loops, create all the lines of the times table, for all numbers between 1 and 12. Use the same format as in part (b). Create two more lines on top to put the label of each column. You should get the following output:"
      ]
    },
    {
      "cell_type": "raw",
      "metadata": {
        "id": "kKXMGR6DJJZg"
      },
      "source": [
        " 1 2 3 4 5 6 7 8 9 10 11 12\n",
        "------------------------------\n",
        "1 | 1 2 3 4 5 6 7 8 9 10 11 12\n",
        "2 | 2 4 6 8 10 12 14 16 18 20 22 24\n",
        "3 | 3 6 9 12 15 18 21 24 27 30 33 36\n",
        "4 | 4 8 12 16 20 24 28 32 36 40 44 48\n",
        "5 | 5 10 15 20 25 30 35 40 45 50 55 60\n",
        "6 | 6 12 18 24 30 36 42 48 54 60 66 72\n",
        "7 | 7 14 21 28 35 42 49 56 63 70 77 84\n",
        "8 | 8 16 24 32 40 48 56 64 72 80 88 96\n",
        "9 | 9 18 27 36 45 54 63 72 81 90 99 108\n",
        "10 | 10 20 30 40 50 60 70 80 90 100 110 120\n",
        "11 | 11 22 33 44 55 66 77 88 99 110 121 132\n",
        "12 | 12 24 36 48 60 72 84 96 108 120 132 144"
      ]
    },
    {
      "cell_type": "code",
      "execution_count": null,
      "metadata": {
        "id": "pkVsDxrFJJZh",
        "colab": {
          "base_uri": "https://localhost:8080/"
        },
        "outputId": "7b5d82a0-de77-4987-c160-2030aee92674"
      },
      "outputs": [
        {
          "output_type": "stream",
          "name": "stdout",
          "text": [
            "  1     2     3     4     5     6     7     8     9     10     11     12     \n",
            "  ------------------------------------------------------------------------\n",
            "1|1    2    3    4    5    6    7    8    9    10    11    12    \n",
            "2|2    4    6    8    10    12    14    16    18    20    22    24    \n",
            "3|3    6    9    12    15    18    21    24    27    30    33    36    \n",
            "4|4    8    12    16    20    24    28    32    36    40    44    48    \n",
            "5|5    10    15    20    25    30    35    40    45    50    55    60    \n",
            "6|6    12    18    24    30    36    42    48    54    60    66    72    \n",
            "7|7    14    21    28    35    42    49    56    63    70    77    84    \n",
            "8|8    16    24    32    40    48    56    64    72    80    88    96    \n",
            "9|9    18    27    36    45    54    63    72    81    90    99    108    \n",
            "10|10    20    30    40    50    60    70    80    90    100    110    120    \n",
            "11|11    22    33    44    55    66    77    88    99    110    121    132    \n",
            "12|12    24    36    48    60    72    84    96    108    120    132    144    \n"
          ]
        }
      ],
      "source": [
        "max_time = 12\n",
        "number = 1\n",
        "\n",
        "def print_header(max_time):\n",
        "  header = \"  \"\n",
        "  for i in range(1, max_time+1):\n",
        "    header = header + str(i) + \"     \"\n",
        "  print(header)\n",
        "  print(\"  \" + \"------\" * max_time)\n",
        "\n",
        "def row(number, max_time):\n",
        "  row = []\n",
        "  for i in range(1, max_time+1):\n",
        "    row.append(number*i)\n",
        "  return row\n",
        "\n",
        "def print_row(row):\n",
        "  row_string = str(row[0]) + \"|\"\n",
        "  for i in row:\n",
        "    row_string = row_string + str(i) + \"    \"\n",
        "  print(row_string)\n",
        "\n",
        "\n",
        "def times_table(max_time):\n",
        "  print_header(max_time)\n",
        "  for i in range(1, max_time+1):\n",
        "    print_row(row(i, max_time))\n",
        "    pass\n",
        "\n",
        "\n",
        "times_table(12)"
      ]
    },
    {
      "cell_type": "markdown",
      "metadata": {
        "id": "cgPX7_jSJJZh"
      },
      "source": [
        ">**Hint**: Generate a line for each line, and print it only when it’s complete. You actually do not need to create the intermediate list anymore, you can generate the string for the current line directly"
      ]
    },
    {
      "cell_type": "markdown",
      "metadata": {
        "id": "yAJ04mDuJJZi"
      },
      "source": [
        ">**(e)** As you can see, our table is not well-aligned. We really need to enforce a minimum “size” used by each number. We can do that easily by putting spaces around the numbers when they are too short. Modify the code for your multiplication table so that the columns of the table it prints are aligned. Hint: the code <code>len(str(n)) == 1</code> will be <code>true</code> if the number contained in the variable n is one digit long.\n",
        "Correct your code to get the following output:"
      ]
    },
    {
      "cell_type": "raw",
      "metadata": {
        "id": "TXgwpPATJJZi"
      },
      "source": [
        "        1    2    3    4    5    6    7    8    9   10   11   12\n",
        "    ------------------------------------------------------------------------\n",
        " 1 |    1    2    3    4    5    6    7    8    9   10   11   12\n",
        " 2 |    2    4    6    8   10   12   14   16   18   20   22   24\n",
        " 3 |    3    6    9   12   15   18   21   24   27   30   33   36\n",
        " 4 |    4    8   12   16   20   24   28   32   36   40   44   48\n",
        " 5 |    5   10   15   20   25   30   35   40   45   50   55   60\n",
        " 6 |    6   12   18   24   30   36   42   48   54   60   66   72\n",
        " 7 |    7   14   21   28   35   42   49   56   63   70   77   84\n",
        " 8 |    8   16   24   32   40   48   56   64   72   80   88   96\n",
        " 9 |    9   18   27   36   45   54   63   72   81   90   99  108\n",
        "10 |   10   20   30   40   50   60   70   80   90  100  110  120\n",
        "11 |   11   22   33   44   55   66   77   88   99  110  121  132\n",
        "12 |   12   24   36   48   60   72   84   96  108  120  132  144"
      ]
    },
    {
      "cell_type": "markdown",
      "metadata": {
        "id": "I7RzSZC_JJZj"
      },
      "source": [
        ">**Hint:** Remember the <code>ljust(), rjust()</code> and <code>center()</code>functions!   "
      ]
    },
    {
      "cell_type": "code",
      "execution_count": null,
      "metadata": {
        "id": "bn9DJJKbJJZj",
        "colab": {
          "base_uri": "https://localhost:8080/"
        },
        "outputId": "ce91333c-d9bb-4e87-8786-175b8162bf3b"
      },
      "outputs": [
        {
          "output_type": "stream",
          "name": "stdout",
          "text": [
            "     1   2   3   4   5   6   7   8   9  10  11  12 \n",
            "  ------------------------------------------------\n",
            " 1|  1   2   3   4   5   6   7   8   9  10  11  12 \n",
            " 2|  2   4   6   8  10  12  14  16  18  20  22  24 \n",
            " 3|  3   6   9  12  15  18  21  24  27  30  33  36 \n",
            " 4|  4   8  12  16  20  24  28  32  36  40  44  48 \n",
            " 5|  5  10  15  20  25  30  35  40  45  50  55  60 \n",
            " 6|  6  12  18  24  30  36  42  48  54  60  66  72 \n",
            " 7|  7  14  21  28  35  42  49  56  63  70  77  84 \n",
            " 8|  8  16  24  32  40  48  56  64  72  80  88  96 \n",
            " 9|  9  18  27  36  45  54  63  72  81  90  99 108 \n",
            "10| 10  20  30  40  50  60  70  80  90 100 110 120 \n",
            "11| 11  22  33  44  55  66  77  88  99 110 121 132 \n",
            "12| 12  24  36  48  60  72  84  96 108 120 132 144 \n"
          ]
        }
      ],
      "source": [
        "# Your code here\n",
        "\n",
        "max_time = 12\n",
        "number = 1\n",
        "\n",
        "def print_header(max_time):\n",
        "  header = \"   \"\n",
        "  for i in range(1, max_time+1):\n",
        "    header = header + str(i).rjust(3) + \" \"\n",
        "  print(header)\n",
        "  print(\"  \" + \"----\" * max_time)\n",
        "\n",
        "def row(number, max_time):\n",
        "  row = []\n",
        "  for i in range(1, max_time+1):\n",
        "    row.append(number*i)\n",
        "  return row\n",
        "\n",
        "def print_row(row):\n",
        "  row_string = str(row[0]).rjust(2) + \"|\"\n",
        "  for i in row:\n",
        "    row_string = row_string + str(i).rjust(3) + \" \"\n",
        "  print(row_string)\n",
        "\n",
        "\n",
        "def times_table(max_time):\n",
        "  print_header(max_time)\n",
        "  for i in range(1, max_time+1):\n",
        "    print_row(row(i, max_time))\n",
        "    pass\n",
        "\n",
        "\n",
        "times_table(12)"
      ]
    },
    {
      "cell_type": "markdown",
      "metadata": {
        "id": "Z2yesJoeJJZk"
      },
      "source": [
        "### Problem 7. Pascal’s triangle\n",
        "\n",
        "This is a slight variation on the previous exercise. The goal is to generate [Pascal's Triangle](http://en.wikipedia.org/wiki/Pascal's_triangle):\n",
        "\n",
        "<p><center><a href=\"http://commons.wikimedia.org/wiki/File:PascalTriangleAnimated2.gif#mediaviewer/File:PascalTriangleAnimated2.gif\"><img src=\"http://upload.wikimedia.org/wikipedia/commons/0/0d/PascalTriangleAnimated2.gif\" alt=\"PascalTriangleAnimated2.gif\"></a></center></p>\n",
        "\n",
        "The rules to generate the triangle are quite simple:\n",
        "\n",
        "* Each number is the sum of the two just above it, the above-left and the above-right one. (e.g. 5 on the last line is 1 + 4).\n",
        "* The top and sides of the triangle are initialised with 1s."
      ]
    },
    {
      "cell_type": "markdown",
      "metadata": {
        "id": "V1Pjx8VjJJZk"
      },
      "source": [
        ">**(a)** For this exercise, we’ll use a 2D list. This is really just a list of list, think of it like a matrix (or an Excel spreadsheet if you hate matrices). Example of usage:"
      ]
    },
    {
      "cell_type": "code",
      "execution_count": null,
      "metadata": {
        "id": "muryu1pXJJZl",
        "colab": {
          "base_uri": "https://localhost:8080/"
        },
        "outputId": "b4bc319a-6be8-4946-dce7-ef7740f7edc7"
      },
      "outputs": [
        {
          "output_type": "execute_result",
          "data": {
            "text/plain": [
              "[[1], [2, 3], [4, 5, 6]]"
            ]
          },
          "metadata": {},
          "execution_count": 1
        }
      ],
      "source": [
        "list_list = [[1], [2, 3], [4, 5]]\n",
        "list_list[0]\n",
        "[1]\n",
        "list_list[0][0]\n",
        "1\n",
        "list_list[1][1]\n",
        "3\n",
        "list_list[2].append(6)\n",
        "list_list"
      ]
    },
    {
      "cell_type": "markdown",
      "metadata": {
        "id": "2_lgKDx_JJZl"
      },
      "source": [
        ">Let’s first start by generating a 2D list with the exact same structure as Pascal’s triangle (we’ll compute the correct values later, let’s fill it up with 1’s for now). We need to generate a list of lists with 1 element in the first list, 2 elements in the second list, 3 on the third list, etc... Modify the following code, using nested loops, to create the correct result:"
      ]
    },
    {
      "cell_type": "code",
      "execution_count": null,
      "metadata": {
        "id": "E7G8zlqtJJZm",
        "colab": {
          "base_uri": "https://localhost:8080/"
        },
        "outputId": "23b8e091-b13f-4b6c-8a5b-08a2891a812e"
      },
      "outputs": [
        {
          "output_type": "stream",
          "name": "stdout",
          "text": [
            "[[1], [1, 1], [1, 1, 1], [1, 1, 1, 1], [1, 1, 1, 1, 1]]\n"
          ]
        }
      ],
      "source": [
        "####\n",
        "# Pascal's Triangle\n",
        "#\n",
        "#  Create and print Pascal's triangle\n",
        "####\n",
        "\n",
        "number_lines = 5\n",
        "\n",
        "# Part (a)\n",
        "triangle = [[1]]\n",
        "for i in range(1, number_lines):\n",
        "  triangle.append([])\n",
        "  for j in range(i+1):\n",
        "    triangle[i].append(1)\n",
        "\n",
        "print(triangle)\n",
        "# Should get [[1], [1, 1], [1, 1, 1], [1, 1, 1, 1], [1, 1, 1, 1, 1]]"
      ]
    },
    {
      "cell_type": "markdown",
      "metadata": {
        "id": "rGD924vfJJZn"
      },
      "source": [
        ">**Hint:** remember range iterates up to a variable’s value"
      ]
    },
    {
      "cell_type": "markdown",
      "metadata": {
        "id": "bQQK28bnJJZn"
      },
      "source": [
        ">**(b)** Write some code to print your 2D list as a triangle! Where are the above-left and above-right items associated with each element in this view? This is relevant, as it corresponds exactly to accessing the items of your triangle with indices."
      ]
    },
    {
      "cell_type": "raw",
      "metadata": {
        "id": "Lk8hZHCEJJZo"
      },
      "source": [
        "1\n",
        "1 1\n",
        "1 1 1\n",
        "1 1 1 1\n",
        "1 1 1 1 1"
      ]
    },
    {
      "cell_type": "code",
      "execution_count": null,
      "metadata": {
        "id": "MIec9TUwJJZo",
        "colab": {
          "base_uri": "https://localhost:8080/"
        },
        "outputId": "a5c190a5-3860-4af7-f092-2ed0f69b04f3"
      },
      "outputs": [
        {
          "output_type": "stream",
          "name": "stdout",
          "text": [
            "1\n",
            "1 1\n",
            "1 1 1\n",
            "1 1 1 1\n",
            "1 1 1 1 1\n"
          ]
        }
      ],
      "source": [
        "# Your code here\n",
        "\n",
        "# a) prompt the user\n",
        "n = 5\n",
        "\n",
        "# b) allocate a 2d triangular list\n",
        "triangular = [ [0]*(i+1) for i in range(n) ]\n",
        "\n",
        "# c) nested loops\n",
        "for i in range(n):\n",
        "    for j in range(i+1):\n",
        "        triangular[i][j] = triangle[i][j]\n",
        "\n",
        "# d) print the list\n",
        "for row in triangular: print(*row)"
      ]
    },
    {
      "cell_type": "markdown",
      "metadata": {
        "id": "xCBUJ_QIJJZp"
      },
      "source": [
        ">**(c)** Now modify your code to get the actual values of Pascal’s triangle. Remember you can access elements you already generated in a previous iteration of the for-loop (e.g. <code>triangle[i-1][j]</code>). You will have to be careful about accessing numbers that do not exist, add if-statements to handle special cases.\n",
        "(**Hint:** When you try to access the “above-right” element, you can compare i and j to figure out whether or not it exists)"
      ]
    },
    {
      "cell_type": "raw",
      "metadata": {
        "id": "CSJn19tkJJZq"
      },
      "source": [
        "1\n",
        "1 1\n",
        "1 2 1\n",
        "1 3 3 1\n",
        "1 4 6 4 1"
      ]
    },
    {
      "cell_type": "code",
      "execution_count": null,
      "metadata": {
        "id": "LkDBW4BhJJZr",
        "colab": {
          "base_uri": "https://localhost:8080/"
        },
        "outputId": "71f4b847-4ba2-4e4e-c6ee-0cb1c4707f7c"
      },
      "outputs": [
        {
          "output_type": "stream",
          "name": "stdout",
          "text": [
            "[[1], [1, 1], [1, 2, 1], [1, 3, 3, 1], [1, 4, 6, 4, 1]]\n",
            "1\n",
            "1 1\n",
            "1 2 1\n",
            "1 3 3 1\n",
            "1 4 6 4 1\n"
          ]
        }
      ],
      "source": [
        "# Your code here\n",
        "\n",
        "triangle = [[1]]\n",
        "for i in range(1, number_lines):\n",
        "  triangle.append([])\n",
        "  for j in range(i+1):\n",
        "    if j == 0 or j == i:\n",
        "      triangle[i].append(1)\n",
        "    else:\n",
        "      triangle[i].append(triangle[i-1] [j-1] + triangle[i-1] [j])\n",
        "\n",
        "print(triangle)\n",
        "\n",
        "for i in range(n):\n",
        "    for j in range(i+1):\n",
        "        triangular[i][j] = triangle[i][j]\n",
        "\n",
        "for row in triangular: print(*row)"
      ]
    },
    {
      "cell_type": "markdown",
      "metadata": {
        "id": "FcHIr-0LJJZy"
      },
      "source": [
        ">**(d)** (advanced) Now modify the code printing your triangle to make it actually look just like the triangle shown at the start of the problem.\n",
        "You’ll have to adjust the space used by each element again, just like for the times table."
      ]
    },
    {
      "cell_type": "raw",
      "metadata": {
        "id": "3GZvJkOhJJZz"
      },
      "source": [
        "           1\n",
        "         1   1\n",
        "       1   2   1\n",
        "     1   3   3   1\n",
        "   1   4   6   4   1\n",
        " 1   5   10  10  5   1"
      ]
    },
    {
      "cell_type": "code",
      "execution_count": null,
      "metadata": {
        "id": "PwJol68JJJZ0",
        "colab": {
          "base_uri": "https://localhost:8080/"
        },
        "outputId": "6d0daab3-3906-4ada-b9ac-424c083f4ba1"
      },
      "outputs": [
        {
          "output_type": "stream",
          "name": "stdout",
          "text": [
            "       1       \n",
            "      1  1     \n",
            "    1  2  1    \n",
            "   1  3  3  1  \n",
            " 1  4  6  4  1 \n"
          ]
        }
      ],
      "source": [
        "# Your code here\n",
        "\n",
        "pretty_triangle = []\n",
        "\n",
        "for line in triangle:\n",
        "  items = []\n",
        "  for item in line:\n",
        "    items.append(str(item).center(3))\n",
        "  pretty_triangle.append(''.join(items).center(3*5))\n",
        "\n",
        "for row in pretty_triangle:\n",
        "  print(row)"
      ]
    },
    {
      "cell_type": "markdown",
      "metadata": {
        "id": "frndub-WJJZ1"
      },
      "source": [
        "### Problem 7. Scrolling display\n",
        "\n",
        "This exercise will get you to play with strings and indices. The goal is to create a simulation of a dot-matrix display, and scroll some text through it. Remember how your cheap alarm-clock shows time? That’s a dot-matrix display. We want to get something like that: http://www.youtube.com/watch?v=vWFPXTyoZCA"
      ]
    },
    {
      "cell_type": "markdown",
      "metadata": {
        "id": "vmBfSP1EJJZ2"
      },
      "source": [
        ">**(a)** We start easy, and just try to scroll some text directly. Complete the following code in order to print only display_width characters of the message.\n",
        "Here, we use an infinite loop (this is a big source of errors, but sometimes useful. Stop your program by pressing CTRL-C), so we have to increment curr_start manually. Make sure to verify that it doesn’t go beyond the overall length of the message."
      ]
    },
    {
      "cell_type": "code",
      "source": [
        "len('This is a completely relevant ')"
      ],
      "metadata": {
        "colab": {
          "base_uri": "https://localhost:8080/"
        },
        "id": "oLI5FAA1whYv",
        "outputId": "1287daa8-8089-4cc0-e9f8-8903c2ce5934"
      },
      "execution_count": null,
      "outputs": [
        {
          "output_type": "execute_result",
          "data": {
            "text/plain": [
              "30"
            ]
          },
          "metadata": {},
          "execution_count": 94
        }
      ]
    },
    {
      "cell_type": "code",
      "execution_count": null,
      "metadata": {
        "id": "SHf56WXSJJZ3",
        "colab": {
          "base_uri": "https://localhost:8080/"
        },
        "outputId": "ec417e00-340b-4623-a4c0-e1236ad62b54"
      },
      "outputs": [
        {
          "output_type": "stream",
          "name": "stdout",
          "text": [
            "This is a completely relevant \n",
            "his is a completely relevant e\n",
            "is is a completely relevant ex\n",
            "s is a completely relevant exe\n",
            " is a completely relevant exer\n",
            "is a completely relevant exerc\n",
            "s a completely relevant exerci\n",
            " a completely relevant exercis\n",
            "a completely relevant exercise\n",
            " completely relevant exercise\n",
            "completely relevant exercise\n",
            "ompletely relevant exercise\n",
            "mpletely relevant exercise\n",
            "pletely relevant exercise\n",
            "letely relevant exercise\n",
            "etely relevant exercise\n",
            "tely relevant exercise\n",
            "ely relevant exercise\n",
            "ly relevant exercise\n"
          ]
        }
      ],
      "source": [
        "message = 'This is a completely relevant exercise'\n",
        "display_width = 30\n",
        "\n",
        "# Get the message length\n",
        "message_length = len(message)\n",
        "curr_start = 0\n",
        "\n",
        "# while True:\n",
        "for k in range(19):\n",
        "  display = []\n",
        "  for i in range(curr_start, display_width):\n",
        "    if i < len(message):\n",
        "      display.append(message[i])\n",
        "  print(''.join(display))\n",
        "  curr_start = curr_start + 1\n",
        "  display_width = display_width + 1\n",
        "\n",
        "# Grab the important part of the message display = '' # ... Replace me\n",
        "         # Show the results\n",
        "# print(display)\n",
        "# Complete me..."
      ]
    },
    {
      "cell_type": "markdown",
      "metadata": {
        "id": "XaKv8gQkJJZ4"
      },
      "source": [
        ">We should get something like this:"
      ]
    },
    {
      "cell_type": "raw",
      "metadata": {
        "id": "-pb07_MbJJZ4"
      },
      "source": [
        "This is a completely relevant\n",
        "his is a completely relevant e\n",
        "is is a completely relevant ex\n",
        "s is a completely relevant exe\n",
        " is a completely relevant exer\n",
        "is a completely relevant exerc\n",
        "s a completely relevant exerci\n",
        " a completely relevant exercis\n",
        "a completely relevant exercise\n",
        " completely relevant exercise\n",
        "completely relevant exercise\n",
        "ompletely relevant exercise\n",
        "mpletely relevant exercise\n",
        "pletely relevant exercise\n",
        "letely relevant exercise\n",
        "etely relevant exercise\n",
        "tely relevant exercise\n",
        "ely relevant exercise\n",
        "ly relevant exercise"
      ]
    },
    {
      "cell_type": "markdown",
      "metadata": {
        "id": "lE4kxC7GJJZ4"
      },
      "source": [
        ">**(c)** Now we will make it so that the message is repeated accross the display. You will need to concatenate another part of the message at the end of the display string. You can modify the original string to add a few spaces at the end, so that it doesn’t repeat directly and look weird (e.g. instead of getting “exerciseThis” you should get “exercise This”). Your output should now be:"
      ]
    },
    {
      "cell_type": "raw",
      "metadata": {
        "id": "WPfN3AU-JJZ5"
      },
      "source": [
        "This is a completely relevant\n",
        "his is a completely relevant e\n",
        "is is a completely relevant ex\n",
        "s is a completely relevant exe\n",
        " is a completely relevant exer\n",
        "is a completely relevant exerc\n",
        "s a completely relevant exerci\n",
        " a completely relevant exercis\n",
        "a completely relevant exercise\n",
        " completely relevant exercise\n",
        "completely relevant exercise\n",
        "ompletely relevant exercise\n",
        "mpletely relevant exercise   T\n",
        "pletely relevant exercise   Th\n",
        "letely relevant exercise   Thi\n",
        "etely relevant exercise   This\n",
        "tely relevant exercise   This\n",
        "ely relevant exercise   This i\n",
        "ly relevant exercise   This is\n",
        "y relevant exercise   This is\n",
        " relevant exercise   This is a\n",
        "relevant exercise   This is a\n",
        "elevant exercise   This is a c\n",
        "levant exercise   This is a co\n",
        "evant exercise   This is a com"
      ]
    },
    {
      "cell_type": "code",
      "execution_count": null,
      "metadata": {
        "id": "F-4ufVb-JJZ5",
        "colab": {
          "base_uri": "https://localhost:8080/"
        },
        "outputId": "a07edd8d-2f2b-44e4-b977-1eba549ba62a"
      },
      "outputs": [
        {
          "output_type": "stream",
          "name": "stdout",
          "text": [
            "This is a completely relevant \n",
            "his is a completely relevant e\n",
            "is is a completely relevant ex\n",
            "s is a completely relevant exe\n",
            " is a completely relevant exer\n",
            "is a completely relevant exerc\n",
            "s a completely relevant exerci\n",
            " a completely relevant exercis\n",
            "a completely relevant exercise\n",
            " completely relevant exercise \n",
            "completely relevant exercise  \n",
            "ompletely relevant exercise   \n",
            "mpletely relevant exercise   T\n",
            "pletely relevant exercise   Th\n",
            "letely relevant exercise   Thi\n",
            "etely relevant exercise   This\n",
            "tely relevant exercise   This \n",
            "ely relevant exercise   This i\n",
            "ly relevant exercise   This is\n",
            "y relevant exercise   This is \n",
            " relevant exercise   This is a\n",
            "relevant exercise   This is a \n",
            "elevant exercise   This is a c\n",
            "levant exercise   This is a co\n",
            "evant exercise   This is a com\n"
          ]
        }
      ],
      "source": [
        "message = 'This is a completely relevant exercise'\n",
        "message_2 = message + \"   \" +message\n",
        "display_width = 30\n",
        "\n",
        "message_length = len(message_2)\n",
        "curr_start = 0\n",
        "\n",
        "for k in range(25):\n",
        "  display = []\n",
        "  for i in range(curr_start, display_width):\n",
        "    if i < len(message_2):\n",
        "      display.append(message_2[i])\n",
        "  print(''.join(display))\n",
        "  curr_start = curr_start + 1\n",
        "  display_width = display_width + 1"
      ]
    },
    {
      "cell_type": "markdown",
      "metadata": {
        "id": "aCx-s5cUJJZ6"
      },
      "source": [
        ">**(c)** You can make it so that your terminal is “cleared” by using the “os” module and add the following command at the start of your loop:"
      ]
    },
    {
      "cell_type": "code",
      "execution_count": null,
      "metadata": {
        "id": "9Cv8IqwlJJZ6",
        "colab": {
          "base_uri": "https://localhost:8080/"
        },
        "outputId": "133acaab-e5f7-432f-dce2-db1e5016b8bc"
      },
      "outputs": [
        {
          "output_type": "execute_result",
          "data": {
            "text/plain": [
              "0"
            ]
          },
          "metadata": {},
          "execution_count": 105
        }
      ],
      "source": [
        "import os\n",
        "os.system('cls' if os.name=='nt' else 'clear')"
      ]
    },
    {
      "cell_type": "markdown",
      "metadata": {
        "id": "BNvm83baJJZ7"
      },
      "source": [
        ">You will see more about os.system later (if this looks complicated, it’s because this works on both Windows and Mac OS X/Linux).\n",
        "You can then slow down the speed of the display by putting small pauses between each iteration of the loop. You do that by importing the module time and using sleep:"
      ]
    },
    {
      "cell_type": "code",
      "execution_count": null,
      "metadata": {
        "id": "bEPDtHfCJJZ8"
      },
      "outputs": [],
      "source": [
        "import time\n",
        "time.sleep(0.05)"
      ]
    },
    {
      "cell_type": "markdown",
      "metadata": {
        "id": "xC3oUot3JJZ9"
      },
      "source": [
        ">Remember to read on function you do not know, for example in the Standard Library online.\n",
        "With those two functions, it should look like you have a real scrolling display in your Ter- minal."
      ]
    }
  ],
  "metadata": {
    "kernelspec": {
      "display_name": "Python 3",
      "language": "python",
      "name": "python3"
    },
    "language_info": {
      "codemirror_mode": {
        "name": "ipython",
        "version": 3
      },
      "file_extension": ".py",
      "mimetype": "text/x-python",
      "name": "python",
      "nbconvert_exporter": "python",
      "pygments_lexer": "ipython3",
      "version": "3.6.6"
    },
    "colab": {
      "provenance": [],
      "include_colab_link": true
    }
  },
  "nbformat": 4,
  "nbformat_minor": 0
}