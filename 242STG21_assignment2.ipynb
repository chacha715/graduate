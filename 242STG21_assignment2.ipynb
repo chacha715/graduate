{
  "cells": [
    {
      "cell_type": "markdown",
      "metadata": {
        "id": "view-in-github",
        "colab_type": "text"
      },
      "source": [
        "<a href=\"https://colab.research.google.com/github/chacha715/graduate/blob/main/242STG21_assignment2.ipynb\" target=\"_parent\"><img src=\"https://colab.research.google.com/assets/colab-badge.svg\" alt=\"Open In Colab\"/></a>"
      ]
    },
    {
      "cell_type": "markdown",
      "metadata": {
        "id": "T0kX5Si9Bxcl"
      },
      "source": [
        "# Scientific Programming in Python - Control Flow & File IO"
      ]
    },
    {
      "cell_type": "markdown",
      "metadata": {
        "id": "qw3ib-vaBxco"
      },
      "source": [
        "### Problem 1. FizzBuzz"
      ]
    },
    {
      "cell_type": "markdown",
      "metadata": {
        "id": "DViB99dsBxcp"
      },
      "source": [
        ">**(a)** Write a program that prints out the numbers between one and 100 except that:\n",
        "* for multiples of three it prints the word Fizz instead of that number;\n",
        "* for multiples of five it prints the word Buzz instead of that number; and\n",
        "* for multiples of both three and five it prints the word FizzBuzz instead of that number.\n",
        "\n",
        ">For example, the first 15 lines of output from your program should be identical to the following:"
      ]
    },
    {
      "cell_type": "raw",
      "metadata": {
        "id": "4bFtJPQxBxcq"
      },
      "source": [
        "![KakaoTalk_Snapshot_20240213_014253.png](data:image/png;base64,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)1\n",
        "2\n",
        "Fizz\n",
        "4\n",
        "Buzz\n",
        "Fizz\n",
        "7\n",
        "8\n",
        "Fizz\n",
        "Buzz\n",
        "11\n",
        "Fizz\n",
        "13\n",
        "14\n",
        "FizzBuzz"
      ]
    },
    {
      "cell_type": "code",
      "execution_count": 4,
      "metadata": {
        "scrolled": false,
        "colab": {
          "base_uri": "https://localhost:8080/"
        },
        "id": "owhH8u5ZBxcr",
        "outputId": "993be281-38a0-4630-e5c3-200763a7ebc0"
      },
      "outputs": [
        {
          "output_type": "stream",
          "name": "stdout",
          "text": [
            "1\n",
            "2\n",
            "Fizz\n",
            "4\n",
            "Buzz\n",
            "Fizz\n",
            "7\n",
            "8\n",
            "Fizz\n",
            "Buzz\n",
            "11\n",
            "Fizz\n",
            "13\n",
            "14\n",
            "FizzBuzz\n"
          ]
        }
      ],
      "source": [
        "# Your code here\n",
        "\n",
        "numbers = range(1, 100)\n",
        "\n",
        "def fizzbuzz(numbers):\n",
        "  for i in range(len(numbers)):\n",
        "    val = numbers[i]\n",
        "\n",
        "    if val % 3 == 0 and val % 5 == 0:\n",
        "      print(\"FizzBuzz\")\n",
        "    elif val % 3 == 0:\n",
        "      print(\"Fizz\")\n",
        "    elif val % 5 == 0:\n",
        "      print(\"Buzz\")\n",
        "    else:\n",
        "      print(val)\n",
        "\n",
        "fizzbuzz(numbers[:15])"
      ]
    },
    {
      "cell_type": "markdown",
      "metadata": {
        "id": "zmyyMiKTBxcs"
      },
      "source": [
        ">**Hint:** If you are having trouble, start by writing code that will print all the numbers one to 100, one per line. Then, modify that code so that it prints the word Fizz instead of multiples of three. Next, modify your code to prints the word Buzz instead of multiples of five. Finally, modify it so that it prints the correct output."
      ]
    },
    {
      "cell_type": "markdown",
      "metadata": {
        "id": "YfR8A4-tBxcs"
      },
      "source": [
        ">**Hint:** To test if a variable <code>n</code> is a multiple of three, you can use this code:\n",
        "\n",
        ">><code>(n % 3) == 0</code>\n",
        "\n",
        "> The <code>%</code> symbol here is called the [modulo operator](https://en.wikipedia.org/wiki/Modulo_operation) and the code <code>n % 3</code> is pronounced \"n modulo three\". So if <code>n</code> is zero modulo three, it gives 0 remainder on division by three and that means it’s a multiple of 3. You can use the code like this:\n",
        "\n",
        ">><code>if (n % 3) == 0:\n",
        "    do_stuff </code>\n",
        "\n",
        ">Here, <code>do_stuff</code> will be executed if and only if <code>n</code> is a multiple of 3."
      ]
    },
    {
      "cell_type": "markdown",
      "metadata": {
        "id": "_c7FXEUDBxct"
      },
      "source": [
        "### Problem 2. Library with File I/O"
      ]
    },
    {
      "cell_type": "markdown",
      "metadata": {
        "id": "Pe8sJi00Bxcu"
      },
      "source": [
        "In this problem, you are given a list of student names and library fees in a file and your task is to write some Python code to process it. Make sure you download [library_data.txt](http://ucl-cs-grad.github.io/scipython/notebooks/day2/library_data.txt) from the website and put it in the same folder as your iPython notebook. The file looks something like this:"
      ]
    },
    {
      "cell_type": "raw",
      "metadata": {
        "id": "WmnaBzl0Bxcu"
      },
      "source": [
        "123456 John Doe 1.49\n",
        "312314 Jane Miller 0.00\n",
        "031337 Ted Johnson 8.12"
      ]
    },
    {
      "cell_type": "markdown",
      "metadata": {
        "id": "YPHUzgQABxcu"
      },
      "source": [
        "Each line in the file is a single student record. Each student record has the following format:\n",
        "><code>StudentNumber FirstName LastName AmountOwed</code>"
      ]
    },
    {
      "cell_type": "markdown",
      "metadata": {
        "id": "qHnBI-74Bxcv"
      },
      "source": [
        ">**(a)** Write a function that uses a for-loop to iterate over each line in the file and store it in a list. The resulting list should look something like this:"
      ]
    },
    {
      "cell_type": "raw",
      "metadata": {
        "id": "r4gPZbU0Bxcv"
      },
      "source": [
        "['123456 John Doe 1.49\\n', '312314 Jane Miller 0.00\\n', '031337 Ted Johnson 8.12\\n']"
      ]
    },
    {
      "cell_type": "code",
      "source": [
        "from google.colab import drive\n",
        "drive.mount('/content/drive')\n",
        "\n",
        "import os\n",
        "os.chdir('/content/drive/MyDrive/석사/data') # working directory를 설정"
      ],
      "metadata": {
        "colab": {
          "base_uri": "https://localhost:8080/"
        },
        "id": "oBckHcfTCA2W",
        "outputId": "90e5fd92-7b9c-4933-ca2e-937a39655509"
      },
      "execution_count": 2,
      "outputs": [
        {
          "output_type": "stream",
          "name": "stdout",
          "text": [
            "Mounted at /content/drive\n"
          ]
        }
      ]
    },
    {
      "cell_type": "code",
      "execution_count": 10,
      "metadata": {
        "colab": {
          "base_uri": "https://localhost:8080/"
        },
        "id": "YfDu8yRuBxcw",
        "outputId": "4ad757b5-086b-4a36-c007-44bc4cc6ba3d"
      },
      "outputs": [
        {
          "output_type": "stream",
          "name": "stdout",
          "text": [
            "['123456 John Doe 1.49\\n', '312314 Jane Miller 0.00\\n', '531337 Ted Johnson 8.12\\n', '273263 Johnny Depp 0.0\\n', '102931 Fred Asteir 1.20\\n', '391273 Sarah Connor 10.39\\n']\n"
          ]
        }
      ],
      "source": [
        "# Your code here\n",
        "\n",
        "def read_data(text):\n",
        "  data = []\n",
        "\n",
        "  with open(text, \"r\") as f:\n",
        "    for line in f:\n",
        "      data.append(line)\n",
        "  return data\n",
        "\n",
        "lib_data = read_data(\"library_data.txt\")\n",
        "print(lib_data)"
      ]
    },
    {
      "cell_type": "markdown",
      "metadata": {
        "id": "RLp1uGAhBxcx"
      },
      "source": [
        ">**(b)** Write a function to create two lists:\n",
        ">1. A list that contains only the first column (the student number)\n",
        ">2. A list that contains only the remaining information (the student name and the amount of money owed to the library)"
      ]
    },
    {
      "cell_type": "markdown",
      "metadata": {
        "id": "WZFe29w7Bxcx"
      },
      "source": [
        ">**Hint:** You could use the string method <code>split</code> to split a string into a list of smaller strings. Read the help for this function if needed."
      ]
    },
    {
      "cell_type": "code",
      "execution_count": 11,
      "metadata": {
        "colab": {
          "base_uri": "https://localhost:8080/"
        },
        "id": "20zV3yfIBxcx",
        "outputId": "69964f79-2c65-4da6-fdca-f09ae2db092c"
      },
      "outputs": [
        {
          "output_type": "stream",
          "name": "stdout",
          "text": [
            "['123456', '312314', '531337', '273263', '102931', '391273'] [['John', 'Doe', '1.49\\n'], ['Jane', 'Miller', '0.00\\n'], ['Ted', 'Johnson', '8.12\\n'], ['Johnny', 'Depp', '0.0\\n'], ['Fred', 'Asteir', '1.20\\n'], ['Sarah', 'Connor', '10.39\\n']]\n"
          ]
        }
      ],
      "source": [
        "# Your code here\n",
        "\n",
        "def get_columns(lib_data):\n",
        "  student_numbers = []\n",
        "  remaining = []\n",
        "\n",
        "  for info in lib_data:\n",
        "    splits = info.split(\" \")\n",
        "    number = splits[0]\n",
        "    student_numbers.append(number)\n",
        "\n",
        "    rest = splits[1:]\n",
        "    remaining.append(rest)\n",
        "\n",
        "  return student_numbers, remaining\n",
        "\n",
        "student_numbers, remaining = get_columns(lib_data)\n",
        "print(student_numbers, remaining)"
      ]
    },
    {
      "cell_type": "markdown",
      "metadata": {
        "id": "2ShQXo7aBxcy"
      },
      "source": [
        ">**(c)** Write a function that splits the second list futher into two lists:\n",
        ">1. A list that contains the name\n",
        ">2. A list that contains the amount owed (as a float)"
      ]
    },
    {
      "cell_type": "code",
      "execution_count": 14,
      "metadata": {
        "colab": {
          "base_uri": "https://localhost:8080/"
        },
        "id": "W9aknE1uBxcy",
        "outputId": "2ed3ec45-ed7a-4818-d8e7-217011286ddd"
      },
      "outputs": [
        {
          "output_type": "stream",
          "name": "stdout",
          "text": [
            "['John Doe', 'Jane Miller', 'Ted Johnson', 'Johnny Depp', 'Fred Asteir', 'Sarah Connor'] [1.49, 0.0, 8.12, 0.0, 1.2, 10.39]\n"
          ]
        }
      ],
      "source": [
        "# Your code here\n",
        "\n",
        "def get_names_owed(remaining):\n",
        "  names = []\n",
        "  oweds = []\n",
        "\n",
        "  for rest in remaining:\n",
        "    name = \" \".join(rest[:2])\n",
        "    names.append(name)\n",
        "\n",
        "    owed = float(rest[2])\n",
        "    oweds.append(owed)\n",
        "\n",
        "  return names, oweds\n",
        "\n",
        "names, oweds = get_names_owed(remaining)\n",
        "print(names, oweds)"
      ]
    },
    {
      "cell_type": "markdown",
      "metadata": {
        "id": "8E7nETvlBxcz"
      },
      "source": [
        ">**(d)** Write a function that determines the name and student number of the person that owes the largest amount of money."
      ]
    },
    {
      "cell_type": "code",
      "execution_count": 17,
      "metadata": {
        "colab": {
          "base_uri": "https://localhost:8080/"
        },
        "id": "Q__HWKrpBxcz",
        "outputId": "9fb6e94f-2e74-437a-e0d7-23fc7c1911b5"
      },
      "outputs": [
        {
          "output_type": "stream",
          "name": "stdout",
          "text": [
            "Sarah Connor , whose student number is 391273 , owes the largest amount of money, which is  10.39\n"
          ]
        }
      ],
      "source": [
        "# Your code here\n",
        "\n",
        "def name_number_money(oweds):\n",
        "  m = 0\n",
        "  idx = None\n",
        "\n",
        "  for i in range (len(oweds)):\n",
        "    if oweds[i] > m:\n",
        "      idx = i\n",
        "  return idx\n",
        "\n",
        "idx_money = name_number_money(oweds)\n",
        "print(names[idx_money], \", whose student number is\", student_numbers[idx_money], \", owes the largest amount of money, which is \", oweds[idx_money])"
      ]
    },
    {
      "cell_type": "markdown",
      "metadata": {
        "id": "PSMOWx-yBxc0"
      },
      "source": [
        ">**(e)** Write a function that determines the names and student numbers of all people that owe money (i.e. where the amount is not 0.00)."
      ]
    },
    {
      "cell_type": "code",
      "execution_count": 20,
      "metadata": {
        "collapsed": true,
        "colab": {
          "base_uri": "https://localhost:8080/"
        },
        "id": "g_N533ZpBxc0",
        "outputId": "e7b80e93-a95e-41be-b7d6-81cb3a8b73b2"
      },
      "outputs": [
        {
          "output_type": "stream",
          "name": "stdout",
          "text": [
            "Name of people that owe money, their student numbers and the amount of money they owe: \n",
            "['John Doe', '123456', 1.49]\n",
            "['Ted Johnson', '531337', 8.12]\n",
            "['Fred Asteir', '102931', 1.2]\n",
            "['Sarah Connor', '391273', 10.39]\n"
          ]
        }
      ],
      "source": [
        "# Your code here\n",
        "\n",
        "def find_money(names, oweds, student_numbers):\n",
        "  owe_money = []\n",
        "\n",
        "  for i in range (len(oweds)):\n",
        "    if oweds[i] != 0:\n",
        "      not_zero = []\n",
        "      not_zero.append(names[i])\n",
        "      not_zero.append(student_numbers[i])\n",
        "      not_zero.append(oweds[i])\n",
        "\n",
        "      owe_money.append(not_zero)\n",
        "\n",
        "  return owe_money\n",
        "\n",
        "print(\"Name of people that owe money, their student number and the amount of money they owe: \")\n",
        "for i in find_money(names, oweds, student_numbers):\n",
        "  print(i)"
      ]
    },
    {
      "cell_type": "markdown",
      "metadata": {
        "id": "DTcu43irBxc1"
      },
      "source": [
        ">**(f)** We will now write our results to a new file. Write some code that:\n",
        "> 1. lets the user enter a file name;\n",
        "> 2. creates this file; and\n",
        "> 3. writes to the file the list of people that owe money (e.g. one student per line, with how much they owe as well)."
      ]
    },
    {
      "cell_type": "code",
      "execution_count": 23,
      "metadata": {
        "colab": {
          "base_uri": "https://localhost:8080/"
        },
        "id": "HtbM8V47Bxc1",
        "outputId": "3d2856cb-079c-4345-925e-dfb5984e74ee"
      },
      "outputs": [
        {
          "name": "stdout",
          "output_type": "stream",
          "text": [
            "Enter a file name: assignment2_Pr2_(f).txt\n"
          ]
        }
      ],
      "source": [
        "# Your code here\n",
        "\n",
        "file_name = input(\"Enter a file name: \")"
      ]
    },
    {
      "cell_type": "code",
      "source": [
        "owe_money = find_money(names, oweds, student_numbers)\n",
        "\n",
        "def write_money(file_name, owe_money):\n",
        "  with open(file_name, \"w\") as f:\n",
        "    for not_zero in owe_money:\n",
        "      record = \"\"\n",
        "\n",
        "      for data in not_zero:\n",
        "        record = record + str(data) + \" \"\n",
        "\n",
        "      record = record + \"\\n\"\n",
        "      f.write(record)\n",
        "\n",
        "write_money(file_name, owe_money)"
      ],
      "metadata": {
        "id": "0Tpz5L4l4X7N"
      },
      "execution_count": 25,
      "outputs": []
    },
    {
      "cell_type": "markdown",
      "metadata": {
        "id": "lG1i4YF5Bxc2"
      },
      "source": [
        "### Problem 3. FizzBuzz (applied science version)"
      ]
    },
    {
      "cell_type": "markdown",
      "metadata": {
        "id": "ixbWE5F5Bxc2"
      },
      "source": [
        "Imagine that you are doing a psychology experiment in which your colleague records the response time of participants presented with some task. There are two task conditions: condition A and condition B. There are n participants, and they each do the task with condition A and then with condition B. The instrument used to record the response times stores the information in a long text file called response_time.txt (which you can get [here](http://ucl-cs-grad.github.io/scipython/notebooks/day2/response_time.txt)). The first line of the file is the response time of the first participant doing the task with condition A, the second line is the response time of the first participant with condition B, the third line is the response time of the second participant doing the task with condition A, and so on."
      ]
    },
    {
      "cell_type": "markdown",
      "metadata": {
        "id": "aMS9pMZKBxc2"
      },
      "source": [
        ">**(a)** Download [response_time.txt](http://ucl-cs-grad.github.io/scipython/notebooks/day2/response_time.txt) and then write a program which prints the mean response time of all participants for task A followed by the mean response time for all participants for task B. The output of your program should be the following:"
      ]
    },
    {
      "cell_type": "raw",
      "metadata": {
        "id": "40hY3EcABxc3"
      },
      "source": [
        "4.98704579795\n",
        "3.104619569"
      ]
    },
    {
      "cell_type": "markdown",
      "metadata": {
        "id": "jN3vaXjXBxc3"
      },
      "source": [
        ">**Hint:** The modulo operator should come in handy again. Any appropriately indented code following <code> if (n % 2) == 0: </code> will only be executed if <code>n</code> is even."
      ]
    },
    {
      "cell_type": "code",
      "execution_count": 31,
      "metadata": {
        "colab": {
          "base_uri": "https://localhost:8080/"
        },
        "id": "id0Z-enQBxc3",
        "outputId": "17ef3000-585b-43b1-da7b-c9c96b4dd378"
      },
      "outputs": [
        {
          "output_type": "stream",
          "name": "stdout",
          "text": [
            "4.98704579795 3.104619569\n"
          ]
        }
      ],
      "source": [
        "# Your code here\n",
        "\n",
        "def response_time(data):\n",
        "  A, B = [], []\n",
        "\n",
        "  with open(data, \"r\") as f:\n",
        "    for i, j in enumerate(f):\n",
        "      j = j.strip()\n",
        "\n",
        "      if (i % 2) == 0:\n",
        "        A.append(float(j))\n",
        "      else:\n",
        "        B.append(float(j))\n",
        "\n",
        "  return A, B\n",
        "\n",
        "\n",
        "def mean(l):\n",
        "  return sum(l) / float(len(l))\n",
        "\n",
        "\n",
        "condition_A, condition_B = response_time(\"response_time.txt\")\n",
        "\n",
        "print(round(mean(condition_A), 11), round(mean(condition_B), 9))"
      ]
    },
    {
      "cell_type": "markdown",
      "metadata": {
        "id": "9p-eHKDiBxc4"
      },
      "source": [
        ">**(b)** Extend your script so that it displays a box plot of the response times of the participants for the two conditions."
      ]
    },
    {
      "cell_type": "markdown",
      "metadata": {
        "id": "0nvvAO19Bxc4"
      },
      "source": [
        ">**Hint:**  If you create two lists, called <code>condition_A</code> and <code>condition_B</code>, containing the response times for conditions A and B respectively, then the <code>boxplot</code> function from matplotlib will generate the actual boxplot:\n",
        ">><code>boxplot( [condition_A, condition_B] )</code>."
      ]
    },
    {
      "cell_type": "code",
      "execution_count": 38,
      "metadata": {
        "colab": {
          "base_uri": "https://localhost:8080/",
          "height": 448
        },
        "id": "ITSF0YN_Bxc5",
        "outputId": "715d59f7-9552-4cd1-ba28-f65227f47f93"
      },
      "outputs": [
        {
          "output_type": "execute_result",
          "data": {
            "text/plain": [
              "<function matplotlib.pyplot.show(close=None, block=None)>"
            ]
          },
          "metadata": {},
          "execution_count": 38
        },
        {
          "output_type": "display_data",
          "data": {
            "text/plain": [
              "<Figure size 640x480 with 1 Axes>"
            ],
            "image/png": "[encoded data removed]"
          },
          "metadata": {}
        }
      ],
      "source": [
        "# Your code here\n",
        "\n",
        "import matplotlib.pyplot as plt\n",
        "\n",
        "boxplot = plt.boxplot( [condition_A, condition_B] )\n",
        "plt.show"
      ]
    },
    {
      "cell_type": "markdown",
      "metadata": {
        "id": "dOFzoAL9Bxc5"
      },
      "source": [
        "### Problem 4. Who’s the winner?"
      ]
    },
    {
      "cell_type": "markdown",
      "metadata": {
        "id": "emXQ_wbPBxc6"
      },
      "source": [
        "The London elections are around the corner and you have been tasked with writing the code that determines the winner given all the ballots. The winner is determined as follows:\n",
        "\n",
        "* From the list of candidates (which we will for simplicity number $0,1,2,...$ ), every voter gets to select his first and his second choice. The data you are given can thus be represented as a list of lists:\n",
        "\n",
        "><code>[ [1st_choice_voter_1, 2nd_choice_voter_1], [1st_choice_voter_2, 2nd_choice_voter_2], ...]</code>\n",
        "\n",
        "* If any of the candidates gets more than 50% of the first votes, he is declared the winner.\n",
        "\n",
        "\n",
        "* If no candidate achieves this absolute majority, the two candidates with the most first votes enter into a second round, all others are eliminated.  \n",
        "\n",
        "\n",
        "* In the second round, all ballots with first votes for candidates that did not enter the second round are re-examined, and any second choice votes for the top two candidates are added to their scores.  \n",
        "\n",
        "\n",
        "* The candidate with the highest number of combined first and second choice votes is the winner.  "
      ]
    },
    {
      "cell_type": "markdown",
      "metadata": {
        "id": "TGLc2HxwBxc6"
      },
      "source": [
        ">**(a)** Download the file [votes.pickle](ucl-cs-grad.github.io/scipython/notebooks/day2/votes.pickle) from the course website. Then, use the following code to read the list of votes from the file:"
      ]
    },
    {
      "cell_type": "code",
      "execution_count": 3,
      "metadata": {
        "id": "liF_zw29Bxc7"
      },
      "outputs": [],
      "source": [
        "from pickle import *\n",
        "\n",
        "votes = load( open(\"votes.pickle\", \"rb\") )"
      ]
    },
    {
      "cell_type": "markdown",
      "metadata": {
        "id": "BP3kj16CBxc7"
      },
      "source": [
        ">**(b)** Fill in the code required to count the first votes and to determine the possible first-round winner. There are 6 candidates in the given data set. You should find that in this data set no candidate wins in the first round."
      ]
    },
    {
      "cell_type": "code",
      "execution_count": 37,
      "metadata": {
        "colab": {
          "base_uri": "https://localhost:8080/"
        },
        "id": "BApLDoZ2BxdY",
        "outputId": "bb19579c-d655-4bf4-f4cf-bf104d1e63bb"
      },
      "outputs": [
        {
          "output_type": "stream",
          "name": "stdout",
          "text": [
            "[10010, 26969, 23130, 4959, 14848, 20084]\n",
            "There is no winner.. let's move on to the second round\n"
          ]
        }
      ],
      "source": [
        "num_candidates = 6\n",
        "\n",
        "# create a list to store the number of votes per candidate\n",
        "first_votes = [0] * num_candidates\n",
        "\n",
        "# go through the list of votes and add up the first votes per candidate\n",
        "for (first, second) in votes:\n",
        "  first_votes[first] += 1\n",
        "\n",
        "print(first_votes)\n",
        "\n",
        "# in the first round, if any candidate has > 50% of the votes, he wins\n",
        "for i in range(len(first_votes)):\n",
        "  if first_votes[i] > (len(votes) / 2.0):\n",
        "    print(\"We have a winner! Candidate \" + str(i) + \" with \" + str(first_votes[i] > len(votes)) + \"%\")\n",
        "\n",
        "print(\"There is no winner.. let's move on to the second round\")"
      ]
    },
    {
      "cell_type": "markdown",
      "metadata": {
        "id": "xsRz2cqxBxdY"
      },
      "source": [
        ">**(c)** Implement the second round process described above. If you do this correctly, you should find that candidate 2 wins with 45619 votes. There are some hints in the skeleton below to get you started"
      ]
    },
    {
      "cell_type": "code",
      "execution_count": 38,
      "metadata": {
        "colab": {
          "base_uri": "https://localhost:8080/"
        },
        "id": "NSAWViL0BxdZ",
        "outputId": "071b2208-7cd6-421b-c503-e13ab05e66cc"
      },
      "outputs": [
        {
          "output_type": "stream",
          "name": "stdout",
          "text": [
            "[12021, 26969, 45619, 7234, 16683, 21581]\n",
            "We have a winner! Candidate 2 with 45619 votes\n"
          ]
        }
      ],
      "source": [
        "# For the elimination round, we need to find the two candidates with the most first votes.\n",
        "# The code below does just that: It returns a tuple of the indices of the\n",
        "# top two candidates. Don't worry if you don't understand how this works yet --\n",
        "# we will see a much simpler and more elegant way to achieve the same later in the course.\n",
        "top_candidates  = list( zip ( *sorted( zip( first_votes, range( len(first_votes) ) ) )[-2:] ))[1]\n",
        "\n",
        "# make a copy so we can add votes\n",
        "second_votes = first_votes\n",
        "\n",
        "# add second votes to first votes for remaining candidates\n",
        "for (first, second) in votes:\n",
        "  if first != top_candidates[0] and first != top_candidates[1]:\n",
        "    if second == top_candidates[0] or second != top_candidates[1]:\n",
        "      if second != first:\n",
        "        second_votes[second] += 1\n",
        "\n",
        "print(second_votes)\n",
        "\n",
        "# find and display the winner\n",
        "# you can either try to adapt the code used to find the top two candidates above,\n",
        "# or simply use another for loop\n",
        "\n",
        "winner = sorted(zip(second_votes, range(len(second_votes))))[-1]\n",
        "print(\"We have a winner! Candidate \" + str(winner[1]) + \" with \" + str(winner[0]) + \" votes\")"
      ]
    },
    {
      "cell_type": "markdown",
      "metadata": {
        "id": "tFVEqGqXBxdZ"
      },
      "source": [
        "### Problem 5. Text processing for Alice in Wonderland"
      ]
    },
    {
      "cell_type": "markdown",
      "metadata": {
        "id": "BuowUatCBxda"
      },
      "source": [
        "The following code will create a file called alice.txt that contains the text of Alice in Wonderland. The code below will create the file in iPython’s current directory. This is the same as going to the website http://www.guttenberg.org/, finding the .txt file for Alice in Wonderland, and clicking *File* and then *Save as* and entering ‘alice.txt’ into the save dialog of your browser. The advantage of knowing how to do this in python is that you can then write a script to automatically download the data that you need for an experiment, which will save you time when there are a lot of files."
      ]
    },
    {
      "cell_type": "code",
      "execution_count": 41,
      "metadata": {
        "colab": {
          "base_uri": "https://localhost:8080/"
        },
        "id": "s4TA6Wx4Bxda",
        "outputId": "60780717-fb0f-4c1a-bfbd-e1caf47aa0f8"
      },
      "outputs": [
        {
          "output_type": "execute_result",
          "data": {
            "text/plain": [
              "163810"
            ]
          },
          "metadata": {},
          "execution_count": 41
        }
      ],
      "source": [
        "import urllib.request\n",
        "\n",
        "# URL on guttenberg.org\n",
        "# URL = \"http://www.gutenberg.org/files/11/11.txt\"\n",
        "\n",
        "# Local URL on UCL webserver\n",
        "URL = \"http://ucl-cs-grad.github.io/scipython/notebooks/day2/alice.txt\"\n",
        "\n",
        "local_filename, headers = urllib.request.urlretrieve(URL)\n",
        "f = open(local_filename)\n",
        "open(\"alice.txt\", \"w\").write( f.read() )"
      ]
    },
    {
      "cell_type": "markdown",
      "metadata": {
        "id": "COP5ih-tBxdc"
      },
      "source": [
        ">**(a)** Open up the file ‘alice.txt’ in a text editor of your choice (e.g. Notepad on Windows or TextEdit on Mac). There might be some text at the beginning or the end that isn’t part of Alice in Wonderland. Delete it and then save the file again."
      ]
    },
    {
      "cell_type": "markdown",
      "metadata": {
        "id": "F05sVFwcBxdc"
      },
      "source": [
        ">**(b)** The following code will count the number of words in Alice in Wonderland. Modify the code so that it prints out the number of times the word Alice appears."
      ]
    },
    {
      "cell_type": "code",
      "execution_count": 43,
      "metadata": {
        "colab": {
          "base_uri": "https://localhost:8080/"
        },
        "id": "U1k2O3YaBxdc",
        "outputId": "5365ab6e-cea5-437b-b302-a371f6891478"
      },
      "outputs": [
        {
          "output_type": "stream",
          "name": "stdout",
          "text": [
            "221\n"
          ]
        }
      ],
      "source": [
        "f = open(\"alice_edited.txt\", \"r\")\n",
        "num_words = 0\n",
        "\n",
        "for line in f.readlines():\n",
        "    for word in line.strip().split():\n",
        "      if word == \"Alice\":\n",
        "        num_words += 1\n",
        "\n",
        "print(num_words)"
      ]
    },
    {
      "cell_type": "markdown",
      "metadata": {
        "id": "fD7ODnoiBxdd"
      },
      "source": [
        "We will revisit this exercise later when dictionaries have been introduced to analyse the frequency of all words!"
      ]
    },
    {
      "cell_type": "markdown",
      "metadata": {
        "id": "U6uEpcBaBxdd"
      },
      "source": [
        "### Problem 6. Cryptograms"
      ]
    },
    {
      "cell_type": "markdown",
      "metadata": {
        "id": "j-HuTUh0Bxde"
      },
      "source": [
        "The code below ‘encrypts’ some text by rotating the alphabet by a given amount:"
      ]
    },
    {
      "cell_type": "code",
      "execution_count": 46,
      "metadata": {
        "colab": {
          "base_uri": "https://localhost:8080/"
        },
        "id": "oR_JvWtuBxde",
        "outputId": "4cc4e7ea-2867-41d3-926d-a6b5b5f3726c"
      },
      "outputs": [
        {
          "name": "stdout",
          "output_type": "stream",
          "text": [
            "What amount do you want to rotate by? 7\n",
            "Enter text to be rotated.\n",
            "Enter \"EOF\" on a line on its own when you are done.\n",
            "human\n",
            "OBTHU\n",
            "EOF\n"
          ]
        }
      ],
      "source": [
        "amount = int( input('What amount do you want to rotate by? ') )\n",
        "\n",
        "print('Enter text to be rotated.')\n",
        "print('Enter \"EOF\" on a line on its own when you are done.')\n",
        "\n",
        "A_value = ord('A')\n",
        "Z_value = ord('Z')\n",
        "\n",
        "while True:\n",
        "    input_line = input()\n",
        "\n",
        "    if input_line == 'EOF':\n",
        "        break\n",
        "\n",
        "    output_line = ''\n",
        "\n",
        "    for c in input_line:\n",
        "        if c.isalpha():\n",
        "            c = c.upper()\n",
        "            value = ord(c)\n",
        "            value = value + amount\n",
        "\n",
        "            if value > Z_value:\n",
        "                value = A_value + (value - Z_value) - 1\n",
        "            elif value < A_value:\n",
        "                value = Z_value - (A_value - value) + 1\n",
        "\n",
        "            c = chr(value)\n",
        "\n",
        "        output_line += c\n",
        "\n",
        "    print(output_line)"
      ]
    },
    {
      "cell_type": "markdown",
      "metadata": {
        "id": "riCji6YDBxdf"
      },
      "source": [
        ">**(a)** If you encrypt some text by rotating some amount, what amount do you need to rotate by to decrypt it?"
      ]
    },
    {
      "cell_type": "markdown",
      "source": [
        "기본적으로 반대 방향으로 5칸(원래 방향으로 21)이 필요하고, 이렇게 역연산했을 때 A_value보다 작아진다면 Z_value부터 더 차감해주는 연산이 필요하다."
      ],
      "metadata": {
        "id": "fiBpjNNZKh9h"
      }
    },
    {
      "cell_type": "markdown",
      "metadata": {
        "id": "TFYXFj3LBxdf"
      },
      "source": [
        ">**(b)** Encrypt some text and email it to the person next to you. Tell them what amount you rotated by so they can decrypt it."
      ]
    },
    {
      "cell_type": "markdown",
      "source": [
        "<img src = \"https://drive.google.com/uc?id=1cHCVAz_GpTckcZf3kSQ4tDjVzOT7cDJO\" height = 180 width = 400>"
      ],
      "metadata": {
        "id": "inIBEk_GLj_0"
      }
    },
    {
      "cell_type": "markdown",
      "metadata": {
        "id": "RH2rsFkQBxdg"
      },
      "source": [
        ">**(c)** Figure out what <code>ord</code> and <code>chr</code> do"
      ]
    },
    {
      "cell_type": "markdown",
      "source": [
        "The ord() function converts a character into its Unicode point, while chr() does the opposite, converting a Unicode point back into its corresponding character."
      ],
      "metadata": {
        "id": "si3KlVRsLnrr"
      }
    },
    {
      "cell_type": "markdown",
      "metadata": {
        "id": "JMXwlBOaBxdg"
      },
      "source": [
        ">**(d)** Do you understand the bit where it wraps around by checking if it’s moved past ‘A’ or ‘Z’?"
      ]
    },
    {
      "cell_type": "markdown",
      "source": [
        "Yes"
      ],
      "metadata": {
        "id": "PZe4SNn7L3rq"
      }
    },
    {
      "cell_type": "markdown",
      "metadata": {
        "id": "e1DK7hS6Bxdh"
      },
      "source": [
        ">**(e)** What does this part of the code do:\n",
        "\n",
        ">><code>while True:\n",
        "    input_line = input()\n",
        "    if input_line == \"EOF\":\n",
        "        break</code>"
      ]
    },
    {
      "cell_type": "markdown",
      "source": [
        "input_line에 빈 칸이 나오도록 해 문자를 입력받는 루프가 무한반복되도록 하고, 입력받은 문자가 \"EOF\"일 경우 루프가 해제되도록 하는 역할이다."
      ],
      "metadata": {
        "id": "orTFYU9tMAeV"
      }
    },
    {
      "cell_type": "markdown",
      "metadata": {
        "id": "FPng5xE8Bxdh"
      },
      "source": [
        ">**(f)** You should notice that our program converts lower case to upper case letters as a side effect as it rotates. Change it so that it doesn’t convert lower case to upper case (instead preserving the case of the letters) but still rotates them."
      ]
    },
    {
      "cell_type": "code",
      "source": [
        "amount = int( input('What amount do you want to rotate by? ') )\n",
        "\n",
        "print('Enter text to be rotated.')\n",
        "print('Enter \"EOF\" on a line on its own when you are done.')\n",
        "\n",
        "A_value = ord('A')\n",
        "Z_value = ord('Z')\n",
        "\n",
        "while True:\n",
        "    input_line = input()\n",
        "\n",
        "    if input_line == 'EOF':\n",
        "        break\n",
        "\n",
        "    output_line = ''\n",
        "\n",
        "    for c in input_line:\n",
        "        if c.islower():\n",
        "          preserve = True\n",
        "        else:\n",
        "          preserve = False\n",
        "\n",
        "        if c.isalpha():\n",
        "            c = c.upper()\n",
        "            value = ord(c)\n",
        "            value = value + amount\n",
        "\n",
        "            if value > Z_value:\n",
        "                value = A_value + (value - Z_value) - 1\n",
        "            elif value < A_value:\n",
        "                value = Z_value - (A_value - value) + 1\n",
        "\n",
        "            c = chr(value)\n",
        "            if preserve:\n",
        "              c = c.lower()\n",
        "\n",
        "        output_line += c\n",
        "\n",
        "    print(output_line)"
      ],
      "metadata": {
        "colab": {
          "base_uri": "https://localhost:8080/"
        },
        "id": "qniuBnTbOL3W",
        "outputId": "4f1b8119-25c6-4c73-a805-69e21ef7a492"
      },
      "execution_count": 47,
      "outputs": [
        {
          "name": "stdout",
          "output_type": "stream",
          "text": [
            "What amount do you want to rotate by? 7\n",
            "Enter text to be rotated.\n",
            "Enter \"EOF\" on a line on its own when you are done.\n",
            "human\n",
            "obthu\n",
            "EOF\n"
          ]
        }
      ]
    }
  ],
  "metadata": {
    "anaconda-cloud": {},
    "kernelspec": {
      "display_name": "Python 3",
      "language": "python",
      "name": "python3"
    },
    "language_info": {
      "codemirror_mode": {
        "name": "ipython",
        "version": 3
      },
      "file_extension": ".py",
      "mimetype": "text/x-python",
      "name": "python",
      "nbconvert_exporter": "python",
      "pygments_lexer": "ipython3",
      "version": "3.6.6"
    },
    "colab": {
      "provenance": [],
      "include_colab_link": true
    }
  },
  "nbformat": 4,
  "nbformat_minor": 0
}