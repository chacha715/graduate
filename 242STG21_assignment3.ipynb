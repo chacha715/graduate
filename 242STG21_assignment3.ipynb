{
  "cells": [
    {
      "cell_type": "markdown",
      "metadata": {
        "id": "view-in-github",
        "colab_type": "text"
      },
      "source": [
        "<a href=\"https://colab.research.google.com/github/chacha715/graduate/blob/main/242STG21_assignment3.ipynb\" target=\"_parent\"><img src=\"https://colab.research.google.com/assets/colab-badge.svg\" alt=\"Open In Colab\"/></a>"
      ]
    },
    {
      "cell_type": "markdown",
      "metadata": {
        "id": "zzJZRT0nPkn_"
      },
      "source": [
        "# Problem 1: Measuring butterflies\n",
        "To discover things about a butterfly population, the Natural History Museum has measured the width of several butterflies in its collection."
      ]
    },
    {
      "cell_type": "code",
      "execution_count": 12,
      "metadata": {
        "collapsed": true,
        "id": "VZ0bxF9uPkoJ"
      },
      "outputs": [],
      "source": [
        "%matplotlib inline\n",
        "import matplotlib.pyplot as plt\n",
        "import numpy as np\n",
        "\n",
        "wing_widths = [7.02, 6.84, 6.56, 6.44, 0.0, 0.0, 4.92, 6.35, 6.07, 6.68, 6.91, 7.09, 8.90, 0.0,\n",
        "               9.79, 6.32, 7.24, 7.27, 8.02, 0.0, 7.76, 6.94, 5.80, 7.43, 6.85, 8.44, 5.16, 7.96,\n",
        "               0.0, 6.99, 8.56, 5.20, 5.76, 6.87, 6.41, 0.0, 7.36, 5.74, 7.06, 6.44, 8.06, 7.86]"
      ]
    },
    {
      "cell_type": "markdown",
      "metadata": {
        "id": "dUhHGeggPkoN"
      },
      "source": [
        "* Find the __mean width__ of the wings, the __median__, __standard deviation__\n",
        "* Find the width of the largest wing and the smallest"
      ]
    },
    {
      "cell_type": "code",
      "execution_count": 22,
      "metadata": {
        "collapsed": true,
        "colab": {
          "base_uri": "https://localhost:8080/"
        },
        "id": "Ru4dnuELPkoP",
        "outputId": "0ce1e071-99e3-4bfb-a8b0-1d61fdc11218"
      },
      "outputs": [
        {
          "output_type": "stream",
          "name": "stdout",
          "text": [
            "5.977857142857143 6.845 2.6254056699818387\n",
            "9.79 0.0\n"
          ]
        }
      ],
      "source": [
        "# Find the mean width of the wings, the median, standard deviation\n",
        "wing_widths = np.array(wing_widths)\n",
        "\n",
        "mean_width = np.mean(wing_widths)\n",
        "median_width = np.median(wing_widths)\n",
        "std_width = np.std(wing_widths)\n",
        "print(mean_width, median_width, std_width)\n",
        "\n",
        "# Find the width of the largest wing and the smallest\n",
        "largest = max(wing_widths)\n",
        "smallest = min(wing_widths)\n",
        "print(largest, smallest)"
      ]
    },
    {
      "cell_type": "markdown",
      "metadata": {
        "id": "ZYEf_0xrPkoQ"
      },
      "source": [
        "* Now plot a histogram of the data\n",
        "* Try adjusting the number of bins in the histogram to have a better representation"
      ]
    },
    {
      "cell_type": "code",
      "execution_count": 7,
      "metadata": {
        "collapsed": true,
        "colab": {
          "base_uri": "https://localhost:8080/",
          "height": 539
        },
        "id": "dWb8701cPkoR",
        "outputId": "ca29f0d9-08b3-4734-d85b-dd50e8c52fe7"
      },
      "outputs": [
        {
          "output_type": "execute_result",
          "data": {
            "text/plain": [
              "(array([6., 0., 0., 0., 0., 0., 0., 0., 0., 0., 3., 3., 3., 7., 9., 3., 4.,\n",
              "        2., 1., 1.]),\n",
              " array([0.    , 0.4895, 0.979 , 1.4685, 1.958 , 2.4475, 2.937 , 3.4265,\n",
              "        3.916 , 4.4055, 4.895 , 5.3845, 5.874 , 6.3635, 6.853 , 7.3425,\n",
              "        7.832 , 8.3215, 8.811 , 9.3005, 9.79  ]),\n",
              " <BarContainer object of 20 artists>)"
            ]
          },
          "metadata": {},
          "execution_count": 7
        },
        {
          "output_type": "display_data",
          "data": {
            "text/plain": [
              "<Figure size 640x480 with 1 Axes>"
            ],
            "image/png": "[encoded data removed]"
          },
          "metadata": {}
        }
      ],
      "source": [
        "plt.hist(wing_widths, bins = 20)"
      ]
    },
    {
      "cell_type": "markdown",
      "metadata": {
        "id": "ONZ3gu3lPkoS"
      },
      "source": [
        "* Count how many wings have been given a wing width of zero\n",
        "* Now find the new mean, median and min and max of the elements different from zero\n",
        "* Plot a histogram of this data\n",
        "\n"
      ]
    },
    {
      "cell_type": "code",
      "execution_count": 9,
      "metadata": {
        "collapsed": true,
        "colab": {
          "base_uri": "https://localhost:8080/"
        },
        "id": "cPe96sorPkoT",
        "outputId": "deeaf50a-ee58-4d43-e1ed-eb3080b08870"
      },
      "outputs": [
        {
          "output_type": "stream",
          "name": "stdout",
          "text": [
            "6\n"
          ]
        }
      ],
      "source": [
        "# Count how many wings have been given a wing width of zero\n",
        "print(len(wing_widths[wing_widths == 0])) # histogram과 같은 값"
      ]
    },
    {
      "cell_type": "code",
      "source": [
        "# Now find the new mean, median and min and max of the elements different from zero\n",
        "nonzero_widths = wing_widths[wing_widths > 0]\n",
        "\n",
        "mean_nonzero = np.mean(nonzero_widths)\n",
        "median_nonzero = np.median(nonzero_widths)\n",
        "\n",
        "min_nonzero = min(nonzero_widths)\n",
        "max_nonzero = max(nonzero_widths)\n",
        "\n",
        "print(mean_nonzero, median_nonzero, min_nonzero, max_nonzero)"
      ],
      "metadata": {
        "colab": {
          "base_uri": "https://localhost:8080/"
        },
        "id": "Fz4ggukHTnsL",
        "outputId": "83bf6915-c040-470a-fc0d-1b8eeede6f9c"
      },
      "execution_count": 23,
      "outputs": [
        {
          "output_type": "stream",
          "name": "stdout",
          "text": [
            "6.974166666666667 6.925000000000001 4.92 9.79\n"
          ]
        }
      ]
    },
    {
      "cell_type": "code",
      "source": [
        "# Plot a histogram of this data\n",
        "plt.hist(nonzero_widths, bins = 20)"
      ],
      "metadata": {
        "colab": {
          "base_uri": "https://localhost:8080/",
          "height": 539
        },
        "id": "dBchSIRuUO0w",
        "outputId": "8b0218c1-7493-49f3-8594-a1c69990d6c1"
      },
      "execution_count": 19,
      "outputs": [
        {
          "output_type": "execute_result",
          "data": {
            "text/plain": [
              "(array([2., 1., 0., 3., 1., 2., 4., 3., 7., 2., 2., 1., 4., 0., 2., 0., 1.,\n",
              "        0., 0., 1.]),\n",
              " array([4.92  , 5.1635, 5.407 , 5.6505, 5.894 , 6.1375, 6.381 , 6.6245,\n",
              "        6.868 , 7.1115, 7.355 , 7.5985, 7.842 , 8.0855, 8.329 , 8.5725,\n",
              "        8.816 , 9.0595, 9.303 , 9.5465, 9.79  ]),\n",
              " <BarContainer object of 20 artists>)"
            ]
          },
          "metadata": {},
          "execution_count": 19
        },
        {
          "output_type": "display_data",
          "data": {
            "text/plain": [
              "<Figure size 640x480 with 1 Axes>"
            ],
            "image/png": "[encoded data removed]"
          },
          "metadata": {}
        }
      ]
    },
    {
      "cell_type": "markdown",
      "metadata": {
        "id": "7rdsvv8CPkoU"
      },
      "source": [
        "**Additional**\n",
        "\n",
        "* Plot a vertical line, where the mean is\n",
        "* Plot a vertical line, where the smallest & largest  values are\n"
      ]
    },
    {
      "cell_type": "code",
      "execution_count": 24,
      "metadata": {
        "collapsed": true,
        "colab": {
          "base_uri": "https://localhost:8080/",
          "height": 448
        },
        "id": "_v_8FsJ4PkoV",
        "outputId": "4421cefa-b5be-43e3-cc16-f072c001e997"
      },
      "outputs": [
        {
          "output_type": "execute_result",
          "data": {
            "text/plain": [
              "<matplotlib.collections.LineCollection at 0x785d1e2a0a00>"
            ]
          },
          "metadata": {},
          "execution_count": 24
        },
        {
          "output_type": "display_data",
          "data": {
            "text/plain": [
              "<Figure size 640x480 with 1 Axes>"
            ],
            "image/png": "[encoded data removed]"
          },
          "metadata": {}
        }
      ],
      "source": [
        "# Plot a vertical line, where the mean, the smallest & largest values are\n",
        "nonzero_hist = plt.hist(nonzero_widths, bins = 20, color = 'lightblue')\n",
        "plt.vlines(mean_nonzero, ymin = min(nonzero_hist[0]), ymax = max(nonzero_hist[0]), color = 'red')\n",
        "plt.vlines(min_nonzero, ymin = min(nonzero_hist[0]), ymax = max(nonzero_hist[0]), color = 'black')\n",
        "plt.vlines(max_nonzero, ymin = min(nonzero_hist[0]), ymax = max(nonzero_hist[0]), color = 'black')"
      ]
    },
    {
      "cell_type": "markdown",
      "metadata": {
        "deletable": true,
        "editable": true,
        "id": "k7brojDfPkoV"
      },
      "source": [
        "# Problem 2: Plotting parabolas\n",
        "Write Python code that produces the following figure:"
      ]
    },
    {
      "cell_type": "markdown",
      "metadata": {
        "deletable": true,
        "editable": true,
        "id": "aj2OfIeFPkoW"
      },
      "source": [
        "![alt text](http://www.cs.ucl.ac.uk/scipython/img/a4_parabolas.png \"Parabolas\")"
      ]
    },
    {
      "cell_type": "markdown",
      "source": [
        "http://www.cs.ucl.ac.uk/scipython/img/a4_parabolas.png \"Parabolas\"\n",
        "\n",
        "f(x) = 2x^2+3, f(x) = 5x^2+3"
      ],
      "metadata": {
        "id": "H8qLkcLlWv7h"
      }
    },
    {
      "cell_type": "code",
      "execution_count": 41,
      "metadata": {
        "deletable": true,
        "editable": true,
        "colab": {
          "base_uri": "https://localhost:8080/",
          "height": 490
        },
        "id": "H576sNZ0PkoW",
        "outputId": "5ccc4476-1e3b-42a6-ed8c-c25cf8e55596"
      },
      "outputs": [
        {
          "output_type": "execute_result",
          "data": {
            "text/plain": [
              "<matplotlib.legend.Legend at 0x785d1df4c8e0>"
            ]
          },
          "metadata": {},
          "execution_count": 41
        },
        {
          "output_type": "display_data",
          "data": {
            "text/plain": [
              "<Figure size 640x480 with 1 Axes>"
            ],
            "image/png": "[encoded data removed]"
          },
          "metadata": {}
        }
      ],
      "source": [
        "function1 = '5 * x**2 + 3'\n",
        "function2 = '2 * x**2 + 3'\n",
        "\n",
        "x = np.array(np.arange(-3, 3, 0.001))\n",
        "y1 = eval(function1)\n",
        "y2 = eval(function2)\n",
        "\n",
        "plt.plot(x, y1, color = \"red\", label = \"$f(x) = 2x^2+3$\")\n",
        "plt.plot(x, y2, color = \"black\", linestyle = '--', label = \"$f(x) = 5x^2+3$\")\n",
        "plt.grid(linestyle = '--')\n",
        "plt.xlabel('$x$'); plt.ylabel('$y$')\n",
        "plt.xlim(-3, 3); plt.ylim(0, 50)\n",
        "plt.title('Some fancy parabolas')\n",
        "plt.legend(loc = 'upper right')"
      ]
    },
    {
      "cell_type": "markdown",
      "metadata": {
        "deletable": true,
        "editable": true,
        "id": "5v6jOpBpPkoX"
      },
      "source": [
        "# Problem 2: Healthy Breakfast\n",
        "In this exercise we will do some simple analyses on a data set that contains information about 77 types of breakfast cereal. You can read about the data set at [CMU's website](http://lib.stat.cmu.edu/DASL/Stories/HealthyBreakfast.html). Download the files [cereal.csv](http://www.cs.ucl.ac.uk/scipython/resources/cereal.txt) from the course website. Below you can find a small code snippet to get you started on  reading the data set from the file."
      ]
    },
    {
      "cell_type": "code",
      "execution_count": 42,
      "metadata": {
        "deletable": true,
        "editable": true,
        "id": "1DNCXZn9PkoX"
      },
      "outputs": [],
      "source": [
        "%matplotlib inline"
      ]
    },
    {
      "cell_type": "code",
      "source": [
        "from google.colab import drive\n",
        "drive.mount('/content/drive')\n",
        "\n",
        "import os\n",
        "os.chdir('/content/drive/MyDrive/석사/data') # working directory를 설정"
      ],
      "metadata": {
        "colab": {
          "base_uri": "https://localhost:8080/"
        },
        "id": "LTKE4K7sf2jh",
        "outputId": "5464fcdf-bb12-4c5e-9aa0-b9b679a9affc"
      },
      "execution_count": 2,
      "outputs": [
        {
          "output_type": "stream",
          "name": "stdout",
          "text": [
            "Mounted at /content/drive\n"
          ]
        }
      ]
    },
    {
      "cell_type": "code",
      "execution_count": 44,
      "metadata": {
        "deletable": true,
        "editable": true,
        "colab": {
          "base_uri": "https://localhost:8080/",
          "height": 449
        },
        "id": "sNEZ_aBRPkoY",
        "outputId": "99c94ce8-7d13-4cb5-a8dd-61f8e9c1bb35"
      },
      "outputs": [
        {
          "output_type": "display_data",
          "data": {
            "text/plain": [
              "<Figure size 640x480 with 1 Axes>"
            ],
            "image/png": "[encoded data removed]"
          },
          "metadata": {}
        }
      ],
      "source": [
        "import numpy as np\n",
        "import matplotlib.pyplot as plt\n",
        "\n",
        "def getData(filename = 'cereal.txt'):\n",
        "    \"\"\"\n",
        "    Reads the cereal data from the given file name.\n",
        "    Returns a tuple of column labels, names and data, where\n",
        "    col_labels Labels of the attributes in the data set\n",
        "    names      List containing the names of the cereals tested\n",
        "    data       numpy.ndarray containing the numeric values of the 12 attributes for the 77 cereals\n",
        "    \"\"\"\n",
        "    names = []\n",
        "    data = []\n",
        "    col_labels = [\"calories (number)\", \"protein (g)\", \"fat (g)\", \"sodium (mg)\",\n",
        "                  \"dietary fiber (g)\", \"complex carbohydrates (g)\", \"sugars (g)\",\n",
        "                  \"display shelf (1, 2, or 3, counting from the floor)\", \"potassium (mg)\",\n",
        "                  \"vitamins and minerals (0, 25, or 100, respectively)\",\n",
        "                  \"weight (in ounces) of one serving (serving size)\", \"cups per serving\"]\n",
        "\n",
        "    with open(filename) as f:\n",
        "        for l in f:\n",
        "          fields = l.split()\n",
        "          names.append(fields[0])\n",
        "          data.append([float(x) for x in fields[3:]])\n",
        "\n",
        "    data = np.array(data)\n",
        "    return col_labels, names, data\n",
        "\n",
        "def plotFatVsCalories(col_labels, data):\n",
        "    \"\"\"\n",
        "    Plots fat content vs calories\n",
        "    \"\"\"\n",
        "\n",
        "    fat = data[:,2]\n",
        "    calories = data[:,0]\n",
        "    plt.plot(fat, calories ,'kx')\n",
        "    plt.xlabel(col_labels[2])\n",
        "    plt.ylabel(col_labels[0])\n",
        "    plt.grid()\n",
        "\n",
        "    # fit a line through the points\n",
        "    coefficients = np.polyfit(fat, calories, 1)\n",
        "    poly = np.poly1d(coefficients)\n",
        "    plt.plot(fat,poly(fat), 'r-')\n",
        "\n",
        "#Now execute our functions:\n",
        "column_labels, productNames, data = getData('cereal.txt')\n",
        "plotFatVsCalories(column_labels, data)\n"
      ]
    },
    {
      "cell_type": "markdown",
      "metadata": {
        "deletable": true,
        "editable": true,
        "id": "euE1moxBPkoZ"
      },
      "source": [
        "Please complete the following tasks:\n",
        "\n",
        "> **1.** Compute the average number of calories, as well as the average amount of complex carbohydrates and sugars in the data set."
      ]
    },
    {
      "cell_type": "code",
      "source": [
        "#Start your answers here - add more cells as necessary!\n",
        "print(list(enumerate(column_labels)))"
      ],
      "metadata": {
        "colab": {
          "base_uri": "https://localhost:8080/"
        },
        "id": "_I3r0tRyk0ZB",
        "outputId": "9128ccd5-ffc5-4309-90b0-9ac0475be112"
      },
      "execution_count": 60,
      "outputs": [
        {
          "output_type": "stream",
          "name": "stdout",
          "text": [
            "[(0, 'calories (number)'), (1, 'protein (g)'), (2, 'fat (g)'), (3, 'sodium (mg)'), (4, 'dietary fiber (g)'), (5, 'complex carbohydrates (g)'), (6, 'sugars (g)'), (7, 'display shelf (1, 2, or 3, counting from the floor)'), (8, 'potassium (mg)'), (9, 'vitamins and minerals (0, 25, or 100, respectively)'), (10, 'weight (in ounces) of one serving (serving size)'), (11, 'cups per serving')]\n"
          ]
        }
      ]
    },
    {
      "cell_type": "code",
      "execution_count": 45,
      "metadata": {
        "deletable": true,
        "editable": true,
        "id": "7xpMI3a5PkoZ"
      },
      "outputs": [],
      "source": [
        "idx = {}\n",
        "idx[\"cal\"] = 0\n",
        "idx[\"carbhs\"] = 5\n",
        "idx[\"sugar\"] = 6"
      ]
    },
    {
      "cell_type": "code",
      "source": [
        "print(\"Average number of calories: %.2f\" % np.mean(data[:, idx[\"cal\"]]))\n",
        "print(\"Average amount of complex carbohydrates: %.2f\" % np.mean(data[:, idx[\"carbhs\"]]))\n",
        "print(\"Average amount of sugar: %.2f\" % np.mean(data[:, idx[\"sugar\"]]))"
      ],
      "metadata": {
        "colab": {
          "base_uri": "https://localhost:8080/"
        },
        "id": "_MAPXig2hS_F",
        "outputId": "0ebb026d-6a27-49f3-a072-1ab0a9fca997"
      },
      "execution_count": 46,
      "outputs": [
        {
          "output_type": "stream",
          "name": "stdout",
          "text": [
            "Average number of calories: 106.88\n",
            "Average amount of complex carbohydrates: 14.60\n",
            "Average amount of sugar: 6.92\n"
          ]
        }
      ]
    },
    {
      "cell_type": "markdown",
      "metadata": {
        "deletable": true,
        "editable": true,
        "id": "njjDbb4QPkoa"
      },
      "source": [
        "> **2.** What is the name of the cereal that has the highest sugar content?"
      ]
    },
    {
      "cell_type": "code",
      "execution_count": 47,
      "metadata": {
        "deletable": true,
        "editable": true,
        "colab": {
          "base_uri": "https://localhost:8080/"
        },
        "id": "55vIiD-NPkoa",
        "outputId": "8654d403-d66f-4f7c-a310-88520baf927e"
      },
      "outputs": [
        {
          "output_type": "stream",
          "name": "stdout",
          "text": [
            "Golden_Crisp\n"
          ]
        }
      ],
      "source": [
        "max_sugar_idx = np.argmax(data[:, idx[\"sugar\"]])\n",
        "print(productNames[max_sugar_idx])"
      ]
    },
    {
      "cell_type": "markdown",
      "metadata": {
        "deletable": true,
        "editable": true,
        "id": "NHk0YuMPPkoa"
      },
      "source": [
        "> **3.** The 8th column of the data set contains the shelf at which the cereal is displayed in the supermarket (either 1, 2, or 3). Compute the mean number of calories of the cereals displayed in each shelf. If you do this correctly you should find the the cereals displayed on the middle shelf have a higher calory content on average."
      ]
    },
    {
      "cell_type": "code",
      "execution_count": 67,
      "metadata": {
        "deletable": true,
        "editable": true,
        "id": "hgzJ-AqBPkob"
      },
      "outputs": [],
      "source": [
        "idx[\"display\"] = 7\n",
        "\n",
        "def items_displayed(shelf_No):\n",
        "  shelfs = data[:, idx[\"display\"]]\n",
        "  return shelfs == shelf_No\n",
        "\n",
        "def compute_mean_by_shelf(shelf_No):\n",
        "  items = items_displayed(shelf_No)\n",
        "  mean_cal = np.mean(data[items, idx['cal']])\n",
        "  return mean_cal\n",
        "\n",
        "def print_mean_by_shelf():\n",
        "  print('Mean calories of shelf No.1:', compute_mean_by_shelf(1))\n",
        "  print('Mean calories of shelf No.2:', compute_mean_by_shelf(2))\n",
        "  print('Mean calories of shelf No.3:', compute_mean_by_shelf(3))"
      ]
    },
    {
      "cell_type": "code",
      "source": [
        "print_mean_by_shelf()"
      ],
      "metadata": {
        "colab": {
          "base_uri": "https://localhost:8080/"
        },
        "id": "dbQboZmMob10",
        "outputId": "1b0b5c47-1200-46a0-a153-700b9503c760"
      },
      "execution_count": 68,
      "outputs": [
        {
          "output_type": "stream",
          "name": "stdout",
          "text": [
            "Mean calories of shelf No.1: 102.5\n",
            "Mean calories of shelf No.2: 109.52380952380952\n",
            "Mean calories of shelf No.3: 107.77777777777777\n"
          ]
        }
      ]
    },
    {
      "cell_type": "markdown",
      "metadata": {
        "deletable": true,
        "editable": true,
        "id": "98bQQONyPkob"
      },
      "source": [
        "> **4.** Make a box plot showing the sugar content of cereals grouped by shelf (recreating the plot that you'll find on the homepage for this data set)."
      ]
    },
    {
      "cell_type": "code",
      "execution_count": 73,
      "metadata": {
        "deletable": true,
        "editable": true,
        "id": "SXE6uADsPkob"
      },
      "outputs": [],
      "source": [
        "def sugar_by_shelf(shelf_No):\n",
        "  items = items_displayed(shelf_No)\n",
        "  return data[items, idx['sugar']]\n",
        "\n",
        "def boxplot_of_sugar():\n",
        "  sugars = []\n",
        "  for i in range(1, 4):\n",
        "    sugars.append(sugar_by_shelf(i))\n",
        "  plt.boxplot(sugars)\n",
        "  plt.title('Boxplot of Sugar')"
      ]
    },
    {
      "cell_type": "code",
      "source": [
        "boxplot_of_sugar()"
      ],
      "metadata": {
        "colab": {
          "base_uri": "https://localhost:8080/",
          "height": 452
        },
        "id": "UY4uk0tsp9tt",
        "outputId": "586bda71-51af-4d13-a852-42eaf341f85c"
      },
      "execution_count": 74,
      "outputs": [
        {
          "output_type": "display_data",
          "data": {
            "text/plain": [
              "<Figure size 640x480 with 1 Axes>"
            ],
            "image/png": "[encoded data removed]"
          },
          "metadata": {}
        }
      ]
    },
    {
      "cell_type": "code",
      "source": [
        "#Start your answers here - add more cells as necessary!\n",
        "print(list(enumerate(column_labels)))"
      ],
      "metadata": {
        "colab": {
          "base_uri": "https://localhost:8080/"
        },
        "outputId": "9128ccd5-ffc5-4309-90b0-9ac0475be112",
        "id": "_zsv4vgoqvbd"
      },
      "execution_count": null,
      "outputs": [
        {
          "output_type": "stream",
          "name": "stdout",
          "text": [
            "[(0, 'calories (number)'), (1, 'protein (g)'), (2, 'fat (g)'), (3, 'sodium (mg)'), (4, 'dietary fiber (g)'), (5, 'complex carbohydrates (g)'), (6, 'sugars (g)'), (7, 'display shelf (1, 2, or 3, counting from the floor)'), (8, 'potassium (mg)'), (9, 'vitamins and minerals (0, 25, or 100, respectively)'), (10, 'weight (in ounces) of one serving (serving size)'), (11, 'cups per serving')]\n"
          ]
        }
      ]
    },
    {
      "cell_type": "code",
      "execution_count": null,
      "metadata": {
        "deletable": true,
        "editable": true,
        "id": "b2rQYxYgqvbe"
      },
      "outputs": [],
      "source": [
        "idx = {}\n",
        "idx[\"cal\"] = 0\n",
        "idx[\"carbhs\"] = 5\n",
        "idx[\"sugar\"] = 6"
      ]
    },
    {
      "cell_type": "markdown",
      "metadata": {
        "deletable": true,
        "editable": true,
        "id": "XFxzZYtoPkoc"
      },
      "source": [
        "> **5.** Explore the data set by plotting and regressing the different variables against each other."
      ]
    },
    {
      "cell_type": "code",
      "execution_count": 84,
      "metadata": {
        "deletable": true,
        "editable": true,
        "id": "7CxzNWxIPkoc"
      },
      "outputs": [],
      "source": [
        "from scipy.stats import linregress\n",
        "\n",
        "def Plot_Regression_CaloriesVsProtein(col_labels, data):\n",
        "    \"\"\"\n",
        "    Plots calories content vs protein\n",
        "    \"\"\"\n",
        "\n",
        "    calories = data[:,0]; protein = data[:,1]\n",
        "    plt.plot(calories, protein,'kx')\n",
        "    plt.xlabel(col_labels[0]); plt.ylabel(col_labels[1])\n",
        "    plt.grid()\n",
        "\n",
        "    slope, intercept, r_value, p_value, std_err = linregress(calories, protein)\n",
        "\n",
        "    coefficients = np.polyfit(calories, protein, 1)\n",
        "    poly = np.poly1d(coefficients)\n",
        "    plt.plot(calories,poly(calories), 'r-')\n",
        "    plt.show()\n",
        "    print(\"Linear Regression with r=%.3f, p=%.2g\" %(r_value, p_value))"
      ]
    },
    {
      "cell_type": "code",
      "source": [
        "Plot_Regression_CaloriesVsProtein(column_labels, data)"
      ],
      "metadata": {
        "colab": {
          "base_uri": "https://localhost:8080/",
          "height": 467
        },
        "id": "qhUy6k3ws95n",
        "outputId": "6c17b05d-07fe-4d20-f4ee-a4a465438158"
      },
      "execution_count": 85,
      "outputs": [
        {
          "output_type": "display_data",
          "data": {
            "text/plain": [
              "<Figure size 640x480 with 1 Axes>"
            ],
            "image/png": "[encoded data removed]"
          },
          "metadata": {}
        },
        {
          "output_type": "stream",
          "name": "stdout",
          "text": [
            "Linear Regression with r=0.019, p=0.87\n"
          ]
        }
      ]
    },
    {
      "cell_type": "markdown",
      "metadata": {
        "deletable": true,
        "editable": true,
        "id": "dMvWE6oEPkoc"
      },
      "source": [
        "# Problem 3: Chocolate makes you faster?\n",
        "Your colleague (a psychologist) has conducted an experiment where he measured subjects' performance on a memory and a reaction time task. He claims to have found a correlation between the two, but you are sceptical, because you know your colleague is not very good at clicking buttons in SPSS. Luckily, you can convince your colleague to give you his data file so you can assess his claims.\n",
        "\n",
        "> **1.** He gives you the file [experiment.csv](http://www.cs.ucl.ac.uk/scipython/resources/experiment.csv). It contains one line per subject, and each line contains the values for the following variables that he measured: `height`, `weight`, `amount-chocolate`, `task-one-score`, `task-two-score`. (He allowed the participants to eat chocolate during the experiment, and the third column shows the amount of chocolate they ate in grams.) Load the data into an array."
      ]
    },
    {
      "cell_type": "code",
      "execution_count": 10,
      "metadata": {
        "deletable": true,
        "editable": true,
        "id": "z9FqljvbPkoc"
      },
      "outputs": [],
      "source": [
        "import pandas as pd\n",
        "experiment = pd.read_csv(\"experiment.csv\", sep = \" \", header = None, names = ('height', 'weight', 'amount-chocolate', 'task-one-score', 'task-two-score'))"
      ]
    },
    {
      "cell_type": "code",
      "source": [
        "experiment.head()"
      ],
      "metadata": {
        "colab": {
          "base_uri": "https://localhost:8080/",
          "height": 206
        },
        "id": "m9ciMF1uAn31",
        "outputId": "cab01796-7fa6-42f3-9a2c-56e8d727b677"
      },
      "execution_count": 11,
      "outputs": [
        {
          "output_type": "execute_result",
          "data": {
            "text/plain": [
              "     height     weight  amount-chocolate  task-one-score  task-two-score\n",
              "0  1.726267  68.259009              90.0        6.905956        1.591614\n",
              "1  1.708592  75.907970             110.0        3.309128      -12.771330\n",
              "2  1.794065  72.812060             140.0      -15.734299      -22.933690\n",
              "3  1.688505  78.181684             110.0       -3.341792       -0.063139\n",
              "4  1.759589  70.716645              80.0       13.923138        1.294793"
            ],
            "text/html": [
              "\n",
              "  <div id=\"df-7c6fe193-0581-4450-9baf-a3dafccf5eb6\" class=\"colab-df-container\">\n",
              "    <div>\n",
              "<style scoped>\n",
              "    .dataframe tbody tr th:only-of-type {\n",
              "        vertical-align: middle;\n",
              "    }\n",
              "\n",
              "    .dataframe tbody tr th {\n",
              "        vertical-align: top;\n",
              "    }\n",
              "\n",
              "    .dataframe thead th {\n",
              "        text-align: right;\n",
              "    }\n",
              "</style>\n",
              "<table border=\"1\" class=\"dataframe\">\n",
              "  <thead>\n",
              "    <tr style=\"text-align: right;\">\n",
              "      <th></th>\n",
              "      <th>height</th>\n",
              "      <th>weight</th>\n",
              "      <th>amount-chocolate</th>\n",
              "      <th>task-one-score</th>\n",
              "      <th>task-two-score</th>\n",
              "    </tr>\n",
              "  </thead>\n",
              "  <tbody>\n",
              "    <tr>\n",
              "      <th>0</th>\n",
              "      <td>1.726267</td>\n",
              "      <td>68.259009</td>\n",
              "      <td>90.0</td>\n",
              "      <td>6.905956</td>\n",
              "      <td>1.591614</td>\n",
              "    </tr>\n",
              "    <tr>\n",
              "      <th>1</th>\n",
              "      <td>1.708592</td>\n",
              "      <td>75.907970</td>\n",
              "      <td>110.0</td>\n",
              "      <td>3.309128</td>\n",
              "      <td>-12.771330</td>\n",
              "    </tr>\n",
              "    <tr>\n",
              "      <th>2</th>\n",
              "      <td>1.794065</td>\n",
              "      <td>72.812060</td>\n",
              "      <td>140.0</td>\n",
              "      <td>-15.734299</td>\n",
              "      <td>-22.933690</td>\n",
              "    </tr>\n",
              "    <tr>\n",
              "      <th>3</th>\n",
              "      <td>1.688505</td>\n",
              "      <td>78.181684</td>\n",
              "      <td>110.0</td>\n",
              "      <td>-3.341792</td>\n",
              "      <td>-0.063139</td>\n",
              "    </tr>\n",
              "    <tr>\n",
              "      <th>4</th>\n",
              "      <td>1.759589</td>\n",
              "      <td>70.716645</td>\n",
              "      <td>80.0</td>\n",
              "      <td>13.923138</td>\n",
              "      <td>1.294793</td>\n",
              "    </tr>\n",
              "  </tbody>\n",
              "</table>\n",
              "</div>\n",
              "    <div class=\"colab-df-buttons\">\n",
              "\n",
              "  <div class=\"colab-df-container\">\n",
              "    <button class=\"colab-df-convert\" onclick=\"convertToInteractive('df-7c6fe193-0581-4450-9baf-a3dafccf5eb6')\"\n",
              "            title=\"Convert this dataframe to an interactive table.\"\n",
              "            style=\"display:none;\">\n",
              "\n",
              "  <svg xmlns=\"http://www.w3.org/2000/svg\" height=\"24px\" viewBox=\"0 -960 960 960\">\n",
              "    <path d=\"M120-120v-720h720v720H120Zm60-500h600v-160H180v160Zm220 220h160v-160H400v160Zm0 220h160v-160H400v160ZM180-400h160v-160H180v160Zm440 0h160v-160H620v160ZM180-180h160v-160H180v160Zm440 0h160v-160H620v160Z\"/>\n",
              "  </svg>\n",
              "    </button>\n",
              "\n",
              "  <style>\n",
              "    .colab-df-container {\n",
              "      display:flex;\n",
              "      gap: 12px;\n",
              "    }\n",
              "\n",
              "    .colab-df-convert {\n",
              "      background-color: #E8F0FE;\n",
              "      border: none;\n",
              "      border-radius: 50%;\n",
              "      cursor: pointer;\n",
              "      display: none;\n",
              "      fill: #1967D2;\n",
              "      height: 32px;\n",
              "      padding: 0 0 0 0;\n",
              "      width: 32px;\n",
              "    }\n",
              "\n",
              "    .colab-df-convert:hover {\n",
              "      background-color: #E2EBFA;\n",
              "      box-shadow: 0px 1px 2px rgba(60, 64, 67, 0.3), 0px 1px 3px 1px rgba(60, 64, 67, 0.15);\n",
              "      fill: #174EA6;\n",
              "    }\n",
              "\n",
              "    .colab-df-buttons div {\n",
              "      margin-bottom: 4px;\n",
              "    }\n",
              "\n",
              "    [theme=dark] .colab-df-convert {\n",
              "      background-color: #3B4455;\n",
              "      fill: #D2E3FC;\n",
              "    }\n",
              "\n",
              "    [theme=dark] .colab-df-convert:hover {\n",
              "      background-color: #434B5C;\n",
              "      box-shadow: 0px 1px 3px 1px rgba(0, 0, 0, 0.15);\n",
              "      filter: drop-shadow(0px 1px 2px rgba(0, 0, 0, 0.3));\n",
              "      fill: #FFFFFF;\n",
              "    }\n",
              "  </style>\n",
              "\n",
              "    <script>\n",
              "      const buttonEl =\n",
              "        document.querySelector('#df-7c6fe193-0581-4450-9baf-a3dafccf5eb6 button.colab-df-convert');\n",
              "      buttonEl.style.display =\n",
              "        google.colab.kernel.accessAllowed ? 'block' : 'none';\n",
              "\n",
              "      async function convertToInteractive(key) {\n",
              "        const element = document.querySelector('#df-7c6fe193-0581-4450-9baf-a3dafccf5eb6');\n",
              "        const dataTable =\n",
              "          await google.colab.kernel.invokeFunction('convertToInteractive',\n",
              "                                                    [key], {});\n",
              "        if (!dataTable) return;\n",
              "\n",
              "        const docLinkHtml = 'Like what you see? Visit the ' +\n",
              "          '<a target=\"_blank\" href=https://colab.research.google.com/notebooks/data_table.ipynb>data table notebook</a>'\n",
              "          + ' to learn more about interactive tables.';\n",
              "        element.innerHTML = '';\n",
              "        dataTable['output_type'] = 'display_data';\n",
              "        await google.colab.output.renderOutput(dataTable, element);\n",
              "        const docLink = document.createElement('div');\n",
              "        docLink.innerHTML = docLinkHtml;\n",
              "        element.appendChild(docLink);\n",
              "      }\n",
              "    </script>\n",
              "  </div>\n",
              "\n",
              "\n",
              "<div id=\"df-aee229e2-e09b-48a1-89c9-ec4c2d12a80e\">\n",
              "  <button class=\"colab-df-quickchart\" onclick=\"quickchart('df-aee229e2-e09b-48a1-89c9-ec4c2d12a80e')\"\n",
              "            title=\"Suggest charts\"\n",
              "            style=\"display:none;\">\n",
              "\n",
              "<svg xmlns=\"http://www.w3.org/2000/svg\" height=\"24px\"viewBox=\"0 0 24 24\"\n",
              "     width=\"24px\">\n",
              "    <g>\n",
              "        <path d=\"M19 3H5c-1.1 0-2 .9-2 2v14c0 1.1.9 2 2 2h14c1.1 0 2-.9 2-2V5c0-1.1-.9-2-2-2zM9 17H7v-7h2v7zm4 0h-2V7h2v10zm4 0h-2v-4h2v4z\"/>\n",
              "    </g>\n",
              "</svg>\n",
              "  </button>\n",
              "\n",
              "<style>\n",
              "  .colab-df-quickchart {\n",
              "      --bg-color: #E8F0FE;\n",
              "      --fill-color: #1967D2;\n",
              "      --hover-bg-color: #E2EBFA;\n",
              "      --hover-fill-color: #174EA6;\n",
              "      --disabled-fill-color: #AAA;\n",
              "      --disabled-bg-color: #DDD;\n",
              "  }\n",
              "\n",
              "  [theme=dark] .colab-df-quickchart {\n",
              "      --bg-color: #3B4455;\n",
              "      --fill-color: #D2E3FC;\n",
              "      --hover-bg-color: #434B5C;\n",
              "      --hover-fill-color: #FFFFFF;\n",
              "      --disabled-bg-color: #3B4455;\n",
              "      --disabled-fill-color: #666;\n",
              "  }\n",
              "\n",
              "  .colab-df-quickchart {\n",
              "    background-color: var(--bg-color);\n",
              "    border: none;\n",
              "    border-radius: 50%;\n",
              "    cursor: pointer;\n",
              "    display: none;\n",
              "    fill: var(--fill-color);\n",
              "    height: 32px;\n",
              "    padding: 0;\n",
              "    width: 32px;\n",
              "  }\n",
              "\n",
              "  .colab-df-quickchart:hover {\n",
              "    background-color: var(--hover-bg-color);\n",
              "    box-shadow: 0 1px 2px rgba(60, 64, 67, 0.3), 0 1px 3px 1px rgba(60, 64, 67, 0.15);\n",
              "    fill: var(--button-hover-fill-color);\n",
              "  }\n",
              "\n",
              "  .colab-df-quickchart-complete:disabled,\n",
              "  .colab-df-quickchart-complete:disabled:hover {\n",
              "    background-color: var(--disabled-bg-color);\n",
              "    fill: var(--disabled-fill-color);\n",
              "    box-shadow: none;\n",
              "  }\n",
              "\n",
              "  .colab-df-spinner {\n",
              "    border: 2px solid var(--fill-color);\n",
              "    border-color: transparent;\n",
              "    border-bottom-color: var(--fill-color);\n",
              "    animation:\n",
              "      spin 1s steps(1) infinite;\n",
              "  }\n",
              "\n",
              "  @keyframes spin {\n",
              "    0% {\n",
              "      border-color: transparent;\n",
              "      border-bottom-color: var(--fill-color);\n",
              "      border-left-color: var(--fill-color);\n",
              "    }\n",
              "    20% {\n",
              "      border-color: transparent;\n",
              "      border-left-color: var(--fill-color);\n",
              "      border-top-color: var(--fill-color);\n",
              "    }\n",
              "    30% {\n",
              "      border-color: transparent;\n",
              "      border-left-color: var(--fill-color);\n",
              "      border-top-color: var(--fill-color);\n",
              "      border-right-color: var(--fill-color);\n",
              "    }\n",
              "    40% {\n",
              "      border-color: transparent;\n",
              "      border-right-color: var(--fill-color);\n",
              "      border-top-color: var(--fill-color);\n",
              "    }\n",
              "    60% {\n",
              "      border-color: transparent;\n",
              "      border-right-color: var(--fill-color);\n",
              "    }\n",
              "    80% {\n",
              "      border-color: transparent;\n",
              "      border-right-color: var(--fill-color);\n",
              "      border-bottom-color: var(--fill-color);\n",
              "    }\n",
              "    90% {\n",
              "      border-color: transparent;\n",
              "      border-bottom-color: var(--fill-color);\n",
              "    }\n",
              "  }\n",
              "</style>\n",
              "\n",
              "  <script>\n",
              "    async function quickchart(key) {\n",
              "      const quickchartButtonEl =\n",
              "        document.querySelector('#' + key + ' button');\n",
              "      quickchartButtonEl.disabled = true;  // To prevent multiple clicks.\n",
              "      quickchartButtonEl.classList.add('colab-df-spinner');\n",
              "      try {\n",
              "        const charts = await google.colab.kernel.invokeFunction(\n",
              "            'suggestCharts', [key], {});\n",
              "      } catch (error) {\n",
              "        console.error('Error during call to suggestCharts:', error);\n",
              "      }\n",
              "      quickchartButtonEl.classList.remove('colab-df-spinner');\n",
              "      quickchartButtonEl.classList.add('colab-df-quickchart-complete');\n",
              "    }\n",
              "    (() => {\n",
              "      let quickchartButtonEl =\n",
              "        document.querySelector('#df-aee229e2-e09b-48a1-89c9-ec4c2d12a80e button');\n",
              "      quickchartButtonEl.style.display =\n",
              "        google.colab.kernel.accessAllowed ? 'block' : 'none';\n",
              "    })();\n",
              "  </script>\n",
              "</div>\n",
              "\n",
              "    </div>\n",
              "  </div>\n"
            ],
            "application/vnd.google.colaboratory.intrinsic+json": {
              "type": "dataframe",
              "variable_name": "experiment",
              "summary": "{\n  \"name\": \"experiment\",\n  \"rows\": 500,\n  \"fields\": [\n    {\n      \"column\": \"height\",\n      \"properties\": {\n        \"dtype\": \"number\",\n        \"std\": 0.07343854439334886,\n        \"min\": 1.4649708921970817,\n        \"max\": 1.897526798145764,\n        \"samples\": [\n          1.7364740946217938,\n          1.8168942338626288,\n          1.814202499956896\n        ],\n        \"num_unique_values\": 500,\n        \"semantic_type\": \"\",\n        \"description\": \"\"\n      }\n    },\n    {\n      \"column\": \"weight\",\n      \"properties\": {\n        \"dtype\": \"number\",\n        \"std\": 8.814073435056137,\n        \"min\": 49.23576315068093,\n        \"max\": 106.62624155127564,\n        \"samples\": [\n          77.21095974700934,\n          93.06959871869843,\n          71.53804260819793\n        ],\n        \"num_unique_values\": 500,\n        \"semantic_type\": \"\",\n        \"description\": \"\"\n      }\n    },\n    {\n      \"column\": \"amount-chocolate\",\n      \"properties\": {\n        \"dtype\": \"number\",\n        \"std\": 30.23935908175553,\n        \"min\": 10.0,\n        \"max\": 190.0,\n        \"samples\": [\n          90.0,\n          110.0,\n          70.0\n        ],\n        \"num_unique_values\": 18,\n        \"semantic_type\": \"\",\n        \"description\": \"\"\n      }\n    },\n    {\n      \"column\": \"task-one-score\",\n      \"properties\": {\n        \"dtype\": \"number\",\n        \"std\": 9.949906440964622,\n        \"min\": -31.091773045689656,\n        \"max\": 31.9344536619868,\n        \"samples\": [\n          10.3272107936341,\n          -10.209158165564254,\n          -13.785162141196677\n        ],\n        \"num_unique_values\": 500,\n        \"semantic_type\": \"\",\n        \"description\": \"\"\n      }\n    },\n    {\n      \"column\": \"task-two-score\",\n      \"properties\": {\n        \"dtype\": \"number\",\n        \"std\": 19.255217873515377,\n        \"min\": -56.1343406452084,\n        \"max\": 70.08369354144473,\n        \"samples\": [\n          14.388665219073545,\n          -11.423351209368274,\n          34.722501784215055\n        ],\n        \"num_unique_values\": 500,\n        \"semantic_type\": \"\",\n        \"description\": \"\"\n      }\n    }\n  ]\n}"
            }
          },
          "metadata": {},
          "execution_count": 11
        }
      ]
    },
    {
      "cell_type": "markdown",
      "metadata": {
        "deletable": true,
        "editable": true,
        "id": "2n7wT9qnPkod"
      },
      "source": [
        "> **2.** As a sanity check, create a scatter plot of height vs. weight. These two should clearly be correlated and you should see a straight line relationship."
      ]
    },
    {
      "cell_type": "code",
      "execution_count": 18,
      "metadata": {
        "deletable": true,
        "editable": true,
        "colab": {
          "base_uri": "https://localhost:8080/",
          "height": 524
        },
        "id": "G7DOK0zuPkod",
        "outputId": "2a8fd85a-c48f-4010-8c00-acb2271e75a3"
      },
      "outputs": [
        {
          "output_type": "execute_result",
          "data": {
            "text/plain": [
              "<seaborn.axisgrid.FacetGrid at 0x78bc3ccc65c0>"
            ]
          },
          "metadata": {},
          "execution_count": 18
        },
        {
          "output_type": "display_data",
          "data": {
            "text/plain": [
              "<Figure size 500x500 with 1 Axes>"
            ],
            "image/png": "[encoded data removed]"
          },
          "metadata": {}
        }
      ],
      "source": [
        "import seaborn as sns\n",
        "sns.lmplot(x = \"height\", y = \"weight\", data = experiment)"
      ]
    },
    {
      "cell_type": "markdown",
      "metadata": {
        "deletable": true,
        "editable": true,
        "id": "yCvEW7w9Pkod"
      },
      "source": [
        "> **3.** To assess your colleague's claim, first create a box plot of the scores in task 1 and task 2. Also, compute the correlation between the two (using Pearson's $r$) and check whether it is significant. _Hint_: Use the function `scipy.stats.pearsonr`."
      ]
    },
    {
      "cell_type": "code",
      "source": [
        "experiment_tasks = experiment[['task-one-score', 'task-two-score']]\n",
        "experiment_tasks"
      ],
      "metadata": {
        "colab": {
          "base_uri": "https://localhost:8080/",
          "height": 423
        },
        "id": "s_2nnU5ZEfY2",
        "outputId": "ec5f2998-be27-4592-c309-18566ff5753b"
      },
      "execution_count": 25,
      "outputs": [
        {
          "output_type": "execute_result",
          "data": {
            "text/plain": [
              "     task-one-score  task-two-score\n",
              "0          6.905956        1.591614\n",
              "1          3.309128      -12.771330\n",
              "2        -15.734299      -22.933690\n",
              "3         -3.341792       -0.063139\n",
              "4         13.923138        1.294793\n",
              "..              ...             ...\n",
              "495        4.557401       11.540418\n",
              "496       16.026351      -16.495185\n",
              "497       -8.331728       20.495022\n",
              "498       13.158081      -27.105230\n",
              "499        8.363660       -7.270101\n",
              "\n",
              "[500 rows x 2 columns]"
            ],
            "text/html": [
              "\n",
              "  <div id=\"df-310f9410-15a9-422b-ac20-b088322467ea\" class=\"colab-df-container\">\n",
              "    <div>\n",
              "<style scoped>\n",
              "    .dataframe tbody tr th:only-of-type {\n",
              "        vertical-align: middle;\n",
              "    }\n",
              "\n",
              "    .dataframe tbody tr th {\n",
              "        vertical-align: top;\n",
              "    }\n",
              "\n",
              "    .dataframe thead th {\n",
              "        text-align: right;\n",
              "    }\n",
              "</style>\n",
              "<table border=\"1\" class=\"dataframe\">\n",
              "  <thead>\n",
              "    <tr style=\"text-align: right;\">\n",
              "      <th></th>\n",
              "      <th>task-one-score</th>\n",
              "      <th>task-two-score</th>\n",
              "    </tr>\n",
              "  </thead>\n",
              "  <tbody>\n",
              "    <tr>\n",
              "      <th>0</th>\n",
              "      <td>6.905956</td>\n",
              "      <td>1.591614</td>\n",
              "    </tr>\n",
              "    <tr>\n",
              "      <th>1</th>\n",
              "      <td>3.309128</td>\n",
              "      <td>-12.771330</td>\n",
              "    </tr>\n",
              "    <tr>\n",
              "      <th>2</th>\n",
              "      <td>-15.734299</td>\n",
              "      <td>-22.933690</td>\n",
              "    </tr>\n",
              "    <tr>\n",
              "      <th>3</th>\n",
              "      <td>-3.341792</td>\n",
              "      <td>-0.063139</td>\n",
              "    </tr>\n",
              "    <tr>\n",
              "      <th>4</th>\n",
              "      <td>13.923138</td>\n",
              "      <td>1.294793</td>\n",
              "    </tr>\n",
              "    <tr>\n",
              "      <th>...</th>\n",
              "      <td>...</td>\n",
              "      <td>...</td>\n",
              "    </tr>\n",
              "    <tr>\n",
              "      <th>495</th>\n",
              "      <td>4.557401</td>\n",
              "      <td>11.540418</td>\n",
              "    </tr>\n",
              "    <tr>\n",
              "      <th>496</th>\n",
              "      <td>16.026351</td>\n",
              "      <td>-16.495185</td>\n",
              "    </tr>\n",
              "    <tr>\n",
              "      <th>497</th>\n",
              "      <td>-8.331728</td>\n",
              "      <td>20.495022</td>\n",
              "    </tr>\n",
              "    <tr>\n",
              "      <th>498</th>\n",
              "      <td>13.158081</td>\n",
              "      <td>-27.105230</td>\n",
              "    </tr>\n",
              "    <tr>\n",
              "      <th>499</th>\n",
              "      <td>8.363660</td>\n",
              "      <td>-7.270101</td>\n",
              "    </tr>\n",
              "  </tbody>\n",
              "</table>\n",
              "<p>500 rows × 2 columns</p>\n",
              "</div>\n",
              "    <div class=\"colab-df-buttons\">\n",
              "\n",
              "  <div class=\"colab-df-container\">\n",
              "    <button class=\"colab-df-convert\" onclick=\"convertToInteractive('df-310f9410-15a9-422b-ac20-b088322467ea')\"\n",
              "            title=\"Convert this dataframe to an interactive table.\"\n",
              "            style=\"display:none;\">\n",
              "\n",
              "  <svg xmlns=\"http://www.w3.org/2000/svg\" height=\"24px\" viewBox=\"0 -960 960 960\">\n",
              "    <path d=\"M120-120v-720h720v720H120Zm60-500h600v-160H180v160Zm220 220h160v-160H400v160Zm0 220h160v-160H400v160ZM180-400h160v-160H180v160Zm440 0h160v-160H620v160ZM180-180h160v-160H180v160Zm440 0h160v-160H620v160Z\"/>\n",
              "  </svg>\n",
              "    </button>\n",
              "\n",
              "  <style>\n",
              "    .colab-df-container {\n",
              "      display:flex;\n",
              "      gap: 12px;\n",
              "    }\n",
              "\n",
              "    .colab-df-convert {\n",
              "      background-color: #E8F0FE;\n",
              "      border: none;\n",
              "      border-radius: 50%;\n",
              "      cursor: pointer;\n",
              "      display: none;\n",
              "      fill: #1967D2;\n",
              "      height: 32px;\n",
              "      padding: 0 0 0 0;\n",
              "      width: 32px;\n",
              "    }\n",
              "\n",
              "    .colab-df-convert:hover {\n",
              "      background-color: #E2EBFA;\n",
              "      box-shadow: 0px 1px 2px rgba(60, 64, 67, 0.3), 0px 1px 3px 1px rgba(60, 64, 67, 0.15);\n",
              "      fill: #174EA6;\n",
              "    }\n",
              "\n",
              "    .colab-df-buttons div {\n",
              "      margin-bottom: 4px;\n",
              "    }\n",
              "\n",
              "    [theme=dark] .colab-df-convert {\n",
              "      background-color: #3B4455;\n",
              "      fill: #D2E3FC;\n",
              "    }\n",
              "\n",
              "    [theme=dark] .colab-df-convert:hover {\n",
              "      background-color: #434B5C;\n",
              "      box-shadow: 0px 1px 3px 1px rgba(0, 0, 0, 0.15);\n",
              "      filter: drop-shadow(0px 1px 2px rgba(0, 0, 0, 0.3));\n",
              "      fill: #FFFFFF;\n",
              "    }\n",
              "  </style>\n",
              "\n",
              "    <script>\n",
              "      const buttonEl =\n",
              "        document.querySelector('#df-310f9410-15a9-422b-ac20-b088322467ea button.colab-df-convert');\n",
              "      buttonEl.style.display =\n",
              "        google.colab.kernel.accessAllowed ? 'block' : 'none';\n",
              "\n",
              "      async function convertToInteractive(key) {\n",
              "        const element = document.querySelector('#df-310f9410-15a9-422b-ac20-b088322467ea');\n",
              "        const dataTable =\n",
              "          await google.colab.kernel.invokeFunction('convertToInteractive',\n",
              "                                                    [key], {});\n",
              "        if (!dataTable) return;\n",
              "\n",
              "        const docLinkHtml = 'Like what you see? Visit the ' +\n",
              "          '<a target=\"_blank\" href=https://colab.research.google.com/notebooks/data_table.ipynb>data table notebook</a>'\n",
              "          + ' to learn more about interactive tables.';\n",
              "        element.innerHTML = '';\n",
              "        dataTable['output_type'] = 'display_data';\n",
              "        await google.colab.output.renderOutput(dataTable, element);\n",
              "        const docLink = document.createElement('div');\n",
              "        docLink.innerHTML = docLinkHtml;\n",
              "        element.appendChild(docLink);\n",
              "      }\n",
              "    </script>\n",
              "  </div>\n",
              "\n",
              "\n",
              "<div id=\"df-2f01cb7c-fbe2-4abc-b7de-23934ea3d155\">\n",
              "  <button class=\"colab-df-quickchart\" onclick=\"quickchart('df-2f01cb7c-fbe2-4abc-b7de-23934ea3d155')\"\n",
              "            title=\"Suggest charts\"\n",
              "            style=\"display:none;\">\n",
              "\n",
              "<svg xmlns=\"http://www.w3.org/2000/svg\" height=\"24px\"viewBox=\"0 0 24 24\"\n",
              "     width=\"24px\">\n",
              "    <g>\n",
              "        <path d=\"M19 3H5c-1.1 0-2 .9-2 2v14c0 1.1.9 2 2 2h14c1.1 0 2-.9 2-2V5c0-1.1-.9-2-2-2zM9 17H7v-7h2v7zm4 0h-2V7h2v10zm4 0h-2v-4h2v4z\"/>\n",
              "    </g>\n",
              "</svg>\n",
              "  </button>\n",
              "\n",
              "<style>\n",
              "  .colab-df-quickchart {\n",
              "      --bg-color: #E8F0FE;\n",
              "      --fill-color: #1967D2;\n",
              "      --hover-bg-color: #E2EBFA;\n",
              "      --hover-fill-color: #174EA6;\n",
              "      --disabled-fill-color: #AAA;\n",
              "      --disabled-bg-color: #DDD;\n",
              "  }\n",
              "\n",
              "  [theme=dark] .colab-df-quickchart {\n",
              "      --bg-color: #3B4455;\n",
              "      --fill-color: #D2E3FC;\n",
              "      --hover-bg-color: #434B5C;\n",
              "      --hover-fill-color: #FFFFFF;\n",
              "      --disabled-bg-color: #3B4455;\n",
              "      --disabled-fill-color: #666;\n",
              "  }\n",
              "\n",
              "  .colab-df-quickchart {\n",
              "    background-color: var(--bg-color);\n",
              "    border: none;\n",
              "    border-radius: 50%;\n",
              "    cursor: pointer;\n",
              "    display: none;\n",
              "    fill: var(--fill-color);\n",
              "    height: 32px;\n",
              "    padding: 0;\n",
              "    width: 32px;\n",
              "  }\n",
              "\n",
              "  .colab-df-quickchart:hover {\n",
              "    background-color: var(--hover-bg-color);\n",
              "    box-shadow: 0 1px 2px rgba(60, 64, 67, 0.3), 0 1px 3px 1px rgba(60, 64, 67, 0.15);\n",
              "    fill: var(--button-hover-fill-color);\n",
              "  }\n",
              "\n",
              "  .colab-df-quickchart-complete:disabled,\n",
              "  .colab-df-quickchart-complete:disabled:hover {\n",
              "    background-color: var(--disabled-bg-color);\n",
              "    fill: var(--disabled-fill-color);\n",
              "    box-shadow: none;\n",
              "  }\n",
              "\n",
              "  .colab-df-spinner {\n",
              "    border: 2px solid var(--fill-color);\n",
              "    border-color: transparent;\n",
              "    border-bottom-color: var(--fill-color);\n",
              "    animation:\n",
              "      spin 1s steps(1) infinite;\n",
              "  }\n",
              "\n",
              "  @keyframes spin {\n",
              "    0% {\n",
              "      border-color: transparent;\n",
              "      border-bottom-color: var(--fill-color);\n",
              "      border-left-color: var(--fill-color);\n",
              "    }\n",
              "    20% {\n",
              "      border-color: transparent;\n",
              "      border-left-color: var(--fill-color);\n",
              "      border-top-color: var(--fill-color);\n",
              "    }\n",
              "    30% {\n",
              "      border-color: transparent;\n",
              "      border-left-color: var(--fill-color);\n",
              "      border-top-color: var(--fill-color);\n",
              "      border-right-color: var(--fill-color);\n",
              "    }\n",
              "    40% {\n",
              "      border-color: transparent;\n",
              "      border-right-color: var(--fill-color);\n",
              "      border-top-color: var(--fill-color);\n",
              "    }\n",
              "    60% {\n",
              "      border-color: transparent;\n",
              "      border-right-color: var(--fill-color);\n",
              "    }\n",
              "    80% {\n",
              "      border-color: transparent;\n",
              "      border-right-color: var(--fill-color);\n",
              "      border-bottom-color: var(--fill-color);\n",
              "    }\n",
              "    90% {\n",
              "      border-color: transparent;\n",
              "      border-bottom-color: var(--fill-color);\n",
              "    }\n",
              "  }\n",
              "</style>\n",
              "\n",
              "  <script>\n",
              "    async function quickchart(key) {\n",
              "      const quickchartButtonEl =\n",
              "        document.querySelector('#' + key + ' button');\n",
              "      quickchartButtonEl.disabled = true;  // To prevent multiple clicks.\n",
              "      quickchartButtonEl.classList.add('colab-df-spinner');\n",
              "      try {\n",
              "        const charts = await google.colab.kernel.invokeFunction(\n",
              "            'suggestCharts', [key], {});\n",
              "      } catch (error) {\n",
              "        console.error('Error during call to suggestCharts:', error);\n",
              "      }\n",
              "      quickchartButtonEl.classList.remove('colab-df-spinner');\n",
              "      quickchartButtonEl.classList.add('colab-df-quickchart-complete');\n",
              "    }\n",
              "    (() => {\n",
              "      let quickchartButtonEl =\n",
              "        document.querySelector('#df-2f01cb7c-fbe2-4abc-b7de-23934ea3d155 button');\n",
              "      quickchartButtonEl.style.display =\n",
              "        google.colab.kernel.accessAllowed ? 'block' : 'none';\n",
              "    })();\n",
              "  </script>\n",
              "</div>\n",
              "\n",
              "  <div id=\"id_e90a0334-fc96-4304-9165-68340b003138\">\n",
              "    <style>\n",
              "      .colab-df-generate {\n",
              "        background-color: #E8F0FE;\n",
              "        border: none;\n",
              "        border-radius: 50%;\n",
              "        cursor: pointer;\n",
              "        display: none;\n",
              "        fill: #1967D2;\n",
              "        height: 32px;\n",
              "        padding: 0 0 0 0;\n",
              "        width: 32px;\n",
              "      }\n",
              "\n",
              "      .colab-df-generate:hover {\n",
              "        background-color: #E2EBFA;\n",
              "        box-shadow: 0px 1px 2px rgba(60, 64, 67, 0.3), 0px 1px 3px 1px rgba(60, 64, 67, 0.15);\n",
              "        fill: #174EA6;\n",
              "      }\n",
              "\n",
              "      [theme=dark] .colab-df-generate {\n",
              "        background-color: #3B4455;\n",
              "        fill: #D2E3FC;\n",
              "      }\n",
              "\n",
              "      [theme=dark] .colab-df-generate:hover {\n",
              "        background-color: #434B5C;\n",
              "        box-shadow: 0px 1px 3px 1px rgba(0, 0, 0, 0.15);\n",
              "        filter: drop-shadow(0px 1px 2px rgba(0, 0, 0, 0.3));\n",
              "        fill: #FFFFFF;\n",
              "      }\n",
              "    </style>\n",
              "    <button class=\"colab-df-generate\" onclick=\"generateWithVariable('experiment_tasks')\"\n",
              "            title=\"Generate code using this dataframe.\"\n",
              "            style=\"display:none;\">\n",
              "\n",
              "  <svg xmlns=\"http://www.w3.org/2000/svg\" height=\"24px\"viewBox=\"0 0 24 24\"\n",
              "       width=\"24px\">\n",
              "    <path d=\"M7,19H8.4L18.45,9,17,7.55,7,17.6ZM5,21V16.75L18.45,3.32a2,2,0,0,1,2.83,0l1.4,1.43a1.91,1.91,0,0,1,.58,1.4,1.91,1.91,0,0,1-.58,1.4L9.25,21ZM18.45,9,17,7.55Zm-12,3A5.31,5.31,0,0,0,4.9,8.1,5.31,5.31,0,0,0,1,6.5,5.31,5.31,0,0,0,4.9,4.9,5.31,5.31,0,0,0,6.5,1,5.31,5.31,0,0,0,8.1,4.9,5.31,5.31,0,0,0,12,6.5,5.46,5.46,0,0,0,6.5,12Z\"/>\n",
              "  </svg>\n",
              "    </button>\n",
              "    <script>\n",
              "      (() => {\n",
              "      const buttonEl =\n",
              "        document.querySelector('#id_e90a0334-fc96-4304-9165-68340b003138 button.colab-df-generate');\n",
              "      buttonEl.style.display =\n",
              "        google.colab.kernel.accessAllowed ? 'block' : 'none';\n",
              "\n",
              "      buttonEl.onclick = () => {\n",
              "        google.colab.notebook.generateWithVariable('experiment_tasks');\n",
              "      }\n",
              "      })();\n",
              "    </script>\n",
              "  </div>\n",
              "\n",
              "    </div>\n",
              "  </div>\n"
            ],
            "application/vnd.google.colaboratory.intrinsic+json": {
              "type": "dataframe",
              "variable_name": "experiment_tasks",
              "summary": "{\n  \"name\": \"experiment_tasks\",\n  \"rows\": 500,\n  \"fields\": [\n    {\n      \"column\": \"task-one-score\",\n      \"properties\": {\n        \"dtype\": \"number\",\n        \"std\": 9.949906440964622,\n        \"min\": -31.091773045689656,\n        \"max\": 31.9344536619868,\n        \"samples\": [\n          10.3272107936341,\n          -10.209158165564254,\n          -13.785162141196677\n        ],\n        \"num_unique_values\": 500,\n        \"semantic_type\": \"\",\n        \"description\": \"\"\n      }\n    },\n    {\n      \"column\": \"task-two-score\",\n      \"properties\": {\n        \"dtype\": \"number\",\n        \"std\": 19.255217873515377,\n        \"min\": -56.1343406452084,\n        \"max\": 70.08369354144473,\n        \"samples\": [\n          14.388665219073545,\n          -11.423351209368274,\n          34.722501784215055\n        ],\n        \"num_unique_values\": 500,\n        \"semantic_type\": \"\",\n        \"description\": \"\"\n      }\n    }\n  ]\n}"
            }
          },
          "metadata": {},
          "execution_count": 25
        }
      ]
    },
    {
      "cell_type": "code",
      "source": [
        "# first create a box plot of the scores in task 1 and task 2\n",
        "plt.boxplot(experiment_tasks)\n",
        "plt.show()"
      ],
      "metadata": {
        "colab": {
          "base_uri": "https://localhost:8080/",
          "height": 430
        },
        "id": "OCiugMKPEHdX",
        "outputId": "419fcf44-f2f8-46e7-f612-936176fc9799"
      },
      "execution_count": 27,
      "outputs": [
        {
          "output_type": "display_data",
          "data": {
            "text/plain": [
              "<Figure size 640x480 with 1 Axes>"
            ],
            "image/png": "[encoded data removed]"
          },
          "metadata": {}
        }
      ]
    },
    {
      "cell_type": "code",
      "execution_count": 33,
      "metadata": {
        "deletable": true,
        "editable": true,
        "colab": {
          "base_uri": "https://localhost:8080/"
        },
        "id": "Ajfd7_2_Pkod",
        "outputId": "8e226d37-f184-4a79-a8b8-546c2e89dfac"
      },
      "outputs": [
        {
          "output_type": "execute_result",
          "data": {
            "text/plain": [
              "PearsonRResult(statistic=0.08042944202446903, pvalue=0.07235664131979835)"
            ]
          },
          "metadata": {},
          "execution_count": 33
        }
      ],
      "source": [
        "# compute the correlation between the two (using Pearson's  r ) and check whether it is significant\n",
        "import scipy.stats\n",
        "\n",
        "corr = scipy.stats.pearsonr(experiment['task-one-score'], experiment['task-two-score'])\n",
        "corr # correlation의 p-value가 0.05보다 크기 때문에 유의하지 않다(not significant), H0를 기각하지 못한다. 둘 사이에는 강한 상관관계가 없다."
      ]
    },
    {
      "cell_type": "markdown",
      "metadata": {
        "deletable": true,
        "editable": true,
        "id": "lMApigZ7Pkoe"
      },
      "source": [
        "> **4.** When your colleague hears about your results, he is a bit disappointed. However, he already has a new hypothesis: maybe chocolate is acting as a promoter somehow and the amount of chocolate consumed has some effect? Create some plots and hypothesis tests to assess this new hypothesis."
      ]
    },
    {
      "cell_type": "code",
      "source": [
        "experiment_amount = experiment[['amount-chocolate', 'task-two-score']]\n",
        "experiment_amount"
      ],
      "metadata": {
        "colab": {
          "base_uri": "https://localhost:8080/",
          "height": 423
        },
        "outputId": "8ff7b008-d74c-4376-e224-951446b6110d",
        "id": "hQdjiSSfHMp8"
      },
      "execution_count": 29,
      "outputs": [
        {
          "output_type": "execute_result",
          "data": {
            "text/plain": [
              "     amount-chocolate  task-two-score\n",
              "0                90.0        1.591614\n",
              "1               110.0      -12.771330\n",
              "2               140.0      -22.933690\n",
              "3               110.0       -0.063139\n",
              "4                80.0        1.294793\n",
              "..                ...             ...\n",
              "495              60.0       11.540418\n",
              "496             120.0      -16.495185\n",
              "497             120.0       20.495022\n",
              "498              60.0      -27.105230\n",
              "499              60.0       -7.270101\n",
              "\n",
              "[500 rows x 2 columns]"
            ],
            "text/html": [
              "\n",
              "  <div id=\"df-c0cfd8bc-c60b-4919-90fd-b7e82c5e91ef\" class=\"colab-df-container\">\n",
              "    <div>\n",
              "<style scoped>\n",
              "    .dataframe tbody tr th:only-of-type {\n",
              "        vertical-align: middle;\n",
              "    }\n",
              "\n",
              "    .dataframe tbody tr th {\n",
              "        vertical-align: top;\n",
              "    }\n",
              "\n",
              "    .dataframe thead th {\n",
              "        text-align: right;\n",
              "    }\n",
              "</style>\n",
              "<table border=\"1\" class=\"dataframe\">\n",
              "  <thead>\n",
              "    <tr style=\"text-align: right;\">\n",
              "      <th></th>\n",
              "      <th>amount-chocolate</th>\n",
              "      <th>task-two-score</th>\n",
              "    </tr>\n",
              "  </thead>\n",
              "  <tbody>\n",
              "    <tr>\n",
              "      <th>0</th>\n",
              "      <td>90.0</td>\n",
              "      <td>1.591614</td>\n",
              "    </tr>\n",
              "    <tr>\n",
              "      <th>1</th>\n",
              "      <td>110.0</td>\n",
              "      <td>-12.771330</td>\n",
              "    </tr>\n",
              "    <tr>\n",
              "      <th>2</th>\n",
              "      <td>140.0</td>\n",
              "      <td>-22.933690</td>\n",
              "    </tr>\n",
              "    <tr>\n",
              "      <th>3</th>\n",
              "      <td>110.0</td>\n",
              "      <td>-0.063139</td>\n",
              "    </tr>\n",
              "    <tr>\n",
              "      <th>4</th>\n",
              "      <td>80.0</td>\n",
              "      <td>1.294793</td>\n",
              "    </tr>\n",
              "    <tr>\n",
              "      <th>...</th>\n",
              "      <td>...</td>\n",
              "      <td>...</td>\n",
              "    </tr>\n",
              "    <tr>\n",
              "      <th>495</th>\n",
              "      <td>60.0</td>\n",
              "      <td>11.540418</td>\n",
              "    </tr>\n",
              "    <tr>\n",
              "      <th>496</th>\n",
              "      <td>120.0</td>\n",
              "      <td>-16.495185</td>\n",
              "    </tr>\n",
              "    <tr>\n",
              "      <th>497</th>\n",
              "      <td>120.0</td>\n",
              "      <td>20.495022</td>\n",
              "    </tr>\n",
              "    <tr>\n",
              "      <th>498</th>\n",
              "      <td>60.0</td>\n",
              "      <td>-27.105230</td>\n",
              "    </tr>\n",
              "    <tr>\n",
              "      <th>499</th>\n",
              "      <td>60.0</td>\n",
              "      <td>-7.270101</td>\n",
              "    </tr>\n",
              "  </tbody>\n",
              "</table>\n",
              "<p>500 rows × 2 columns</p>\n",
              "</div>\n",
              "    <div class=\"colab-df-buttons\">\n",
              "\n",
              "  <div class=\"colab-df-container\">\n",
              "    <button class=\"colab-df-convert\" onclick=\"convertToInteractive('df-c0cfd8bc-c60b-4919-90fd-b7e82c5e91ef')\"\n",
              "            title=\"Convert this dataframe to an interactive table.\"\n",
              "            style=\"display:none;\">\n",
              "\n",
              "  <svg xmlns=\"http://www.w3.org/2000/svg\" height=\"24px\" viewBox=\"0 -960 960 960\">\n",
              "    <path d=\"M120-120v-720h720v720H120Zm60-500h600v-160H180v160Zm220 220h160v-160H400v160Zm0 220h160v-160H400v160ZM180-400h160v-160H180v160Zm440 0h160v-160H620v160ZM180-180h160v-160H180v160Zm440 0h160v-160H620v160Z\"/>\n",
              "  </svg>\n",
              "    </button>\n",
              "\n",
              "  <style>\n",
              "    .colab-df-container {\n",
              "      display:flex;\n",
              "      gap: 12px;\n",
              "    }\n",
              "\n",
              "    .colab-df-convert {\n",
              "      background-color: #E8F0FE;\n",
              "      border: none;\n",
              "      border-radius: 50%;\n",
              "      cursor: pointer;\n",
              "      display: none;\n",
              "      fill: #1967D2;\n",
              "      height: 32px;\n",
              "      padding: 0 0 0 0;\n",
              "      width: 32px;\n",
              "    }\n",
              "\n",
              "    .colab-df-convert:hover {\n",
              "      background-color: #E2EBFA;\n",
              "      box-shadow: 0px 1px 2px rgba(60, 64, 67, 0.3), 0px 1px 3px 1px rgba(60, 64, 67, 0.15);\n",
              "      fill: #174EA6;\n",
              "    }\n",
              "\n",
              "    .colab-df-buttons div {\n",
              "      margin-bottom: 4px;\n",
              "    }\n",
              "\n",
              "    [theme=dark] .colab-df-convert {\n",
              "      background-color: #3B4455;\n",
              "      fill: #D2E3FC;\n",
              "    }\n",
              "\n",
              "    [theme=dark] .colab-df-convert:hover {\n",
              "      background-color: #434B5C;\n",
              "      box-shadow: 0px 1px 3px 1px rgba(0, 0, 0, 0.15);\n",
              "      filter: drop-shadow(0px 1px 2px rgba(0, 0, 0, 0.3));\n",
              "      fill: #FFFFFF;\n",
              "    }\n",
              "  </style>\n",
              "\n",
              "    <script>\n",
              "      const buttonEl =\n",
              "        document.querySelector('#df-c0cfd8bc-c60b-4919-90fd-b7e82c5e91ef button.colab-df-convert');\n",
              "      buttonEl.style.display =\n",
              "        google.colab.kernel.accessAllowed ? 'block' : 'none';\n",
              "\n",
              "      async function convertToInteractive(key) {\n",
              "        const element = document.querySelector('#df-c0cfd8bc-c60b-4919-90fd-b7e82c5e91ef');\n",
              "        const dataTable =\n",
              "          await google.colab.kernel.invokeFunction('convertToInteractive',\n",
              "                                                    [key], {});\n",
              "        if (!dataTable) return;\n",
              "\n",
              "        const docLinkHtml = 'Like what you see? Visit the ' +\n",
              "          '<a target=\"_blank\" href=https://colab.research.google.com/notebooks/data_table.ipynb>data table notebook</a>'\n",
              "          + ' to learn more about interactive tables.';\n",
              "        element.innerHTML = '';\n",
              "        dataTable['output_type'] = 'display_data';\n",
              "        await google.colab.output.renderOutput(dataTable, element);\n",
              "        const docLink = document.createElement('div');\n",
              "        docLink.innerHTML = docLinkHtml;\n",
              "        element.appendChild(docLink);\n",
              "      }\n",
              "    </script>\n",
              "  </div>\n",
              "\n",
              "\n",
              "<div id=\"df-70292a86-4cb2-492b-89c4-e814e72df92a\">\n",
              "  <button class=\"colab-df-quickchart\" onclick=\"quickchart('df-70292a86-4cb2-492b-89c4-e814e72df92a')\"\n",
              "            title=\"Suggest charts\"\n",
              "            style=\"display:none;\">\n",
              "\n",
              "<svg xmlns=\"http://www.w3.org/2000/svg\" height=\"24px\"viewBox=\"0 0 24 24\"\n",
              "     width=\"24px\">\n",
              "    <g>\n",
              "        <path d=\"M19 3H5c-1.1 0-2 .9-2 2v14c0 1.1.9 2 2 2h14c1.1 0 2-.9 2-2V5c0-1.1-.9-2-2-2zM9 17H7v-7h2v7zm4 0h-2V7h2v10zm4 0h-2v-4h2v4z\"/>\n",
              "    </g>\n",
              "</svg>\n",
              "  </button>\n",
              "\n",
              "<style>\n",
              "  .colab-df-quickchart {\n",
              "      --bg-color: #E8F0FE;\n",
              "      --fill-color: #1967D2;\n",
              "      --hover-bg-color: #E2EBFA;\n",
              "      --hover-fill-color: #174EA6;\n",
              "      --disabled-fill-color: #AAA;\n",
              "      --disabled-bg-color: #DDD;\n",
              "  }\n",
              "\n",
              "  [theme=dark] .colab-df-quickchart {\n",
              "      --bg-color: #3B4455;\n",
              "      --fill-color: #D2E3FC;\n",
              "      --hover-bg-color: #434B5C;\n",
              "      --hover-fill-color: #FFFFFF;\n",
              "      --disabled-bg-color: #3B4455;\n",
              "      --disabled-fill-color: #666;\n",
              "  }\n",
              "\n",
              "  .colab-df-quickchart {\n",
              "    background-color: var(--bg-color);\n",
              "    border: none;\n",
              "    border-radius: 50%;\n",
              "    cursor: pointer;\n",
              "    display: none;\n",
              "    fill: var(--fill-color);\n",
              "    height: 32px;\n",
              "    padding: 0;\n",
              "    width: 32px;\n",
              "  }\n",
              "\n",
              "  .colab-df-quickchart:hover {\n",
              "    background-color: var(--hover-bg-color);\n",
              "    box-shadow: 0 1px 2px rgba(60, 64, 67, 0.3), 0 1px 3px 1px rgba(60, 64, 67, 0.15);\n",
              "    fill: var(--button-hover-fill-color);\n",
              "  }\n",
              "\n",
              "  .colab-df-quickchart-complete:disabled,\n",
              "  .colab-df-quickchart-complete:disabled:hover {\n",
              "    background-color: var(--disabled-bg-color);\n",
              "    fill: var(--disabled-fill-color);\n",
              "    box-shadow: none;\n",
              "  }\n",
              "\n",
              "  .colab-df-spinner {\n",
              "    border: 2px solid var(--fill-color);\n",
              "    border-color: transparent;\n",
              "    border-bottom-color: var(--fill-color);\n",
              "    animation:\n",
              "      spin 1s steps(1) infinite;\n",
              "  }\n",
              "\n",
              "  @keyframes spin {\n",
              "    0% {\n",
              "      border-color: transparent;\n",
              "      border-bottom-color: var(--fill-color);\n",
              "      border-left-color: var(--fill-color);\n",
              "    }\n",
              "    20% {\n",
              "      border-color: transparent;\n",
              "      border-left-color: var(--fill-color);\n",
              "      border-top-color: var(--fill-color);\n",
              "    }\n",
              "    30% {\n",
              "      border-color: transparent;\n",
              "      border-left-color: var(--fill-color);\n",
              "      border-top-color: var(--fill-color);\n",
              "      border-right-color: var(--fill-color);\n",
              "    }\n",
              "    40% {\n",
              "      border-color: transparent;\n",
              "      border-right-color: var(--fill-color);\n",
              "      border-top-color: var(--fill-color);\n",
              "    }\n",
              "    60% {\n",
              "      border-color: transparent;\n",
              "      border-right-color: var(--fill-color);\n",
              "    }\n",
              "    80% {\n",
              "      border-color: transparent;\n",
              "      border-right-color: var(--fill-color);\n",
              "      border-bottom-color: var(--fill-color);\n",
              "    }\n",
              "    90% {\n",
              "      border-color: transparent;\n",
              "      border-bottom-color: var(--fill-color);\n",
              "    }\n",
              "  }\n",
              "</style>\n",
              "\n",
              "  <script>\n",
              "    async function quickchart(key) {\n",
              "      const quickchartButtonEl =\n",
              "        document.querySelector('#' + key + ' button');\n",
              "      quickchartButtonEl.disabled = true;  // To prevent multiple clicks.\n",
              "      quickchartButtonEl.classList.add('colab-df-spinner');\n",
              "      try {\n",
              "        const charts = await google.colab.kernel.invokeFunction(\n",
              "            'suggestCharts', [key], {});\n",
              "      } catch (error) {\n",
              "        console.error('Error during call to suggestCharts:', error);\n",
              "      }\n",
              "      quickchartButtonEl.classList.remove('colab-df-spinner');\n",
              "      quickchartButtonEl.classList.add('colab-df-quickchart-complete');\n",
              "    }\n",
              "    (() => {\n",
              "      let quickchartButtonEl =\n",
              "        document.querySelector('#df-70292a86-4cb2-492b-89c4-e814e72df92a button');\n",
              "      quickchartButtonEl.style.display =\n",
              "        google.colab.kernel.accessAllowed ? 'block' : 'none';\n",
              "    })();\n",
              "  </script>\n",
              "</div>\n",
              "\n",
              "  <div id=\"id_484b342a-4974-40d6-9b32-4219360610ff\">\n",
              "    <style>\n",
              "      .colab-df-generate {\n",
              "        background-color: #E8F0FE;\n",
              "        border: none;\n",
              "        border-radius: 50%;\n",
              "        cursor: pointer;\n",
              "        display: none;\n",
              "        fill: #1967D2;\n",
              "        height: 32px;\n",
              "        padding: 0 0 0 0;\n",
              "        width: 32px;\n",
              "      }\n",
              "\n",
              "      .colab-df-generate:hover {\n",
              "        background-color: #E2EBFA;\n",
              "        box-shadow: 0px 1px 2px rgba(60, 64, 67, 0.3), 0px 1px 3px 1px rgba(60, 64, 67, 0.15);\n",
              "        fill: #174EA6;\n",
              "      }\n",
              "\n",
              "      [theme=dark] .colab-df-generate {\n",
              "        background-color: #3B4455;\n",
              "        fill: #D2E3FC;\n",
              "      }\n",
              "\n",
              "      [theme=dark] .colab-df-generate:hover {\n",
              "        background-color: #434B5C;\n",
              "        box-shadow: 0px 1px 3px 1px rgba(0, 0, 0, 0.15);\n",
              "        filter: drop-shadow(0px 1px 2px rgba(0, 0, 0, 0.3));\n",
              "        fill: #FFFFFF;\n",
              "      }\n",
              "    </style>\n",
              "    <button class=\"colab-df-generate\" onclick=\"generateWithVariable('experiment_amount')\"\n",
              "            title=\"Generate code using this dataframe.\"\n",
              "            style=\"display:none;\">\n",
              "\n",
              "  <svg xmlns=\"http://www.w3.org/2000/svg\" height=\"24px\"viewBox=\"0 0 24 24\"\n",
              "       width=\"24px\">\n",
              "    <path d=\"M7,19H8.4L18.45,9,17,7.55,7,17.6ZM5,21V16.75L18.45,3.32a2,2,0,0,1,2.83,0l1.4,1.43a1.91,1.91,0,0,1,.58,1.4,1.91,1.91,0,0,1-.58,1.4L9.25,21ZM18.45,9,17,7.55Zm-12,3A5.31,5.31,0,0,0,4.9,8.1,5.31,5.31,0,0,0,1,6.5,5.31,5.31,0,0,0,4.9,4.9,5.31,5.31,0,0,0,6.5,1,5.31,5.31,0,0,0,8.1,4.9,5.31,5.31,0,0,0,12,6.5,5.46,5.46,0,0,0,6.5,12Z\"/>\n",
              "  </svg>\n",
              "    </button>\n",
              "    <script>\n",
              "      (() => {\n",
              "      const buttonEl =\n",
              "        document.querySelector('#id_484b342a-4974-40d6-9b32-4219360610ff button.colab-df-generate');\n",
              "      buttonEl.style.display =\n",
              "        google.colab.kernel.accessAllowed ? 'block' : 'none';\n",
              "\n",
              "      buttonEl.onclick = () => {\n",
              "        google.colab.notebook.generateWithVariable('experiment_amount');\n",
              "      }\n",
              "      })();\n",
              "    </script>\n",
              "  </div>\n",
              "\n",
              "    </div>\n",
              "  </div>\n"
            ],
            "application/vnd.google.colaboratory.intrinsic+json": {
              "type": "dataframe",
              "variable_name": "experiment_amount",
              "summary": "{\n  \"name\": \"experiment_amount\",\n  \"rows\": 500,\n  \"fields\": [\n    {\n      \"column\": \"amount-chocolate\",\n      \"properties\": {\n        \"dtype\": \"number\",\n        \"std\": 30.23935908175553,\n        \"min\": 10.0,\n        \"max\": 190.0,\n        \"samples\": [\n          90.0,\n          110.0,\n          70.0\n        ],\n        \"num_unique_values\": 18,\n        \"semantic_type\": \"\",\n        \"description\": \"\"\n      }\n    },\n    {\n      \"column\": \"task-two-score\",\n      \"properties\": {\n        \"dtype\": \"number\",\n        \"std\": 19.255217873515377,\n        \"min\": -56.1343406452084,\n        \"max\": 70.08369354144473,\n        \"samples\": [\n          14.388665219073545,\n          -11.423351209368274,\n          34.722501784215055\n        ],\n        \"num_unique_values\": 500,\n        \"semantic_type\": \"\",\n        \"description\": \"\"\n      }\n    }\n  ]\n}"
            }
          },
          "metadata": {},
          "execution_count": 29
        }
      ]
    },
    {
      "cell_type": "code",
      "source": [
        "# Create some plots\n",
        "sns.lmplot(x = \"amount-chocolate\", y = \"task-two-score\", data = experiment)"
      ],
      "metadata": {
        "colab": {
          "base_uri": "https://localhost:8080/",
          "height": 524
        },
        "id": "IHaTWxCSHdxO",
        "outputId": "36c7225b-0c8c-4d70-8b17-402c42c63300"
      },
      "execution_count": 30,
      "outputs": [
        {
          "output_type": "execute_result",
          "data": {
            "text/plain": [
              "<seaborn.axisgrid.FacetGrid at 0x78bc32dcac80>"
            ]
          },
          "metadata": {},
          "execution_count": 30
        },
        {
          "output_type": "display_data",
          "data": {
            "text/plain": [
              "<Figure size 500x500 with 1 Axes>"
            ],
            "image/png": "[encoded data removed]"
          },
          "metadata": {}
        }
      ]
    },
    {
      "cell_type": "code",
      "execution_count": 34,
      "metadata": {
        "deletable": true,
        "editable": true,
        "colab": {
          "base_uri": "https://localhost:8080/"
        },
        "outputId": "93e619b7-da1d-4723-b4cd-cb8ce9e721a3",
        "id": "pWBsPoIYHMqf"
      },
      "outputs": [
        {
          "output_type": "execute_result",
          "data": {
            "text/plain": [
              "PearsonRResult(statistic=-0.0026076569115800045, pvalue=0.9536186813182244)"
            ]
          },
          "metadata": {},
          "execution_count": 34
        }
      ],
      "source": [
        "# compute the correlation between the two (using Pearson's  r ) and check whether it is significant\n",
        "# hypothesis tests\n",
        "corr_2 = scipy.stats.pearsonr(experiment['amount-chocolate'], experiment['task-two-score'])\n",
        "corr_2 # correlation의 p-value가 1에 가깝기 때문에 유의하지 않다(not significant), H0를 기각하지 못한다. 둘 사이에는 상관관계가 없다."
      ]
    },
    {
      "cell_type": "markdown",
      "metadata": {
        "deletable": true,
        "editable": true,
        "id": "qv4p7jIJPkoe"
      },
      "source": [
        "> **5.** After you come back with your results, your colleague has one last idea: Maybe you need to eat more than some critical amount of chocolate (which depends on your body mass index) in order for there to be a correlation between the two tasks? He guesses that you need to eat at least six times your BMI in chocolate in order for the correlation to show up. You think your colleague is crazy, but go ahead an test his claim. What do you find? Again, produce some figures, compute correlations and test for significance."
      ]
    },
    {
      "cell_type": "code",
      "execution_count": 35,
      "metadata": {
        "deletable": true,
        "editable": true,
        "colab": {
          "base_uri": "https://localhost:8080/",
          "height": 206
        },
        "id": "OyCllCeCPkof",
        "outputId": "427b7260-5643-4002-9759-aad1455166f6"
      },
      "outputs": [
        {
          "output_type": "execute_result",
          "data": {
            "text/plain": [
              "     height     weight  amount-chocolate  task-one-score  task-two-score  \\\n",
              "0  1.726267  68.259009              90.0        6.905956        1.591614   \n",
              "1  1.708592  75.907970             110.0        3.309128      -12.771330   \n",
              "2  1.794065  72.812060             140.0      -15.734299      -22.933690   \n",
              "3  1.688505  78.181684             110.0       -3.341792       -0.063139   \n",
              "4  1.759589  70.716645              80.0       13.923138        1.294793   \n",
              "\n",
              "         bmi  \n",
              "0  22.905729  \n",
              "1  26.002241  \n",
              "2  22.621791  \n",
              "3  27.422063  \n",
              "4  22.840152  "
            ],
            "text/html": [
              "\n",
              "  <div id=\"df-a8697f4d-fc95-4fb6-99ad-650160378c57\" class=\"colab-df-container\">\n",
              "    <div>\n",
              "<style scoped>\n",
              "    .dataframe tbody tr th:only-of-type {\n",
              "        vertical-align: middle;\n",
              "    }\n",
              "\n",
              "    .dataframe tbody tr th {\n",
              "        vertical-align: top;\n",
              "    }\n",
              "\n",
              "    .dataframe thead th {\n",
              "        text-align: right;\n",
              "    }\n",
              "</style>\n",
              "<table border=\"1\" class=\"dataframe\">\n",
              "  <thead>\n",
              "    <tr style=\"text-align: right;\">\n",
              "      <th></th>\n",
              "      <th>height</th>\n",
              "      <th>weight</th>\n",
              "      <th>amount-chocolate</th>\n",
              "      <th>task-one-score</th>\n",
              "      <th>task-two-score</th>\n",
              "      <th>bmi</th>\n",
              "    </tr>\n",
              "  </thead>\n",
              "  <tbody>\n",
              "    <tr>\n",
              "      <th>0</th>\n",
              "      <td>1.726267</td>\n",
              "      <td>68.259009</td>\n",
              "      <td>90.0</td>\n",
              "      <td>6.905956</td>\n",
              "      <td>1.591614</td>\n",
              "      <td>22.905729</td>\n",
              "    </tr>\n",
              "    <tr>\n",
              "      <th>1</th>\n",
              "      <td>1.708592</td>\n",
              "      <td>75.907970</td>\n",
              "      <td>110.0</td>\n",
              "      <td>3.309128</td>\n",
              "      <td>-12.771330</td>\n",
              "      <td>26.002241</td>\n",
              "    </tr>\n",
              "    <tr>\n",
              "      <th>2</th>\n",
              "      <td>1.794065</td>\n",
              "      <td>72.812060</td>\n",
              "      <td>140.0</td>\n",
              "      <td>-15.734299</td>\n",
              "      <td>-22.933690</td>\n",
              "      <td>22.621791</td>\n",
              "    </tr>\n",
              "    <tr>\n",
              "      <th>3</th>\n",
              "      <td>1.688505</td>\n",
              "      <td>78.181684</td>\n",
              "      <td>110.0</td>\n",
              "      <td>-3.341792</td>\n",
              "      <td>-0.063139</td>\n",
              "      <td>27.422063</td>\n",
              "    </tr>\n",
              "    <tr>\n",
              "      <th>4</th>\n",
              "      <td>1.759589</td>\n",
              "      <td>70.716645</td>\n",
              "      <td>80.0</td>\n",
              "      <td>13.923138</td>\n",
              "      <td>1.294793</td>\n",
              "      <td>22.840152</td>\n",
              "    </tr>\n",
              "  </tbody>\n",
              "</table>\n",
              "</div>\n",
              "    <div class=\"colab-df-buttons\">\n",
              "\n",
              "  <div class=\"colab-df-container\">\n",
              "    <button class=\"colab-df-convert\" onclick=\"convertToInteractive('df-a8697f4d-fc95-4fb6-99ad-650160378c57')\"\n",
              "            title=\"Convert this dataframe to an interactive table.\"\n",
              "            style=\"display:none;\">\n",
              "\n",
              "  <svg xmlns=\"http://www.w3.org/2000/svg\" height=\"24px\" viewBox=\"0 -960 960 960\">\n",
              "    <path d=\"M120-120v-720h720v720H120Zm60-500h600v-160H180v160Zm220 220h160v-160H400v160Zm0 220h160v-160H400v160ZM180-400h160v-160H180v160Zm440 0h160v-160H620v160ZM180-180h160v-160H180v160Zm440 0h160v-160H620v160Z\"/>\n",
              "  </svg>\n",
              "    </button>\n",
              "\n",
              "  <style>\n",
              "    .colab-df-container {\n",
              "      display:flex;\n",
              "      gap: 12px;\n",
              "    }\n",
              "\n",
              "    .colab-df-convert {\n",
              "      background-color: #E8F0FE;\n",
              "      border: none;\n",
              "      border-radius: 50%;\n",
              "      cursor: pointer;\n",
              "      display: none;\n",
              "      fill: #1967D2;\n",
              "      height: 32px;\n",
              "      padding: 0 0 0 0;\n",
              "      width: 32px;\n",
              "    }\n",
              "\n",
              "    .colab-df-convert:hover {\n",
              "      background-color: #E2EBFA;\n",
              "      box-shadow: 0px 1px 2px rgba(60, 64, 67, 0.3), 0px 1px 3px 1px rgba(60, 64, 67, 0.15);\n",
              "      fill: #174EA6;\n",
              "    }\n",
              "\n",
              "    .colab-df-buttons div {\n",
              "      margin-bottom: 4px;\n",
              "    }\n",
              "\n",
              "    [theme=dark] .colab-df-convert {\n",
              "      background-color: #3B4455;\n",
              "      fill: #D2E3FC;\n",
              "    }\n",
              "\n",
              "    [theme=dark] .colab-df-convert:hover {\n",
              "      background-color: #434B5C;\n",
              "      box-shadow: 0px 1px 3px 1px rgba(0, 0, 0, 0.15);\n",
              "      filter: drop-shadow(0px 1px 2px rgba(0, 0, 0, 0.3));\n",
              "      fill: #FFFFFF;\n",
              "    }\n",
              "  </style>\n",
              "\n",
              "    <script>\n",
              "      const buttonEl =\n",
              "        document.querySelector('#df-a8697f4d-fc95-4fb6-99ad-650160378c57 button.colab-df-convert');\n",
              "      buttonEl.style.display =\n",
              "        google.colab.kernel.accessAllowed ? 'block' : 'none';\n",
              "\n",
              "      async function convertToInteractive(key) {\n",
              "        const element = document.querySelector('#df-a8697f4d-fc95-4fb6-99ad-650160378c57');\n",
              "        const dataTable =\n",
              "          await google.colab.kernel.invokeFunction('convertToInteractive',\n",
              "                                                    [key], {});\n",
              "        if (!dataTable) return;\n",
              "\n",
              "        const docLinkHtml = 'Like what you see? Visit the ' +\n",
              "          '<a target=\"_blank\" href=https://colab.research.google.com/notebooks/data_table.ipynb>data table notebook</a>'\n",
              "          + ' to learn more about interactive tables.';\n",
              "        element.innerHTML = '';\n",
              "        dataTable['output_type'] = 'display_data';\n",
              "        await google.colab.output.renderOutput(dataTable, element);\n",
              "        const docLink = document.createElement('div');\n",
              "        docLink.innerHTML = docLinkHtml;\n",
              "        element.appendChild(docLink);\n",
              "      }\n",
              "    </script>\n",
              "  </div>\n",
              "\n",
              "\n",
              "<div id=\"df-3d8ba327-b626-4bc3-81b3-ac2df9f912a7\">\n",
              "  <button class=\"colab-df-quickchart\" onclick=\"quickchart('df-3d8ba327-b626-4bc3-81b3-ac2df9f912a7')\"\n",
              "            title=\"Suggest charts\"\n",
              "            style=\"display:none;\">\n",
              "\n",
              "<svg xmlns=\"http://www.w3.org/2000/svg\" height=\"24px\"viewBox=\"0 0 24 24\"\n",
              "     width=\"24px\">\n",
              "    <g>\n",
              "        <path d=\"M19 3H5c-1.1 0-2 .9-2 2v14c0 1.1.9 2 2 2h14c1.1 0 2-.9 2-2V5c0-1.1-.9-2-2-2zM9 17H7v-7h2v7zm4 0h-2V7h2v10zm4 0h-2v-4h2v4z\"/>\n",
              "    </g>\n",
              "</svg>\n",
              "  </button>\n",
              "\n",
              "<style>\n",
              "  .colab-df-quickchart {\n",
              "      --bg-color: #E8F0FE;\n",
              "      --fill-color: #1967D2;\n",
              "      --hover-bg-color: #E2EBFA;\n",
              "      --hover-fill-color: #174EA6;\n",
              "      --disabled-fill-color: #AAA;\n",
              "      --disabled-bg-color: #DDD;\n",
              "  }\n",
              "\n",
              "  [theme=dark] .colab-df-quickchart {\n",
              "      --bg-color: #3B4455;\n",
              "      --fill-color: #D2E3FC;\n",
              "      --hover-bg-color: #434B5C;\n",
              "      --hover-fill-color: #FFFFFF;\n",
              "      --disabled-bg-color: #3B4455;\n",
              "      --disabled-fill-color: #666;\n",
              "  }\n",
              "\n",
              "  .colab-df-quickchart {\n",
              "    background-color: var(--bg-color);\n",
              "    border: none;\n",
              "    border-radius: 50%;\n",
              "    cursor: pointer;\n",
              "    display: none;\n",
              "    fill: var(--fill-color);\n",
              "    height: 32px;\n",
              "    padding: 0;\n",
              "    width: 32px;\n",
              "  }\n",
              "\n",
              "  .colab-df-quickchart:hover {\n",
              "    background-color: var(--hover-bg-color);\n",
              "    box-shadow: 0 1px 2px rgba(60, 64, 67, 0.3), 0 1px 3px 1px rgba(60, 64, 67, 0.15);\n",
              "    fill: var(--button-hover-fill-color);\n",
              "  }\n",
              "\n",
              "  .colab-df-quickchart-complete:disabled,\n",
              "  .colab-df-quickchart-complete:disabled:hover {\n",
              "    background-color: var(--disabled-bg-color);\n",
              "    fill: var(--disabled-fill-color);\n",
              "    box-shadow: none;\n",
              "  }\n",
              "\n",
              "  .colab-df-spinner {\n",
              "    border: 2px solid var(--fill-color);\n",
              "    border-color: transparent;\n",
              "    border-bottom-color: var(--fill-color);\n",
              "    animation:\n",
              "      spin 1s steps(1) infinite;\n",
              "  }\n",
              "\n",
              "  @keyframes spin {\n",
              "    0% {\n",
              "      border-color: transparent;\n",
              "      border-bottom-color: var(--fill-color);\n",
              "      border-left-color: var(--fill-color);\n",
              "    }\n",
              "    20% {\n",
              "      border-color: transparent;\n",
              "      border-left-color: var(--fill-color);\n",
              "      border-top-color: var(--fill-color);\n",
              "    }\n",
              "    30% {\n",
              "      border-color: transparent;\n",
              "      border-left-color: var(--fill-color);\n",
              "      border-top-color: var(--fill-color);\n",
              "      border-right-color: var(--fill-color);\n",
              "    }\n",
              "    40% {\n",
              "      border-color: transparent;\n",
              "      border-right-color: var(--fill-color);\n",
              "      border-top-color: var(--fill-color);\n",
              "    }\n",
              "    60% {\n",
              "      border-color: transparent;\n",
              "      border-right-color: var(--fill-color);\n",
              "    }\n",
              "    80% {\n",
              "      border-color: transparent;\n",
              "      border-right-color: var(--fill-color);\n",
              "      border-bottom-color: var(--fill-color);\n",
              "    }\n",
              "    90% {\n",
              "      border-color: transparent;\n",
              "      border-bottom-color: var(--fill-color);\n",
              "    }\n",
              "  }\n",
              "</style>\n",
              "\n",
              "  <script>\n",
              "    async function quickchart(key) {\n",
              "      const quickchartButtonEl =\n",
              "        document.querySelector('#' + key + ' button');\n",
              "      quickchartButtonEl.disabled = true;  // To prevent multiple clicks.\n",
              "      quickchartButtonEl.classList.add('colab-df-spinner');\n",
              "      try {\n",
              "        const charts = await google.colab.kernel.invokeFunction(\n",
              "            'suggestCharts', [key], {});\n",
              "      } catch (error) {\n",
              "        console.error('Error during call to suggestCharts:', error);\n",
              "      }\n",
              "      quickchartButtonEl.classList.remove('colab-df-spinner');\n",
              "      quickchartButtonEl.classList.add('colab-df-quickchart-complete');\n",
              "    }\n",
              "    (() => {\n",
              "      let quickchartButtonEl =\n",
              "        document.querySelector('#df-3d8ba327-b626-4bc3-81b3-ac2df9f912a7 button');\n",
              "      quickchartButtonEl.style.display =\n",
              "        google.colab.kernel.accessAllowed ? 'block' : 'none';\n",
              "    })();\n",
              "  </script>\n",
              "</div>\n",
              "\n",
              "    </div>\n",
              "  </div>\n"
            ],
            "application/vnd.google.colaboratory.intrinsic+json": {
              "type": "dataframe",
              "variable_name": "experiment",
              "summary": "{\n  \"name\": \"experiment\",\n  \"rows\": 500,\n  \"fields\": [\n    {\n      \"column\": \"height\",\n      \"properties\": {\n        \"dtype\": \"number\",\n        \"std\": 0.07343854439334886,\n        \"min\": 1.4649708921970817,\n        \"max\": 1.897526798145764,\n        \"samples\": [\n          1.7364740946217938,\n          1.8168942338626288,\n          1.814202499956896\n        ],\n        \"num_unique_values\": 500,\n        \"semantic_type\": \"\",\n        \"description\": \"\"\n      }\n    },\n    {\n      \"column\": \"weight\",\n      \"properties\": {\n        \"dtype\": \"number\",\n        \"std\": 8.814073435056137,\n        \"min\": 49.23576315068093,\n        \"max\": 106.62624155127564,\n        \"samples\": [\n          77.21095974700934,\n          93.06959871869843,\n          71.53804260819793\n        ],\n        \"num_unique_values\": 500,\n        \"semantic_type\": \"\",\n        \"description\": \"\"\n      }\n    },\n    {\n      \"column\": \"amount-chocolate\",\n      \"properties\": {\n        \"dtype\": \"number\",\n        \"std\": 30.23935908175553,\n        \"min\": 10.0,\n        \"max\": 190.0,\n        \"samples\": [\n          90.0,\n          110.0,\n          70.0\n        ],\n        \"num_unique_values\": 18,\n        \"semantic_type\": \"\",\n        \"description\": \"\"\n      }\n    },\n    {\n      \"column\": \"task-one-score\",\n      \"properties\": {\n        \"dtype\": \"number\",\n        \"std\": 9.949906440964622,\n        \"min\": -31.091773045689656,\n        \"max\": 31.9344536619868,\n        \"samples\": [\n          10.3272107936341,\n          -10.209158165564254,\n          -13.785162141196677\n        ],\n        \"num_unique_values\": 500,\n        \"semantic_type\": \"\",\n        \"description\": \"\"\n      }\n    },\n    {\n      \"column\": \"task-two-score\",\n      \"properties\": {\n        \"dtype\": \"number\",\n        \"std\": 19.255217873515377,\n        \"min\": -56.1343406452084,\n        \"max\": 70.08369354144473,\n        \"samples\": [\n          14.388665219073545,\n          -11.423351209368274,\n          34.722501784215055\n        ],\n        \"num_unique_values\": 500,\n        \"semantic_type\": \"\",\n        \"description\": \"\"\n      }\n    },\n    {\n      \"column\": \"bmi\",\n      \"properties\": {\n        \"dtype\": \"number\",\n        \"std\": 2.1052677454185247,\n        \"min\": 18.24843485022853,\n        \"max\": 32.75795733633148,\n        \"samples\": [\n          25.606034918832343,\n          28.193471091600873,\n          21.735294594485207\n        ],\n        \"num_unique_values\": 500,\n        \"semantic_type\": \"\",\n        \"description\": \"\"\n      }\n    }\n  ]\n}"
            }
          },
          "metadata": {},
          "execution_count": 35
        }
      ],
      "source": [
        "experiment['bmi'] = experiment['weight'] / experiment['height']**2\n",
        "experiment.head()"
      ]
    },
    {
      "cell_type": "code",
      "source": [
        "experiment_last = experiment[experiment['amount-chocolate'] > experiment['bmi'] * 6]\n",
        "experiment_last = experiment_last[['task-one-score', 'task-two-score']]"
      ],
      "metadata": {
        "id": "dnH0tOk8Lm_1"
      },
      "execution_count": 41,
      "outputs": []
    },
    {
      "cell_type": "code",
      "source": [
        "# produce some figures\n",
        "sns.lmplot(x = \"task-one-score\", y = \"task-two-score\", data = experiment_last)"
      ],
      "metadata": {
        "colab": {
          "base_uri": "https://localhost:8080/",
          "height": 525
        },
        "outputId": "90e25ef6-deeb-41da-87d9-8b4dd448e5dd",
        "id": "mrFx-KMTLm_1"
      },
      "execution_count": 42,
      "outputs": [
        {
          "output_type": "execute_result",
          "data": {
            "text/plain": [
              "<seaborn.axisgrid.FacetGrid at 0x78bc2a1f94b0>"
            ]
          },
          "metadata": {},
          "execution_count": 42
        },
        {
          "output_type": "display_data",
          "data": {
            "text/plain": [
              "<Figure size 500x500 with 1 Axes>"
            ],
            "image/png": "[encoded data removed]"
          },
          "metadata": {}
        }
      ]
    },
    {
      "cell_type": "code",
      "execution_count": 43,
      "metadata": {
        "deletable": true,
        "editable": true,
        "colab": {
          "base_uri": "https://localhost:8080/"
        },
        "outputId": "b7c343c0-210e-41da-c791-84443e32ff7b",
        "id": "4iWxkLaALm_2"
      },
      "outputs": [
        {
          "output_type": "execute_result",
          "data": {
            "text/plain": [
              "PearsonRResult(statistic=0.9641883591515386, pvalue=1.9921362709435744e-19)"
            ]
          },
          "metadata": {},
          "execution_count": 43
        }
      ],
      "source": [
        "# compute correlations and test for significance\n",
        "corr_3 = scipy.stats.pearsonr(experiment_last['task-one-score'], experiment_last['task-two-score'])\n",
        "corr_3 # correlation의 p-value가 0.05보다 작기 때문에 유의하다(significant), H0를 기각하며 bmi의 6배 이상의 초콜릿을 먹은 사람들의 task score 간에는 강한 양의 상관관계가 있다."
      ]
    }
  ],
  "metadata": {
    "anaconda-cloud": {},
    "kernelspec": {
      "display_name": "Python [default]",
      "language": "python",
      "name": "python3"
    },
    "language_info": {
      "codemirror_mode": {
        "name": "ipython",
        "version": 3
      },
      "file_extension": ".py",
      "mimetype": "text/x-python",
      "name": "python",
      "nbconvert_exporter": "python",
      "pygments_lexer": "ipython3",
      "version": "3.5.2"
    },
    "colab": {
      "provenance": [],
      "include_colab_link": true
    }
  },
  "nbformat": 4,
  "nbformat_minor": 0
}