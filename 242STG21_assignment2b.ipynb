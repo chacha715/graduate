{
  "cells": [
    {
      "cell_type": "markdown",
      "metadata": {
        "id": "view-in-github",
        "colab_type": "text"
      },
      "source": [
        "<a href=\"https://colab.research.google.com/github/chacha715/graduate/blob/main/242STG21_assignment2b.ipynb\" target=\"_parent\"><img src=\"https://colab.research.google.com/assets/colab-badge.svg\" alt=\"Open In Colab\"/></a>"
      ]
    },
    {
      "cell_type": "markdown",
      "metadata": {
        "id": "I7aO_Z7xPvgm"
      },
      "source": [
        "# Scientific Programming in Python - Dictionaries and Functions"
      ]
    },
    {
      "cell_type": "markdown",
      "metadata": {
        "id": "irhUOc50Pvgq"
      },
      "source": [
        "### Problem 1. Library, with dictionaries"
      ]
    },
    {
      "cell_type": "markdown",
      "metadata": {
        "id": "P7Fa8mN5Pvgq"
      },
      "source": [
        "We’ll revisit the Problem 3 of Assignment 2, where we had to manipulate some data from a fake\n",
        "library.\n",
        "\n",
        "In this problem, we had the following format for the data:\n"
      ]
    },
    {
      "cell_type": "code",
      "execution_count": 1,
      "metadata": {
        "id": "CSims2qhPvgr",
        "colab": {
          "base_uri": "https://localhost:8080/"
        },
        "outputId": "6ec207bf-e19b-4143-bbb4-2bf1c7e83b51"
      },
      "outputs": [
        {
          "output_type": "execute_result",
          "data": {
            "text/plain": [
              "[[123456, 312314, 531337],\n",
              " ['John Doe', ' Jane Miller', 'Ted Johnson'],\n",
              " [1.49, 0.0, 8.12]]"
            ]
          },
          "metadata": {},
          "execution_count": 1
        }
      ],
      "source": [
        "[[123456,312314,531337],                     # Student IDS\n",
        " ['John Doe',' Jane Miller','Ted Johnson'],  # Student Names\n",
        " [1.49,0.00,8.12]]                           # Amounts owed"
      ]
    },
    {
      "cell_type": "markdown",
      "metadata": {
        "id": "II1ka5kaPvgt"
      },
      "source": [
        ">**(a)** Construct a dictionary to store this data, using the student ID (the ﬁrst big number) as the **key**, and the amount owed as the **values**.\n",
        "\n",
        "> Use the code below to get you started. You can type the key, value pairs into the curly brackets `{ }`."
      ]
    },
    {
      "cell_type": "code",
      "execution_count": 3,
      "metadata": {
        "id": "bVA0JFY4Pvgt",
        "colab": {
          "base_uri": "https://localhost:8080/"
        },
        "outputId": "467c9e1d-6044-4329-e440-6d099f3347d9"
      },
      "outputs": [
        {
          "output_type": "stream",
          "name": "stdout",
          "text": [
            "{123456: 1.49, 312314: 0.0, 531337: 8.12}\n"
          ]
        }
      ],
      "source": [
        "student_id_to_amount_owed = {123456: 1.49, 312314: 0.00, 531337: 8.12}  # complete this line to include all the student IDs and amounts owed\n",
        "print(student_id_to_amount_owed)"
      ]
    },
    {
      "cell_type": "markdown",
      "metadata": {
        "id": "cP0LT2XiPvgu"
      },
      "source": [
        "> **(b)** Use this dictionary to find out how much money the student with id `531337` owes.\n",
        "\n",
        "> You should use square brackets `[ ]` to index into your dictionary.\n"
      ]
    },
    {
      "cell_type": "code",
      "execution_count": 4,
      "metadata": {
        "collapsed": true,
        "id": "6G2rfpVhPvgv",
        "colab": {
          "base_uri": "https://localhost:8080/"
        },
        "outputId": "61682df4-5e49-4fc5-ec81-6f04718a4b69"
      },
      "outputs": [
        {
          "output_type": "execute_result",
          "data": {
            "text/plain": [
              "8.12"
            ]
          },
          "metadata": {},
          "execution_count": 4
        }
      ],
      "source": [
        "student_id_to_amount_owed[531337]"
      ]
    },
    {
      "cell_type": "markdown",
      "metadata": {
        "id": "eI2obFwYPvgv"
      },
      "source": [
        "> Try also finding out how much 123456 owes. What about newly enrolled student 999888?"
      ]
    },
    {
      "cell_type": "code",
      "execution_count": 5,
      "metadata": {
        "id": "zx6EL4o0Pvgv",
        "colab": {
          "base_uri": "https://localhost:8080/"
        },
        "outputId": "07521fc9-9f2c-4c49-a4af-cfa32e452378"
      },
      "outputs": [
        {
          "output_type": "stream",
          "name": "stdout",
          "text": [
            "8.12\n"
          ]
        }
      ],
      "source": [
        "amount_owed_by_531337 = student_id_to_amount_owed[531337]\n",
        "print(amount_owed_by_531337)"
      ]
    },
    {
      "cell_type": "markdown",
      "metadata": {
        "id": "f9awY4QdPvgw"
      },
      "source": [
        "> **(c)** Create another dictionary which maps the name of the student to its student id.  This time, instead of typing the values in by hand, fill in this dictionary by looping over the list `student_names_and_ids` given below:\n"
      ]
    },
    {
      "cell_type": "code",
      "execution_count": 10,
      "metadata": {
        "id": "wnvRkvvvPvgx",
        "colab": {
          "base_uri": "https://localhost:8080/"
        },
        "outputId": "9c22b097-8dc8-4be5-d9ea-055979457c10"
      },
      "outputs": [
        {
          "output_type": "stream",
          "name": "stdout",
          "text": [
            "{'John Doe': 123456, 'Jane Miller': 312314, 'Ted Johnson': 531337}\n"
          ]
        }
      ],
      "source": [
        "student_names_and_ids = [('John Doe', 123456), ('Jane Miller', 312314), ('Ted Johnson', 531337)]\n",
        "\n",
        "studentname_to_id = {}  # initialise empty dictionary\n",
        "\n",
        "# write code here to populate the dictionary\n",
        "for nameID in student_names_and_ids:\n",
        "  studentname_to_id[nameID[0]] = int(nameID[1])\n",
        "\n",
        "print(studentname_to_id)\n",
        "# desired output : {'Jane Miller': 312314, 'John Doe': 123456, 'Ted Johnson': 531337}"
      ]
    },
    {
      "cell_type": "markdown",
      "metadata": {
        "id": "dQOh_jKXPvgx"
      },
      "source": [
        "\n",
        "> **(c)** Print how much money 'John Doe' owes the library, using both of your dictionaries.\n",
        "\n",
        ">  *(Hint: First find out John Doe's student ID, then use this to find out how much he owes)*"
      ]
    },
    {
      "cell_type": "code",
      "execution_count": 12,
      "metadata": {
        "id": "YMz31meiPvgy",
        "colab": {
          "base_uri": "https://localhost:8080/"
        },
        "outputId": "7ff3d230-838b-4086-9837-16a0213101b7"
      },
      "outputs": [
        {
          "output_type": "stream",
          "name": "stdout",
          "text": [
            "1.49\n"
          ]
        }
      ],
      "source": [
        "John_doe_balance = student_id_to_amount_owed[studentname_to_id['John Doe']]\n",
        "print(John_doe_balance)"
      ]
    },
    {
      "cell_type": "markdown",
      "metadata": {
        "id": "tA122IKsPvgy"
      },
      "source": [
        "> **(d)** Create the list of the names of students owing more than £1.0 to the library.\n",
        "\n",
        "> *(Hint: If it is easier, first make a list of all the student IDs which owe more than £1.0 Then adapt the code to create a list of names instead).*\n"
      ]
    },
    {
      "cell_type": "code",
      "execution_count": 13,
      "metadata": {
        "id": "LLYTqdSDPvgy",
        "colab": {
          "base_uri": "https://localhost:8080/"
        },
        "outputId": "60a1fc04-e69b-4f59-cecf-98cbab2564ee"
      },
      "outputs": [
        {
          "output_type": "stream",
          "name": "stdout",
          "text": [
            "['John Doe', 'Ted Johnson']\n"
          ]
        }
      ],
      "source": [
        "bad_students = [] # type answer here\n",
        "\n",
        "for name in studentname_to_id:\n",
        "  ID = studentname_to_id[name]\n",
        "  if student_id_to_amount_owed[ID] > 1.0:\n",
        "    bad_students.append(name)\n",
        "\n",
        "print(bad_students)"
      ]
    },
    {
      "cell_type": "markdown",
      "metadata": {
        "id": "xvisSsbfPvgz"
      },
      "source": [
        "###Problem 2. Counting words"
      ]
    },
    {
      "cell_type": "markdown",
      "metadata": {
        "id": "X1E4qRKCPvgz"
      },
      "source": [
        ">**(a)** In this problem we’ll use the text of Alice in Wonderland to construct dictionaries counting the\n",
        "number of times particular words and pairs of words appear."
      ]
    },
    {
      "cell_type": "code",
      "source": [
        "from google.colab import drive\n",
        "drive.mount('/content/drive')\n",
        "\n",
        "import os\n",
        "os.chdir('/content/drive/MyDrive/석사/data') # working directory를 설정"
      ],
      "metadata": {
        "id": "3X3Bse98PzpB",
        "colab": {
          "base_uri": "https://localhost:8080/"
        },
        "outputId": "bf38a0fb-f69a-4d68-a0d9-a9d95bc203fd"
      },
      "execution_count": 14,
      "outputs": [
        {
          "output_type": "stream",
          "name": "stdout",
          "text": [
            "Mounted at /content/drive\n"
          ]
        }
      ]
    },
    {
      "cell_type": "code",
      "execution_count": null,
      "metadata": {
        "id": "uDrgQvLNPvgz"
      },
      "outputs": [],
      "source": [
        "# assignment2에서 이미 생성함\n",
        "\n",
        "# import urllib.request\n",
        "# URL = \"http://www.gutenberg.org/files/11/11.txt\"\n",
        "# f = urllib.request.urlopen(URL)\n",
        "# open(\"alice.txt\",\"wb\").write(f.read())"
      ]
    },
    {
      "cell_type": "markdown",
      "metadata": {
        "id": "Dt-42ueJPvg0"
      },
      "source": [
        "This will create a new file called \"alice.txt\""
      ]
    },
    {
      "cell_type": "markdown",
      "metadata": {
        "id": "5S0CF077Pvg0"
      },
      "source": [
        ">**(b)** We'll process alice.txt in loops like this:"
      ]
    },
    {
      "cell_type": "code",
      "execution_count": 49,
      "metadata": {
        "id": "UpINbWh8Pvg0",
        "colab": {
          "base_uri": "https://localhost:8080/"
        },
        "outputId": "56ca4ed7-d99d-4b05-eeae-c3efd90f889d"
      },
      "outputs": [
        {
          "output_type": "stream",
          "name": "stdout",
          "text": [
            "{\"ALICE'S\": 3, 'ADVENTURES': 1, 'IN': 2, 'WONDERLAND': 1, 'Lewis': 1, 'Carroll': 1, 'THE': 9, 'MILLENNIUM': 1, 'FULCRUM': 1, 'EDITION': 1, '3.0': 1, 'CHAPTER': 12, 'I.': 1, 'Down': 1, 'the': 1507, 'Rabbit-Hole': 1, 'Alice': 221, 'was': 328, 'beginning': 11, 'to': 703, 'get': 43, 'very': 126, 'tired': 7, 'of': 490, 'sitting': 10, 'by': 53, 'her': 203, 'sister': 5, 'on': 138, 'bank,': 2, 'and': 714, 'having': 10, 'nothing': 22, 'do:': 1, 'once': 18, 'or': 68, 'twice': 1, 'she': 484, 'had': 175, 'peeped': 3, 'into': 67, 'book': 3, 'reading,': 1, 'but': 101, 'it': 346, 'no': 64, 'pictures': 4, 'conversations': 1, 'in': 344, 'it,': 38, \"'and\": 38, 'what': 85, 'is': 63, 'use': 16, 'a': 606, \"book,'\": 2, 'thought': 63, \"'without\": 1, \"conversations?'\": 1, 'So': 23, 'considering': 3, 'own': 9, 'mind': 4, '(as': 2, 'well': 27, 'as': 237, 'could,': 7, 'for': 125, 'hot': 4, 'day': 11, 'made': 29, 'feel': 8, 'sleepy': 3, 'stupid),': 1, 'whether': 11, 'pleasure': 2, 'making': 8, 'daisy-chain': 1, 'would': 68, 'be': 136, 'worth': 4, 'trouble': 4, 'getting': 21, 'up': 81, 'picking': 2, 'daisies,': 1, 'when': 66, 'suddenly': 9, 'White': 22, 'Rabbit': 29, 'with': 168, 'pink': 1, 'eyes': 18, 'ran': 13, 'close': 12, 'her.': 13, 'There': 19, 'so': 103, 'VERY': 12, 'remarkable': 2, 'that;': 1, 'nor': 2, 'did': 50, 'think': 37, 'much': 40, 'out': 96, 'way': 37, 'hear': 14, 'say': 35, 'itself,': 4, \"'Oh\": 2, 'dear!': 9, 'Oh': 5, 'I': 260, 'shall': 21, \"late!'\": 1, '(when': 1, 'over': 31, 'afterwards,': 1, 'occurred': 2, 'that': 213, 'ought': 13, 'have': 73, 'wondered': 1, 'at': 196, 'this,': 17, 'time': 46, 'all': 150, 'seemed': 27, 'quite': 53, 'natural);': 1, 'actually': 1, 'TOOK': 1, 'A': 8, 'WATCH': 1, 'OUT': 1, 'OF': 3, 'ITS': 1, 'WAISTCOAT-POCKET,': 1, 'looked': 45, 'then': 50, 'hurried': 11, 'on,': 27, 'started': 2, 'feet,': 6, 'flashed': 1, 'across': 5, 'never': 37, 'before': 19, 'seen': 12, 'rabbit': 1, 'either': 5, 'waistcoat-pocket,': 1, 'watch': 5, 'take': 18, 'burning': 1, 'curiosity,': 2, 'field': 1, 'after': 35, 'fortunately': 1, 'just': 43, 'see': 47, 'pop': 1, 'down': 77, 'large': 32, 'rabbit-hole': 2, 'under': 16, 'hedge.': 1, 'In': 5, 'another': 21, 'moment': 21, 'went': 79, 'how': 37, 'world': 6, 'again.': 16, 'The': 89, 'straight': 2, 'like': 74, 'tunnel': 1, 'some': 47, 'way,': 7, 'dipped': 2, 'down,': 12, 'not': 103, 'about': 84, 'stopping': 1, 'herself': 40, 'found': 28, 'falling': 2, 'deep': 5, 'well.': 2, 'Either': 1, 'deep,': 2, 'fell': 6, 'slowly,': 2, 'plenty': 1, 'look': 25, 'wonder': 15, 'going': 26, 'happen': 5, 'next.': 3, 'First,': 4, 'tried': 18, 'make': 26, 'coming': 5, 'to,': 3, 'too': 21, 'dark': 3, 'anything;': 2, 'sides': 4, 'well,': 1, 'noticed': 7, 'they': 107, 'were': 82, 'filled': 3, 'cupboards': 2, 'book-shelves;': 1, 'here': 14, 'there': 44, 'saw': 13, 'maps': 1, 'hung': 1, 'upon': 26, 'pegs.': 1, 'She': 33, 'took': 23, 'jar': 2, 'from': 31, 'one': 77, 'shelves': 1, 'passed;': 1, 'labelled': 1, \"'ORANGE\": 1, \"MARMALADE',\": 1, 'great': 39, 'disappointment': 1, 'empty:': 1, 'drop': 1, 'fear': 4, 'killing': 1, 'somebody,': 1, 'managed': 3, 'put': 31, 'past': 1, 'it.': 15, \"'Well!'\": 1, 'herself,': 31, \"'after\": 1, 'such': 40, 'fall': 6, 'tumbling': 2, 'stairs!': 1, 'How': 9, 'brave': 1, \"they'll\": 4, 'me': 46, 'home!': 1, 'Why,': 7, \"wouldn't\": 12, 'anything': 14, 'even': 17, 'if': 69, 'off': 38, 'top': 8, \"house!'\": 1, '(Which': 2, 'likely': 4, 'true.)': 1, 'Down,': 2, 'down.': 2, 'Would': 3, 'NEVER': 2, 'come': 22, 'an': 52, 'end!': 1, \"'I\": 121, 'many': 12, 'miles': 3, \"I've\": 20, 'fallen': 4, 'this': 85, \"time?'\": 1, 'said': 416, 'aloud.': 3, 'must': 39, 'somewhere': 1, 'near': 13, 'centre': 1, 'earth.': 2, 'Let': 6, 'see:': 3, 'four': 6, 'thousand': 2, \"think--'\": 3, '(for,': 1, 'you': 251, 'see,': 11, 'learnt': 2, 'several': 4, 'things': 19, 'sort': 17, 'lessons': 4, 'schoolroom,': 1, 'though': 6, 'good': 23, 'opportunity': 8, 'showing': 2, 'knowledge,': 1, 'listen': 4, 'her,': 18, 'still': 12, 'practice': 1, 'over)': 1, \"'--yes,\": 1, \"that's\": 13, 'right': 20, 'distance--but': 1, 'Latitude': 2, 'Longitude': 2, 'got': 45, \"to?'\": 3, '(Alice': 4, 'idea': 14, 'was,': 14, 'either,': 2, 'nice': 5, 'grand': 2, 'words': 14, 'say.)': 1, 'Presently': 2, 'began': 47, 'THROUGH': 1, 'earth!': 1, 'funny': 3, \"it'll\": 6, 'seem': 7, 'among': 12, 'people': 10, 'walk': 4, 'their': 50, 'heads': 7, 'downward!': 1, 'Antipathies,': 1, '(she': 9, 'rather': 25, 'glad': 11, 'WAS': 4, 'listening,': 2, 'time,': 6, \"didn't\": 11, 'sound': 3, 'word)': 1, \"'--but\": 1, 'ask': 7, 'them': 49, 'name': 8, 'country': 1, 'is,': 16, 'know.': 8, 'Please,': 1, \"Ma'am,\": 1, 'New': 1, 'Zealand': 1, \"Australia?'\": 1, '(and': 1, 'curtsey': 1, 'spoke--fancy': 1, 'CURTSEYING': 1, \"you're\": 15, 'through': 12, 'air!': 1, 'Do': 5, 'could': 62, 'manage': 6, 'it?)': 1, \"'And\": 17, 'ignorant': 1, 'little': 117, 'girl': 3, \"she'll\": 2, 'asking!': 1, 'No,': 4, 'do': 46, 'ask:': 1, 'perhaps': 12, 'written': 6, \"somewhere.'\": 1, 'else': 8, 'do,': 7, 'soon': 23, 'talking': 12, \"'Dinah'll\": 1, 'miss': 1, 'to-night,': 1, 'should': 27, \"think!'\": 1, '(Dinah': 1, 'cat.)': 1, 'hope': 3, 'remember': 12, 'saucer': 1, 'milk': 1, 'tea-time.': 1, 'Dinah': 4, 'my': 55, 'wish': 21, 'me!': 3, 'are': 35, 'mice': 3, 'air,': 5, \"I'm\": 36, 'afraid,': 2, 'might': 27, 'catch': 3, 'bat,': 1, 'mouse,': 3, 'But': 15, 'cats': 9, 'eat': 16, 'bats,': 1, \"wonder?'\": 3, 'And': 49, 'sleepy,': 1, 'saying': 11, 'dreamy': 1, \"'Do\": 8, 'bats?': 1, \"bats?'\": 1, 'sometimes,': 1, 'bats': 1, \"cats?'\": 1, 'for,': 2, \"couldn't\": 9, 'answer': 6, 'question,': 4, 'matter': 8, 'which': 37, 'felt': 23, 'dozing': 1, 'off,': 14, 'begun': 6, 'dream': 3, 'walking': 5, 'hand': 11, 'Dinah,': 3, 'earnestly,': 1, \"'Now,\": 4, 'tell': 26, 'truth:': 1, 'ever': 16, \"bat?'\": 1, 'suddenly,': 1, 'thump!': 2, 'came': 38, 'heap': 1, 'sticks': 1, 'dry': 7, 'leaves,': 2, 'over.': 2, 'bit': 8, 'hurt,': 1, 'jumped': 5, 'feet': 11, 'moment:': 1, 'up,': 9, 'overhead;': 1, 'long': 29, 'passage,': 2, 'sight,': 4, 'hurrying': 1, 'lost:': 1, 'away': 15, 'wind,': 2, 'say,': 5, 'turned': 16, 'corner,': 2, 'ears': 4, 'whiskers,': 1, 'late': 3, \"it's\": 25, \"getting!'\": 1, 'behind': 12, 'longer': 2, 'seen:': 1, 'long,': 1, 'low': 7, 'hall,': 5, 'lit': 1, 'row': 2, 'lamps': 1, 'hanging': 3, 'roof.': 1, 'doors': 2, 'round': 30, 'locked;': 1, 'been': 36, 'side': 12, 'other,': 5, 'trying': 11, 'every': 12, 'door,': 9, 'walked': 10, 'sadly': 2, 'middle,': 3, 'wondering': 7, 'Suddenly': 1, 'three-legged': 2, 'table,': 5, 'solid': 1, 'glass;': 1, 'except': 4, 'tiny': 4, 'golden': 7, 'key,': 3, \"Alice's\": 8, 'first': 28, 'belong': 1, 'hall;': 1, 'but,': 6, 'alas!': 2, 'locks': 1, 'large,': 1, 'key': 5, 'small,': 1, 'any': 36, 'rate': 4, 'open': 6, 'them.': 2, 'However,': 13, 'second': 4, 'round,': 7, 'curtain': 1, 'before,': 11, 'door': 15, 'fifteen': 1, 'inches': 6, 'high:': 3, 'lock,': 1, 'delight': 1, 'fitted!': 1, 'opened': 9, 'led': 4, 'small': 8, 'larger': 3, 'than': 22, 'rat-hole:': 1, 'knelt': 1, 'along': 5, 'passage': 1, 'loveliest': 1, 'garden': 4, 'saw.': 1, 'longed': 2, 'wander': 1, 'those': 9, 'beds': 1, 'bright': 7, 'flowers': 2, 'cool': 2, 'fountains,': 1, 'head': 29, 'doorway;': 1, 'go': 38, \"through,'\": 1, 'poor': 25, 'Alice,': 76, \"'it\": 5, 'without': 24, 'shoulders.': 1, 'Oh,': 3, 'shut': 4, 'telescope!': 1, 'only': 43, 'knew': 13, \"begin.'\": 3, 'For,': 1, 'out-of-the-way': 3, 'happened': 3, 'lately,': 1, 'few': 9, 'indeed': 3, 'really': 9, 'impossible.': 1, 'waiting': 7, 'back': 29, 'half': 21, 'hoping': 3, 'find': 20, 'rules': 3, 'shutting': 2, 'telescopes:': 1, 'bottle': 7, \"('which\": 1, 'certainly': 8, \"before,'\": 3, 'Alice,)': 2, 'neck': 6, 'paper': 3, 'label,': 1, \"'DRINK\": 2, \"ME'\": 2, 'beautifully': 2, 'printed': 1, 'letters.': 1, 'It': 15, \"'Drink\": 1, \"me,'\": 5, 'wise': 2, 'THAT': 6, 'hurry.': 3, \"'No,\": 9, \"I'll\": 23, \"first,'\": 2, 'said,': 26, 'marked': 5, '\"poison\"': 1, \"not';\": 1, 'read': 9, 'histories': 1, 'children': 5, 'who': 48, 'burnt,': 1, 'eaten': 1, 'wild': 2, 'beasts': 1, 'other': 26, 'unpleasant': 2, 'things,': 2, 'because': 11, 'WOULD': 5, 'simple': 5, 'friends': 2, 'taught': 4, 'them:': 1, 'as,': 2, 'red-hot': 1, 'poker': 1, 'will': 23, 'burn': 2, 'hold': 6, 'long;': 1, 'cut': 5, 'your': 53, 'finger': 3, 'deeply': 1, 'knife,': 1, 'usually': 2, 'bleeds;': 1, 'forgotten': 6, 'that,': 5, 'drink': 4, \"'poison,'\": 2, 'almost': 6, 'certain': 2, 'disagree': 1, 'you,': 25, 'sooner': 2, 'later.': 1, 'NOT': 5, 'ventured': 4, 'taste': 2, 'finding': 3, 'nice,': 1, '(it': 4, 'had,': 1, 'fact,': 4, 'mixed': 2, 'flavour': 1, 'cherry-tart,': 1, 'custard,': 1, 'pine-apple,': 1, 'roast': 1, 'turkey,': 1, 'toffee,': 1, 'buttered': 1, 'toast,)': 1, 'finished': 7, 'off.': 5, '*': 60, \"'What\": 32, 'curious': 16, \"feeling!'\": 1, 'Alice;': 16, \"telescope.'\": 1, 'indeed:': 1, 'now': 23, 'ten': 5, 'high,': 3, 'face': 7, 'brightened': 2, 'size': 6, 'lovely': 2, 'garden.': 3, 'however,': 6, 'waited': 9, 'minutes': 7, 'shrink': 1, 'further:': 1, 'nervous': 4, 'this;': 2, \"'for\": 6, 'end,': 1, \"know,'\": 8, \"'in\": 3, 'altogether,': 2, 'candle.': 1, \"then?'\": 1, 'fancy': 3, 'flame': 1, 'candle': 2, 'blown': 1, 'out,': 13, 'thing.': 1, 'After': 5, 'while,': 4, 'more': 37, 'happened,': 2, 'decided': 3, 'once;': 1, 'alas': 1, 'Alice!': 3, 'table': 7, 'possibly': 3, 'reach': 4, 'it:': 9, 'plainly': 1, 'glass,': 2, 'best': 7, 'climb': 1, 'legs': 3, 'slippery;': 1, 'trying,': 1, 'thing': 35, 'sat': 17, 'cried.': 2, \"'Come,\": 9, \"there's\": 15, 'crying': 2, \"that!'\": 7, 'sharply;': 1, 'advise': 1, 'leave': 6, \"minute!'\": 1, 'generally': 5, 'gave': 13, 'advice,': 1, '(though': 1, 'seldom': 1, 'followed': 8, 'it),': 2, 'sometimes': 4, 'scolded': 1, 'severely': 3, 'bring': 2, 'tears': 4, 'eyes;': 1, 'remembered': 5, 'box': 3, 'cheated': 1, 'game': 6, 'croquet': 3, 'playing': 2, 'against': 9, 'child': 3, 'fond': 3, 'pretending': 1, 'two': 20, 'people.': 1, \"'But\": 19, \"now,'\": 4, \"'to\": 4, 'pretend': 1, 'people!': 1, 'hardly': 11, 'enough': 10, 'left': 13, 'ONE': 2, 'respectable': 1, \"person!'\": 1, 'Soon': 1, 'eye': 4, 'glass': 4, 'lying': 8, 'table:': 1, 'cake,': 2, \"'EAT\": 1, 'currants.': 1, \"'Well,\": 20, \"it,'\": 18, 'makes': 11, 'grow': 13, 'larger,': 3, 'can': 27, 'key;': 1, 'smaller,': 3, 'creep': 1, 'door;': 1, 'garden,': 5, \"don't\": 48, 'care': 4, \"happens!'\": 1, 'ate': 1, 'bit,': 2, 'anxiously': 13, \"'Which\": 3, 'way?': 1, 'Which': 3, \"way?',\": 1, 'holding': 2, 'growing,': 4, 'surprised': 6, 'remained': 3, 'same': 21, 'size:': 3, 'sure,': 2, 'happens': 2, 'eats': 1, 'expecting': 3, 'happen,': 1, 'dull': 2, 'stupid': 1, 'life': 2, 'common': 1, 'way.': 3, 'set': 14, 'work,': 1, 'cake.': 1, 'II.': 1, 'Pool': 1, 'Tears': 1, \"'Curiouser\": 1, \"curiouser!'\": 1, 'cried': 18, 'surprised,': 1, 'forgot': 2, 'speak': 8, 'English);': 1, \"'now\": 1, 'opening': 3, 'largest': 1, 'telescope': 1, 'was!': 1, 'Good-bye,': 1, \"feet!'\": 1, '(for': 1, 'far': 9, 'off).': 1, \"'Oh,\": 19, 'shoes': 5, 'stockings': 1, 'now,': 6, 'dears?': 1, 'sure': 16, '_I_': 2, \"shan't\": 4, 'able!': 1, 'deal': 11, 'myself': 2, 'you:': 1, 'can;--but': 1, 'kind': 6, \"them,'\": 3, \"'or\": 5, \"won't\": 21, 'want': 9, 'go!': 1, 'give': 9, 'new': 4, 'pair': 5, 'boots': 2, \"Christmas.'\": 1, 'planning': 1, \"'They\": 9, \"carrier,'\": 1, 'thought;': 1, 'seem,': 1, 'sending': 2, 'presents': 2, \"one's\": 1, 'feet!': 1, 'odd': 1, 'directions': 1, 'look!': 1, 'RIGHT': 1, 'FOOT,': 1, 'ESQ.': 1, 'HEARTHRUG,': 1, 'NEAR': 1, 'FENDER,': 1, '(WITH': 1, 'LOVE).': 1, 'dear,': 6, 'nonsense': 1, \"talking!'\": 1, 'Just': 5, 'struck': 2, 'roof': 5, 'hall:': 1, 'fact': 2, 'nine': 4, 'door.': 2, 'Poor': 1, 'side,': 3, 'eye;': 2, 'hopeless': 1, 'ever:': 1, 'cry': 3, \"'You\": 30, 'ashamed': 2, \"yourself,'\": 1, \"'a\": 2, \"you,'\": 6, 'this),': 1, 'way!': 1, 'Stop': 1, 'moment,': 5, \"you!'\": 3, 'same,': 2, 'shedding': 1, 'gallons': 1, 'tears,': 3, 'until': 4, 'pool': 6, 'reaching': 1, 'hall.': 1, 'heard': 29, 'pattering': 3, 'distance,': 4, 'hastily': 7, 'dried': 1, 'coming.': 2, 'returning,': 1, 'splendidly': 1, 'dressed,': 1, 'white': 6, 'kid': 5, 'gloves': 5, 'fan': 8, 'other:': 3, 'he': 94, 'trotting': 2, 'hurry,': 1, 'muttering': 3, 'himself': 4, 'came,': 2, \"'Oh!\": 2, 'Duchess,': 8, 'Duchess!': 3, 'Oh!': 1, 'savage': 3, 'kept': 13, \"waiting!'\": 1, 'desperate': 1, 'ready': 7, 'help': 9, 'one;': 2, 'so,': 7, 'began,': 6, 'low,': 6, 'timid': 3, 'voice,': 15, \"'If\": 13, 'please,': 3, \"sir--'\": 1, 'violently,': 2, 'dropped': 4, 'fan,': 1, 'skurried': 1, 'darkness': 1, 'hard': 8, 'go.': 1, 'gloves,': 3, 'and,': 19, 'hall': 1, 'hot,': 1, 'fanning': 1, 'talking:': 1, \"'Dear,\": 1, 'queer': 9, 'everything': 9, 'to-day!': 1, 'yesterday': 2, 'usual.': 2, 'changed': 7, 'night?': 1, 'think:': 1, 'morning?': 1, 'feeling': 6, 'different.': 1, 'next': 20, 'question': 7, 'Who': 6, 'am': 13, 'I?': 1, 'Ah,': 1, \"THAT'S\": 3, \"puzzle!'\": 1, 'thinking': 10, 'age': 2, \"'I'm\": 19, \"Ada,'\": 1, 'hair': 5, 'goes': 7, 'ringlets,': 1, 'mine': 3, \"doesn't\": 16, 'ringlets': 1, 'all;': 2, \"can't\": 27, 'Mabel,': 2, 'know': 44, 'sorts': 3, 'she,': 4, 'oh!': 2, 'knows': 2, 'little!': 1, 'Besides,': 1, \"SHE'S\": 1, 'I,': 1, 'and--oh': 2, 'puzzling': 4, 'is!': 1, 'try': 12, 'used': 12, 'times': 6, 'five': 1, 'twelve,': 1, 'six': 2, 'thirteen,': 1, 'seven': 1, 'is--oh': 1, 'twenty': 1, 'rate!': 1, 'Multiplication': 1, 'Table': 1, 'signify:': 1, \"let's\": 3, 'Geography.': 1, 'London': 1, 'capital': 4, 'Paris,': 1, 'Paris': 1, 'Rome,': 1, 'Rome--no,': 1, 'wrong,': 2, 'certain!': 1, 'Mabel!': 1, '\"How': 1, 'doth': 2, 'little--\"\\'': 1, 'crossed': 3, 'hands': 6, 'lap': 2, 'lessons,': 1, 'repeat': 6, 'voice': 17, 'sounded': 5, 'hoarse': 2, 'strange,': 1, 'do:--': 1, \"'How\": 15, 'crocodile': 1, 'Improve': 1, 'his': 93, 'shining': 1, 'tail,': 3, 'pour': 1, 'waters': 1, 'Nile': 1, 'On': 4, 'scale!': 1, 'cheerfully': 1, 'seems': 4, 'grin,': 3, 'neatly': 2, 'spread': 3, 'claws,': 1, 'welcome': 1, 'fishes': 1, 'With': 2, 'gently': 3, 'smiling': 2, \"jaws!'\": 1, \"words,'\": 1, 'again': 13, 'Mabel': 1, 'all,': 3, 'live': 7, 'poky': 1, 'house,': 9, 'toys': 1, 'play': 8, 'with,': 1, 'learn!': 2, 'it;': 9, 'stay': 4, 'here!': 2, \"It'll\": 1, 'putting': 3, '\"Come': 1, 'again,': 31, 'dear!\"': 1, '\"Who': 1, 'then?': 1, 'Tell': 3, 'first,': 7, 'then,': 6, 'being': 19, 'person,': 1, 'up:': 1, 'not,': 9, 'till': 19, 'somebody': 3, 'else\"--but,': 1, 'oh': 1, \"dear!'\": 3, 'sudden': 5, 'burst': 1, 'down!': 2, 'alone': 2, \"here!'\": 1, 'As': 12, 'hands,': 5, \"Rabbit's\": 3, 'while': 15, 'talking.': 2, 'CAN': 4, 'done': 10, \"that?'\": 6, 'thought.': 2, 'growing': 6, \"again.'\": 2, 'measure': 1, 'nearly': 10, 'guess,': 1, 'shrinking': 4, 'rapidly:': 1, 'cause': 2, 'holding,': 1, 'hastily,': 4, 'avoid': 1, 'altogether.': 1, \"'That\": 6, 'narrow': 1, \"escape!'\": 1, 'frightened': 7, 'change,': 2, 'existence;': 1, \"garden!'\": 1, 'speed': 1, 'door:': 1, 'worse': 2, \"ever,'\": 2, 'child,': 1, 'never!': 1, 'declare': 1, 'bad,': 1, \"is!'\": 3, 'these': 11, 'foot': 5, 'slipped,': 1, 'splash!': 1, 'chin': 4, 'salt': 2, 'water.': 1, 'Her': 3, 'somehow': 1, 'sea,': 3, 'case': 4, \"railway,'\": 1, 'herself.': 8, 'seaside': 1, 'life,': 2, 'general': 3, 'conclusion,': 1, 'wherever': 2, 'English': 1, 'coast': 1, 'number': 4, 'bathing': 1, 'machines': 1, 'digging': 2, 'sand': 1, 'wooden': 1, 'spades,': 1, 'lodging': 1, 'houses,': 1, 'railway': 1, 'station.)': 1, 'wept': 1, 'high.': 3, \"hadn't\": 7, \"much!'\": 2, 'swam': 5, 'about,': 6, 'out.': 2, 'punished': 1, 'suppose,': 1, 'drowned': 1, 'tears!': 1, 'That': 3, 'WILL': 3, 'thing,': 4, 'sure!': 1, \"to-day.'\": 1, 'something': 14, 'splashing': 2, 'nearer': 4, 'was:': 2, 'walrus': 1, 'hippopotamus,': 1, 'mouse': 3, 'slipped': 2, \"'Would\": 5, 'use,': 2, 'mouse?': 1, 'Everything': 1, 'here,': 6, 'talk:': 1, 'rate,': 2, 'harm': 1, \"trying.'\": 1, 'began:': 1, \"'O\": 1, 'Mouse,': 8, 'pool?': 1, 'swimming': 2, 'O': 1, \"Mouse!'\": 1, 'speaking': 2, 'mouse:': 1, \"brother's\": 1, 'Latin': 1, 'Grammar,': 1, \"'A\": 9, 'mouse--of': 1, 'mouse--to': 1, 'mouse--a': 1, 'mouse--O': 1, \"mouse!')\": 1, 'Mouse': 17, 'inquisitively,': 1, 'wink': 2, 'its': 56, 'eyes,': 5, 'nothing.': 3, \"'Perhaps\": 3, 'understand': 5, \"English,'\": 1, 'daresay': 1, 'French': 3, 'William': 3, \"Conqueror.'\": 1, '(For,': 1, 'knowledge': 1, 'history,': 4, 'clear': 2, 'notion': 3, 'ago': 1, 'happened.)': 1, 'again:': 4, \"'Ou\": 1, 'est': 1, 'ma': 1, \"chatte?'\": 1, 'sentence': 5, 'lesson-book.': 1, 'leap': 1, 'water,': 1, 'quiver': 1, 'fright.': 1, 'beg': 7, \"pardon!'\": 4, 'afraid': 9, 'hurt': 2, \"animal's\": 1, 'feelings.': 1, \"cats.'\": 1, \"'Not\": 9, \"cats!'\": 1, 'shrill,': 2, 'passionate': 1, 'voice.': 10, 'YOU': 7, \"me?'\": 2, \"not,'\": 6, 'soothing': 1, 'tone:': 5, \"'don't\": 2, 'angry': 3, 'yet': 6, 'show': 3, 'our': 7, 'cat': 7, 'Dinah:': 1, \"you'd\": 8, 'dear': 6, 'quiet': 2, \"thing,'\": 3, 'lazily': 1, 'pool,': 2, 'sits': 1, 'purring': 1, 'nicely': 2, 'fire,': 3, 'licking': 1, 'paws': 2, 'washing': 1, 'face--and': 1, 'soft': 1, 'nurse--and': 1, \"she's\": 3, 'catching': 2, 'mice--oh,': 1, 'bristling': 1, 'over,': 2, 'offended.': 1, \"'We\": 8, 'talk': 10, \"not.'\": 2, \"indeed!'\": 6, 'trembling': 6, 'end': 12, 'tail.': 2, \"'As\": 3, 'subject!': 1, 'Our': 1, 'family': 1, 'always': 11, 'HATED': 1, 'cats:': 1, 'nasty,': 1, 'vulgar': 1, 'things!': 1, \"Don't\": 4, 'let': 7, \"again!'\": 7, 'hurry': 4, 'change': 9, 'subject': 2, 'conversation.': 5, \"'Are\": 4, 'you--are': 1, 'fond--of--of': 1, \"dogs?'\": 1, 'answer,': 1, 'eagerly:': 1, \"'There\": 4, 'dog': 2, 'house': 8, 'you!': 2, 'bright-eyed': 1, 'terrier,': 1, 'know,': 7, 'oh,': 3, 'curly': 1, 'brown': 1, 'hair!': 1, 'fetch': 5, 'throw': 3, 'them,': 21, 'sit': 5, 'dinner,': 1, 'things--I': 1, 'them--and': 2, 'belongs': 2, 'farmer,': 1, 'says': 4, 'useful,': 2, 'hundred': 1, 'pounds!': 1, 'He': 14, 'kills': 1, 'rats': 1, 'sorrowful': 2, 'tone,': 16, 'offended': 7, 'For': 10, 'go,': 4, 'commotion': 1, 'went.': 2, 'called': 15, 'softly': 1, \"'Mouse\": 1, 'we': 15, 'dogs': 1, \"them!'\": 5, 'When': 7, 'slowly': 6, 'her:': 5, 'pale': 2, '(with': 1, 'passion,': 2, 'thought),': 1, \"'Let\": 3, 'us': 9, 'shore,': 2, \"you'll\": 4, 'why': 7, 'hate': 1, \"dogs.'\": 1, 'high': 3, 'crowded': 5, 'birds': 7, 'animals': 3, 'Duck': 1, 'Dodo,': 3, 'Lory': 3, 'Eaglet,': 1, 'creatures.': 1, 'whole': 13, 'party': 7, 'shore.': 1, 'III.': 1, 'Caucus-Race': 1, 'Long': 1, 'Tale': 1, 'They': 9, 'queer-looking': 1, 'assembled': 2, 'bank--the': 1, 'draggled': 1, 'feathers,': 1, 'fur': 2, 'clinging': 1, 'dripping': 1, 'wet,': 1, 'cross,': 1, 'uncomfortable.': 2, 'course': 11, 'consultation': 1, 'natural': 3, 'familiarly': 1, 'known': 1, 'life.': 2, 'Indeed,': 1, 'argument': 4, 'Lory,': 3, 'last': 25, 'sulky,': 1, 'older': 2, \"better';\": 1, 'allow': 1, 'knowing': 2, 'old': 13, 'positively': 1, 'refused': 1, 'age,': 2, 'said.': 4, 'At': 8, 'person': 2, 'authority': 2, \"'Sit\": 1, \"I'LL\": 1, \"enough!'\": 1, 'once,': 5, 'ring,': 2, 'middle.': 1, 'fixed': 1, 'bad': 1, 'cold': 1, 'soon.': 1, \"'Ahem!'\": 1, 'important': 3, \"'are\": 2, 'ready?': 1, 'This': 15, 'driest': 1, 'Silence': 1, 'please!': 1, '\"William': 1, 'Conqueror,': 1, 'whose': 2, 'favoured': 1, 'pope,': 1, 'submitted': 1, 'English,': 1, 'wanted': 4, 'leaders,': 1, 'accustomed': 1, 'usurpation': 1, 'conquest.': 1, 'Edwin': 1, 'Morcar,': 2, 'earls': 2, 'Mercia': 2, 'Northumbria--\"\\'': 1, \"'Ugh!'\": 1, 'shiver.': 1, 'frowning,': 1, 'politely:': 1, \"'Did\": 3, \"speak?'\": 1, \"I!'\": 2, 'hastily.': 4, \"did,'\": 3, 'Mouse.': 2, \"'--I\": 1, 'proceed.': 1, '\"Edwin': 1, 'Northumbria,': 1, 'declared': 1, 'him:': 3, 'Stigand,': 1, 'patriotic': 1, 'archbishop': 2, 'Canterbury,': 1, 'advisable--\"\\'': 1, \"'Found\": 2, \"WHAT?'\": 3, 'Duck.': 1, \"IT,'\": 1, 'replied': 14, 'crossly:': 1, \"'of\": 1, '\"it\"': 2, \"means.'\": 1, 'means': 2, 'enough,': 2, 'Duck:': 1, \"'it's\": 8, 'frog': 1, 'worm.': 1, \"find?'\": 1, 'notice': 5, 'hurriedly': 2, '\\'\"--found': 1, 'advisable': 1, 'Edgar': 1, 'Atheling': 1, 'meet': 2, 'offer': 2, 'him': 21, 'crown.': 1, \"William's\": 1, 'conduct': 1, 'moderate.': 1, 'insolence': 1, 'Normans--\"': 1, \"dear?'\": 1, 'continued,': 2, 'turning': 12, 'spoke.': 6, 'wet': 1, 'melancholy': 6, \"all.'\": 2, \"'In\": 5, \"case,'\": 1, 'Dodo': 9, 'solemnly,': 1, 'rising': 1, 'move': 2, 'meeting': 1, 'adjourn,': 1, 'immediate': 1, 'adoption': 1, 'energetic': 1, \"remedies--'\": 1, \"'Speak\": 2, \"English!'\": 1, 'Eaglet.': 1, 'meaning': 7, 'words,': 1, \"what's\": 2, 'more,': 4, 'believe': 8, \"either!'\": 1, 'Eaglet': 1, 'bent': 1, 'hide': 1, 'smile:': 1, 'tittered': 1, 'audibly.': 1, \"say,'\": 4, \"'was,\": 1, \"Caucus-race.'\": 1, 'IS': 8, \"Caucus-race?'\": 1, 'paused': 1, 'SOMEBODY': 1, 'speak,': 2, 'inclined': 1, 'anything.': 1, \"'Why,'\": 2, \"'the\": 5, 'explain': 8, \"it.'\": 9, '(And,': 1, 'yourself,': 1, 'winter': 1, 'day,': 4, 'it.)': 2, 'First': 2, 'race-course,': 1, 'circle,': 1, \"('the\": 1, 'exact': 1, 'shape': 1, \"matter,'\": 1, 'said,)': 1, 'placed': 1, 'course,': 5, 'there.': 2, \"'One,\": 2, 'two,': 9, 'three,': 1, \"away,'\": 1, 'running': 8, 'liked,': 2, 'easy': 2, 'race': 2, 'hour': 2, \"'The\": 15, \"over!'\": 3, 'panting,': 2, 'asking,': 1, 'has': 6, \"won?'\": 1, 'thought,': 6, 'pressed': 3, 'forehead': 2, '(the': 1, 'position': 2, 'Shakespeare,': 1, 'him),': 1, 'rest': 9, 'silence.': 5, \"'EVERYBODY\": 1, 'won,': 1, \"prizes.'\": 1, \"prizes?'\": 1, 'chorus': 2, 'voices': 2, 'asked.': 8, \"'Why,\": 8, 'SHE,': 1, \"course,'\": 5, 'pointing': 3, 'finger;': 1, 'calling': 1, 'confused': 3, \"'Prizes!\": 1, \"Prizes!'\": 1, 'despair': 1, 'pocket,': 2, 'pulled': 1, 'comfits,': 1, '(luckily': 1, 'water': 2, 'handed': 3, 'prizes.': 1, 'exactly': 5, 'a-piece': 1, 'round.': 3, 'prize': 1, \"'Of\": 11, 'gravely.': 1, \"pocket?'\": 1, 'Alice.': 54, \"'Only\": 2, \"thimble,'\": 1, 'sadly.': 2, \"'Hand\": 1, \"here,'\": 5, 'Dodo.': 1, 'Then': 9, 'solemnly': 2, 'presented': 1, 'thimble,': 2, 'acceptance': 1, 'elegant': 1, \"thimble';\": 1, 'short': 4, 'speech,': 1, 'cheered.': 1, 'absurd,': 1, 'grave': 3, 'dare': 5, 'laugh;': 1, 'simply': 2, 'bowed,': 1, 'looking': 30, 'solemn': 3, 'could.': 4, 'comfits:': 1, 'caused': 2, 'noise': 3, 'confusion,': 2, 'complained': 1, 'theirs,': 1, 'ones': 1, 'choked': 3, 'patted': 1, 'back.': 2, 'last,': 5, 'begged': 1, 'more.': 1, 'promised': 1, 'hate--C': 1, \"D,'\": 1, 'added': 20, 'whisper,': 1, \"'Mine\": 1, 'sad': 2, \"tale!'\": 1, 'sighing.': 1, \"'It\": 24, \"certainly,'\": 3, \"Mouse's\": 1, 'tail;': 1, \"'but\": 19, 'call': 5, \"sad?'\": 1, 'speaking,': 3, 'tale': 1, 'this:--': 2, \"'Fury\": 1, 'met': 3, '\"Let': 1, 'both': 14, 'law:': 1, 'prosecute': 1, 'YOU.--Come,': 1, 'denial;': 1, 'We': 1, 'trial:': 1, 'morning': 1, 'do.\"': 1, 'Said': 4, 'cur,': 1, '\"Such': 1, 'trial,': 1, 'Sir,': 1, 'jury': 9, 'judge,': 3, 'wasting': 2, 'breath.\"': 1, '\"I\\'ll': 2, 'jury,\"': 1, 'cunning': 1, 'Fury:': 1, 'cause,': 1, 'condemn': 1, 'death.\"\\'': 1, \"attending!'\": 1, 'severely.': 1, \"of?'\": 3, \"pardon,'\": 1, 'humbly:': 1, \"'you\": 8, 'fifth': 1, 'bend,': 1, \"think?'\": 2, \"NOT!'\": 1, 'sharply': 1, 'angrily.': 3, \"knot!'\": 1, 'undo': 1, \"it!'\": 7, \"sort,'\": 1, 'away.': 3, 'insult': 1, \"nonsense!'\": 2, 'mean': 7, 'pleaded': 3, 'easily': 3, 'offended,': 1, \"know!'\": 2, 'growled': 1, 'reply.': 3, \"'Please\": 3, 'finish': 4, \"story!'\": 2, 'others': 4, 'joined': 2, 'chorus,': 1, \"'Yes,\": 8, 'please': 8, \"do!'\": 3, 'shook': 9, 'impatiently,': 2, 'quicker.': 1, 'pity': 1, \"stay!'\": 1, 'sighed': 5, 'sight;': 1, 'Crab': 1, 'daughter': 1, \"'Ah,\": 2, 'lesson': 1, 'lose': 1, 'YOUR': 7, \"temper!'\": 1, \"'Hold\": 3, 'tongue,': 1, \"Ma!'\": 1, 'young': 5, 'Crab,': 1, 'snappishly.': 1, \"'You're\": 6, 'patience': 1, \"oyster!'\": 1, 'aloud,': 1, 'addressing': 1, 'nobody': 3, 'particular.': 1, \"'She'd\": 1, \"back!'\": 2, 'venture': 3, \"question?'\": 1, 'Lory.': 1, 'eagerly,': 3, 'pet:': 1, \"'Dinah's\": 1, 'cat.': 1, 'think!': 1, 'birds!': 1, 'bird': 1, 'speech': 1, 'sensation': 1, 'party.': 1, 'Some': 2, 'once:': 1, 'Magpie': 1, 'wrapping': 1, 'itself': 8, 'carefully,': 3, 'remarking,': 1, 'home;': 1, 'night-air': 1, 'suit': 3, \"throat!'\": 1, 'Canary': 1, 'children,': 3, \"'Come\": 6, 'away,': 3, 'dears!': 1, \"It's\": 6, \"bed!'\": 1, 'various': 1, 'pretexts': 1, 'moved': 4, 'alone.': 1, 'mentioned': 3, \"Dinah!'\": 1, 'tone.': 9, \"'Nobody\": 2, 'world!': 1, 'Dinah!': 1, \"more!'\": 1, 'lonely': 2, 'low-spirited.': 1, 'footsteps': 1, 'mind,': 2, 'story.': 1, 'IV.': 1, 'Sends': 1, 'Little': 1, 'Bill': 2, 'Rabbit,': 8, 'went,': 2, 'lost': 1, 'something;': 1, 'paws!': 1, 'whiskers!': 1, \"She'll\": 1, 'executed,': 3, 'ferrets': 1, 'ferrets!': 1, 'Where': 3, 'guessed': 3, 'good-naturedly': 1, 'hunting': 3, 'nowhere': 2, 'seen--everything': 1, 'since': 4, 'swim': 1, 'vanished': 3, 'completely.': 1, 'Very': 1, 'Mary': 3, 'Ann,': 2, 'ARE': 5, 'doing': 3, 'here?': 2, 'Run': 1, 'home': 1, 'fan!': 1, 'Quick,': 1, \"now!'\": 3, 'direction': 2, 'pointed': 1, 'mistake': 2, 'made.': 1, \"'He\": 4, \"housemaid,'\": 1, 'ran.': 1, \"he'll\": 1, 'finds': 1, 'am!': 1, \"I'd\": 7, 'better': 11, 'gloves--that': 1, \"them.'\": 2, 'neat': 1, 'brass': 1, 'plate': 2, \"'W.\": 1, \"RABBIT'\": 1, 'engraved': 1, 'knocking,': 1, 'upstairs,': 1, 'lest': 1, 'real': 3, 'gloves.': 1, \"seems,'\": 1, 'messages': 2, 'rabbit!': 1, 'suppose': 8, \"Dinah'll\": 1, \"next!'\": 1, 'fancying': 1, 'happen:': 1, '\\'\"Miss': 1, 'Come': 4, 'directly,': 1, 'walk!\"': 1, '\"Coming': 1, 'minute,': 4, 'nurse!': 1, 'out.\"': 1, 'Only': 1, \"think,'\": 2, \"'that\": 7, \"they'd\": 3, 'stop': 3, 'ordering': 2, 'By': 3, 'tidy': 1, 'room': 8, 'window,': 5, 'hoped)': 1, 'three': 23, 'pairs': 1, 'gloves:': 1, 'room,': 1, 'stood': 7, 'looking-glass.': 1, 'label': 1, \"ME,'\": 3, 'nevertheless': 1, 'uncorked': 1, 'lips.': 1, 'SOMETHING': 1, 'interesting': 3, \"happen,'\": 1, \"'whenever\": 1, 'does.': 1, \"thing!'\": 6, 'indeed,': 1, 'expected:': 1, 'drunk': 2, 'bottle,': 2, 'pressing': 1, 'ceiling,': 1, 'stoop': 1, 'save': 1, 'broken.': 1, \"'That's\": 14, 'enough--I': 1, 'more--As': 1, 'door--I': 1, 'Alas!': 1, 'that!': 2, 'kneel': 1, 'floor:': 1, 'minute': 15, 'effect': 1, 'elbow': 2, 'arm': 7, 'curled': 2, 'head.': 5, 'Still': 1, 'resource,': 1, 'chimney,': 2, \"'Now\": 4, 'whatever': 1, 'happens.': 1, 'What': 4, 'become': 5, 'Luckily': 1, 'magic': 1, 'full': 6, 'effect,': 1, 'grew': 1, 'larger:': 1, 'uncomfortable,': 1, 'chance': 4, 'unhappy.': 1, 'pleasanter': 1, \"home,'\": 1, \"'when\": 2, \"wasn't\": 11, 'ordered': 2, 'rabbits.': 1, 'gone': 9, 'rabbit-hole--and': 1, 'yet--and': 1, \"yet--it's\": 1, 'curious,': 1, 'life!': 1, 'fairy-tales,': 1, 'fancied': 2, 'middle': 3, 'one!': 1, 'me,': 3, 'ought!': 1, 'write': 5, 'one--but': 1, 'grown': 7, 'tone;': 2, \"'at\": 2, 'least': 7, \"HERE.'\": 1, \"then,'\": 6, \"'shall\": 1, 'now?': 1, \"That'll\": 1, 'comfort,': 1, 'way--never': 1, 'woman--but': 1, 'then--always': 1, \"shouldn't\": 5, \"THAT!'\": 1, 'foolish': 1, \"Alice!'\": 1, 'answered': 3, 'learn': 4, 'YOU,': 1, \"lesson-books!'\": 1, 'taking': 5, 'conversation': 4, 'altogether;': 1, 'outside,': 1, 'stopped': 3, 'listen.': 2, \"'Mary\": 1, 'Ann!': 1, \"Ann!'\": 1, \"'Fetch\": 1, \"moment!'\": 1, 'stairs.': 1, 'trembled': 2, 'forgetting': 3, 'reason': 8, 'inwards,': 1, 'attempt': 1, 'proved': 2, 'failure.': 1, \"'Then\": 11, \"window.'\": 1, \"'THAT\": 2, \"won't'\": 1, 'hand,': 6, 'snatch': 2, 'air.': 5, 'anything,': 1, 'shriek': 3, 'fall,': 1, 'crash': 1, 'broken': 5, 'concluded': 2, 'possible': 1, 'cucumber-frame,': 1, 'sort.': 1, 'Next': 2, 'voice--the': 1, \"Rabbit's--'Pat!\": 1, 'Pat!': 1, \"you?'\": 7, \"'Sure\": 1, 'Digging': 1, 'apples,': 2, 'yer': 4, \"honour!'\": 2, \"'Digging\": 1, \"'Here!\": 2, \"THIS!'\": 1, '(Sounds': 1, 'glass.)': 1, 'Pat,': 1, \"window?'\": 1, \"'Sure,\": 3, 'arm,': 5, '(He': 1, 'pronounced': 1, \"'arrum.')\": 1, \"'An\": 1, 'goose!': 1, 'size?': 1, 'fills': 1, \"window!'\": 1, 'does,': 1, 'honour:': 1, \"that.'\": 3, 'business': 2, 'there,': 1, 'rate:': 1, \"away!'\": 2, 'silence': 3, 'whispers': 1, 'then;': 1, 'honour,': 1, \"all!'\": 1, \"coward!'\": 1, 'TWO': 1, 'shrieks,': 1, 'sounds': 3, 'glass.': 1, 'cucumber-frames': 1, \"be!'\": 1, 'next!': 2, 'pulling': 1, 'COULD!': 1, \"longer!'\": 1, 'hearing': 3, 'more:': 1, 'rumbling': 1, 'cartwheels,': 1, 'together:': 1, 'words:': 2, \"'Where's\": 1, 'ladder?--Why,': 1, \"Bill's\": 3, 'other--Bill!': 1, 'lad!--Here,': 1, \"'em\": 3, 'corner--No,': 1, 'tie': 1, 'together': 2, 'first--they': 1, 'yet--Oh!': 1, 'enough;': 2, 'particular--Here,': 1, 'Bill!': 3, 'rope--Will': 1, 'bear?--Mind': 1, 'loose': 1, 'slate--Oh,': 1, 'Heads': 1, \"below!'\": 1, '(a': 1, 'loud': 3, \"crash)--'Now,\": 1, 'that?--It': 1, 'Bill,': 3, \"fancy--Who's\": 1, 'chimney?--Nay,': 1, \"shan't!\": 1, 'it!--That': 1, \"won't,\": 1, \"then!--Bill's\": 1, 'down--Here,': 1, 'master': 2, \"chimney!'\": 1, \"he?'\": 1, \"'Shy,\": 1, 'place': 6, 'deal:': 1, 'fireplace': 1, 'narrow,': 1, 'sure;': 1, 'THINK': 1, 'kick': 2, \"little!'\": 1, 'drew': 5, 'chimney': 2, 'animal': 1, 'guess': 2, 'was)': 1, 'scratching': 1, 'scrambling': 1, 'above': 3, \"'This\": 2, \"Bill,'\": 2, 'sharp': 6, 'kick,': 1, \"Bill!'\": 1, \"along--'Catch\": 1, 'him,': 4, \"hedge!'\": 1, 'silence,': 2, 'confusion': 3, \"voices--'Hold\": 1, 'head--Brandy': 1, \"now--Don't\": 1, 'choke': 1, 'him--How': 1, 'fellow?': 1, 'you?': 2, 'Last': 1, 'feeble,': 1, 'squeaking': 2, \"('That's\": 1, 'know--No': 1, 'thank': 1, 'ye;': 1, 'now--but': 1, 'flustered': 1, 'you--all': 1, 'comes': 1, 'Jack-in-the-box,': 1, \"sky-rocket!'\": 1, \"'So\": 4, 'did,': 3, \"fellow!'\": 1, 'others.': 2, \"down!'\": 1, 'voice;': 2, 'do.': 2, 'dead': 4, 'instantly,': 2, 'If': 3, 'sense,': 2, \"off.'\": 1, 'moving': 3, 'barrowful': 2, 'begin': 7, \"with.'\": 1, 'doubt,': 2, 'shower': 2, 'pebbles': 2, 'rattling': 2, 'hit': 2, 'face.': 3, \"'I'll\": 5, \"this,'\": 1, 'shouted': 9, \"'You'd\": 1, 'produced': 1, 'surprise': 1, 'cakes': 1, 'lay': 4, 'floor,': 2, \"cakes,'\": 1, 'SOME': 1, 'size;': 1, \"suppose.'\": 1, 'swallowed': 1, 'cakes,': 1, 'delighted': 2, 'directly.': 1, 'crowd': 4, 'outside.': 1, 'Lizard,': 2, 'held': 4, 'guinea-pigs,': 2, 'giving': 2, 'bottle.': 1, 'rush': 2, 'appeared;': 1, 'safe': 2, 'thick': 1, 'wood.': 3, \"do,'\": 4, 'wandered': 2, 'wood,': 1, \"'is\": 1, 'again;': 2, \"plan.'\": 1, 'excellent': 2, 'plan,': 1, 'arranged;': 1, 'difficulty': 3, 'smallest': 2, 'peering': 1, 'trees,': 2, 'bark': 2, 'An': 4, 'enormous': 1, 'puppy': 5, 'feebly': 1, 'stretching': 1, 'paw,': 2, 'touch': 1, \"'Poor\": 1, 'coaxing': 1, 'whistle': 1, 'terribly': 1, 'hungry,': 1, 'spite': 1, 'coaxing.': 1, 'Hardly': 1, 'picked': 3, 'stick,': 4, 'puppy;': 1, 'whereupon': 1, 'air': 2, 'yelp': 1, 'delight,': 2, 'rushed': 1, 'worry': 1, 'dodged': 1, 'thistle,': 1, 'keep': 8, 'run': 3, 'over;': 1, 'appeared': 3, 'tumbled': 1, 'heels': 1, 'cart-horse,': 1, 'trampled': 1, 'thistle': 1, 'series': 1, 'charges': 1, 'forwards': 1, 'each': 7, 'back,': 4, 'barking': 1, 'hoarsely': 1, 'tongue': 1, 'mouth,': 2, 'shut.': 1, 'escape;': 1, 'breath,': 3, \"puppy's\": 1, 'faint': 1, 'distance.': 2, \"was!'\": 1, 'leant': 1, 'buttercup': 1, 'fanned': 1, 'leaves:': 1, 'liked': 3, 'teaching': 1, 'tricks': 1, 'much,': 2, 'if--if': 1, 'it!': 1, 'again!': 1, 'see--how': 1, 'managed?': 1, 'other;': 2, \"what?'\": 2, 'what?': 1, 'blades': 1, 'grass,': 2, 'circumstances.': 1, 'mushroom': 4, 'height': 4, 'herself;': 4, 'stretched': 2, 'tiptoe,': 2, 'edge': 3, 'mushroom,': 3, 'immediately': 3, 'caterpillar,': 1, 'arms': 5, 'folded,': 2, 'quietly': 4, 'smoking': 2, 'hookah,': 1, 'else.': 2, 'V.': 1, 'Advice': 1, 'Caterpillar': 11, 'silence:': 1, 'hookah': 4, 'addressed': 2, 'languid,': 1, \"'Who\": 6, \"YOU?'\": 2, 'Caterpillar.': 12, 'encouraging': 2, 'replied,': 5, 'shyly,': 1, \"'I--I\": 1, 'sir,': 3, 'present--at': 1, 'morning,': 2, \"then.'\": 2, 'sternly.': 1, \"'Explain\": 2, \"yourself!'\": 1, 'MYSELF,': 1, \"sir'\": 1, \"'because\": 3, 'myself,': 1, \"see.'\": 1, \"see,'\": 1, \"clearly,'\": 1, 'politely,': 3, 'with;': 1, 'different': 4, 'sizes': 1, \"confusing.'\": 1, \"isn't,'\": 1, \"haven't\": 7, \"yet,'\": 4, 'turn': 6, 'chrysalis--you': 1, 'know--and': 1, 'butterfly,': 1, 'queer,': 1, \"bit,'\": 2, 'feelings': 1, 'may': 11, \"different,'\": 1, \"'all\": 1, \"ME.'\": 1, \"'You!'\": 1, 'contemptuously.': 2, 'brought': 3, 'irritated': 1, \"Caterpillar's\": 1, 'remarks,': 1, 'gravely,': 2, 'think,': 2, 'are,': 2, \"first.'\": 1, \"'Why?'\": 2, 'Here': 5, 'question;': 1, 'reason,': 1, 'state': 1, \"'I've\": 13, \"say!'\": 1, 'promising,': 1, 'certainly:': 2, \"'Keep\": 1, \"temper,'\": 1, \"'Is\": 3, \"all?'\": 2, 'swallowing': 1, 'anger': 1, \"'No,'\": 2, 'wait,': 1, 'hearing.': 1, 'puffed': 1, 'unfolded': 2, 'arms,': 1, 'mouth': 7, 'changed,': 1, 'am,': 1, \"sir,'\": 1, 'used--and': 1, \"together!'\": 1, \"'Can't\": 1, 'WHAT': 2, \"things?'\": 1, '\"HOW': 1, 'DOTH': 1, 'LITTLE': 2, 'BUSY': 1, 'BEE,\"': 1, \"different!'\": 2, \"'Repeat,\": 1, '\"YOU': 1, 'OLD,': 2, 'FATHER': 2, 'WILLIAM,\"\\'': 1, 'folded': 1, 'began:--': 1, 'old,': 1, 'Father': 2, \"William,'\": 1, 'man': 1, 'white;': 1, 'incessantly': 1, 'stand': 4, 'head--': 1, \"right?'\": 1, \"youth,'\": 3, 'son,': 1, 'feared': 1, 'injure': 1, 'brain;': 1, 'But,': 2, 'perfectly': 4, 'none,': 1, \"old,'\": 3, 'youth,': 3, \"'as\": 4, 'most': 8, 'uncommonly': 1, 'fat;': 1, 'Yet': 3, 'back-somersault': 1, 'door--': 1, 'Pray,': 1, 'sage,': 1, 'grey': 1, 'locks,': 1, 'limbs': 1, 'supple': 1, 'ointment--one': 1, 'shilling': 1, 'box--': 1, 'Allow': 1, 'sell': 1, \"couple?'\": 1, 'jaws': 1, 'weak': 2, 'tougher': 1, 'suet;': 1, 'goose,': 1, 'bones': 1, 'beak--': 1, 'Pray': 1, \"it?'\": 11, 'father,': 1, 'law,': 1, 'argued': 1, 'wife;': 1, 'muscular': 1, 'strength,': 1, 'jaw,': 1, 'Has': 1, 'lasted': 1, \"life.'\": 1, \"'one\": 1, 'steady': 1, 'ever;': 1, 'balanced': 1, 'eel': 1, 'nose--': 1, 'awfully': 1, \"clever?'\": 1, 'questions,': 1, \"enough,'\": 1, 'father;': 1, 'yourself': 5, 'airs!': 1, 'stuff?': 1, 'Be': 1, \"stairs!'\": 1, \"right,'\": 3, 'QUITE': 2, 'right,': 3, \"afraid,'\": 1, 'timidly;': 1, \"'some\": 1, \"altered.'\": 1, 'wrong': 2, \"end,'\": 1, 'decidedly,': 3, 'minutes.': 2, 'speak.': 1, \"be?'\": 2, 'particular': 1, \"size,'\": 1, 'replied;': 3, \"'only\": 1, 'changing': 2, 'often,': 2, \"know.'\": 9, \"DON'T\": 1, 'nothing:': 1, 'contradicted': 1, 'losing': 1, 'temper.': 1, 'content': 1, \"now?'\": 2, \"mind,'\": 1, 'Alice:': 7, \"'three\": 1, 'wretched': 2, \"be.'\": 1, 'angrily,': 3, 'rearing': 1, 'upright': 1, 'spoke': 4, 'high).': 1, 'piteous': 1, 'creatures': 6, \"offended!'\": 1, \"'You'll\": 2, \"time,'\": 5, 'Caterpillar;': 1, 'patiently': 1, 'chose': 1, 'yawned': 2, 'twice,': 3, 'itself.': 1, 'crawled': 1, 'merely': 2, 'remarking': 2, \"'One\": 2, 'taller,': 1, \"shorter.'\": 1, 'WHAT?': 1, \"mushroom,'\": 1, 'Caterpillar,': 2, 'asked': 8, 'aloud;': 1, 'sight.': 1, 'thoughtfully': 1, 'difficult': 2, 'question.': 3, 'broke': 2, 'hand.': 1, \"which?'\": 1, 'nibbled': 2, 'right-hand': 1, 'effect:': 1, 'violent': 2, 'blow': 2, 'underneath': 1, 'chin:': 1, 'foot!': 1, 'lost,': 1, 'rapidly;': 1, 'work': 7, 'bit.': 2, 'closely': 1, 'foot,': 2, 'mouth;': 1, 'swallow': 1, 'morsel': 1, 'lefthand': 2, \"head's\": 1, 'free': 2, \"last!'\": 1, 'tone': 8, 'alarm': 1, 'shoulders': 2, 'found:': 1, 'immense': 1, 'length': 1, 'neck,': 1, 'rise': 1, 'stalk': 1, 'sea': 2, 'green': 3, 'leaves': 2, 'below': 1, 'stuff': 1, 'where': 7, 'HAVE': 4, 'to?': 1, 'spoke,': 5, 'result': 1, 'follow,': 1, 'shaking': 3, 'distant': 2, 'leaves.': 1, 'head,': 3, 'bend': 1, 'direction,': 1, 'serpent.': 1, 'succeeded': 3, 'curving': 1, 'graceful': 1, 'zigzag,': 1, 'dive': 1, 'tops': 1, 'trees': 5, 'wandering,': 1, 'hiss': 1, 'draw': 4, 'hurry:': 1, 'pigeon': 1, 'flown': 1, 'face,': 4, 'beating': 1, 'violently': 2, 'wings.': 1, \"'Serpent!'\": 1, 'screamed': 4, 'Pigeon.': 2, \"serpent!'\": 1, 'indignantly.': 3, \"alone!'\": 1, \"'Serpent,\": 1, 'repeated': 8, 'Pigeon,': 2, 'subdued': 1, 'sob,': 1, \"about,'\": 1, 'roots': 1, 'banks,': 1, \"hedges,'\": 1, 'Pigeon': 5, 'attending': 2, 'her;': 3, 'serpents!': 1, \"There's\": 1, 'pleasing': 1, 'puzzled,': 1, 'finished.': 1, 'hatching': 1, \"eggs,'\": 1, 'Pigeon;': 2, 'look-out': 1, 'serpents': 2, 'night': 1, 'day!': 1, 'sleep': 4, \"weeks!'\": 1, 'sorry': 1, \"you've\": 5, \"annoyed,'\": 1, 'meaning.': 1, 'taken': 4, 'highest': 1, 'tree': 3, \"wood,'\": 1, 'continued': 7, 'raising': 1, 'shriek,': 2, 'needs': 1, 'wriggling': 1, 'sky!': 1, 'Ugh,': 1, \"Serpent!'\": 1, 'serpent,': 2, \"a--I'm\": 1, \"a--'\": 1, \"'Well!\": 2, 'invent': 1, \"something!'\": 1, \"'I--I'm\": 1, \"girl,'\": 1, 'doubtfully,': 1, 'changes': 2, 'day.': 3, 'story': 2, 'deepest': 1, 'contempt.': 1, 'girls': 3, 'no!': 2, \"You're\": 2, 'serpent;': 1, 'denying': 1, 'telling': 2, 'tasted': 2, \"egg!'\": 1, 'eggs,': 3, 'truthful': 1, 'child;': 1, 'eggs': 1, \"they're\": 9, \"say.'\": 2, 'silent': 3, 'adding,': 1, 'does': 3, \"serpent?'\": 1, 'matters': 2, 'hastily;': 1, 'happens;': 1, 'YOURS:': 1, \"raw.'\": 1, \"then!'\": 2, 'sulky': 2, 'settled': 3, 'nest.': 1, 'crouched': 1, 'entangled': 2, 'branches,': 1, 'untwist': 1, 'pieces': 2, 'nibbling': 3, 'taller': 1, 'shorter,': 1, 'bringing': 3, 'usual': 1, 'height.': 1, 'size,': 1, 'strange': 4, 'first;': 2, 'minutes,': 2, 'plan': 1, 'now!': 1, 'are!': 1, 'be,': 1, 'another!': 1, 'beautiful': 8, 'garden--how': 1, 'done,': 1, 'place,': 2, \"'Whoever\": 1, 'lives': 1, \"there,'\": 2, \"'it'll\": 1, 'THIS': 3, 'why,': 2, 'frighten': 1, \"wits!'\": 1, 'righthand': 1, 'VI.': 1, 'Pig': 1, 'Pepper': 1, 'next,': 2, 'footman': 3, 'livery': 1, 'wood--(she': 1, 'considered': 3, 'livery:': 1, 'otherwise,': 1, 'judging': 1, 'only,': 1, 'fish)--and': 1, 'rapped': 1, 'loudly': 2, 'knuckles.': 1, 'livery,': 1, 'frog;': 1, 'footmen,': 1, 'noticed,': 1, 'powdered': 1, 'heads.': 1, 'crept': 1, 'wood': 2, 'Fish-Footman': 2, 'producing': 1, 'letter,': 3, 'himself,': 1, 'saying,': 3, \"'For\": 1, 'Duchess.': 3, 'invitation': 2, 'Queen': 34, \"croquet.'\": 2, 'Frog-Footman': 1, 'repeated,': 2, 'order': 2, 'little,': 3, \"'From\": 1, 'Queen.': 11, 'Duchess': 15, 'bowed': 3, 'curls': 1, 'together.': 2, 'laughed': 1, 'gone,': 3, 'ground': 2, 'staring': 3, 'stupidly': 1, 'sky.': 2, 'timidly': 2, 'knocked.': 1, \"'There's\": 6, \"knocking,'\": 2, 'Footman,': 2, 'reasons.': 1, 'are;': 1, 'secondly,': 2, 'inside,': 1, \"you.'\": 1, 'extraordinary': 2, 'within--a': 1, 'constant': 2, 'howling': 3, 'sneezing,': 1, 'crash,': 1, 'dish': 3, 'kettle': 1, 'pieces.': 1, \"'Please,\": 1, \"'how\": 1, \"in?'\": 3, 'sense': 1, 'Footman': 4, \"'if\": 7, 'between': 5, 'us.': 1, 'instance,': 3, 'INSIDE,': 1, 'knock,': 1, 'sky': 1, 'decidedly': 1, 'uncivil.': 1, \"'his\": 1, 'questions.--How': 1, 'remarked,': 2, \"'till\": 2, \"tomorrow--'\": 1, 'opened,': 1, 'skimming': 1, \"Footman's\": 1, 'head:': 1, 'grazed': 1, 'nose,': 3, 'him.': 2, \"'--or\": 1, \"maybe,'\": 1, 'happened.': 1, 'louder': 1, \"'ARE\": 1, 'Footman.': 1, 'doubt:': 1, 'told': 6, 'so.': 2, \"'It's\": 15, \"dreadful,'\": 1, 'muttered': 2, 'argue.': 1, 'drive': 1, \"crazy!'\": 1, 'repeating': 3, 'remark,': 4, 'variations.': 1, \"'on\": 1, 'days': 2, \"days.'\": 1, \"do?'\": 1, \"'Anything\": 1, \"like,'\": 3, 'whistling.': 1, \"him,'\": 2, 'desperately:': 1, \"'he's\": 1, \"idiotic!'\": 1, 'in.': 1, 'kitchen,': 1, 'smoke': 1, 'stool': 1, 'nursing': 3, 'baby;': 1, 'cook': 8, 'leaning': 2, 'stirring': 2, 'cauldron': 2, 'soup.': 1, 'pepper': 5, \"soup!'\": 1, 'sneezing.': 1, 'Even': 1, 'sneezed': 1, 'occasionally;': 1, 'baby,': 3, 'sneezing': 4, 'alternately': 1, \"moment's\": 2, 'pause.': 1, 'kitchen': 2, 'sneeze,': 1, 'cook,': 2, 'hearth': 1, 'grinning': 1, 'ear': 2, 'ear.': 3, 'timidly,': 4, 'manners': 1, \"'why\": 2, 'grins': 1, 'Cheshire': 6, \"cat,'\": 1, 'why.': 1, \"Pig!'\": 1, 'word': 7, 'violence': 1, 'jumped;': 1, 'courage,': 1, 'again:--': 2, 'grinned;': 1, 'COULD': 3, \"grin.'\": 1, \"can,'\": 1, 'Duchess;': 4, \"do.'\": 2, 'pleased': 5, \"much,'\": 5, \"fact.'\": 1, 'introduce': 2, 'While': 5, 'fix': 1, 'one,': 6, 'soup': 1, 'throwing': 2, 'within': 1, 'baby--the': 1, 'fire-irons': 1, 'saucepans,': 1, 'plates,': 1, 'dishes.': 1, 'baby': 6, 'already,': 1, 'impossible': 2, 'blows': 1, 'not.': 2, 'PLEASE': 1, \"doing!'\": 1, 'jumping': 4, 'agony': 1, 'terror.': 1, 'PRECIOUS': 1, \"nose';\": 1, 'unusually': 1, 'saucepan': 1, 'flew': 1, 'carried': 4, 'everybody': 5, 'minded': 1, \"business,'\": 1, 'growl,': 2, 'faster': 1, \"does.'\": 1, \"advantage,'\": 1, 'knowledge.': 1, \"'Just\": 2, 'night!': 1, 'You': 6, 'earth': 1, 'takes': 2, 'twenty-four': 1, 'hours': 3, \"axis--'\": 1, \"'Talking\": 1, \"axes,'\": 1, \"'chop\": 1, \"head!'\": 7, 'glanced': 1, 'meant': 4, 'hint;': 1, 'busily': 4, 'soup,': 1, \"'Twenty-four\": 1, 'hours,': 1, 'THINK;': 1, 'twelve?': 1, \"I--'\": 1, 'bother': 1, 'abide': 1, \"figures!'\": 1, 'singing': 2, 'lullaby': 1, 'shake': 1, 'line:': 1, 'roughly': 1, 'boy,': 2, 'beat': 4, 'sneezes:': 1, 'annoy,': 1, 'Because': 1, \"teases.'\": 1, 'CHORUS.': 2, '(In': 1, 'joined):--': 1, \"'Wow!\": 2, 'wow!': 2, \"wow!'\": 2, 'sang': 2, 'verse': 1, 'song,': 4, 'tossing': 3, 'howled': 1, 'words:--': 2, 'sneezes;': 1, 'thoroughly': 2, 'enjoy': 1, \"pleases!'\": 1, 'nurse': 1, \"like!'\": 1, 'flinging': 1, \"Queen,'\": 1, 'room.': 1, 'threw': 2, 'frying-pan': 1, 'missed': 2, 'caught': 3, 'difficulty,': 1, 'queer-shaped': 1, 'creature,': 2, 'directions,': 2, \"'just\": 1, \"star-fish,'\": 1, 'snorting': 1, 'steam-engine': 1, 'doubling': 1, 'straightening': 1, 'proper': 3, '(which': 1, 'twist': 2, 'knot,': 1, 'tight': 1, 'prevent': 1, 'undoing': 1, 'itself,)': 1, \"'IF\": 1, \"'they're\": 1, 'kill': 1, 'two:': 1, 'murder': 1, \"behind?'\": 1, 'loud,': 2, 'grunted': 3, 'reply': 1, 'time).': 1, \"'Don't\": 4, \"grunt,'\": 1, \"'that's\": 1, 'expressing': 1, \"yourself.'\": 2, 'doubt': 1, 'turn-up': 1, 'snout': 1, 'nose;': 1, 'also': 1, 'extremely': 1, 'baby:': 1, 'altogether': 1, 'all.': 4, \"sobbing,'\": 1, 'tears.': 2, 'pig,': 4, \"dear,'\": 1, 'seriously,': 1, 'you.': 1, 'Mind': 1, 'sobbed': 1, '(or': 1, 'grunted,': 1, 'which),': 1, 'creature': 2, \"home?'\": 1, 'alarm.': 1, 'NO': 1, 'neither': 2, 'less': 3, 'absurd': 1, 'carry': 1, 'further.': 1, 'relieved': 1, 'trot': 1, \"up,'\": 2, 'dreadfully': 6, 'ugly': 1, 'child:': 1, 'handsome': 1, \"think.'\": 1, 'knew,': 1, 'pigs,': 1, \"them--'\": 1, 'startled': 2, 'seeing': 1, 'Cat': 8, 'bough': 1, 'yards': 1, 'grinned': 2, 'good-natured,': 1, 'thought:': 1, 'claws': 1, 'teeth,': 1, 'treated': 1, 'respect.': 1, \"'Cheshire\": 1, \"Puss,'\": 1, 'name:': 1, 'wider.': 1, \"far,'\": 2, 'on.': 8, \"here?'\": 4, 'depends': 1, \"to,'\": 1, 'Cat.': 5, \"where--'\": 1, \"go,'\": 2, \"'--so\": 2, \"SOMEWHERE,'\": 1, 'explanation.': 1, \"that,'\": 9, 'Cat,': 7, \"enough.'\": 1, 'denied,': 1, \"direction,'\": 2, 'waving': 5, 'paw': 1, \"'lives\": 2, 'Hatter:': 6, 'March': 31, 'Hare.': 11, 'Visit': 1, 'like:': 1, \"mad.'\": 3, 'mad': 5, \"people,'\": 1, 'remarked.': 5, 'Cat:': 2, \"'we're\": 1, 'here.': 2, 'mad.': 2, \"mad?'\": 2, \"be,'\": 3, \"here.'\": 2, \"'To\": 1, \"with,'\": 2, \"dog's\": 1, 'grant': 1, \"so,'\": 5, 'growls': 1, 'angry,': 1, 'wags': 1, 'tail': 3, 'pleased.': 1, 'Now': 2, 'growl': 1, 'pleased,': 1, 'wag': 1, 'angry.': 1, 'Therefore': 1, 'purring,': 1, \"growling,'\": 1, \"'Call\": 4, \"to-day?'\": 1, 'invited': 1, \"yet.'\": 2, 'vanished.': 1, 'happening.': 1, 'been,': 1, \"'By-the-bye,\": 1, 'became': 2, \"baby?'\": 1, \"'I'd\": 4, \"ask.'\": 1, \"pig,'\": 2, \"would,'\": 1, 'appear,': 1, 'Hare': 16, 'live.': 1, 'hatters': 1, 'interesting,': 1, 'May': 1, 'raving': 2, 'mad--at': 1, \"March.'\": 1, 'branch': 1, 'tree.': 2, \"fig?'\": 1, 'appearing': 1, 'vanishing': 1, 'suddenly:': 2, \"giddy.'\": 2, \"'All\": 2, 'Cat;': 1, 'ending': 1, 'gone.': 1, 'often': 3, \"grin,'\": 1, 'grin': 1, 'cat!': 1, \"life!'\": 2, 'farther': 1, 'sight': 2, 'Hare:': 1, 'chimneys': 1, 'shaped': 2, 'thatched': 1, 'fur.': 1, 'raised': 2, 'towards': 1, \"'Suppose\": 2, 'all!': 1, 'Hatter': 24, \"instead!'\": 1, 'VII.': 1, 'Mad': 1, 'Tea-Party': 1, 'front': 2, 'tea': 5, 'Dormouse': 23, 'fast': 4, 'asleep,': 2, 'using': 2, 'cushion,': 1, 'resting': 2, 'elbows': 1, \"'Very\": 3, 'uncomfortable': 1, \"Dormouse,'\": 2, \"'only,\": 1, \"mind.'\": 1, 'corner': 1, \"'No\": 1, 'room!': 1, 'No': 2, \"room!'\": 2, 'PLENTY': 1, 'indignantly,': 1, 'arm-chair': 1, 'table.': 3, \"'Have\": 3, \"wine,'\": 2, 'tea.': 1, \"isn't\": 6, \"any,'\": 1, 'civil': 2, \"invited,'\": 1, \"table,'\": 1, 'laid': 2, \"three.'\": 1, \"'Your\": 2, 'wants': 2, \"cutting,'\": 1, 'Hatter.': 13, 'speech.': 1, 'personal': 2, \"remarks,'\": 1, 'severity;': 1, \"rude.'\": 1, 'wide': 1, 'SAID': 1, \"'Why\": 7, 'raven': 1, \"writing-desk?'\": 1, 'fun': 1, \"they've\": 1, 'asking': 3, 'riddles.--I': 1, \"'Exactly\": 2, \"mean,'\": 2, 'least--at': 1, \"say--that's\": 1, \"bit!'\": 1, '\"I': 7, 'eat\"': 1, 'see\"!\\'': 1, 'Hare,': 2, 'get\"': 1, 'like\"!\\'': 1, 'Dormouse,': 6, 'sleep,': 1, 'breathe': 1, 'sleep\"': 1, 'breathe\"!\\'': 1, 'Hatter,': 10, 'dropped,': 1, 'ravens': 1, 'writing-desks,': 1, 'much.': 1, 'break': 1, 'month': 1, 'uneasily,': 1, \"fourth.'\": 1, \"'Two\": 2, \"wrong!'\": 1, 'butter': 1, \"works!'\": 1, 'angrily': 2, 'BEST': 2, \"butter,'\": 1, 'meekly': 1, 'replied.': 5, 'crumbs': 1, \"well,'\": 2, 'grumbled:': 1, \"bread-knife.'\": 1, 'gloomily:': 1, 'cup': 1, 'tea,': 1, 'butter,': 1, 'shoulder': 3, 'curiosity.': 3, \"watch!'\": 1, 'tells': 2, 'month,': 1, \"o'clock\": 3, \"'Does\": 2, 'year': 2, \"is?'\": 1, 'readily:': 1, 'stays': 1, \"together.'\": 1, \"MINE,'\": 1, 'puzzled.': 2, \"Hatter's\": 1, 'remark': 3, 'English.': 1, 'politely': 1, 'asleep': 4, \"again,'\": 1, 'poured': 1, 'nose.': 1, 'course;': 1, \"myself.'\": 1, 'riddle': 1, \"yet?'\": 2, 'replied:': 2, \"'what's\": 1, \"answer?'\": 1, 'slightest': 1, \"idea,'\": 1, \"'Nor\": 1, \"I,'\": 1, 'wearily.': 1, \"'than\": 1, 'waste': 1, 'riddles': 1, \"answers.'\": 1, 'Time': 1, 'IT.': 1, \"HIM.'\": 1, \"don't!'\": 1, \"Time!'\": 1, 'cautiously': 2, \"music.'\": 2, \"'Ah!\": 2, 'accounts': 1, 'beating.': 1, 'Now,': 1, 'terms': 1, \"he'd\": 1, 'clock.': 1, 'lessons:': 1, 'whisper': 1, 'hint': 1, 'Time,': 1, 'clock': 1, 'twinkling!': 1, 'Half-past': 1, \"dinner!'\": 1, \"('I\": 2, \"was,'\": 3, 'whisper.)': 1, 'grand,': 1, 'thoughtfully:': 1, 'then--I': 1, 'hungry': 2, \"perhaps,'\": 1, 'half-past': 1, \"liked.'\": 1, \"manage?'\": 1, 'mournfully.': 1, 'quarrelled': 1, 'March--just': 1, 'HE': 3, 'mad,': 1, \"know--'\": 4, '(pointing': 1, 'spoon': 1, 'Hare,)': 1, \"'--it\": 1, 'concert': 1, 'given': 1, 'Hearts,': 5, 'sing': 3, '\"Twinkle,': 1, 'twinkle,': 3, 'bat!': 1, 'at!\"': 1, \"perhaps?'\": 1, 'way:--': 1, '\"Up': 1, 'fly,': 1, 'Like': 1, 'tea-tray': 1, 'Twinkle,': 1, 'twinkle--\"\\'': 1, \"'Twinkle,\": 1, \"twinkle--'\": 1, 'pinch': 1, 'stop.': 1, \"verse,'\": 2, 'bawled': 1, '\"He\\'s': 1, 'murdering': 1, 'time!': 2, 'Off': 2, 'head!\"\\'': 1, \"savage!'\": 1, 'exclaimed': 4, 'mournful': 1, \"'he\": 2, 'ask!': 1, \"now.'\": 4, 'tea-things': 1, 'sigh:': 2, 'tea-time,': 1, \"we've\": 2, 'wash': 2, \"whiles.'\": 1, \"suppose?'\": 2, \"up.'\": 2, \"again?'\": 2, 'ask.': 1, \"subject,'\": 1, 'interrupted,': 2, 'yawning.': 1, 'this.': 1, 'vote': 1, 'lady': 2, \"story.'\": 1, \"one,'\": 3, 'alarmed': 1, 'proposal.': 1, \"shall!'\": 1, \"'Wake\": 2, \"Dormouse!'\": 1, 'pinched': 2, 'once.': 2, 'eyes.': 2, \"asleep,'\": 1, 'hoarse,': 1, 'feeble': 1, 'voice:': 1, 'fellows': 1, \"saying.'\": 1, \"'Tell\": 1, 'quick': 1, \"done.'\": 1, \"'Once\": 1, \"sisters,'\": 1, 'hurry;': 2, 'names': 1, 'Elsie,': 1, 'Lacie,': 1, 'Tillie;': 1, 'lived': 3, 'bottom': 4, \"well--'\": 1, \"on?'\": 2, 'interest': 1, 'questions': 2, 'eating': 1, 'drinking.': 1, \"treacle,'\": 1, 'two.': 1, 'remarked;': 1, \"'they'd\": 1, \"ill.'\": 2, \"were,'\": 1, 'Dormouse;': 2, \"'VERY\": 1, 'ways': 1, 'living': 1, 'like,': 2, 'puzzled': 5, 'on:': 2, \"well?'\": 2, \"'Take\": 2, \"tea,'\": 3, 'earnestly.': 1, \"'so\": 3, \"more.'\": 1, \"LESS,'\": 1, 'MORE': 2, \"nothing.'\": 1, \"opinion,'\": 1, \"'Who's\": 1, 'remarks': 1, 'triumphantly.': 1, 'this:': 2, 'helped': 1, 'bread-and-butter,': 2, \"treacle-well.'\": 1, \"'Sh!\": 1, \"sh!'\": 1, 'sulkily': 2, 'civil,': 1, \"on!'\": 6, 'humbly;': 1, 'interrupt': 1, \"ONE.'\": 1, 'consented': 1, 'sisters--they': 1, 'learning': 2, 'draw,': 1, \"draw?'\": 1, 'promise.': 1, \"'Treacle,'\": 2, 'time.': 2, 'clean': 1, \"cup,'\": 1, 'interrupted': 5, \"'let's\": 1, \"on.'\": 2, \"Dormouse's\": 1, 'unwillingly': 1, 'advantage': 2, 'change:': 1, 'upset': 2, 'milk-jug': 1, 'plate.': 1, 'offend': 1, 'cautiously:': 1, 'understand.': 1, 'treacle': 2, \"from?'\": 1, \"water-well,'\": 1, 'Hatter;': 1, 'treacle-well--eh,': 1, \"stupid?'\": 1, 'choosing': 1, 'remark.': 3, \"were',\": 1, \"'--well\": 1, \"in.'\": 1, 'interrupting': 2, \"draw,'\": 1, 'yawning': 1, 'rubbing': 2, 'sleepy;': 1, 'manner': 1, 'things--everything': 1, 'begins': 4, \"M--'\": 1, \"M?'\": 1, \"not?'\": 1, 'silent.': 2, 'closed': 2, 'doze;': 1, 'woke': 1, \"'--that\": 1, 'M,': 1, 'mouse-traps,': 1, 'moon,': 1, 'memory,': 1, 'muchness--you': 1, '\"much': 1, 'muchness\"--did': 1, 'drawing': 1, \"muchness?'\": 1, \"'Really,\": 2, 'confused,': 1, \"talk,'\": 1, 'piece': 5, 'rudeness': 1, 'bear:': 1, 'disgust,': 1, 'off;': 1, 'going,': 1, 'teapot.': 1, \"'At\": 1, 'THERE': 1, 'stupidest': 1, 'tea-party': 1, 'leading': 1, \"curious!'\": 1, \"everything's\": 1, 'today.': 1, \"once.'\": 2, 'Once': 1, 'unlocking': 1, 'pocket)': 1, 'passage:': 1, 'THEN--she': 1, 'flower-beds': 1, 'fountains.': 1, 'VIII.': 1, \"Queen's\": 7, 'Croquet-Ground': 1, 'rose-tree': 1, 'entrance': 1, 'garden:': 1, 'roses': 1, 'white,': 1, 'gardeners': 4, 'painting': 2, 'red.': 1, \"'Look\": 1, 'Five!': 2, 'paint': 1, 'Five,': 3, \"'Seven\": 1, 'jogged': 1, \"elbow.'\": 1, 'Seven': 3, 'Always': 1, 'blame': 1, \"others!'\": 1, \"'YOU'D\": 1, \"talk!'\": 1, 'Five.': 1, 'deserved': 1, \"beheaded!'\": 2, \"for?'\": 2, 'spoken': 1, 'first.': 1, 'none': 3, 'business,': 1, \"Two!'\": 1, 'Seven.': 1, \"business!'\": 2, 'him--it': 1, 'tulip-roots': 1, 'instead': 2, \"onions.'\": 1, 'flung': 1, 'brush,': 1, 'unjust': 1, \"things--'\": 1, 'chanced': 1, 'watching': 3, 'checked': 3, 'also,': 1, 'low.': 1, \"roses?'\": 1, 'Five': 1, 'nothing,': 2, 'Two.': 1, 'Two': 1, 'Miss,': 2, 'RED': 1, 'rose-tree,': 2, 'mistake;': 1, \"we're\": 1, 'best,': 2, 'afore': 1, 'comes,': 1, \"to--'\": 1, 'Queen!': 1, \"Queen!'\": 1, 'instantly': 3, 'themselves': 2, 'flat': 1, 'faces.': 1, 'footsteps,': 1, 'eager': 3, 'soldiers': 8, 'carrying': 2, 'clubs;': 1, 'gardeners,': 4, 'oblong': 1, 'flat,': 1, 'corners:': 1, 'courtiers;': 1, 'ornamented': 2, 'diamonds,': 1, 'did.': 1, 'royal': 2, 'children;': 1, 'dears': 1, 'merrily': 1, 'couples:': 1, 'hearts.': 1, 'guests,': 1, 'mostly': 1, 'Kings': 1, 'Queens,': 1, 'recognised': 1, 'Rabbit:': 1, 'manner,': 1, 'noticing': 1, 'Knave': 7, \"King's\": 2, 'crown': 2, 'crimson': 2, 'velvet': 1, 'cushion;': 1, 'procession,': 2, 'KING': 1, 'AND': 3, 'QUEEN': 1, 'HEARTS.': 1, 'doubtful': 2, 'lie': 2, 'rule': 2, 'processions;': 1, 'besides,': 1, \"procession,'\": 1, 'faces,': 2, 'waited.': 2, 'procession': 2, 'opposite': 1, \"this?'\": 1, 'smiled': 2, \"'Idiot!'\": 1, 'Queen,': 17, 'impatiently;': 1, \"'What's\": 2, 'name,': 1, \"child?'\": 1, \"'My\": 2, \"Majesty,'\": 7, 'politely;': 1, 'added,': 3, 'pack': 4, 'cards,': 1, \"needn't\": 3, \"THESE?'\": 1, 'rosetree;': 1, 'pattern': 1, 'backs': 1, 'pack,': 1, 'soldiers,': 2, 'courtiers,': 1, 'children.': 1, \"know?'\": 2, 'courage.': 1, \"MINE.'\": 1, 'fury,': 1, 'glaring': 1, 'beast,': 1, \"'Off\": 8, 'head!': 1, \"Off--'\": 1, \"'Nonsense!'\": 1, 'King': 27, \"'Consider,\": 1, 'dear:': 1, \"child!'\": 2, \"'Turn\": 2, 'foot.': 1, \"'Get\": 2, \"up!'\": 1, 'bowing': 1, 'King,': 15, \"'Leave\": 1, \"'May\": 1, 'Two,': 1, 'humble': 1, 'knee': 1, \"'we\": 3, \"trying--'\": 1, \"see!'\": 1, 'meanwhile': 1, 'examining': 1, 'roses.': 1, \"heads!'\": 1, 'remaining': 1, 'execute': 1, 'unfortunate': 3, 'protection.': 1, 'flower-pot': 1, 'near.': 1, 'marched': 1, \"off?'\": 1, \"'Their\": 1, \"Majesty!'\": 2, \"right!'\": 1, \"'Can\": 1, \"croquet?'\": 1, 'silent,': 2, 'evidently': 1, \"'Yes!'\": 1, 'roared': 1, \"'It's--it's\": 1, 'fine': 2, \"day!'\": 1, 'side.': 2, 'peeping': 1, \"'Very,'\": 1, \"'--where's\": 1, \"Duchess?'\": 1, \"'Hush!\": 1, \"Hush!'\": 1, 'ear,': 1, 'whispered': 4, \"'She's\": 2, \"execution.'\": 1, '\"What': 2, 'pity!\"?\\'': 1, \"didn't,'\": 1, 'pity.': 1, 'for?\"\\'': 1, \"'She\": 2, 'boxed': 1, \"ears--'\": 1, 'began.': 3, 'scream': 1, 'laughter.': 1, \"hush!'\": 1, 'late,': 1, \"said--'\": 3, \"places!'\": 1, 'thunder,': 1, 'croquet-ground': 1, 'life;': 1, 'ridges': 1, 'furrows;': 1, 'balls': 1, 'hedgehogs,': 1, 'mallets': 1, 'flamingoes,': 1, 'double': 1, 'arches.': 1, 'chief': 1, 'managing': 1, 'flamingo:': 1, 'body': 2, 'tucked': 3, 'comfortably': 1, 'generally,': 2, 'straightened': 1, 'hedgehog': 5, 'expression': 1, 'bursting': 1, 'laughing:': 1, 'provoking': 1, 'unrolled': 2, 'act': 1, 'crawling': 1, 'away:': 1, 'besides': 1, 'ridge': 1, 'furrow': 1, 'send': 1, 'doubled-up': 1, 'parts': 1, 'ground,': 1, 'conclusion': 1, 'indeed.': 1, 'players': 2, 'played': 1, 'turns,': 2, 'quarrelling': 2, 'fighting': 1, 'hedgehogs;': 1, 'furious': 1, 'stamping': 2, 'shouting': 2, 'minute.': 1, 'uneasy:': 1, 'dispute': 2, \"'what\": 2, 'me?': 1, \"They're\": 1, 'beheading': 1, 'here;': 1, \"alive!'\": 1, 'escape,': 1, 'seen,': 1, 'appearance': 1, 'air:': 1, \"to.'\": 1, 'with.': 1, 'appeared,': 3, 'nodded.': 1, 'come,': 2, 'flamingo,': 1, 'account': 1, 'game,': 2, 'someone': 1, 'appeared.': 1, \"fairly,'\": 1, 'complaining': 1, 'quarrel': 1, 'oneself': 1, 'speak--and': 1, 'particular;': 1, 'least,': 1, 'attends': 1, 'confusing': 2, 'alive;': 1, 'arch': 1, 'ground--and': 1, 'croqueted': 1, \"coming!'\": 1, \"Queen?'\": 1, \"all,'\": 3, \"'she's\": 1, \"extremely--'\": 1, 'listening:': 1, \"'--likely\": 1, 'win,': 1, 'finishing': 1, \"game.'\": 1, 'passed': 4, \"Cat's\": 2, 'friend': 2, 'mine--a': 1, \"Cat,'\": 1, \"'allow\": 1, 'King:': 2, \"'however,\": 1, 'kiss': 1, \"likes.'\": 1, \"impertinent,'\": 1, \"king,'\": 1, 'book,': 2, \"where.'\": 1, \"removed,'\": 1, 'passing': 1, \"removed!'\": 1, 'settling': 1, 'difficulties,': 1, 'small.': 1, 'executioner': 3, \"myself,'\": 2, 'screaming': 1, 'passion.': 1, 'already': 1, 'executed': 2, 'search': 1, 'hedgehog.': 1, 'engaged': 1, 'fight': 2, 'hedgehog,': 1, 'croqueting': 1, 'flamingo': 2, 'helpless': 1, 'fly': 1, 'hedgehogs': 1, 'sight:': 2, 'arches': 3, \"ground.'\": 1, 'escape': 1, 'friend.': 1, 'collected': 2, 'executioner,': 1, 'appealed': 1, 'settle': 1, 'arguments': 1, 'though,': 1, \"executioner's\": 1, 'unless': 1, 'from:': 1, 'HIS': 1, 'beheaded,': 1, \"weren't\": 1, 'nonsense.': 1, \"she'd\": 1, '(It': 1, 'anxious.)': 1, 'Duchess:': 4, 'HER': 2, \"prison,'\": 1, 'executioner:': 1, \"'fetch\": 1, 'arrow.': 1, 'fading': 1, 'entirely': 2, 'disappeared;': 1, 'wildly': 2, 'game.': 1, 'IX.': 1, 'Mock': 56, \"Turtle's\": 2, 'Story': 1, 'affectionately': 1, \"Alice's,\": 1, 'pleasant': 1, 'temper,': 1, 'kitchen.': 1, \"'When\": 3, \"I'M\": 1, \"Duchess,'\": 1, '(not': 1, 'hopeful': 1, 'though),': 1, 'AT': 1, 'ALL.': 1, 'Soup': 4, 'without--Maybe': 1, \"hot-tempered,'\": 1, 'rule,': 1, 'vinegar': 1, 'sour--and': 1, 'camomile': 1, 'bitter--and--and': 1, 'barley-sugar': 1, 'sweet-tempered.': 1, 'that:': 3, 'stingy': 1, 'something,': 1, 'forget': 2, 'talk.': 1, 'moral': 6, \"bit.'\": 1, \"hasn't\": 2, \"'Tut,\": 1, 'tut,': 1, \"'Everything's\": 1, 'moral,': 1, 'squeezed': 1, 'closer': 1, 'keeping': 2, 'ugly;': 1, 'shoulder,': 1, 'uncomfortably': 1, 'chin.': 2, 'rude,': 1, 'bore': 1, \"game's\": 1, 'little.': 1, \"''Tis\": 2, 'is--\"Oh,': 1, \"'tis\": 2, 'love,': 2, 'round!\"\\'': 1, \"'Somebody\": 1, \"said,'\": 1, 'whispered,': 1, 'minding': 1, 'well!': 1, 'is--\"Take': 1, 'themselves.\"\\'': 1, 'morals': 1, \"things!'\": 4, \"waist,'\": 1, 'pause:': 1, 'temper': 1, 'flamingo.': 1, 'Shall': 1, \"experiment?'\": 1, \"'HE\": 1, \"bite,'\": 1, 'anxious': 2, 'experiment': 1, 'tried.': 1, \"true,'\": 1, \"'flamingoes\": 1, 'mustard': 2, 'bite.': 1, 'is--\"Birds': 1, 'feather': 1, 'flock': 1, 'together.\"\\'': 1, \"bird,'\": 1, \"'Right,\": 1, \"usual,'\": 1, 'mineral,': 1, \"THINK,'\": 1, \"is,'\": 2, 'agree': 2, 'said;': 2, \"'there's\": 1, 'mustard-mine': 1, 'is--\"The': 1, 'mine,': 1, 'yours.\"\\'': 1, 'attended': 1, 'vegetable.': 1, \"is.'\": 3, 'is--\"Be': 1, 'be\"--or': 1, 'simply--\"Never': 1, 'imagine': 1, 'otherwise': 2, 'appear': 1, 'otherwise.\"\\'': 1, \"better,'\": 1, 'down:': 1, 'follow': 1, \"chose,'\": 1, \"'Pray\": 1, \"trouble!'\": 1, 'present': 1, 'cheap': 1, \"present!'\": 1, 'birthday': 1, 'loud.': 1, \"'Thinking\": 1, 'asked,': 1, 'dig': 1, 'sharply,': 1, 'worried.': 1, 'pigs': 1, 'fly;': 1, \"m--'\": 1, 'surprise,': 2, \"Duchess's\": 3, 'died': 1, 'favourite': 1, \"'moral,'\": 1, 'linked': 1, 'hers': 3, 'tremble.': 1, 'frowning': 3, 'thunderstorm.': 1, 'fair': 1, \"warning,'\": 1, 'spoke;': 1, \"'either\": 1, 'Take': 1, \"choice!'\": 1, 'choice,': 1, 'moment.': 1, \"'Let's\": 1, \"game,'\": 1, 'word,': 2, 'croquet-ground.': 1, 'guests': 2, 'absence,': 1, 'shade:': 1, 'delay': 1, 'cost': 1, 'lives.': 1, 'All': 3, 'players,': 2, 'Those': 1, 'whom': 1, 'sentenced': 1, 'custody': 2, 'left,': 1, 'execution.': 1, 'Turtle': 33, \"from,'\": 1, \"history,'\": 1, 'together,': 1, 'company': 1, \"pardoned.'\": 1, 'unhappy': 1, 'executions': 2, 'ordered.': 1, 'Gryphon,': 14, 'sun.': 1, '(IF': 1, 'Gryphon': 22, 'picture.)': 1, \"'Up,\": 1, 'lazy': 1, 'Turtle,': 8, 'history.': 1, \"ordered';\": 1, 'leaving': 1, 'Gryphon.': 15, 'Queen:': 1, 'rubbed': 1, 'eyes:': 1, 'watched': 2, 'chuckled.': 1, \"fun!'\": 1, \"fun?'\": 1, \"SHE,'\": 1, 'fancy,': 2, 'executes': 1, 'nobody,': 2, \"'Everybody\": 1, '\"come': 1, 'on!\"': 1, \"never!'\": 1, 'ledge': 1, 'rock,': 1, 'nearer,': 1, 'sighing': 2, 'heart': 2, 'break.': 1, 'pitied': 1, 'deeply.': 1, \"sorrow?'\": 1, 'answered,': 1, 'sorrow,': 1, \"lady,'\": 1, \"'she\": 1, \"her,'\": 1, 'hollow': 1, \"'sit\": 1, \"finished.'\": 1, 'EVEN': 1, 'finish,': 1, 'patiently.': 1, \"'Once,'\": 1, 'sigh,': 1, \"Turtle.'\": 1, 'These': 2, 'occasional': 1, 'exclamation': 1, \"'Hjckrrh!'\": 1, 'heavy': 2, 'sobbing': 2, 'Turtle.': 9, \"'Thank\": 3, \"story,'\": 1, 'MUST': 3, \"little,'\": 1, 'calmly,': 1, 'school': 4, 'sea.': 3, 'Turtle--we': 1, \"Tortoise--'\": 1, 'Tortoise,': 1, \"one?'\": 1, 'Tortoise': 1, \"us,'\": 1, 'angrily:': 1, \"'really\": 1, \"dull!'\": 1, \"question,'\": 1, 'Gryphon;': 1, 'sink': 1, \"'Drive\": 1, 'fellow!': 1, \"mayn't\": 1, \"it--'\": 1, \"didn't!'\": 2, \"tongue!'\": 2, 'educations--in': 1, \"day--'\": 1, \"'I'VE\": 1, 'day-school,': 1, \"too,'\": 1, 'proud': 2, \"'With\": 1, \"extras?'\": 1, 'anxiously.': 1, \"'Yes,'\": 3, 'learned': 1, \"washing?'\": 1, \"'Certainly\": 1, \"not!'\": 1, 'yours': 1, \"school,'\": 1, 'relief.': 2, 'OURS': 1, 'bill,': 1, '\"French,': 1, 'music,': 1, 'WASHING--extra.\"\\'': 1, \"'living\": 1, \"sea.'\": 1, 'afford': 1, 'sigh.': 1, 'regular': 2, \"course.'\": 1, 'inquired': 1, \"'Reeling\": 1, 'Writhing,': 1, 'branches': 1, 'Arithmetic--Ambition,': 1, 'Distraction,': 1, 'Uglification,': 1, \"Derision.'\": 1, '\"Uglification,\"\\'': 1, 'say.': 1, 'lifted': 1, 'surprise.': 2, \"'What!\": 1, 'Never': 1, \"uglifying!'\": 1, 'exclaimed.': 1, 'beautify': 1, 'doubtfully:': 1, \"means--to--make--anything--prettier.'\": 1, 'uglify': 1, \"simpleton.'\": 1, 'encouraged': 1, \"learn?'\": 1, \"Mystery,'\": 1, 'counting': 1, 'subjects': 1, 'flappers,': 1, \"'--Mystery,\": 1, 'ancient': 1, 'modern,': 1, 'Seaography:': 1, 'Drawling--the': 1, 'Drawling-master': 1, 'conger-eel,': 1, 'week:': 1, 'Drawling,': 1, 'Stretching,': 1, 'Fainting': 1, \"Coils.'\": 1, \"like?'\": 1, 'said:': 3, 'stiff.': 1, \"'Hadn't\": 1, 'Gryphon:': 3, 'Classics': 1, 'master,': 1, 'though.': 1, 'crab,': 1, \"was.'\": 1, 'Laughing': 1, 'Grief,': 1, 'turn;': 1, 'hid': 1, 'faces': 2, 'paws.': 1, \"lessons?'\": 1, 'subject.': 2, \"'Ten\": 1, \"day,'\": 1, 'Turtle:': 3, \"'nine\": 1, \"plan!'\": 1, \"lessons,'\": 2, 'remarked:': 1, 'lessen': 1, \"day.'\": 1, 'eleventh': 1, \"holiday?'\": 1, \"twelfth?'\": 1, 'eagerly.': 1, \"'tell\": 1, 'games': 1, 'X.': 1, 'Lobster': 4, 'Quadrille': 2, 'deeply,': 2, 'flapper': 1, 'sobs': 2, \"'Same\": 1, 'bone': 1, \"throat,'\": 1, 'punching': 1, 'recovered': 2, 'cheeks,': 1, \"sea--'\": 1, \"haven't,'\": 1, \"Alice)--'and\": 1, 'introduced': 1, \"lobster--'\": 1, \"tasted--'\": 1, \"never')\": 1, 'delightful': 2, \"indeed,'\": 2, 'dance': 2, 'form': 1, 'line': 1, \"sea-shore--'\": 1, \"lines!'\": 1, \"'Seals,\": 1, 'turtles,': 1, 'salmon,': 1, 'on;': 1, 'cleared': 1, 'jelly-fish': 1, \"way--'\": 1, \"'--you\": 1, 'advance': 1, \"twice--'\": 1, \"'Each\": 1, 'lobster': 1, \"partner!'\": 1, \"'advance\": 1, \"partners--'\": 1, \"'--change\": 1, 'lobsters,': 3, 'retire': 1, \"order,'\": 1, \"'Then,\": 1, \"the--'\": 1, \"lobsters!'\": 1, 'bound': 1, \"'--as\": 1, \"can--'\": 1, \"'Swim\": 1, 'somersault': 1, \"sea!'\": 1, 'capering': 1, 'about.': 1, \"'Change\": 1, 'lobsters': 3, 'yelled': 1, \"'Back\": 1, 'land': 1, \"figure,'\": 1, 'dropping': 1, 'creatures,': 1, 'quietly,': 1, 'pretty': 1, \"dance,'\": 1, 'timidly.': 1, \"figure!'\": 1, \"sing?'\": 1, \"sing,'\": 1, \"words.'\": 1, 'dancing': 1, 'treading': 2, 'toes': 1, 'close,': 1, 'forepaws': 1, 'mark': 2, 'sadly:--': 1, '\\'\"Will': 1, 'faster?\"': 1, 'whiting': 3, 'snail.': 1, '\"There\\'s': 1, 'porpoise': 1, 'us,': 2, \"he's\": 1, 'See': 1, 'eagerly': 3, 'turtles': 1, 'advance!': 1, 'shingle--will': 1, 'join': 9, 'dance?': 4, 'Will': 4, '\"You': 2, 'sea!\"': 1, 'snail': 1, '\"Too': 1, 'far,': 1, 'far!\"': 1, 'askance--': 1, 'thanked': 1, 'kindly,': 1, 'dance.': 5, '\\'\"What': 1, 'go?\"': 1, 'scaly': 1, '\"There': 2, 'further': 1, 'England': 1, 'France--': 1, 'pale,': 2, 'beloved': 1, 'snail,': 1, 'dance?\"\\'': 1, \"watch,'\": 1, 'last:': 1, 'song': 1, \"whiting!'\": 1, \"whiting,'\": 2, \"'they--you've\": 1, \"course?'\": 1, \"dinn--'\": 1, 'Dinn': 1, \"like.'\": 1, 'thoughtfully.': 2, 'tails': 3, 'mouths--and': 1, \"crumbs.'\": 1, \"crumbs,'\": 1, \"'crumbs\": 1, 'mouths;': 1, \"is--'\": 1, \"eyes.--'Tell\": 1, 'thrown': 1, 'mouths.': 1, \"That's\": 1, 'interesting.': 1, \"before.'\": 1, \"whiting?'\": 1, \"'IT\": 1, 'DOES': 1, 'BOOTS': 1, \"SHOES.'\": 1, 'solemnly.': 1, \"shoes!'\": 1, \"with?'\": 1, 'mean,': 1, \"shiny?'\": 1, 'answer.': 1, \"'They're\": 2, 'blacking,': 1, \"believe.'\": 1, \"'Boots\": 1, \"sea,'\": 1, 'whiting.': 1, \"'Soles\": 1, 'eels,': 1, 'impatiently:': 2, \"'any\": 1, 'shrimp': 1, 'thoughts': 2, 'porpoise,': 1, '\"Keep': 1, 'please:': 1, 'us!\"\\'': 1, 'obliged': 3, \"'no\": 1, 'fish': 2, 'anywhere': 1, \"porpoise.'\": 1, \"'Wouldn't\": 1, \"really?'\": 1, \"'why,\": 1, 'ME,': 1, 'journey,': 1, '\"With': 1, 'porpoise?\"\\'': 1, '\"purpose\"?\\'': 1, \"adventures.'\": 1, 'adventures--beginning': 1, \"morning,'\": 1, 'timidly:': 1, 'yesterday,': 1, 'adventures': 2, 'impatient': 1, \"'explanations\": 1, 'dreadful': 1, \"time.'\": 1, 'Rabbit.': 1, 'mouths': 1, 'wide,': 1, 'gained': 1, 'courage': 1, 'listeners': 1, 'part': 1, \"'YOU\": 1, \"WILLIAM,'\": 1, 'different,': 1, \"curious.'\": 1, 'now.': 1, \"'Stand\": 1, '\"\\'TIS': 1, 'VOICE': 1, 'SLUGGARD,\"\\'': 1, \"lessons!'\": 1, 'Quadrille,': 1, 'indeed:--': 1, 'Lobster;': 1, 'declare,': 1, 'baked': 1, 'brown,': 1, 'sugar': 1, 'hair.\"': 1, 'duck': 1, 'eyelids,': 1, 'nose': 1, 'Trims': 1, 'belt': 1, 'buttons,': 1, 'turns': 1, \"toes.'\": 1, '[later': 2, 'editions': 2, 'follows': 2, 'sands': 1, 'dry,': 1, 'gay': 1, 'lark,': 1, 'contemptuous': 1, 'tones': 2, 'Shark,': 1, 'tide': 1, 'rises': 1, 'sharks': 1, 'around,': 1, 'His': 1, 'tremulous': 1, 'sound.]': 1, \"child,'\": 1, 'Turtle;': 1, 'uncommon': 1, \"nonsense.'\": 1, 'nothing;': 1, 'EVER': 1, \"explained,'\": 1, \"'Go\": 2, \"verse.'\": 1, \"toes?'\": 1, 'persisted.': 1, \"dancing.'\": 1, 'garden.\"\\'': 1, 'disobey,': 1, 'voice:--': 1, 'marked,': 1, 'eye,': 1, 'Owl': 2, 'Panther': 3, 'sharing': 1, \"pie--'\": 1, 'pie-crust,': 1, 'gravy,': 1, 'meat,': 1, 'share': 1, 'treat.': 1, 'pie': 1, 'finished,': 2, 'Owl,': 1, 'boon,': 1, 'Was': 1, 'kindly': 1, 'permitted': 1, 'pocket': 1, 'spoon:': 1, 'received': 1, 'knife': 1, 'fork': 1, 'banquet--]': 1, \"stuff,'\": 1, 'on?': 1, \"heard!'\": 1, \"off,'\": 1, \"'Shall\": 1, 'figure': 1, \"Quadrille?'\": 1, \"'Or\": 1, \"song?'\": 1, \"kind,'\": 1, \"'Hm!\": 1, 'accounting': 1, 'tastes!': 1, 'Sing': 1, '\"Turtle': 1, 'Soup,\"': 1, \"fellow?'\": 1, 'sobs,': 1, \"'Beautiful\": 2, 'Soup,': 1, 'rich': 1, 'green,': 1, 'Waiting': 1, 'tureen!': 1, 'dainties': 1, 'stoop?': 1, 'evening,': 2, 'Soup!': 4, 'Beau--ootiful': 4, 'Soo--oop!': 4, 'Soo--oop': 2, 'e--e--evening,': 3, 'Beautiful,': 3, 'cares': 2, 'fish,': 1, 'Game,': 1, 'dish?': 1, 'Pennyworth': 2, 'Soup?': 2, 'beauti--FUL': 1, \"SOUP!'\": 1, \"'Chorus\": 1, \"trial's\": 3, \"beginning!'\": 1, 'song.': 1, 'trial': 4, 'panted': 1, 'ran;': 1, 'faster,': 1, 'faintly': 1, 'breeze': 1, \"'Soo--oop\": 1, \"Soup!'\": 1, 'XI.': 1, 'Stole': 1, 'Tarts?': 1, 'Hearts': 1, 'seated': 1, 'throne': 1, 'arrived,': 1, 'them--all': 1, 'beasts,': 1, 'cards:': 1, 'standing': 1, 'chains,': 1, 'soldier': 1, 'guard': 1, 'him;': 1, 'trumpet': 1, 'scroll': 1, 'parchment': 2, 'other.': 2, 'court': 5, 'tarts': 3, 'good,': 1, \"them--'I\": 1, \"done,'\": 2, \"refreshments!'\": 1, 'pass': 1, 'justice': 1, 'books,': 1, \"judge,'\": 1, \"wig.'\": 1, 'King;': 3, 'wore': 1, 'wig,': 1, '(look': 1, 'frontispiece': 1, 'it,)': 1, 'comfortable,': 1, 'becoming.': 1, \"jury-box,'\": 1, 'twelve': 2, \"creatures,'\": 1, \"'creatures,'\": 1, 'animals,': 1, 'birds,)': 1, \"jurors.'\": 1, 'rightly': 1, 'too,': 1, \"'jury-men'\": 1, 'jurors': 3, 'writing': 4, 'slates.': 1, \"doing?'\": 1, 'yet,': 3, \"begun.'\": 1, \"names,'\": 1, 'reply,': 1, \"trial.'\": 1, \"'Stupid\": 1, 'indignant': 1, \"'Silence\": 1, \"court!'\": 1, 'spectacles': 1, 'shoulders,': 1, \"'stupid\": 1, 'slates,': 4, 'spell': 1, \"'stupid,'\": 1, 'neighbour': 1, 'muddle': 1, \"slates'll\": 1, 'One': 1, 'pencil': 1, 'squeaked.': 1, 'stand,': 1, 'quickly': 2, 'juror': 1, 'Lizard)': 1, 'day;': 1, 'slate.': 1, \"'Herald,\": 1, \"accusation!'\": 1, 'King.': 12, 'blew': 2, 'blasts': 2, 'trumpet,': 2, 'scroll,': 1, 'follows:--': 1, 'tarts,': 3, 'summer': 2, 'day:': 1, 'stole': 1, \"'Consider\": 2, \"verdict,'\": 3, 'jury.': 2, \"yet!'\": 1, 'interrupted.': 1, \"witness,'\": 1, \"'First\": 1, \"witness!'\": 2, 'witness': 4, 'teacup': 3, 'bread-and-butter': 2, 'pardon,': 1, 'in:': 1, 'sent': 2, \"for.'\": 1, \"finished,'\": 1, \"begin?'\": 1, 'court,': 5, 'arm-in-arm': 1, 'Dormouse.': 3, \"'Fourteenth\": 1, 'March,': 1, \"'Fifteenth,'\": 1, \"'Sixteenth,'\": 1, \"'Write\": 1, \"down,'\": 3, 'jury,': 4, 'wrote': 3, 'dates': 1, 'reduced': 1, 'shillings': 1, 'pence.': 1, \"hat,'\": 1, \"mine,'\": 1, \"'Stolen!'\": 1, 'exclaimed,': 1, 'memorandum': 1, 'fact.': 1, \"sell,'\": 1, 'explanation;': 1, 'own.': 1, \"hatter.'\": 1, 'spectacles,': 1, 'fidgeted.': 1, \"'Give\": 3, \"evidence,'\": 3, 'nervous,': 1, \"spot.'\": 1, 'encourage': 1, 'all:': 2, 'shifting': 1, 'uneasily': 1, 'bread-and-butter.': 1, 'sensation,': 1, 'court;': 1, 'remain': 1, 'squeeze': 1, \"so.'\": 1, \"breathe.'\": 1, 'meekly:': 1, \"growing.'\": 1, \"'You've\": 1, \"nonsense,'\": 1, 'boldly:': 1, \"too.'\": 1, 'reasonable': 1, \"pace,'\": 1, 'Dormouse:': 1, \"'not\": 2, 'ridiculous': 1, \"fashion.'\": 1, 'court.': 3, 'officers': 3, \"'Bring\": 1, 'list': 2, 'singers': 1, \"concert!'\": 1, 'man,': 2, \"'--and\": 2, 'tea--not': 1, 'week': 2, 'so--and': 1, 'thin--and': 1, 'twinkling': 3, \"tea--'\": 1, \"T!'\": 1, 'sharply.': 1, 'dunce?': 1, 'Go': 1, \"man,'\": 1, 'twinkled': 1, 'that--only': 1, \"did!'\": 1, 'deny': 2, 'denies': 1, \"'leave\": 1, \"part.'\": 1, 'too:': 1, 'denied': 1, 'asleep.': 1, \"'After\": 1, \"bread-and-butter--'\": 1, \"say?'\": 1, \"remember,'\": 2, 'remarked': 1, \"executed.'\": 1, 'miserable': 2, 'knee.': 1, \"speaker,'\": 1, 'guinea-pigs': 1, 'cheered,': 2, 'suppressed': 3, '(As': 1, 'done.': 1, 'canvas': 1, 'bag,': 1, 'tied': 1, 'strings:': 1, 'guinea-pig,': 1, 'newspapers,': 1, 'trials,': 1, 'attempts': 1, 'applause,': 1, 'court,\"': 1, 'understood': 1, \"lower,'\": 1, 'SIT': 1, 'guinea-pig': 1, 'suppressed.': 1, \"guinea-pigs!'\": 1, \"better.'\": 1, 'reading': 2, 'singers.': 1, \"outside,'\": 1, 'officers:': 1, 'officer': 1, 'cook.': 3, 'pepper-box': 1, \"'Shan't,'\": 1, 'Majesty': 2, 'cross-examine': 2, \"witness.'\": 2, 'must,': 1, \"must,'\": 1, 'folding': 1, \"'Pepper,\": 1, \"mostly,'\": 1, \"'Collar\": 1, 'shrieked': 1, \"'Behead\": 1, 'Dormouse!': 1, 'Turn': 1, 'court!': 1, 'Suppress': 1, 'him!': 2, 'Pinch': 1, \"whiskers!'\": 1, 'disappeared.': 1, \"'Never\": 1, \"mind!'\": 1, 'undertone': 1, 'witness.': 1, \"ache!'\": 1, 'fumbled': 1, 'list,': 1, \"'--for\": 1, 'evidence': 3, \"YET,'\": 1, 'Imagine': 1, 'shrill': 3, \"'Alice!'\": 1, 'XII.': 1, 'Evidence': 1, \"'Here!'\": 1, 'flurry': 1, 'tipped': 1, 'jury-box': 1, 'skirt,': 1, 'upsetting': 1, 'jurymen': 2, 'below,': 1, 'sprawling': 1, 'reminding': 1, 'globe': 1, 'goldfish': 2, 'accidentally': 1, 'before.': 2, 'BEG': 1, 'dismay,': 1, 'accident': 1, 'vague': 1, 'jury-box,': 2, 'die.': 1, 'cannot': 1, \"proceed,'\": 1, \"'until\": 1, \"places--ALL,'\": 1, 'emphasis,': 1, 'haste,': 1, 'Lizard': 2, 'downwards,': 1, 'unable': 1, 'move.': 1, 'right;': 1, 'signifies': 1, \"other.'\": 1, 'shock': 1, 'upset,': 1, 'slates': 1, 'pencils': 1, 'diligently': 1, 'history': 1, 'accident,': 1, 'overcome': 1, 'open,': 1, 'gazing': 1, \"business?'\": 1, \"'Nothing,'\": 1, \"'Nothing\": 3, \"WHATEVER?'\": 1, 'persisted': 1, \"whatever,'\": 1, \"important,'\": 1, 'interrupted:': 1, \"'UNimportant,\": 2, 'means,': 1, 'respectful': 1, \"meant,'\": 1, 'undertone,': 1, \"'important--unimportant--unimportant--important--'\": 1, 'best.': 1, \"'important,'\": 1, \"'unimportant.'\": 1, 'slates;': 1, 'note-book,': 1, 'cackled': 1, \"'Silence!'\": 1, \"'Rule\": 1, 'Forty-two.': 1, 'ALL': 2, 'PERSONS': 1, 'THAN': 1, 'MILE': 1, 'HIGH': 1, 'TO': 3, 'LEAVE': 1, \"COURT.'\": 1, 'Everybody': 1, \"'I'M\": 1, 'mile': 1, \"high,'\": 2, \"are,'\": 1, \"'Nearly\": 1, \"rate,'\": 1, \"'besides,\": 1, 'rule:': 1, 'invented': 1, 'oldest': 1, 'Number': 1, \"One,'\": 1, 'note-book': 1, \"'this\": 1, 'prisoner': 1, 'to--to': 1, \"somebody.'\": 1, \"'unless\": 1, 'usual,': 1, 'directed': 2, 'jurymen.': 2, 'Rabbit;': 1, \"OUTSIDE.'\": 1, \"verses.'\": 1, \"prisoner's\": 1, \"handwriting?'\": 1, 'queerest': 1, '(The': 3, 'puzzled.)': 1, 'imitated': 1, \"else's\": 1, \"hand,'\": 1, 'again.)': 1, 'Knave,': 1, 'prove': 1, 'did:': 1, 'signed': 2, \"end.'\": 1, 'sign': 1, 'worse.': 1, 'mischief,': 1, 'honest': 1, \"man.'\": 1, 'clapping': 1, 'clever': 1, 'PROVES': 1, \"guilt,'\": 1, 'proves': 1, \"sort!'\": 1, \"about!'\": 1, \"'Read\": 1, 'spectacles.': 1, \"'Where\": 1, 'begin,': 1, \"Majesty?'\": 1, \"'Begin\": 1, \"beginning,'\": 1, 'end:': 1, \"stop.'\": 1, 'verses': 3, 'read:--': 1, 'character,': 1, 'swim.': 1, '(We': 1, 'true):': 1, 'push': 1, 'more;': 1, 'returned': 1, 'Though': 1, 'Involved': 1, 'affair,': 1, 'trusts': 1, 'free,': 1, 'Exactly': 1, 'were.': 1, 'My': 1, '(Before': 1, 'fit)': 1, 'obstacle': 1, 'Him,': 1, 'ourselves,': 1, 'secret,': 1, 'rest,': 1, 'Between': 1, \"me.'\": 1, 'hands;': 1, \"jury--'\": 1, 'him,)': 1, 'sixpence.': 1, 'atom': 2, \"'SHE\": 1, 'attempted': 1, 'paper.': 1, 'saves': 1, 'trouble,': 1, 'any.': 1, 'spreading': 1, 'knee,': 3, '\"--SAID': 1, 'SWIM--\"': 1, 'swim,': 1, 'Knave.': 1, 'NOT,': 1, 'cardboard.)': 1, 'himself:': 1, '\\'\"WE': 1, 'KNOW': 1, 'IT': 1, 'BE': 1, 'TRUE--\"': 1, 'course--\"I': 1, 'GAVE': 2, 'ONE,': 1, 'THEY': 1, 'HIM': 2, 'TWO--\"': 1, \"'But,\": 1, '\"THEY': 1, 'RETURNED': 1, 'FROM': 1, 'YOU,\"\\'': 1, \"are!'\": 1, 'triumphantly,': 1, 'clearer': 1, 'THAT.': 1, 'again--\"BEFORE': 1, 'SHE': 1, 'HAD': 1, 'FIT--\"': 1, 'fits,': 1, \"'Never!'\": 1, 'furiously,': 1, 'inkstand': 1, 'slate': 1, 'finger,': 1, 'mark;': 1, 'ink,': 1, 'trickling': 1, 'lasted.)': 1, 'FIT': 1, 'smile.': 1, \"pun!'\": 1, 'laughed,': 1, 'consider': 1, 'twentieth': 1, \"no!'\": 1, \"'Sentence\": 1, 'first--verdict': 1, \"afterwards.'\": 1, \"'Stuff\": 1, 'loudly.': 1, \"first!'\": 1, 'purple.': 1, \"won't!'\": 1, 'Nobody': 1, 'moved.': 1, 'time.)': 1, \"cards!'\": 1, 'rose': 1, 'flying': 1, 'scream,': 1, 'fright': 1, 'anger,': 1, 'sister,': 2, 'brushing': 1, 'fluttered': 1, 'sister;': 1, \"had!'\": 1, \"dream!'\": 1, 'Adventures': 1, 'about;': 1, 'kissed': 1, 'dream,': 1, 'tea;': 1, \"late.'\": 1, 'ran,': 1, 'might,': 1, 'wonderful': 2, 'been.': 1, 'setting': 1, 'sun,': 1, 'Adventures,': 1, 'dreaming': 1, 'fashion,': 1, 'dream:--': 1, 'dreamed': 1, 'clasped': 1, 'hers--she': 1, 'toss': 1, 'wandering': 1, 'eyes--and': 1, 'listened,': 1, 'listen,': 1, 'around': 2, 'alive': 1, \"sister's\": 1, 'dream.': 1, 'grass': 2, 'rustled': 1, 'by--the': 1, 'splashed': 1, 'neighbouring': 1, 'pool--she': 1, 'rattle': 1, 'teacups': 2, 'shared': 1, 'never-ending': 1, 'meal,': 1, 'execution--once': 1, 'pig-baby': 1, 'plates': 1, 'dishes': 1, 'crashed': 1, 'it--once': 1, \"Lizard's\": 1, 'slate-pencil,': 1, 'choking': 1, 'believed': 1, 'Wonderland,': 1, 'reality--the': 1, 'rustling': 1, 'rippling': 1, 'reeds--the': 1, 'tinkling': 1, 'sheep-bells,': 1, 'cries': 1, 'shepherd': 1, 'boy--and': 1, 'sneeze': 1, 'noises,': 1, 'knew)': 1, 'clamour': 1, 'busy': 1, 'farm-yard--while': 1, 'lowing': 1, 'cattle': 1, 'distance': 1, 'sobs.': 1, 'Lastly,': 1, 'pictured': 1, 'would,': 1, 'after-time,': 1, 'woman;': 1, 'keep,': 1, 'riper': 1, 'years,': 1, 'loving': 1, 'childhood:': 1, 'gather': 1, 'THEIR': 1, 'tale,': 1, 'Wonderland': 1, 'ago:': 1, 'sorrows,': 1, 'joys,': 1, 'remembering': 1, 'child-life,': 1, 'happy': 1, 'days.': 1, 'END': 1}\n"
          ]
        }
      ],
      "source": [
        "f = open(\"alice_edited.txt\", \"r\")\n",
        "\n",
        "# your code here (1)\n",
        "words = {}\n",
        "\n",
        "for line in f.readlines():\n",
        "  for word in line.strip().split():\n",
        "\n",
        "    # your code here (2)\n",
        "    if word not in words:\n",
        "      words[word] = 1\n",
        "    else:\n",
        "      words[word] += 1\n",
        "\n",
        "# your code here (3)\n",
        "print(words)"
      ]
    },
    {
      "cell_type": "markdown",
      "metadata": {
        "id": "a6msH8_JPvg1"
      },
      "source": [
        ">Modify this code so that it creates a new dictionary called words at (1).<br> For (2), if a word\n",
        "is not already in the dictionary words, then add it to the dictionary with a value of 1. <br>If a\n",
        "word is already in the dictionary words, then increment the value stored in the dictionary\n",
        "by one.<br>\n",
        "\n",
        ">At location (3), print out the dictionary words."
      ]
    },
    {
      "cell_type": "markdown",
      "metadata": {
        "id": "W0v1WpDJPvg1"
      },
      "source": [
        ">**(b)** How many times does the word “the” appear? What about the word “The”?"
      ]
    },
    {
      "cell_type": "code",
      "execution_count": 50,
      "metadata": {
        "id": "GH194rgPPvg1",
        "colab": {
          "base_uri": "https://localhost:8080/"
        },
        "outputId": "37ee22fb-774c-4c32-932e-4e678004cdca"
      },
      "outputs": [
        {
          "output_type": "stream",
          "name": "stdout",
          "text": [
            "1507 89\n"
          ]
        }
      ],
      "source": [
        "# code here\n",
        "print(words['the'], words['The'])"
      ]
    },
    {
      "cell_type": "markdown",
      "metadata": {
        "id": "uuxYVA7LPvg2"
      },
      "source": [
        ">**(d)** Modify the code so words are counted independent of whether they are made of upper or\n",
        "lower case letters. i.e., “the”, “The” and “tHE” are all treated as the same word.\n"
      ]
    },
    {
      "cell_type": "code",
      "execution_count": 48,
      "metadata": {
        "id": "dcz-4TJwPvg2",
        "colab": {
          "base_uri": "https://localhost:8080/"
        },
        "outputId": "89217ebd-915a-42a9-9ce9-6a804f912c6e"
      },
      "outputs": [
        {
          "output_type": "stream",
          "name": "stdout",
          "text": [
            "{\"alice's\": 11, 'adventures': 4, 'in': 351, 'wonderland': 2, 'lewis': 1, 'carroll': 1, 'the': 1605, 'millennium': 1, 'fulcrum': 1, 'edition': 1, '3.0': 1, 'chapter': 12, 'i.': 1, 'down': 78, 'rabbit-hole': 3, 'alice': 221, 'was': 333, 'beginning': 11, 'to': 706, 'get': 43, 'very': 139, 'tired': 7, 'of': 493, 'sitting': 10, 'by': 56, 'her': 208, 'sister': 5, 'on': 142, 'bank,': 2, 'and': 766, 'having': 10, 'nothing': 22, 'do:': 1, 'once': 19, 'or': 68, 'twice': 1, 'she': 518, 'had': 176, 'peeped': 3, 'into': 67, 'book': 3, 'reading,': 1, 'but': 116, 'it': 362, 'no': 67, 'pictures': 4, 'conversations': 1, 'it,': 38, \"'and\": 55, 'what': 91, 'is': 71, 'use': 16, 'a': 614, \"book,'\": 2, 'thought': 63, \"'without\": 1, \"conversations?'\": 1, 'so': 126, 'considering': 3, 'own': 9, 'mind': 5, '(as': 3, 'well': 27, 'as': 249, 'could,': 7, 'for': 135, 'hot': 4, 'day': 11, 'made': 29, 'feel': 8, 'sleepy': 3, 'stupid),': 1, 'whether': 11, 'pleasure': 2, 'making': 8, 'daisy-chain': 1, 'would': 76, 'be': 138, 'worth': 4, 'trouble': 4, 'getting': 21, 'up': 81, 'picking': 2, 'daisies,': 1, 'when': 73, 'suddenly': 10, 'white': 28, 'rabbit': 30, 'with': 170, 'pink': 1, 'eyes': 18, 'ran': 13, 'close': 12, 'her.': 13, 'there': 64, 'remarkable': 2, 'that;': 1, 'nor': 2, 'did': 50, 'think': 38, 'much': 40, 'out': 97, 'way': 37, 'hear': 14, 'say': 35, 'itself,': 4, \"'oh\": 2, 'dear!': 9, 'oh': 6, 'i': 260, 'shall': 22, \"late!'\": 1, '(when': 1, 'over': 31, 'afterwards,': 1, 'occurred': 2, 'that': 222, 'ought': 13, 'have': 77, 'wondered': 1, 'at': 205, 'this,': 17, 'time': 47, 'all': 155, 'seemed': 27, 'quite': 55, 'natural);': 1, 'actually': 1, 'took': 24, 'watch': 6, 'its': 57, 'waistcoat-pocket,': 2, 'looked': 45, 'then': 59, 'hurried': 11, 'on,': 27, 'started': 2, 'feet,': 6, 'flashed': 1, 'across': 5, 'never': 40, 'before': 19, 'seen': 12, 'either': 6, 'take': 19, 'burning': 1, 'curiosity,': 2, 'field': 1, 'after': 40, 'fortunately': 1, 'just': 48, 'see': 48, 'pop': 1, 'large': 32, 'under': 16, 'hedge.': 1, 'another': 21, 'moment': 21, 'went': 79, 'how': 46, 'world': 6, 'again.': 16, 'straight': 2, 'like': 75, 'tunnel': 1, 'some': 50, 'way,': 7, 'dipped': 2, 'down,': 14, 'not': 108, 'about': 84, 'stopping': 1, 'herself': 40, 'found': 28, 'falling': 2, 'deep': 5, 'well.': 2, 'deep,': 2, 'fell': 6, 'slowly,': 2, 'plenty': 2, 'look': 25, 'wonder': 15, 'going': 26, 'happen': 5, 'next.': 3, 'first,': 11, 'tried': 18, 'make': 26, 'coming': 5, 'to,': 3, 'too': 21, 'dark': 3, 'anything;': 2, 'sides': 4, 'well,': 1, 'noticed': 7, 'they': 117, 'were': 82, 'filled': 3, 'cupboards': 2, 'book-shelves;': 1, 'here': 19, 'saw': 13, 'maps': 1, 'hung': 1, 'upon': 26, 'pegs.': 1, 'jar': 2, 'from': 32, 'one': 80, 'shelves': 1, 'passed;': 1, 'labelled': 1, \"'orange\": 1, \"marmalade',\": 1, 'great': 39, 'disappointment': 1, 'empty:': 1, 'drop': 1, 'fear': 4, 'killing': 1, 'somebody,': 1, 'managed': 3, 'put': 31, 'past': 1, 'it.': 16, \"'well!'\": 1, 'herself,': 31, \"'after\": 2, 'such': 40, 'fall': 6, 'tumbling': 2, 'stairs!': 1, 'brave': 1, \"they'll\": 4, 'me': 46, 'home!': 1, 'why,': 9, \"wouldn't\": 12, 'anything': 14, 'even': 19, 'if': 72, 'off': 40, 'top': 8, \"house!'\": 1, '(which': 3, 'likely': 4, 'true.)': 1, 'down.': 2, 'come': 26, 'an': 56, 'end!': 1, \"'i\": 121, 'many': 12, 'miles': 3, \"i've\": 20, 'fallen': 4, 'this': 103, \"time?'\": 1, 'said': 421, 'aloud.': 3, 'must': 42, 'somewhere': 1, 'near': 14, 'centre': 1, 'earth.': 2, 'let': 13, 'see:': 3, 'four': 6, 'thousand': 2, \"think--'\": 3, '(for,': 2, 'you': 264, 'see,': 11, 'learnt': 2, 'several': 4, 'things': 19, 'sort': 17, 'lessons': 4, 'schoolroom,': 1, 'though': 7, 'good': 23, 'opportunity': 8, 'showing': 2, 'knowledge,': 1, 'listen': 4, 'her,': 18, 'still': 13, 'practice': 1, 'over)': 1, \"'--yes,\": 1, \"that's\": 17, 'right': 21, 'distance--but': 1, 'latitude': 2, 'longitude': 2, 'got': 45, \"to?'\": 3, '(alice': 4, 'idea': 14, 'was,': 14, 'either,': 2, 'nice': 5, 'grand': 2, 'words': 14, 'say.)': 1, 'presently': 2, 'began': 47, 'through': 13, 'earth!': 1, 'funny': 3, \"it'll\": 7, 'seem': 7, 'among': 12, 'people': 10, 'walk': 4, 'their': 51, 'heads': 8, 'downward!': 1, 'antipathies,': 1, '(she': 9, 'rather': 25, 'glad': 11, 'listening,': 2, 'time,': 7, \"didn't\": 11, 'sound': 3, 'word)': 1, \"'--but\": 1, 'ask': 7, 'them': 49, 'name': 8, 'country': 1, 'is,': 16, 'know.': 8, 'please,': 4, \"ma'am,\": 1, 'new': 5, 'zealand': 1, \"australia?'\": 1, '(and': 1, 'curtsey': 1, 'spoke--fancy': 1, 'curtseying': 1, \"you're\": 17, 'air!': 1, 'do': 51, 'could': 65, 'manage': 6, 'it?)': 1, 'ignorant': 1, 'little': 120, 'girl': 3, \"she'll\": 3, 'asking!': 1, 'no,': 4, 'ask:': 1, 'perhaps': 12, 'written': 6, \"somewhere.'\": 1, 'else': 8, 'do,': 7, 'soon': 24, 'talking': 12, \"'dinah'll\": 1, 'miss': 1, 'to-night,': 1, 'should': 27, \"think!'\": 1, '(dinah': 1, 'cat.)': 1, 'hope': 3, 'remember': 12, 'saucer': 1, 'milk': 1, 'tea-time.': 1, 'dinah': 4, 'my': 56, 'wish': 21, 'me!': 3, 'are': 40, 'mice': 3, 'air,': 5, \"i'm\": 37, 'afraid,': 2, 'might': 27, 'catch': 3, 'bat,': 1, 'mouse,': 11, 'cats': 9, 'eat': 16, 'bats,': 1, \"wonder?'\": 3, 'sleepy,': 1, 'saying': 11, 'dreamy': 1, \"'do\": 8, 'bats?': 1, \"bats?'\": 1, 'sometimes,': 1, 'bats': 1, \"cats?'\": 1, 'for,': 3, \"couldn't\": 9, 'answer': 6, 'question,': 4, 'matter': 8, 'which': 40, 'felt': 23, 'dozing': 1, 'off,': 14, 'begun': 6, 'dream': 3, 'walking': 5, 'hand': 11, 'dinah,': 3, 'earnestly,': 1, \"'now,\": 4, 'tell': 29, 'truth:': 1, 'ever': 17, \"bat?'\": 1, 'suddenly,': 1, 'thump!': 2, 'came': 38, 'heap': 1, 'sticks': 1, 'dry': 7, 'leaves,': 2, 'over.': 2, 'bit': 8, 'hurt,': 1, 'jumped': 5, 'feet': 11, 'moment:': 1, 'up,': 9, 'overhead;': 1, 'long': 30, 'passage,': 2, 'sight,': 4, 'hurrying': 1, 'lost:': 1, 'away': 15, 'wind,': 2, 'say,': 5, 'turned': 16, 'corner,': 2, 'ears': 4, 'whiskers,': 1, 'late': 3, \"it's\": 31, \"getting!'\": 1, 'behind': 12, 'longer': 2, 'seen:': 1, 'long,': 1, 'low': 7, 'hall,': 5, 'lit': 1, 'row': 2, 'lamps': 1, 'hanging': 3, 'roof.': 1, 'doors': 2, 'round': 30, 'locked;': 1, 'been': 36, 'side': 12, 'other,': 5, 'trying': 11, 'every': 12, 'door,': 9, 'walked': 10, 'sadly': 2, 'middle,': 3, 'wondering': 7, 'three-legged': 2, 'table,': 5, 'solid': 1, 'glass;': 1, 'except': 4, 'tiny': 4, 'golden': 7, 'key,': 3, 'first': 30, 'belong': 1, 'hall;': 1, 'but,': 8, 'alas!': 3, 'locks': 1, 'large,': 1, 'key': 5, 'small,': 1, 'any': 36, 'rate': 4, 'open': 6, 'them.': 2, 'however,': 19, 'second': 4, 'round,': 7, 'curtain': 1, 'before,': 11, 'door': 15, 'fifteen': 1, 'inches': 6, 'high:': 3, 'lock,': 1, 'delight': 1, 'fitted!': 1, 'opened': 9, 'led': 4, 'small': 8, 'larger': 3, 'than': 23, 'rat-hole:': 1, 'knelt': 1, 'along': 5, 'passage': 1, 'loveliest': 1, 'garden': 4, 'saw.': 1, 'longed': 2, 'wander': 1, 'those': 10, 'beds': 1, 'bright': 7, 'flowers': 2, 'cool': 2, 'fountains,': 1, 'head': 29, 'doorway;': 1, 'go': 39, \"through,'\": 1, 'poor': 26, 'alice,': 76, \"'it\": 30, 'without': 24, 'shoulders.': 1, 'oh,': 6, 'shut': 4, 'telescope!': 1, 'only': 44, 'knew': 13, \"begin.'\": 3, 'out-of-the-way': 3, 'happened': 3, 'lately,': 1, 'few': 9, 'indeed': 3, 'really': 9, 'impossible.': 1, 'waiting': 8, 'back': 29, 'half': 21, 'hoping': 3, 'find': 20, 'rules': 3, 'shutting': 2, 'telescopes:': 1, 'bottle': 7, \"('which\": 1, 'certainly': 8, \"before,'\": 3, 'alice,)': 2, 'neck': 6, 'paper': 3, 'label,': 1, \"'drink\": 3, \"me'\": 2, 'beautifully': 2, 'printed': 1, 'letters.': 1, \"me,'\": 8, 'wise': 2, 'hurry.': 3, \"'no,\": 9, \"i'll\": 24, \"first,'\": 2, 'said,': 26, 'marked': 5, '\"poison\"': 1, \"not';\": 1, 'read': 9, 'histories': 1, 'children': 5, 'who': 54, 'burnt,': 1, 'eaten': 1, 'wild': 2, 'beasts': 1, 'other': 26, 'unpleasant': 2, 'things,': 2, 'because': 12, 'simple': 5, 'friends': 2, 'taught': 4, 'them:': 1, 'as,': 2, 'red-hot': 1, 'poker': 1, 'will': 30, 'burn': 2, 'hold': 6, 'long;': 1, 'cut': 5, 'your': 60, 'finger': 3, 'deeply': 1, 'knife,': 1, 'usually': 2, 'bleeds;': 1, 'forgotten': 6, 'that,': 5, 'drink': 4, \"'poison,'\": 2, 'almost': 6, 'certain': 2, 'disagree': 1, 'you,': 26, 'sooner': 2, 'later.': 1, 'ventured': 4, 'taste': 2, 'finding': 3, 'nice,': 1, '(it': 5, 'had,': 1, 'fact,': 4, 'mixed': 2, 'flavour': 1, 'cherry-tart,': 1, 'custard,': 1, 'pine-apple,': 1, 'roast': 1, 'turkey,': 1, 'toffee,': 1, 'buttered': 1, 'toast,)': 1, 'finished': 7, 'off.': 5, '*': 60, \"'what\": 34, 'curious': 16, \"feeling!'\": 1, 'alice;': 16, \"telescope.'\": 1, 'indeed:': 1, 'now': 25, 'ten': 5, 'high,': 3, 'face': 7, 'brightened': 2, 'size': 6, 'lovely': 2, 'garden.': 3, 'waited': 9, 'minutes': 7, 'shrink': 1, 'further:': 1, 'nervous': 4, 'this;': 2, \"'for\": 7, 'end,': 1, \"know,'\": 8, \"'in\": 8, 'altogether,': 2, 'candle.': 1, \"then?'\": 1, 'fancy': 3, 'flame': 1, 'candle': 2, 'blown': 1, 'out,': 13, 'thing.': 1, 'while,': 4, 'more': 39, 'happened,': 2, 'decided': 3, 'once;': 1, 'alas': 1, 'alice!': 3, 'table': 8, 'possibly': 3, 'reach': 4, 'it:': 9, 'plainly': 1, 'glass,': 2, 'best': 9, 'climb': 1, 'legs': 3, 'slippery;': 1, 'trying,': 1, 'thing': 35, 'sat': 17, 'cried.': 2, \"'come,\": 9, \"there's\": 16, 'crying': 2, \"that!'\": 8, 'sharply;': 1, 'advise': 1, 'leave': 7, \"minute!'\": 1, 'generally': 5, 'gave': 15, 'advice,': 1, '(though': 1, 'seldom': 1, 'followed': 8, 'it),': 2, 'sometimes': 4, 'scolded': 1, 'severely': 3, 'bring': 2, 'tears': 5, 'eyes;': 1, 'remembered': 5, 'box': 3, 'cheated': 1, 'game': 6, 'croquet': 3, 'playing': 2, 'against': 9, 'child': 3, 'fond': 3, 'pretending': 1, 'two': 22, 'people.': 1, \"'but\": 38, \"now,'\": 4, \"'to\": 5, 'pretend': 1, 'people!': 1, 'hardly': 12, 'enough': 10, 'left': 13, 'respectable': 1, \"person!'\": 1, 'eye': 4, 'glass': 4, 'lying': 8, 'table:': 1, 'cake,': 2, \"'eat\": 1, 'currants.': 1, \"'well,\": 20, \"it,'\": 19, 'makes': 11, 'grow': 13, 'larger,': 3, 'can': 31, 'key;': 1, 'smaller,': 3, 'creep': 1, 'door;': 1, 'garden,': 5, \"don't\": 53, 'care': 4, \"happens!'\": 1, 'ate': 1, 'bit,': 2, 'anxiously': 13, \"'which\": 3, 'way?': 1, \"way?',\": 1, 'holding': 2, 'growing,': 4, 'surprised': 6, 'remained': 3, 'same': 21, 'size:': 3, 'sure,': 2, 'happens': 2, 'eats': 1, 'expecting': 3, 'happen,': 1, 'dull': 2, 'stupid': 1, 'life': 2, 'common': 1, 'way.': 3, 'set': 14, 'work,': 1, 'cake.': 1, 'ii.': 1, 'pool': 7, \"'curiouser\": 1, \"curiouser!'\": 1, 'cried': 18, 'surprised,': 1, 'forgot': 2, 'speak': 8, 'english);': 1, \"'now\": 5, 'opening': 3, 'largest': 1, 'telescope': 1, 'was!': 1, 'good-bye,': 1, \"feet!'\": 1, '(for': 1, 'far': 9, 'off).': 1, \"'oh,\": 19, 'shoes': 5, 'stockings': 1, 'now,': 7, 'dears?': 1, 'sure': 16, '_i_': 2, \"shan't\": 4, 'able!': 1, 'deal': 11, 'myself': 2, 'you:': 1, 'can;--but': 1, 'kind': 6, \"them,'\": 3, \"'or\": 6, \"won't\": 21, 'want': 9, 'go!': 1, 'give': 9, 'pair': 5, 'boots': 3, \"christmas.'\": 1, 'planning': 1, \"'they\": 9, \"carrier,'\": 1, 'thought;': 1, 'seem,': 1, 'sending': 2, 'presents': 2, \"one's\": 1, 'feet!': 1, 'odd': 1, 'directions': 1, 'look!': 1, 'foot,': 3, 'esq.': 1, 'hearthrug,': 1, 'fender,': 1, '(with': 2, 'love).': 1, 'dear,': 6, 'nonsense': 1, \"talking!'\": 1, 'struck': 2, 'roof': 5, 'hall:': 1, 'fact': 2, 'nine': 4, 'door.': 2, 'side,': 3, 'eye;': 2, 'hopeless': 1, 'ever:': 1, 'cry': 3, \"'you\": 39, 'ashamed': 2, \"yourself,'\": 1, \"'a\": 11, \"you,'\": 6, 'this),': 1, 'way!': 1, 'stop': 4, 'moment,': 5, \"you!'\": 3, 'same,': 2, 'shedding': 1, 'gallons': 1, 'tears,': 3, 'until': 4, 'reaching': 1, 'hall.': 1, 'heard': 29, 'pattering': 3, 'distance,': 4, 'hastily': 7, 'dried': 1, 'coming.': 2, 'returning,': 1, 'splendidly': 1, 'dressed,': 1, 'kid': 5, 'gloves': 5, 'fan': 8, 'other:': 3, 'he': 111, 'trotting': 2, 'hurry,': 1, 'muttering': 3, 'himself': 4, 'came,': 2, \"'oh!\": 2, 'duchess,': 8, 'duchess!': 3, 'oh!': 3, 'savage': 3, 'kept': 13, \"waiting!'\": 1, 'desperate': 1, 'ready': 7, 'help': 9, 'one;': 2, 'so,': 7, 'began,': 6, 'low,': 6, 'timid': 3, 'voice,': 15, \"'if\": 21, \"sir--'\": 1, 'violently,': 2, 'dropped': 4, 'fan,': 1, 'skurried': 1, 'darkness': 1, 'hard': 8, 'go.': 1, 'gloves,': 3, 'and,': 19, 'hall': 1, 'hot,': 1, 'fanning': 1, 'talking:': 1, \"'dear,\": 1, 'queer': 9, 'everything': 10, 'to-day!': 1, 'yesterday': 2, 'usual.': 2, 'changed': 7, 'night?': 1, 'think:': 1, 'morning?': 1, 'feeling': 6, 'different.': 1, 'next': 22, 'question': 7, 'am': 13, 'i?': 1, 'ah,': 1, \"puzzle!'\": 1, 'thinking': 10, 'age': 2, \"'i'm\": 20, \"ada,'\": 1, 'hair': 5, 'goes': 7, 'ringlets,': 1, 'mine': 3, \"doesn't\": 16, 'ringlets': 1, 'all;': 2, \"can't\": 27, 'mabel,': 2, 'know': 45, 'sorts': 3, 'she,': 5, 'knows': 2, 'little!': 1, 'besides,': 2, \"she's\": 4, 'i,': 1, 'and--oh': 2, 'puzzling': 4, 'is!': 1, 'try': 12, 'used': 12, 'times': 6, 'five': 2, 'twelve,': 1, 'six': 2, 'thirteen,': 1, 'seven': 4, 'is--oh': 1, 'twenty': 1, 'rate!': 1, 'multiplication': 1, 'signify:': 1, \"let's\": 3, 'geography.': 1, 'london': 1, 'capital': 4, 'paris,': 1, 'paris': 1, 'rome,': 1, 'rome--no,': 1, 'wrong,': 2, 'certain!': 1, 'mabel!': 1, '\"how': 2, 'doth': 3, 'little--\"\\'': 1, 'crossed': 3, 'hands': 6, 'lap': 2, 'lessons,': 1, 'repeat': 6, 'voice': 18, 'sounded': 5, 'hoarse': 2, 'strange,': 1, 'do:--': 1, \"'how\": 16, 'crocodile': 1, 'improve': 1, 'his': 95, 'shining': 1, 'tail,': 3, 'pour': 1, 'waters': 1, 'nile': 1, 'scale!': 1, 'cheerfully': 1, 'seems': 4, 'grin,': 3, 'neatly': 2, 'spread': 3, 'claws,': 1, 'welcome': 1, 'fishes': 1, 'gently': 3, 'smiling': 2, \"jaws!'\": 1, \"words,'\": 1, 'again': 13, 'mabel': 1, 'all,': 3, 'live': 7, 'poky': 1, 'house,': 9, 'toys': 1, 'play': 8, 'with,': 1, 'learn!': 2, 'it;': 9, 'stay': 4, 'here!': 2, 'putting': 3, '\"come': 2, 'again,': 31, 'dear!\"': 1, '\"who': 1, 'then?': 1, 'then,': 6, 'being': 19, 'person,': 1, 'up:': 1, 'not,': 10, 'till': 19, 'somebody': 4, 'else\"--but,': 1, \"dear!'\": 3, 'sudden': 5, 'burst': 1, 'down!': 2, 'alone': 2, \"here!'\": 1, 'hands,': 5, \"rabbit's\": 3, 'while': 20, 'talking.': 2, 'done': 10, \"that?'\": 6, 'thought.': 2, 'growing': 6, \"again.'\": 2, 'measure': 1, 'nearly': 10, 'guess,': 1, 'shrinking': 4, 'rapidly:': 1, 'cause': 2, 'holding,': 1, 'hastily,': 4, 'avoid': 1, 'altogether.': 1, \"'that\": 15, 'narrow': 1, \"escape!'\": 1, 'frightened': 7, 'change,': 2, 'existence;': 1, \"garden!'\": 1, 'speed': 1, 'door:': 1, 'worse': 2, \"ever,'\": 2, 'child,': 1, 'never!': 1, 'declare': 1, 'bad,': 1, \"is!'\": 3, 'these': 13, 'foot': 5, 'slipped,': 1, 'splash!': 1, 'chin': 4, 'salt': 2, 'water.': 1, 'somehow': 1, 'sea,': 3, 'case': 4, \"railway,'\": 1, 'herself.': 8, 'seaside': 1, 'life,': 2, 'general': 3, 'conclusion,': 1, 'wherever': 2, 'english': 1, 'coast': 1, 'number': 5, 'bathing': 1, 'machines': 1, 'digging': 3, 'sand': 1, 'wooden': 1, 'spades,': 1, 'lodging': 1, 'houses,': 1, 'railway': 1, 'station.)': 1, 'wept': 1, 'high.': 3, \"hadn't\": 7, \"much!'\": 2, 'swam': 5, 'about,': 6, 'out.': 2, 'punished': 1, 'suppose,': 1, 'drowned': 1, 'tears!': 1, 'thing,': 4, 'sure!': 1, \"to-day.'\": 1, 'something': 15, 'splashing': 2, 'nearer': 4, 'was:': 2, 'walrus': 1, 'hippopotamus,': 1, 'mouse': 20, 'slipped': 2, \"'would\": 5, 'use,': 2, 'mouse?': 1, 'here,': 6, 'talk:': 1, 'rate,': 2, 'harm': 1, \"trying.'\": 1, 'began:': 1, \"'o\": 1, 'pool?': 1, 'swimming': 2, 'o': 1, \"mouse!'\": 1, 'speaking': 2, 'mouse:': 1, \"brother's\": 1, 'latin': 1, 'grammar,': 1, 'mouse--of': 1, 'mouse--to': 1, 'mouse--a': 1, 'mouse--o': 1, \"mouse!')\": 1, 'inquisitively,': 1, 'wink': 2, 'eyes,': 5, 'nothing.': 3, \"'perhaps\": 3, 'understand': 5, \"english,'\": 1, 'daresay': 1, 'french': 3, 'william': 3, \"conqueror.'\": 1, 'knowledge': 1, 'history,': 4, 'clear': 2, 'notion': 3, 'ago': 1, 'happened.)': 1, 'again:': 4, \"'ou\": 1, 'est': 1, 'ma': 1, \"chatte?'\": 1, 'sentence': 5, 'lesson-book.': 1, 'leap': 1, 'water,': 1, 'quiver': 1, 'fright.': 1, 'beg': 8, \"pardon!'\": 4, 'afraid': 9, 'hurt': 2, \"animal's\": 1, 'feelings.': 1, \"cats.'\": 1, \"'not\": 11, \"cats!'\": 1, 'shrill,': 2, 'passionate': 1, 'voice.': 10, \"me?'\": 2, \"not,'\": 6, 'soothing': 1, 'tone:': 5, \"'don't\": 6, 'angry': 3, 'yet': 9, 'show': 3, 'our': 8, 'cat': 15, 'dinah:': 1, \"you'd\": 8, 'dear': 6, 'quiet': 2, \"thing,'\": 3, 'lazily': 1, 'pool,': 2, 'sits': 1, 'purring': 1, 'nicely': 2, 'fire,': 3, 'licking': 1, 'paws': 2, 'washing': 1, 'face--and': 1, 'soft': 1, 'nurse--and': 1, 'catching': 2, 'mice--oh,': 1, 'bristling': 1, 'over,': 2, 'offended.': 1, \"'we\": 11, 'talk': 10, \"not.'\": 2, \"indeed!'\": 6, 'trembling': 6, 'end': 13, 'tail.': 2, \"'as\": 7, 'subject!': 1, 'family': 1, 'always': 12, 'hated': 1, 'cats:': 1, 'nasty,': 1, 'vulgar': 1, 'things!': 1, \"again!'\": 7, 'hurry': 4, 'change': 9, 'subject': 2, 'conversation.': 5, \"'are\": 7, 'you--are': 1, 'fond--of--of': 1, \"dogs?'\": 1, 'answer,': 1, 'eagerly:': 1, \"'there\": 4, 'dog': 2, 'house': 8, 'you!': 2, 'bright-eyed': 1, 'terrier,': 1, 'know,': 7, 'curly': 1, 'brown': 1, 'hair!': 1, 'fetch': 5, 'throw': 3, 'them,': 21, 'sit': 6, 'dinner,': 1, 'things--i': 1, 'them--and': 2, 'belongs': 2, 'farmer,': 1, 'says': 4, 'useful,': 2, 'hundred': 1, 'pounds!': 1, 'kills': 1, 'rats': 1, 'sorrowful': 2, 'tone,': 16, 'offended': 7, 'go,': 4, 'commotion': 1, 'went.': 2, 'called': 15, 'softly': 1, \"'mouse\": 1, 'we': 16, 'dogs': 1, \"them!'\": 5, 'slowly': 6, 'her:': 5, 'pale': 2, 'passion,': 2, 'thought),': 1, \"'let\": 3, 'us': 9, 'shore,': 2, \"you'll\": 4, 'why': 7, 'hate': 1, \"dogs.'\": 1, 'high': 4, 'crowded': 5, 'birds': 7, 'animals': 3, 'duck': 2, 'dodo,': 3, 'lory': 3, 'eaglet,': 1, 'creatures.': 1, 'whole': 13, 'party': 7, 'shore.': 1, 'iii.': 1, 'caucus-race': 1, 'tale': 2, 'queer-looking': 1, 'assembled': 2, 'bank--the': 1, 'draggled': 1, 'feathers,': 1, 'fur': 2, 'clinging': 1, 'dripping': 1, 'wet,': 1, 'cross,': 1, 'uncomfortable.': 2, 'course': 11, 'consultation': 1, 'natural': 3, 'familiarly': 1, 'known': 1, 'life.': 2, 'indeed,': 2, 'argument': 4, 'lory,': 3, 'last': 26, 'sulky,': 1, 'older': 2, \"better';\": 1, 'allow': 2, 'knowing': 2, 'old': 13, 'positively': 1, 'refused': 1, 'age,': 2, 'said.': 4, 'person': 2, 'authority': 2, \"'sit\": 2, \"enough!'\": 1, 'once,': 5, 'ring,': 2, 'middle.': 1, 'fixed': 1, 'bad': 1, 'cold': 1, 'soon.': 1, \"'ahem!'\": 1, 'important': 3, 'ready?': 1, 'driest': 1, 'silence': 4, 'please!': 1, '\"william': 1, 'conqueror,': 1, 'whose': 2, 'favoured': 1, 'pope,': 1, 'submitted': 1, 'english,': 1, 'wanted': 4, 'leaders,': 1, 'accustomed': 1, 'usurpation': 1, 'conquest.': 1, 'edwin': 1, 'morcar,': 2, 'earls': 2, 'mercia': 2, 'northumbria--\"\\'': 1, \"'ugh!'\": 1, 'shiver.': 1, 'frowning,': 1, 'politely:': 1, \"'did\": 3, \"speak?'\": 1, \"i!'\": 2, 'hastily.': 4, \"did,'\": 3, 'mouse.': 2, \"'--i\": 1, 'proceed.': 1, '\"edwin': 1, 'northumbria,': 1, 'declared': 1, 'him:': 3, 'stigand,': 1, 'patriotic': 1, 'archbishop': 2, 'canterbury,': 1, 'advisable--\"\\'': 1, \"'found\": 2, \"what?'\": 5, 'duck.': 1, 'replied': 14, 'crossly:': 1, \"'of\": 12, '\"it\"': 2, \"means.'\": 1, 'means': 2, 'enough,': 2, 'duck:': 1, \"'it's\": 23, 'frog': 1, 'worm.': 1, \"find?'\": 1, 'notice': 5, 'hurriedly': 2, '\\'\"--found': 1, 'advisable': 1, 'edgar': 1, 'atheling': 1, 'meet': 2, 'offer': 2, 'him': 23, 'crown.': 1, \"william's\": 1, 'conduct': 1, 'moderate.': 1, 'insolence': 1, 'normans--\"': 1, \"dear?'\": 1, 'continued,': 2, 'turning': 12, 'spoke.': 6, 'wet': 1, 'melancholy': 6, \"all.'\": 2, \"case,'\": 1, 'dodo': 9, 'solemnly,': 1, 'rising': 1, 'move': 2, 'meeting': 1, 'adjourn,': 1, 'immediate': 1, 'adoption': 1, 'energetic': 1, \"remedies--'\": 1, \"'speak\": 2, \"english!'\": 1, 'eaglet.': 1, 'meaning': 7, 'words,': 1, \"what's\": 2, 'more,': 4, 'believe': 8, \"either!'\": 1, 'eaglet': 1, 'bent': 1, 'hide': 1, 'smile:': 1, 'tittered': 1, 'audibly.': 1, \"say,'\": 4, \"'was,\": 1, \"caucus-race.'\": 1, \"caucus-race?'\": 1, 'paused': 1, 'speak,': 2, 'inclined': 1, 'anything.': 1, \"'why,'\": 2, \"'the\": 20, 'explain': 8, \"it.'\": 9, '(and,': 1, 'yourself,': 1, 'winter': 1, 'day,': 4, 'it.)': 2, 'race-course,': 1, 'circle,': 1, \"('the\": 1, 'exact': 1, 'shape': 1, \"matter,'\": 1, 'said,)': 1, 'placed': 1, 'course,': 5, 'there.': 2, \"'one,\": 2, 'two,': 10, 'three,': 1, \"away,'\": 1, 'running': 8, 'liked,': 2, 'easy': 2, 'race': 2, 'hour': 2, \"over!'\": 3, 'panting,': 2, 'asking,': 1, 'has': 7, \"won?'\": 1, 'thought,': 6, 'pressed': 3, 'forehead': 2, '(the': 4, 'position': 2, 'shakespeare,': 1, 'him),': 1, 'rest': 9, 'silence.': 5, \"'everybody\": 2, 'won,': 1, \"prizes.'\": 1, \"prizes?'\": 1, 'chorus': 2, 'voices': 2, 'asked.': 8, \"'why,\": 9, \"course,'\": 5, 'pointing': 3, 'finger;': 1, 'calling': 1, 'confused': 3, \"'prizes!\": 1, \"prizes!'\": 1, 'despair': 1, 'pocket,': 2, 'pulled': 1, 'comfits,': 1, '(luckily': 1, 'water': 2, 'handed': 3, 'prizes.': 1, 'exactly': 6, 'a-piece': 1, 'round.': 3, 'prize': 1, 'gravely.': 1, \"pocket?'\": 1, 'alice.': 54, \"'only\": 3, \"thimble,'\": 1, 'sadly.': 2, \"'hand\": 1, \"here,'\": 5, 'dodo.': 1, 'solemnly': 2, 'presented': 1, 'thimble,': 2, 'acceptance': 1, 'elegant': 1, \"thimble';\": 1, 'short': 4, 'speech,': 1, 'cheered.': 1, 'absurd,': 1, 'grave': 3, 'dare': 5, 'laugh;': 1, 'simply': 2, 'bowed,': 1, 'looking': 30, 'solemn': 3, 'could.': 4, 'comfits:': 1, 'caused': 2, 'noise': 3, 'confusion,': 2, 'complained': 1, 'theirs,': 1, 'ones': 1, 'choked': 3, 'patted': 1, 'back.': 2, 'last,': 5, 'begged': 1, 'more.': 1, 'promised': 1, 'hate--c': 1, \"d,'\": 1, 'added': 20, 'whisper,': 1, \"'mine\": 1, 'sad': 2, \"tale!'\": 1, 'sighing.': 1, \"certainly,'\": 3, \"mouse's\": 1, 'tail;': 1, 'call': 5, \"sad?'\": 1, 'speaking,': 3, 'this:--': 2, \"'fury\": 1, 'met': 3, '\"let': 1, 'both': 14, 'law:': 1, 'prosecute': 1, 'you.--come,': 1, 'denial;': 1, 'trial:': 1, 'morning': 1, 'do.\"': 1, 'cur,': 1, '\"such': 1, 'trial,': 1, 'sir,': 4, 'jury': 9, 'judge,': 3, 'wasting': 2, 'breath.\"': 1, '\"i\\'ll': 2, 'jury,\"': 1, 'cunning': 1, 'fury:': 1, 'cause,': 1, 'condemn': 1, 'death.\"\\'': 1, \"attending!'\": 1, 'severely.': 1, \"of?'\": 3, \"pardon,'\": 1, 'humbly:': 1, 'fifth': 1, 'bend,': 1, \"think?'\": 2, \"not!'\": 2, 'sharply': 1, 'angrily.': 3, \"knot!'\": 1, 'undo': 1, \"it!'\": 7, \"sort,'\": 1, 'away.': 3, 'insult': 1, \"nonsense!'\": 2, 'mean': 7, 'pleaded': 3, 'easily': 3, 'offended,': 1, \"know!'\": 2, 'growled': 1, 'reply.': 3, \"'please\": 3, 'finish': 4, \"story!'\": 2, 'others': 4, 'joined': 2, 'chorus,': 1, \"'yes,\": 8, 'please': 9, \"do!'\": 3, 'shook': 9, 'impatiently,': 2, 'quicker.': 1, 'pity': 1, \"stay!'\": 1, 'sighed': 5, 'sight;': 1, 'crab': 1, 'daughter': 1, \"'ah,\": 2, 'lesson': 1, 'lose': 1, \"temper!'\": 1, \"'hold\": 3, 'tongue,': 1, \"ma!'\": 1, 'young': 5, 'crab,': 2, 'snappishly.': 1, \"'you're\": 6, 'patience': 1, \"oyster!'\": 1, 'aloud,': 1, 'addressing': 1, 'nobody': 4, 'particular.': 1, \"'she'd\": 1, \"back!'\": 2, 'venture': 3, \"question?'\": 1, 'lory.': 1, 'eagerly,': 3, 'pet:': 1, \"'dinah's\": 1, 'cat.': 6, 'think!': 1, 'birds!': 1, 'bird': 1, 'speech': 1, 'sensation': 1, 'party.': 1, 'once:': 1, 'magpie': 1, 'wrapping': 1, 'itself': 8, 'carefully,': 3, 'remarking,': 1, 'home;': 1, 'night-air': 1, 'suit': 3, \"throat!'\": 1, 'canary': 1, 'children,': 3, \"'come\": 6, 'away,': 3, 'dears!': 1, \"bed!'\": 1, 'various': 1, 'pretexts': 1, 'moved': 4, 'alone.': 1, 'mentioned': 3, \"dinah!'\": 1, 'tone.': 9, \"'nobody\": 2, 'world!': 1, 'dinah!': 1, \"more!'\": 1, 'lonely': 2, 'low-spirited.': 1, 'footsteps': 1, 'mind,': 2, 'story.': 1, 'iv.': 1, 'sends': 1, 'bill': 2, 'rabbit,': 8, 'went,': 2, 'lost': 1, 'something;': 1, 'paws!': 1, 'whiskers!': 1, 'executed,': 3, 'ferrets': 1, 'ferrets!': 1, 'where': 10, 'guessed': 3, 'good-naturedly': 1, 'hunting': 3, 'nowhere': 2, 'seen--everything': 1, 'since': 4, 'swim': 1, 'vanished': 3, 'completely.': 1, 'mary': 3, 'ann,': 2, 'doing': 3, 'here?': 2, 'run': 4, 'home': 1, 'fan!': 1, 'quick,': 1, \"now!'\": 3, 'direction': 2, 'pointed': 1, 'mistake': 2, 'made.': 1, \"'he\": 7, \"housemaid,'\": 1, 'ran.': 1, \"he'll\": 1, 'finds': 1, 'am!': 1, \"i'd\": 7, 'better': 11, 'gloves--that': 1, \"them.'\": 2, 'neat': 1, 'brass': 1, 'plate': 2, \"'w.\": 1, \"rabbit'\": 1, 'engraved': 1, 'knocking,': 1, 'upstairs,': 1, 'lest': 1, 'real': 3, 'gloves.': 1, \"seems,'\": 1, 'messages': 2, 'rabbit!': 1, 'suppose': 8, \"dinah'll\": 1, \"next!'\": 1, 'fancying': 1, 'happen:': 1, '\\'\"miss': 1, 'directly,': 1, 'walk!\"': 1, '\"coming': 1, 'minute,': 4, 'nurse!': 1, 'out.\"': 1, \"think,'\": 3, \"they'd\": 3, 'ordering': 2, 'tidy': 1, 'room': 8, 'window,': 5, 'hoped)': 1, 'three': 23, 'pairs': 1, 'gloves:': 1, 'room,': 1, 'stood': 7, 'looking-glass.': 1, 'label': 1, 'nevertheless': 1, 'uncorked': 1, 'lips.': 1, 'interesting': 3, \"happen,'\": 1, \"'whenever\": 1, 'does.': 1, \"thing!'\": 6, 'expected:': 1, 'drunk': 2, 'bottle,': 2, 'pressing': 1, 'ceiling,': 1, 'stoop': 1, 'save': 1, 'broken.': 1, \"'that's\": 15, 'enough--i': 1, 'more--as': 1, 'door--i': 1, 'that!': 2, 'kneel': 1, 'floor:': 1, 'minute': 15, 'effect': 1, 'elbow': 2, 'arm': 7, 'curled': 2, 'head.': 5, 'resource,': 1, 'chimney,': 2, 'whatever': 1, 'happens.': 1, 'become': 5, 'luckily': 1, 'magic': 1, 'full': 6, 'effect,': 1, 'grew': 1, 'larger:': 1, 'uncomfortable,': 1, 'chance': 4, 'unhappy.': 1, 'pleasanter': 1, \"home,'\": 1, \"'when\": 5, \"wasn't\": 11, 'ordered': 2, 'rabbits.': 1, 'gone': 9, 'rabbit-hole--and': 1, 'yet--and': 1, \"yet--it's\": 1, 'curious,': 1, 'life!': 1, 'fairy-tales,': 1, 'fancied': 2, 'middle': 3, 'one!': 1, 'me,': 4, 'ought!': 1, 'write': 5, 'one--but': 1, 'grown': 7, 'tone;': 2, \"'at\": 3, 'least': 7, \"here.'\": 3, \"then,'\": 6, \"'shall\": 2, 'now?': 1, \"that'll\": 1, 'comfort,': 1, 'way--never': 1, 'woman--but': 1, 'then--always': 1, \"shouldn't\": 5, 'foolish': 1, \"alice!'\": 1, 'answered': 3, 'learn': 4, \"lesson-books!'\": 1, 'taking': 5, 'conversation': 4, 'altogether;': 1, 'outside,': 1, 'stopped': 3, 'listen.': 2, \"'mary\": 1, 'ann!': 1, \"ann!'\": 1, \"'fetch\": 2, \"moment!'\": 1, 'stairs.': 1, 'trembled': 2, 'forgetting': 3, 'reason': 8, 'inwards,': 1, 'attempt': 1, 'proved': 2, 'failure.': 1, \"'then\": 11, \"window.'\": 1, \"won't'\": 1, 'hand,': 6, 'snatch': 2, 'air.': 5, 'anything,': 1, 'shriek': 3, 'fall,': 1, 'crash': 1, 'broken': 5, 'concluded': 2, 'possible': 1, 'cucumber-frame,': 1, 'sort.': 1, 'voice--the': 1, \"rabbit's--'pat!\": 1, 'pat!': 1, \"you?'\": 9, \"'sure\": 1, 'apples,': 2, 'yer': 4, \"honour!'\": 2, \"'digging\": 1, \"'here!\": 2, \"this!'\": 1, '(sounds': 1, 'glass.)': 1, 'pat,': 1, \"window?'\": 1, \"'sure,\": 3, 'arm,': 5, '(he': 1, 'pronounced': 1, \"'arrum.')\": 1, \"'an\": 1, 'goose!': 1, 'size?': 1, 'fills': 1, \"window!'\": 1, 'does,': 1, 'honour:': 1, \"that.'\": 3, 'business': 2, 'there,': 1, 'rate:': 1, \"away!'\": 2, 'whispers': 1, 'then;': 1, 'honour,': 1, \"all!'\": 1, \"coward!'\": 1, 'shrieks,': 1, 'sounds': 3, 'glass.': 1, 'cucumber-frames': 1, \"be!'\": 1, 'next!': 2, 'pulling': 1, 'could!': 1, \"longer!'\": 1, 'hearing': 3, 'more:': 1, 'rumbling': 1, 'cartwheels,': 1, 'together:': 1, 'words:': 2, \"'where's\": 1, 'ladder?--why,': 1, \"bill's\": 3, 'other--bill!': 1, 'lad!--here,': 1, \"'em\": 3, 'corner--no,': 1, 'tie': 1, 'together': 2, 'first--they': 1, 'yet--oh!': 1, 'enough;': 2, 'particular--here,': 1, 'bill!': 3, 'rope--will': 1, 'bear?--mind': 1, 'loose': 1, 'slate--oh,': 1, \"below!'\": 1, '(a': 1, 'loud': 3, \"crash)--'now,\": 1, 'that?--it': 1, 'bill,': 4, \"fancy--who's\": 1, 'chimney?--nay,': 1, \"shan't!\": 1, 'it!--that': 1, \"won't,\": 1, \"then!--bill's\": 1, 'down--here,': 1, 'master': 2, \"chimney!'\": 1, \"he?'\": 1, \"'shy,\": 1, 'place': 6, 'deal:': 1, 'fireplace': 1, 'narrow,': 1, 'sure;': 1, 'kick': 2, \"little!'\": 1, 'drew': 5, 'chimney': 2, 'animal': 1, 'guess': 2, 'was)': 1, 'scratching': 1, 'scrambling': 1, 'above': 3, \"'this\": 3, \"bill,'\": 2, 'sharp': 6, 'kick,': 1, \"bill!'\": 1, \"along--'catch\": 1, 'him,': 5, \"hedge!'\": 1, 'silence,': 2, 'confusion': 3, \"voices--'hold\": 1, 'head--brandy': 1, \"now--don't\": 1, 'choke': 1, 'him--how': 1, 'fellow?': 1, 'you?': 2, 'feeble,': 1, 'squeaking': 2, \"('that's\": 1, 'know--no': 1, 'thank': 1, 'ye;': 1, 'now--but': 1, 'flustered': 1, 'you--all': 1, 'comes': 1, 'jack-in-the-box,': 1, \"sky-rocket!'\": 1, \"'so\": 7, 'did,': 3, \"fellow!'\": 1, 'others.': 2, \"down!'\": 1, 'voice;': 2, 'do.': 2, 'dead': 4, 'instantly,': 2, 'sense,': 2, \"off.'\": 1, 'moving': 3, 'barrowful': 2, 'begin': 7, \"with.'\": 1, 'doubt,': 2, 'shower': 2, 'pebbles': 2, 'rattling': 2, 'hit': 2, 'face.': 3, \"'i'll\": 5, \"this,'\": 1, 'shouted': 9, \"'you'd\": 2, 'produced': 1, 'surprise': 1, 'cakes': 1, 'lay': 4, 'floor,': 2, \"cakes,'\": 1, 'size;': 1, \"suppose.'\": 1, 'swallowed': 1, 'cakes,': 1, 'delighted': 2, 'directly.': 1, 'crowd': 4, 'outside.': 1, 'lizard,': 2, 'held': 4, 'guinea-pigs,': 2, 'giving': 2, 'bottle.': 1, 'rush': 2, 'appeared;': 1, 'safe': 2, 'thick': 1, 'wood.': 3, \"do,'\": 4, 'wandered': 2, 'wood,': 1, \"'is\": 4, 'again;': 2, \"plan.'\": 1, 'excellent': 2, 'plan,': 1, 'arranged;': 1, 'difficulty': 3, 'smallest': 2, 'peering': 1, 'trees,': 2, 'bark': 2, 'enormous': 1, 'puppy': 5, 'feebly': 1, 'stretching': 1, 'paw,': 2, 'touch': 1, \"'poor\": 1, 'coaxing': 1, 'whistle': 1, 'terribly': 1, 'hungry,': 1, 'spite': 1, 'coaxing.': 1, 'picked': 3, 'stick,': 4, 'puppy;': 1, 'whereupon': 1, 'air': 2, 'yelp': 1, 'delight,': 2, 'rushed': 1, 'worry': 1, 'dodged': 1, 'thistle,': 1, 'keep': 8, 'over;': 1, 'appeared': 3, 'tumbled': 1, 'heels': 1, 'cart-horse,': 1, 'trampled': 1, 'thistle': 1, 'series': 1, 'charges': 1, 'forwards': 1, 'each': 7, 'back,': 4, 'barking': 1, 'hoarsely': 1, 'tongue': 1, 'mouth,': 2, 'shut.': 1, 'escape;': 1, 'breath,': 3, \"puppy's\": 1, 'faint': 1, 'distance.': 2, \"was!'\": 1, 'leant': 1, 'buttercup': 1, 'fanned': 1, 'leaves:': 1, 'liked': 3, 'teaching': 1, 'tricks': 1, 'much,': 2, 'if--if': 1, 'it!': 1, 'again!': 1, 'see--how': 1, 'managed?': 1, 'other;': 2, 'what?': 2, 'blades': 1, 'grass,': 2, 'circumstances.': 1, 'mushroom': 4, 'height': 4, 'herself;': 4, 'stretched': 2, 'tiptoe,': 2, 'edge': 3, 'mushroom,': 3, 'immediately': 3, 'caterpillar,': 3, 'arms': 5, 'folded,': 2, 'quietly': 4, 'smoking': 2, 'hookah,': 1, 'else.': 2, 'v.': 1, 'advice': 1, 'caterpillar': 11, 'silence:': 1, 'hookah': 4, 'addressed': 2, 'languid,': 1, \"'who\": 6, 'caterpillar.': 12, 'encouraging': 2, 'replied,': 5, 'shyly,': 1, \"'i--i\": 1, 'present--at': 1, 'morning,': 2, \"then.'\": 2, 'sternly.': 1, \"'explain\": 2, \"yourself!'\": 1, 'myself,': 2, \"sir'\": 1, \"'because\": 3, \"see.'\": 1, \"see,'\": 1, \"clearly,'\": 1, 'politely,': 3, 'with;': 1, 'different': 4, 'sizes': 1, \"confusing.'\": 1, \"isn't,'\": 1, \"haven't\": 7, \"yet,'\": 5, 'turn': 7, 'chrysalis--you': 1, 'know--and': 1, 'butterfly,': 1, 'queer,': 1, \"bit,'\": 2, 'feelings': 1, 'may': 12, \"different,'\": 1, \"'all\": 3, \"me.'\": 2, \"'you!'\": 1, 'contemptuously.': 2, 'brought': 3, 'irritated': 1, \"caterpillar's\": 1, 'remarks,': 1, 'gravely,': 2, 'think,': 2, 'are,': 2, \"first.'\": 1, \"'why?'\": 2, 'question;': 1, 'reason,': 1, 'state': 1, \"'i've\": 14, \"say!'\": 1, 'promising,': 1, 'certainly:': 2, \"'keep\": 1, \"temper,'\": 1, \"all?'\": 2, 'swallowing': 1, 'anger': 1, \"'no,'\": 2, 'wait,': 1, 'hearing.': 1, 'puffed': 1, 'unfolded': 2, 'arms,': 1, 'mouth': 7, 'changed,': 1, 'am,': 1, \"sir,'\": 1, 'used--and': 1, \"together!'\": 1, \"'can't\": 1, \"things?'\": 1, 'busy': 2, 'bee,\"': 1, \"different!'\": 2, \"'repeat,\": 1, '\"you': 3, 'old,': 3, 'father': 4, 'william,\"\\'': 1, 'folded': 1, 'began:--': 1, \"william,'\": 2, 'man': 1, 'white;': 1, 'incessantly': 1, 'stand': 4, 'head--': 1, \"right?'\": 1, \"youth,'\": 3, 'son,': 1, 'feared': 1, 'injure': 1, 'brain;': 1, 'perfectly': 4, 'none,': 1, \"old,'\": 3, 'youth,': 3, 'most': 8, 'uncommonly': 1, 'fat;': 1, 'back-somersault': 1, 'door--': 1, 'pray,': 1, 'sage,': 1, 'grey': 1, 'locks,': 1, 'limbs': 1, 'supple': 1, 'ointment--one': 1, 'shilling': 1, 'box--': 1, 'sell': 1, \"couple?'\": 1, 'jaws': 1, 'weak': 2, 'tougher': 1, 'suet;': 1, 'goose,': 1, 'bones': 1, 'beak--': 1, 'pray': 1, \"it?'\": 11, 'father,': 1, 'law,': 1, 'argued': 1, 'wife;': 1, 'muscular': 1, 'strength,': 1, 'jaw,': 1, 'lasted': 1, \"life.'\": 1, \"'one\": 3, 'steady': 1, 'ever;': 1, 'balanced': 1, 'eel': 1, 'nose--': 1, 'awfully': 1, \"clever?'\": 1, 'questions,': 1, \"enough,'\": 1, 'father;': 1, 'yourself': 5, 'airs!': 1, 'stuff?': 1, \"stairs!'\": 1, \"right,'\": 3, 'right,': 3, \"afraid,'\": 1, 'timidly;': 1, \"'some\": 1, \"altered.'\": 1, 'wrong': 2, \"end,'\": 1, 'decidedly,': 3, 'minutes.': 2, 'speak.': 1, \"be?'\": 2, 'particular': 1, \"size,'\": 1, 'replied;': 3, 'changing': 2, 'often,': 2, \"know.'\": 9, 'nothing:': 1, 'contradicted': 1, 'losing': 1, 'temper.': 1, 'content': 1, \"now?'\": 2, \"mind,'\": 1, 'alice:': 7, \"'three\": 1, 'wretched': 2, \"be.'\": 1, 'angrily,': 3, 'rearing': 1, 'upright': 1, 'spoke': 4, 'high).': 1, 'piteous': 1, 'creatures': 6, \"offended!'\": 1, \"'you'll\": 2, \"time,'\": 5, 'caterpillar;': 1, 'patiently': 1, 'chose': 1, 'yawned': 2, 'twice,': 3, 'itself.': 1, 'crawled': 1, 'merely': 2, 'remarking': 2, 'taller,': 1, \"shorter.'\": 1, \"mushroom,'\": 1, 'asked': 8, 'aloud;': 1, 'sight.': 1, 'thoughtfully': 1, 'difficult': 2, 'question.': 3, 'broke': 2, 'hand.': 1, \"which?'\": 1, 'nibbled': 2, 'right-hand': 1, 'effect:': 1, 'violent': 2, 'blow': 2, 'underneath': 1, 'chin:': 1, 'foot!': 1, 'lost,': 1, 'rapidly;': 1, 'work': 7, 'bit.': 2, 'closely': 1, 'mouth;': 1, 'swallow': 1, 'morsel': 1, 'lefthand': 2, \"head's\": 1, 'free': 2, \"last!'\": 1, 'tone': 8, 'alarm': 1, 'shoulders': 2, 'found:': 1, 'immense': 1, 'length': 1, 'neck,': 1, 'rise': 1, 'stalk': 1, 'sea': 2, 'green': 3, 'leaves': 2, 'below': 1, 'stuff': 1, 'to?': 1, 'spoke,': 5, 'result': 1, 'follow,': 1, 'shaking': 3, 'distant': 2, 'leaves.': 1, 'head,': 3, 'bend': 1, 'direction,': 1, 'serpent.': 1, 'succeeded': 3, 'curving': 1, 'graceful': 1, 'zigzag,': 1, 'dive': 1, 'tops': 1, 'trees': 5, 'wandering,': 1, 'hiss': 1, 'draw': 4, 'hurry:': 1, 'pigeon': 6, 'flown': 1, 'face,': 4, 'beating': 1, 'violently': 2, 'wings.': 1, \"'serpent!'\": 1, 'screamed': 4, 'pigeon.': 2, \"serpent!'\": 2, 'indignantly.': 3, \"alone!'\": 1, \"'serpent,\": 1, 'repeated': 8, 'pigeon,': 2, 'subdued': 1, 'sob,': 1, \"about,'\": 1, 'roots': 1, 'banks,': 1, \"hedges,'\": 1, 'attending': 2, 'her;': 3, 'serpents!': 1, 'pleasing': 1, 'puzzled,': 1, 'finished.': 1, 'hatching': 1, \"eggs,'\": 1, 'pigeon;': 2, 'look-out': 1, 'serpents': 2, 'night': 1, 'day!': 1, 'sleep': 4, \"weeks!'\": 1, 'sorry': 1, \"you've\": 5, \"annoyed,'\": 1, 'meaning.': 1, 'taken': 4, 'highest': 1, 'tree': 3, \"wood,'\": 1, 'continued': 7, 'raising': 1, 'shriek,': 2, 'needs': 1, 'wriggling': 1, 'sky!': 1, 'ugh,': 1, 'serpent,': 2, \"a--i'm\": 1, \"a--'\": 1, \"'well!\": 2, 'invent': 1, \"something!'\": 1, \"'i--i'm\": 1, \"girl,'\": 1, 'doubtfully,': 1, 'changes': 2, 'day.': 3, 'story': 3, 'deepest': 1, 'contempt.': 1, 'girls': 3, 'no!': 2, 'serpent;': 1, 'denying': 1, 'telling': 2, 'tasted': 2, \"egg!'\": 1, 'eggs,': 3, 'truthful': 1, 'child;': 1, 'eggs': 1, \"they're\": 10, \"say.'\": 2, 'silent': 3, 'adding,': 1, 'does': 4, \"serpent?'\": 1, 'matters': 2, 'hastily;': 1, 'happens;': 1, 'yours:': 1, \"raw.'\": 1, \"then!'\": 2, 'sulky': 2, 'settled': 3, 'nest.': 1, 'crouched': 1, 'entangled': 2, 'branches,': 1, 'untwist': 1, 'pieces': 2, 'nibbling': 3, 'taller': 1, 'shorter,': 1, 'bringing': 3, 'usual': 1, 'height.': 1, 'size,': 1, 'strange': 4, 'first;': 2, 'minutes,': 2, 'plan': 1, 'now!': 1, 'are!': 1, 'be,': 1, 'another!': 1, 'beautiful': 8, 'garden--how': 1, 'done,': 1, 'place,': 2, \"'whoever\": 1, 'lives': 1, \"there,'\": 2, \"'it'll\": 1, 'frighten': 1, \"wits!'\": 1, 'righthand': 1, 'vi.': 1, 'pig': 1, 'pepper': 6, 'next,': 2, 'footman': 7, 'livery': 1, 'wood--(she': 1, 'considered': 3, 'livery:': 1, 'otherwise,': 1, 'judging': 1, 'only,': 1, 'fish)--and': 1, 'rapped': 1, 'loudly': 2, 'knuckles.': 1, 'livery,': 1, 'frog;': 1, 'footmen,': 1, 'noticed,': 1, 'powdered': 1, 'heads.': 1, 'crept': 1, 'wood': 2, 'fish-footman': 2, 'producing': 1, 'letter,': 3, 'himself,': 1, 'saying,': 3, 'duchess.': 3, 'invitation': 2, 'queen': 35, \"croquet.'\": 2, 'frog-footman': 1, 'repeated,': 2, 'order': 2, 'little,': 3, \"'from\": 1, 'queen.': 11, 'duchess': 15, 'bowed': 3, 'curls': 1, 'together.': 2, 'laughed': 1, 'gone,': 3, 'ground': 2, 'staring': 3, 'stupidly': 1, 'sky.': 2, 'timidly': 2, 'knocked.': 1, \"'there's\": 7, \"knocking,'\": 2, 'footman,': 2, 'reasons.': 1, 'are;': 1, 'secondly,': 2, 'inside,': 2, \"you.'\": 1, 'extraordinary': 2, 'within--a': 1, 'constant': 2, 'howling': 3, 'sneezing,': 1, 'crash,': 1, 'dish': 3, 'kettle': 1, 'pieces.': 1, \"'please,\": 1, \"in?'\": 3, 'sense': 1, 'between': 6, 'us.': 1, 'instance,': 3, 'knock,': 1, 'sky': 1, 'decidedly': 1, 'uncivil.': 1, \"'his\": 1, 'questions.--how': 1, 'remarked,': 2, \"'till\": 2, \"tomorrow--'\": 1, 'opened,': 1, 'skimming': 1, \"footman's\": 1, 'head:': 1, 'grazed': 1, 'nose,': 3, 'him.': 2, \"'--or\": 1, \"maybe,'\": 1, 'happened.': 1, 'louder': 1, 'footman.': 1, 'doubt:': 1, 'told': 6, 'so.': 2, \"dreadful,'\": 1, 'muttered': 2, 'argue.': 1, 'drive': 1, \"crazy!'\": 1, 'repeating': 3, 'remark,': 4, 'variations.': 1, \"'on\": 1, 'days': 2, \"days.'\": 1, \"do?'\": 1, \"'anything\": 1, \"like,'\": 3, 'whistling.': 1, \"him,'\": 2, 'desperately:': 1, \"'he's\": 1, \"idiotic!'\": 1, 'in.': 1, 'kitchen,': 1, 'smoke': 1, 'stool': 1, 'nursing': 3, 'baby;': 1, 'cook': 8, 'leaning': 2, 'stirring': 2, 'cauldron': 2, 'soup.': 1, \"soup!'\": 3, 'sneezing.': 1, 'sneezed': 1, 'occasionally;': 1, 'baby,': 3, 'sneezing': 4, 'alternately': 1, \"moment's\": 2, 'pause.': 1, 'kitchen': 2, 'sneeze,': 1, 'cook,': 2, 'hearth': 1, 'grinning': 1, 'ear': 2, 'ear.': 3, 'timidly,': 4, 'manners': 1, \"'why\": 9, 'grins': 1, 'cheshire': 6, \"cat,'\": 2, 'why.': 1, \"pig!'\": 1, 'word': 7, 'violence': 1, 'jumped;': 1, 'courage,': 1, 'again:--': 2, 'grinned;': 1, \"grin.'\": 1, \"can,'\": 1, 'duchess;': 4, \"do.'\": 2, 'pleased': 5, \"much,'\": 5, \"fact.'\": 1, 'introduce': 2, 'fix': 1, 'one,': 7, 'soup': 5, 'throwing': 2, 'within': 1, 'baby--the': 1, 'fire-irons': 1, 'saucepans,': 1, 'plates,': 1, 'dishes.': 1, 'baby': 6, 'already,': 1, 'impossible': 2, 'blows': 1, 'not.': 2, \"doing!'\": 1, 'jumping': 4, 'agony': 1, 'terror.': 1, 'precious': 1, \"nose';\": 1, 'unusually': 1, 'saucepan': 1, 'flew': 1, 'carried': 4, 'everybody': 6, 'minded': 1, \"business,'\": 1, 'growl,': 2, 'faster': 1, \"does.'\": 1, \"advantage,'\": 1, 'knowledge.': 1, \"'just\": 3, 'night!': 1, 'earth': 1, 'takes': 2, 'twenty-four': 1, 'hours': 3, \"axis--'\": 1, \"'talking\": 1, \"axes,'\": 1, \"'chop\": 1, \"head!'\": 7, 'glanced': 1, 'meant': 4, 'hint;': 1, 'busily': 4, 'soup,': 2, \"'twenty-four\": 1, 'hours,': 1, 'think;': 1, 'twelve?': 1, \"i--'\": 1, 'bother': 1, 'abide': 1, \"figures!'\": 1, 'singing': 2, 'lullaby': 1, 'shake': 1, 'line:': 1, 'roughly': 1, 'boy,': 2, 'beat': 4, 'sneezes:': 1, 'annoy,': 1, \"teases.'\": 1, 'chorus.': 2, '(in': 1, 'joined):--': 1, \"'wow!\": 2, 'wow!': 2, \"wow!'\": 2, 'sang': 2, 'verse': 1, 'song,': 4, 'tossing': 3, 'howled': 1, 'words:--': 2, 'sneezes;': 1, 'thoroughly': 2, 'enjoy': 1, \"pleases!'\": 1, 'nurse': 1, \"like!'\": 1, 'flinging': 1, \"queen,'\": 1, 'room.': 1, 'threw': 2, 'frying-pan': 1, 'missed': 2, 'caught': 3, 'difficulty,': 1, 'queer-shaped': 1, 'creature,': 2, 'directions,': 2, \"star-fish,'\": 1, 'snorting': 1, 'steam-engine': 1, 'doubling': 1, 'straightening': 1, 'proper': 3, 'twist': 2, 'knot,': 1, 'tight': 1, 'prevent': 1, 'undoing': 1, 'itself,)': 1, \"'they're\": 3, 'kill': 1, 'two:': 1, 'murder': 1, \"behind?'\": 1, 'loud,': 2, 'grunted': 3, 'reply': 1, 'time).': 1, \"grunt,'\": 1, 'expressing': 1, \"yourself.'\": 2, 'doubt': 1, 'turn-up': 1, 'snout': 1, 'nose;': 1, 'also': 1, 'extremely': 1, 'baby:': 1, 'altogether': 1, 'all.': 5, \"sobbing,'\": 1, 'tears.': 2, 'pig,': 4, \"dear,'\": 1, 'seriously,': 1, 'you.': 1, 'sobbed': 1, '(or': 1, 'grunted,': 1, 'which),': 1, 'creature': 2, \"home?'\": 1, 'alarm.': 1, 'neither': 2, 'less': 3, 'absurd': 1, 'carry': 1, 'further.': 1, 'relieved': 1, 'trot': 1, \"up,'\": 2, 'dreadfully': 6, 'ugly': 1, 'child:': 1, 'handsome': 1, \"think.'\": 1, 'knew,': 1, 'pigs,': 1, \"them--'\": 1, 'startled': 2, 'seeing': 1, 'bough': 1, 'yards': 1, 'grinned': 2, 'good-natured,': 1, 'thought:': 1, 'claws': 1, 'teeth,': 1, 'treated': 1, 'respect.': 1, \"'cheshire\": 1, \"puss,'\": 1, 'name:': 1, 'wider.': 1, \"far,'\": 2, 'on.': 8, \"here?'\": 4, 'depends': 1, \"to,'\": 1, \"where--'\": 1, \"go,'\": 2, \"'--so\": 2, \"somewhere,'\": 1, 'explanation.': 1, \"that,'\": 9, 'cat,': 7, \"enough.'\": 1, 'denied,': 1, \"direction,'\": 2, 'waving': 5, 'paw': 1, \"'lives\": 2, 'hatter:': 6, 'march': 31, 'hare.': 11, 'visit': 1, 'like:': 1, \"mad.'\": 3, 'mad': 6, \"people,'\": 1, 'remarked.': 5, 'cat:': 2, \"'we're\": 1, 'here.': 2, 'mad.': 2, \"mad?'\": 2, \"be,'\": 3, \"with,'\": 2, \"dog's\": 1, 'grant': 1, \"so,'\": 5, 'growls': 1, 'angry,': 1, 'wags': 1, 'tail': 3, 'pleased.': 1, 'growl': 1, 'pleased,': 1, 'wag': 1, 'angry.': 1, 'therefore': 1, 'purring,': 1, \"growling,'\": 1, \"'call\": 4, \"to-day?'\": 1, 'invited': 1, \"yet.'\": 2, 'vanished.': 1, 'happening.': 1, 'been,': 1, \"'by-the-bye,\": 1, 'became': 2, \"baby?'\": 1, \"'i'd\": 4, \"ask.'\": 1, \"pig,'\": 2, \"would,'\": 1, 'appear,': 1, 'hare': 16, 'live.': 1, 'hatters': 1, 'interesting,': 1, 'raving': 2, 'mad--at': 1, \"march.'\": 1, 'branch': 1, 'tree.': 2, \"fig?'\": 1, 'appearing': 1, 'vanishing': 1, 'suddenly:': 2, \"giddy.'\": 2, 'cat;': 1, 'ending': 1, 'gone.': 1, 'often': 3, \"grin,'\": 1, 'grin': 1, 'cat!': 1, \"life!'\": 2, 'farther': 1, 'sight': 2, 'hare:': 1, 'chimneys': 1, 'shaped': 2, 'thatched': 1, 'fur.': 1, 'raised': 2, 'towards': 1, \"'suppose\": 2, 'all!': 1, 'hatter': 24, \"instead!'\": 1, 'vii.': 1, 'tea-party': 2, 'front': 2, 'tea': 5, 'dormouse': 23, 'fast': 4, 'asleep,': 2, 'using': 2, 'cushion,': 1, 'resting': 2, 'elbows': 1, \"'very\": 4, 'uncomfortable': 1, \"dormouse,'\": 2, \"'only,\": 1, \"mind.'\": 1, 'corner': 1, \"'no\": 2, 'room!': 1, \"room!'\": 2, 'indignantly,': 1, 'arm-chair': 1, 'table.': 3, \"'have\": 3, \"wine,'\": 2, 'tea.': 1, \"isn't\": 6, \"any,'\": 1, 'civil': 2, \"invited,'\": 1, \"table,'\": 1, 'laid': 2, \"three.'\": 1, \"'your\": 2, 'wants': 2, \"cutting,'\": 1, 'hatter.': 13, 'speech.': 1, 'personal': 2, \"remarks,'\": 1, 'severity;': 1, \"rude.'\": 1, 'wide': 1, 'raven': 1, \"writing-desk?'\": 1, 'fun': 1, \"they've\": 1, 'asking': 3, 'riddles.--i': 1, \"'exactly\": 2, \"mean,'\": 2, 'least--at': 1, \"say--that's\": 1, \"bit!'\": 1, '\"i': 7, 'eat\"': 1, 'see\"!\\'': 1, 'hare,': 2, 'get\"': 1, 'like\"!\\'': 1, 'dormouse,': 6, 'sleep,': 1, 'breathe': 1, 'sleep\"': 1, 'breathe\"!\\'': 1, 'hatter,': 10, 'dropped,': 1, 'ravens': 1, 'writing-desks,': 1, 'much.': 1, 'break': 1, 'month': 1, 'uneasily,': 1, \"fourth.'\": 1, \"'two\": 2, \"wrong!'\": 1, 'butter': 1, \"works!'\": 1, 'angrily': 2, \"butter,'\": 1, 'meekly': 1, 'replied.': 5, 'crumbs': 1, \"well,'\": 2, 'grumbled:': 1, \"bread-knife.'\": 1, 'gloomily:': 1, 'cup': 1, 'tea,': 1, 'butter,': 1, 'shoulder': 3, 'curiosity.': 3, \"watch!'\": 1, 'tells': 2, 'month,': 1, \"o'clock\": 3, \"'does\": 2, 'year': 2, \"is?'\": 1, 'readily:': 1, 'stays': 1, \"together.'\": 1, \"mine,'\": 2, 'puzzled.': 2, \"hatter's\": 1, 'remark': 3, 'english.': 1, 'politely': 1, 'asleep': 4, \"again,'\": 1, 'poured': 1, 'nose.': 1, 'course;': 1, \"myself.'\": 1, 'riddle': 1, \"yet?'\": 2, 'replied:': 2, \"'what's\": 3, \"answer?'\": 1, 'slightest': 1, \"idea,'\": 1, \"'nor\": 1, \"i,'\": 1, 'wearily.': 1, \"'than\": 1, 'waste': 1, 'riddles': 1, \"answers.'\": 1, \"him.'\": 1, \"don't!'\": 1, \"time!'\": 1, 'cautiously': 2, \"music.'\": 2, \"'ah!\": 2, 'accounts': 1, 'beating.': 1, 'terms': 1, \"he'd\": 1, 'clock.': 1, 'lessons:': 1, 'whisper': 1, 'hint': 1, 'clock': 1, 'twinkling!': 1, 'half-past': 2, \"dinner!'\": 1, \"('i\": 2, \"was,'\": 3, 'whisper.)': 1, 'grand,': 1, 'thoughtfully:': 1, 'then--i': 1, 'hungry': 2, \"perhaps,'\": 1, \"liked.'\": 1, \"manage?'\": 1, 'mournfully.': 1, 'quarrelled': 1, 'march--just': 1, 'mad,': 1, \"know--'\": 4, '(pointing': 1, 'spoon': 1, 'hare,)': 1, \"'--it\": 1, 'concert': 1, 'given': 1, 'hearts,': 5, 'sing': 4, '\"twinkle,': 1, 'twinkle,': 4, 'bat!': 1, 'at!\"': 1, \"perhaps?'\": 1, 'way:--': 1, '\"up': 1, 'fly,': 1, 'tea-tray': 1, 'twinkle--\"\\'': 1, \"'twinkle,\": 1, \"twinkle--'\": 1, 'pinch': 2, 'stop.': 1, \"verse,'\": 2, 'bawled': 1, '\"he\\'s': 1, 'murdering': 1, 'time!': 2, 'head!\"\\'': 1, \"savage!'\": 1, 'exclaimed': 4, 'mournful': 1, 'ask!': 1, \"now.'\": 4, 'tea-things': 1, 'sigh:': 2, 'tea-time,': 1, \"we've\": 2, 'wash': 2, \"whiles.'\": 1, \"suppose?'\": 2, \"up.'\": 2, \"again?'\": 2, 'ask.': 1, \"subject,'\": 1, 'interrupted,': 2, 'yawning.': 1, 'this.': 1, 'vote': 1, 'lady': 2, \"story.'\": 1, \"one,'\": 4, 'alarmed': 1, 'proposal.': 1, \"shall!'\": 1, \"'wake\": 2, \"dormouse!'\": 1, 'pinched': 2, 'once.': 2, 'eyes.': 2, \"asleep,'\": 1, 'hoarse,': 1, 'feeble': 1, 'voice:': 1, 'fellows': 1, \"saying.'\": 1, \"'tell\": 2, 'quick': 1, \"done.'\": 1, \"'once\": 1, \"sisters,'\": 1, 'hurry;': 2, 'names': 1, 'elsie,': 1, 'lacie,': 1, 'tillie;': 1, 'lived': 3, 'bottom': 4, \"well--'\": 1, \"on?'\": 2, 'interest': 1, 'questions': 2, 'eating': 1, 'drinking.': 1, \"treacle,'\": 1, 'two.': 2, 'remarked;': 1, \"'they'd\": 1, \"ill.'\": 2, \"were,'\": 1, 'dormouse;': 2, 'ways': 1, 'living': 1, 'like,': 2, 'puzzled': 5, 'on:': 2, \"well?'\": 2, \"'take\": 2, \"tea,'\": 3, 'earnestly.': 1, \"more.'\": 1, \"less,'\": 1, \"nothing.'\": 1, \"opinion,'\": 1, \"'who's\": 1, 'remarks': 1, 'triumphantly.': 1, 'this:': 2, 'helped': 1, 'bread-and-butter,': 2, \"treacle-well.'\": 1, \"'sh!\": 1, \"sh!'\": 1, 'sulkily': 2, 'civil,': 1, \"on!'\": 6, 'humbly;': 1, 'interrupt': 1, \"one.'\": 1, 'consented': 1, 'sisters--they': 1, 'learning': 2, 'draw,': 1, \"draw?'\": 1, 'promise.': 1, \"'treacle,'\": 2, 'time.': 2, 'clean': 1, \"cup,'\": 1, 'interrupted': 5, \"'let's\": 2, \"on.'\": 2, \"dormouse's\": 1, 'unwillingly': 1, 'advantage': 2, 'change:': 1, 'upset': 2, 'milk-jug': 1, 'plate.': 1, 'offend': 1, 'cautiously:': 1, 'understand.': 1, 'treacle': 2, \"from?'\": 1, \"water-well,'\": 1, 'hatter;': 1, 'treacle-well--eh,': 1, \"stupid?'\": 1, 'choosing': 1, 'remark.': 3, \"were',\": 1, \"'--well\": 1, \"in.'\": 1, 'interrupting': 2, \"draw,'\": 1, 'yawning': 1, 'rubbing': 2, 'sleepy;': 1, 'manner': 1, 'things--everything': 1, 'begins': 4, \"m--'\": 2, \"m?'\": 1, \"not?'\": 1, 'silent.': 2, 'closed': 2, 'doze;': 1, 'woke': 1, \"'--that\": 1, 'm,': 1, 'mouse-traps,': 1, 'moon,': 1, 'memory,': 1, 'muchness--you': 1, '\"much': 1, 'muchness\"--did': 1, 'drawing': 1, \"muchness?'\": 1, \"'really,\": 2, 'confused,': 1, \"talk,'\": 1, 'piece': 5, 'rudeness': 1, 'bear:': 1, 'disgust,': 1, 'off;': 1, 'going,': 1, 'teapot.': 1, 'stupidest': 1, 'leading': 1, \"curious!'\": 1, \"everything's\": 1, 'today.': 1, \"once.'\": 2, 'unlocking': 1, 'pocket)': 1, 'passage:': 1, 'then--she': 1, 'flower-beds': 1, 'fountains.': 1, 'viii.': 1, \"queen's\": 7, 'croquet-ground': 2, 'rose-tree': 1, 'entrance': 1, 'garden:': 1, 'roses': 1, 'white,': 1, 'gardeners': 4, 'painting': 2, 'red.': 1, \"'look\": 1, 'five!': 2, 'paint': 1, 'five,': 3, \"'seven\": 1, 'jogged': 1, \"elbow.'\": 1, 'blame': 1, \"others!'\": 1, \"talk!'\": 1, 'five.': 1, 'deserved': 1, \"beheaded!'\": 2, \"for?'\": 2, 'spoken': 1, 'first.': 1, 'none': 3, 'business,': 1, \"two!'\": 1, 'seven.': 1, \"business!'\": 2, 'him--it': 1, 'tulip-roots': 1, 'instead': 2, \"onions.'\": 1, 'flung': 1, 'brush,': 1, 'unjust': 1, \"things--'\": 1, 'chanced': 1, 'watching': 3, 'checked': 3, 'also,': 1, 'low.': 1, \"roses?'\": 1, 'nothing,': 2, 'miss,': 2, 'red': 1, 'rose-tree,': 2, 'mistake;': 1, \"we're\": 1, 'best,': 2, 'afore': 1, 'comes,': 1, \"to--'\": 1, 'queen!': 1, \"queen!'\": 1, 'instantly': 3, 'themselves': 2, 'flat': 1, 'faces.': 1, 'footsteps,': 1, 'eager': 3, 'soldiers': 8, 'carrying': 2, 'clubs;': 1, 'gardeners,': 4, 'oblong': 1, 'flat,': 1, 'corners:': 1, 'courtiers;': 1, 'ornamented': 2, 'diamonds,': 1, 'did.': 1, 'royal': 2, 'children;': 1, 'dears': 1, 'merrily': 1, 'couples:': 1, 'hearts.': 2, 'guests,': 1, 'mostly': 1, 'kings': 1, 'queens,': 1, 'recognised': 1, 'rabbit:': 1, 'manner,': 1, 'noticing': 1, 'knave': 7, \"king's\": 2, 'crown': 2, 'crimson': 2, 'velvet': 1, 'cushion;': 1, 'procession,': 2, 'king': 28, 'doubtful': 2, 'lie': 2, 'rule': 2, 'processions;': 1, \"procession,'\": 1, 'faces,': 2, 'waited.': 2, 'procession': 2, 'opposite': 1, \"this?'\": 1, 'smiled': 2, \"'idiot!'\": 1, 'queen,': 17, 'impatiently;': 1, 'name,': 1, \"child?'\": 1, \"'my\": 2, \"majesty,'\": 7, 'politely;': 1, 'added,': 3, 'pack': 4, 'cards,': 1, \"needn't\": 3, \"these?'\": 1, 'rosetree;': 1, 'pattern': 1, 'backs': 1, 'pack,': 1, 'soldiers,': 2, 'courtiers,': 1, 'children.': 1, \"know?'\": 2, 'courage.': 1, \"mine.'\": 1, 'fury,': 1, 'glaring': 1, 'beast,': 1, \"'off\": 8, 'head!': 1, \"off--'\": 1, \"'nonsense!'\": 1, \"'consider,\": 1, 'dear:': 1, \"child!'\": 2, \"'turn\": 2, 'foot.': 1, \"'get\": 2, \"up!'\": 1, 'bowing': 1, 'king,': 15, \"'leave\": 2, \"'may\": 1, 'humble': 1, 'knee': 1, \"trying--'\": 1, \"see!'\": 1, 'meanwhile': 1, 'examining': 1, 'roses.': 1, \"heads!'\": 1, 'remaining': 1, 'execute': 1, 'unfortunate': 3, 'protection.': 1, 'flower-pot': 1, 'near.': 1, 'marched': 1, \"off?'\": 1, \"'their\": 1, \"majesty!'\": 2, \"right!'\": 1, \"'can\": 1, \"croquet?'\": 1, 'silent,': 2, 'evidently': 1, \"'yes!'\": 1, 'roared': 1, \"'it's--it's\": 1, 'fine': 2, \"day!'\": 1, 'side.': 2, 'peeping': 1, \"'very,'\": 1, \"'--where's\": 1, \"duchess?'\": 1, \"'hush!\": 1, \"hush!'\": 2, 'ear,': 1, 'whispered': 4, \"'she's\": 3, \"execution.'\": 1, '\"what': 2, 'pity!\"?\\'': 1, \"didn't,'\": 1, 'pity.': 1, 'for?\"\\'': 1, \"'she\": 4, 'boxed': 1, \"ears--'\": 1, 'began.': 3, 'scream': 1, 'laughter.': 1, 'late,': 1, \"said--'\": 3, \"places!'\": 1, 'thunder,': 1, 'life;': 1, 'ridges': 1, 'furrows;': 1, 'balls': 1, 'hedgehogs,': 1, 'mallets': 1, 'flamingoes,': 1, 'double': 1, 'arches.': 1, 'chief': 1, 'managing': 1, 'flamingo:': 1, 'body': 2, 'tucked': 3, 'comfortably': 1, 'generally,': 2, 'straightened': 1, 'hedgehog': 5, 'expression': 1, 'bursting': 1, 'laughing:': 1, 'provoking': 1, 'unrolled': 2, 'act': 1, 'crawling': 1, 'away:': 1, 'besides': 1, 'ridge': 1, 'furrow': 1, 'send': 1, 'doubled-up': 1, 'parts': 1, 'ground,': 1, 'conclusion': 1, 'indeed.': 1, 'players': 2, 'played': 1, 'turns,': 2, 'quarrelling': 2, 'fighting': 1, 'hedgehogs;': 1, 'furious': 1, 'stamping': 2, 'shouting': 2, 'minute.': 1, 'uneasy:': 1, 'dispute': 2, 'me?': 1, 'beheading': 1, 'here;': 1, \"alive!'\": 1, 'escape,': 1, 'seen,': 1, 'appearance': 1, 'air:': 1, \"to.'\": 1, 'with.': 1, 'appeared,': 3, 'nodded.': 1, 'come,': 2, 'flamingo,': 1, 'account': 1, 'game,': 3, 'someone': 1, 'appeared.': 1, \"fairly,'\": 1, 'complaining': 1, 'quarrel': 1, 'oneself': 1, 'speak--and': 1, 'particular;': 1, 'least,': 1, 'attends': 1, 'confusing': 2, 'alive;': 1, 'arch': 1, 'ground--and': 1, 'croqueted': 1, \"coming!'\": 1, \"queen?'\": 1, \"all,'\": 3, \"extremely--'\": 1, 'listening:': 1, \"'--likely\": 1, 'win,': 1, 'finishing': 1, \"game.'\": 1, 'passed': 4, \"cat's\": 2, 'friend': 2, 'mine--a': 1, \"'allow\": 1, 'king:': 2, \"'however,\": 1, 'kiss': 1, \"likes.'\": 1, \"impertinent,'\": 1, \"king,'\": 1, 'book,': 2, \"where.'\": 1, \"removed,'\": 1, 'passing': 1, \"removed!'\": 1, 'settling': 1, 'difficulties,': 1, 'small.': 1, 'executioner': 3, \"myself,'\": 2, 'screaming': 1, 'passion.': 1, 'already': 1, 'executed': 2, 'search': 1, 'hedgehog.': 1, 'engaged': 1, 'fight': 2, 'hedgehog,': 1, 'croqueting': 1, 'flamingo': 2, 'helpless': 1, 'fly': 1, 'hedgehogs': 1, 'sight:': 2, 'arches': 3, \"ground.'\": 1, 'escape': 1, 'friend.': 1, 'collected': 2, 'executioner,': 1, 'appealed': 1, 'settle': 1, 'arguments': 1, 'though,': 1, \"executioner's\": 1, 'unless': 1, 'from:': 1, 'beheaded,': 1, \"weren't\": 1, 'nonsense.': 1, \"she'd\": 1, 'anxious.)': 1, 'duchess:': 4, \"prison,'\": 1, 'executioner:': 1, 'arrow.': 1, 'fading': 1, 'entirely': 2, 'disappeared;': 1, 'wildly': 2, 'game.': 1, 'ix.': 1, 'mock': 56, \"turtle's\": 2, 'affectionately': 1, \"alice's,\": 1, 'pleasant': 1, 'temper,': 1, 'kitchen.': 1, \"duchess,'\": 1, '(not': 1, 'hopeful': 1, 'though),': 1, 'without--maybe': 1, \"hot-tempered,'\": 1, 'rule,': 1, 'vinegar': 1, 'sour--and': 1, 'camomile': 1, 'bitter--and--and': 1, 'barley-sugar': 1, 'sweet-tempered.': 1, 'that:': 3, 'stingy': 1, 'something,': 1, 'forget': 2, 'talk.': 1, 'moral': 6, \"bit.'\": 1, \"hasn't\": 2, \"'tut,\": 1, 'tut,': 1, \"'everything's\": 1, 'moral,': 1, 'squeezed': 1, 'closer': 1, 'keeping': 2, 'ugly;': 1, 'shoulder,': 1, 'uncomfortably': 1, 'chin.': 2, 'rude,': 1, 'bore': 1, \"game's\": 1, 'little.': 1, \"''tis\": 2, 'is--\"oh,': 1, \"'tis\": 2, 'love,': 2, 'round!\"\\'': 1, \"'somebody\": 1, \"said,'\": 1, 'whispered,': 1, 'minding': 1, 'well!': 1, 'is--\"take': 1, 'themselves.\"\\'': 1, 'morals': 1, \"things!'\": 4, \"waist,'\": 1, 'pause:': 1, 'temper': 1, 'flamingo.': 1, \"experiment?'\": 1, \"bite,'\": 1, 'anxious': 2, 'experiment': 1, 'tried.': 1, \"true,'\": 1, \"'flamingoes\": 1, 'mustard': 2, 'bite.': 1, 'is--\"birds': 1, 'feather': 1, 'flock': 1, 'together.\"\\'': 1, \"bird,'\": 1, \"'right,\": 1, \"usual,'\": 1, 'mineral,': 1, \"is,'\": 2, 'agree': 2, 'said;': 2, 'mustard-mine': 1, 'is--\"the': 1, 'mine,': 1, 'yours.\"\\'': 1, 'attended': 1, 'vegetable.': 1, \"is.'\": 3, 'is--\"be': 1, 'be\"--or': 1, 'simply--\"never': 1, 'imagine': 2, 'otherwise': 2, 'appear': 1, 'otherwise.\"\\'': 1, \"better,'\": 1, 'down:': 1, 'follow': 1, \"chose,'\": 1, \"'pray\": 1, \"trouble!'\": 1, 'present': 1, 'cheap': 1, \"present!'\": 1, 'birthday': 1, 'loud.': 1, \"'thinking\": 1, 'asked,': 1, 'dig': 1, 'sharply,': 1, 'worried.': 1, 'pigs': 1, 'fly;': 1, 'surprise,': 2, \"duchess's\": 3, 'died': 1, 'favourite': 1, \"'moral,'\": 1, 'linked': 1, 'hers': 3, 'tremble.': 1, 'frowning': 3, 'thunderstorm.': 1, 'fair': 1, \"warning,'\": 1, 'spoke;': 1, \"'either\": 1, \"choice!'\": 1, 'choice,': 1, 'moment.': 1, \"game,'\": 1, 'word,': 2, 'croquet-ground.': 1, 'guests': 2, 'absence,': 1, 'shade:': 1, 'delay': 1, 'cost': 1, 'lives.': 1, 'players,': 2, 'whom': 1, 'sentenced': 1, 'custody': 2, 'left,': 1, 'execution.': 1, 'turtle': 33, \"from,'\": 1, \"history,'\": 1, 'together,': 1, 'company': 1, \"pardoned.'\": 1, 'unhappy': 1, 'executions': 2, 'ordered.': 1, 'gryphon,': 14, 'sun.': 1, '(if': 1, 'gryphon': 22, 'picture.)': 1, \"'up,\": 1, 'lazy': 1, 'turtle,': 8, 'history.': 1, \"ordered';\": 1, 'leaving': 1, 'gryphon.': 15, 'queen:': 1, 'rubbed': 1, 'eyes:': 1, 'watched': 2, 'chuckled.': 1, \"fun!'\": 1, \"fun?'\": 1, \"she,'\": 1, 'fancy,': 2, 'executes': 1, 'nobody,': 2, 'on!\"': 1, \"never!'\": 1, 'ledge': 1, 'rock,': 1, 'nearer,': 1, 'sighing': 2, 'heart': 2, 'break.': 1, 'pitied': 1, 'deeply.': 1, \"sorrow?'\": 1, 'answered,': 1, 'sorrow,': 1, \"lady,'\": 1, \"her,'\": 1, 'hollow': 1, \"finished.'\": 1, 'finish,': 1, 'patiently.': 1, \"'once,'\": 1, 'sigh,': 1, \"turtle.'\": 1, 'occasional': 1, 'exclamation': 1, \"'hjckrrh!'\": 1, 'heavy': 2, 'sobbing': 2, 'turtle.': 9, \"'thank\": 3, \"story,'\": 1, \"little,'\": 1, 'calmly,': 1, 'school': 4, 'sea.': 3, 'turtle--we': 1, \"tortoise--'\": 1, 'tortoise,': 1, \"one?'\": 1, 'tortoise': 1, \"us,'\": 1, 'angrily:': 1, \"'really\": 1, \"dull!'\": 1, \"question,'\": 1, 'gryphon;': 1, 'sink': 1, \"'drive\": 1, 'fellow!': 1, \"mayn't\": 1, \"it--'\": 1, \"didn't!'\": 2, \"tongue!'\": 2, 'educations--in': 1, \"day--'\": 1, 'day-school,': 1, \"too,'\": 1, 'proud': 2, \"'with\": 1, \"extras?'\": 1, 'anxiously.': 1, \"'yes,'\": 3, 'learned': 1, \"washing?'\": 1, \"'certainly\": 1, 'yours': 1, \"school,'\": 1, 'relief.': 2, 'ours': 1, '\"french,': 1, 'music,': 1, 'washing--extra.\"\\'': 1, \"'living\": 1, \"sea.'\": 1, 'afford': 1, 'sigh.': 1, 'regular': 2, \"course.'\": 1, 'inquired': 1, \"'reeling\": 1, 'writhing,': 1, 'branches': 1, 'arithmetic--ambition,': 1, 'distraction,': 1, 'uglification,': 1, \"derision.'\": 1, '\"uglification,\"\\'': 1, 'say.': 1, 'lifted': 1, 'surprise.': 2, \"'what!\": 1, \"uglifying!'\": 1, 'exclaimed.': 1, 'beautify': 1, 'doubtfully:': 1, \"means--to--make--anything--prettier.'\": 1, 'uglify': 1, \"simpleton.'\": 1, 'encouraged': 1, \"learn?'\": 1, \"mystery,'\": 1, 'counting': 1, 'subjects': 1, 'flappers,': 1, \"'--mystery,\": 1, 'ancient': 1, 'modern,': 1, 'seaography:': 1, 'drawling--the': 1, 'drawling-master': 1, 'conger-eel,': 1, 'week:': 1, 'drawling,': 1, 'stretching,': 1, 'fainting': 1, \"coils.'\": 1, \"like?'\": 1, 'said:': 3, 'stiff.': 1, \"'hadn't\": 1, 'gryphon:': 3, 'classics': 1, 'master,': 1, 'though.': 1, \"was.'\": 1, 'laughing': 1, 'grief,': 1, 'turn;': 1, 'hid': 1, 'faces': 2, 'paws.': 1, \"lessons?'\": 1, 'subject.': 2, \"'ten\": 1, \"day,'\": 1, 'turtle:': 3, \"'nine\": 1, \"plan!'\": 1, \"lessons,'\": 2, 'remarked:': 1, 'lessen': 1, \"day.'\": 1, 'eleventh': 1, \"holiday?'\": 1, \"twelfth?'\": 1, 'eagerly.': 1, 'games': 1, 'x.': 1, 'lobster': 5, 'quadrille': 2, 'deeply,': 2, 'flapper': 1, 'sobs': 2, \"'same\": 1, 'bone': 1, \"throat,'\": 1, 'punching': 1, 'recovered': 2, 'cheeks,': 1, \"sea--'\": 1, \"haven't,'\": 1, \"alice)--'and\": 1, 'introduced': 1, \"lobster--'\": 1, \"tasted--'\": 1, \"never')\": 1, 'delightful': 2, \"indeed,'\": 2, 'dance': 2, 'form': 1, 'line': 1, \"sea-shore--'\": 1, \"lines!'\": 1, \"'seals,\": 1, 'turtles,': 1, 'salmon,': 1, 'on;': 1, 'cleared': 1, 'jelly-fish': 1, \"way--'\": 1, \"'--you\": 1, 'advance': 1, \"twice--'\": 1, \"'each\": 1, \"partner!'\": 1, \"'advance\": 1, \"partners--'\": 1, \"'--change\": 1, 'lobsters,': 3, 'retire': 1, \"order,'\": 1, \"'then,\": 1, \"the--'\": 1, \"lobsters!'\": 1, 'bound': 1, \"'--as\": 1, \"can--'\": 1, \"'swim\": 1, 'somersault': 1, \"sea!'\": 1, 'capering': 1, 'about.': 1, \"'change\": 1, 'lobsters': 3, 'yelled': 1, \"'back\": 1, 'land': 1, \"figure,'\": 1, 'dropping': 1, 'creatures,': 1, 'quietly,': 1, 'pretty': 1, \"dance,'\": 1, 'timidly.': 1, \"figure!'\": 1, \"sing?'\": 1, \"sing,'\": 1, \"words.'\": 1, 'dancing': 1, 'treading': 2, 'toes': 1, 'close,': 1, 'forepaws': 1, 'mark': 2, 'sadly:--': 1, '\\'\"will': 1, 'faster?\"': 1, 'whiting': 3, 'snail.': 1, '\"there\\'s': 1, 'porpoise': 1, 'us,': 2, \"he's\": 1, 'eagerly': 3, 'turtles': 1, 'advance!': 1, 'shingle--will': 1, 'join': 9, 'dance?': 4, 'sea!\"': 1, 'snail': 1, '\"too': 1, 'far,': 1, 'far!\"': 1, 'askance--': 1, 'thanked': 1, 'kindly,': 1, 'dance.': 5, '\\'\"what': 1, 'go?\"': 1, 'scaly': 1, '\"there': 2, 'further': 1, 'england': 1, 'france--': 1, 'pale,': 2, 'beloved': 1, 'snail,': 1, 'dance?\"\\'': 1, \"watch,'\": 1, 'last:': 1, 'song': 1, \"whiting!'\": 1, \"whiting,'\": 2, \"'they--you've\": 1, \"course?'\": 1, \"dinn--'\": 1, 'dinn': 1, \"like.'\": 1, 'thoughtfully.': 2, 'tails': 3, 'mouths--and': 1, \"crumbs.'\": 1, \"crumbs,'\": 1, \"'crumbs\": 1, 'mouths;': 1, \"is--'\": 1, \"eyes.--'tell\": 1, 'thrown': 1, 'mouths.': 1, 'interesting.': 1, \"before.'\": 1, \"whiting?'\": 1, \"shoes.'\": 1, 'solemnly.': 1, \"shoes!'\": 1, \"with?'\": 1, 'mean,': 1, \"shiny?'\": 1, 'answer.': 1, 'blacking,': 1, \"believe.'\": 1, \"'boots\": 1, \"sea,'\": 1, 'whiting.': 1, \"'soles\": 1, 'eels,': 1, 'impatiently:': 2, \"'any\": 1, 'shrimp': 1, 'thoughts': 2, 'porpoise,': 1, '\"keep': 1, 'please:': 1, 'us!\"\\'': 1, 'obliged': 3, 'fish': 2, 'anywhere': 1, \"porpoise.'\": 1, \"'wouldn't\": 1, \"really?'\": 1, 'journey,': 1, '\"with': 1, 'porpoise?\"\\'': 1, '\"purpose\"?\\'': 1, \"adventures.'\": 1, 'adventures--beginning': 1, \"morning,'\": 1, 'timidly:': 1, 'yesterday,': 1, 'impatient': 1, \"'explanations\": 1, 'dreadful': 1, \"time.'\": 1, 'rabbit.': 1, 'mouths': 1, 'wide,': 1, 'gained': 1, 'courage': 1, 'listeners': 1, 'part': 1, 'different,': 1, \"curious.'\": 1, 'now.': 1, \"'stand\": 1, '\"\\'tis': 1, 'sluggard,\"\\'': 1, \"lessons!'\": 1, 'quadrille,': 1, 'indeed:--': 1, 'lobster;': 1, 'declare,': 1, 'baked': 1, 'brown,': 1, 'sugar': 1, 'hair.\"': 1, 'eyelids,': 1, 'nose': 1, 'trims': 1, 'belt': 1, 'buttons,': 1, 'turns': 1, \"toes.'\": 1, '[later': 2, 'editions': 2, 'follows': 2, 'sands': 1, 'dry,': 1, 'gay': 1, 'lark,': 1, 'contemptuous': 1, 'tones': 2, 'shark,': 1, 'tide': 1, 'rises': 1, 'sharks': 1, 'around,': 1, 'tremulous': 1, 'sound.]': 1, \"child,'\": 1, 'turtle;': 1, 'uncommon': 1, \"nonsense.'\": 1, 'nothing;': 1, \"explained,'\": 1, \"'go\": 2, \"verse.'\": 1, \"toes?'\": 1, 'persisted.': 1, \"dancing.'\": 1, 'garden.\"\\'': 1, 'disobey,': 1, 'voice:--': 1, 'marked,': 1, 'eye,': 1, 'owl': 2, 'panther': 3, 'sharing': 1, \"pie--'\": 1, 'pie-crust,': 1, 'gravy,': 1, 'meat,': 1, 'share': 1, 'treat.': 1, 'pie': 1, 'finished,': 2, 'owl,': 1, 'boon,': 1, 'kindly': 1, 'permitted': 1, 'pocket': 1, 'spoon:': 1, 'received': 1, 'knife': 1, 'fork': 1, 'banquet--]': 1, \"stuff,'\": 1, 'on?': 1, \"heard!'\": 1, \"off,'\": 1, 'figure': 1, \"quadrille?'\": 1, \"song?'\": 1, \"kind,'\": 1, \"'hm!\": 1, 'accounting': 1, 'tastes!': 1, '\"turtle': 1, 'soup,\"': 1, \"fellow?'\": 1, 'sobs,': 1, \"'beautiful\": 2, 'rich': 1, 'green,': 1, 'tureen!': 1, 'dainties': 1, 'stoop?': 1, 'evening,': 2, 'soup!': 4, 'beau--ootiful': 4, 'soo--oop!': 4, 'soo--oop': 2, 'e--e--evening,': 3, 'beautiful,': 3, 'cares': 2, 'fish,': 1, 'dish?': 1, 'pennyworth': 2, 'soup?': 2, 'beauti--ful': 1, \"'chorus\": 1, \"trial's\": 3, \"beginning!'\": 1, 'song.': 1, 'trial': 4, 'panted': 1, 'ran;': 1, 'faster,': 1, 'faintly': 1, 'breeze': 1, \"'soo--oop\": 1, 'xi.': 1, 'stole': 2, 'tarts?': 1, 'hearts': 1, 'seated': 1, 'throne': 1, 'arrived,': 1, 'them--all': 1, 'beasts,': 1, 'cards:': 1, 'standing': 1, 'chains,': 1, 'soldier': 1, 'guard': 1, 'him;': 1, 'trumpet': 1, 'scroll': 1, 'parchment': 2, 'other.': 2, 'court': 5, 'tarts': 3, 'good,': 1, \"them--'i\": 1, \"done,'\": 2, \"refreshments!'\": 1, 'pass': 1, 'justice': 1, 'books,': 1, \"judge,'\": 1, \"wig.'\": 1, 'king;': 3, 'wore': 1, 'wig,': 1, '(look': 1, 'frontispiece': 1, 'it,)': 1, 'comfortable,': 1, 'becoming.': 1, \"jury-box,'\": 1, 'twelve': 2, \"creatures,'\": 1, \"'creatures,'\": 1, 'animals,': 1, 'birds,)': 1, \"jurors.'\": 1, 'rightly': 1, 'too,': 1, \"'jury-men'\": 1, 'jurors': 3, 'writing': 4, 'slates.': 1, \"doing?'\": 1, 'yet,': 3, \"begun.'\": 1, \"names,'\": 1, 'reply,': 1, \"trial.'\": 1, \"'stupid\": 2, 'indignant': 1, \"'silence\": 1, \"court!'\": 1, 'spectacles': 1, 'shoulders,': 1, 'slates,': 4, 'spell': 1, \"'stupid,'\": 1, 'neighbour': 1, 'muddle': 1, \"slates'll\": 1, 'pencil': 1, 'squeaked.': 1, 'stand,': 1, 'quickly': 2, 'juror': 1, 'lizard)': 1, 'day;': 1, 'slate.': 1, \"'herald,\": 1, \"accusation!'\": 1, 'king.': 12, 'blew': 2, 'blasts': 2, 'trumpet,': 2, 'scroll,': 1, 'follows:--': 1, 'tarts,': 3, 'summer': 2, 'day:': 1, \"'consider\": 2, \"verdict,'\": 3, 'jury.': 2, \"yet!'\": 1, 'interrupted.': 1, \"witness,'\": 1, \"'first\": 1, \"witness!'\": 2, 'witness': 4, 'teacup': 3, 'bread-and-butter': 2, 'pardon,': 1, 'in:': 1, 'sent': 2, \"for.'\": 1, \"finished,'\": 1, \"begin?'\": 1, 'court,': 5, 'arm-in-arm': 1, 'dormouse.': 3, \"'fourteenth\": 1, 'march,': 1, \"'fifteenth,'\": 1, \"'sixteenth,'\": 1, \"'write\": 1, \"down,'\": 3, 'jury,': 4, 'wrote': 3, 'dates': 1, 'reduced': 1, 'shillings': 1, 'pence.': 1, \"hat,'\": 1, \"'stolen!'\": 1, 'exclaimed,': 1, 'memorandum': 1, 'fact.': 1, \"sell,'\": 1, 'explanation;': 1, 'own.': 1, \"hatter.'\": 1, 'spectacles,': 1, 'fidgeted.': 1, \"'give\": 3, \"evidence,'\": 3, 'nervous,': 1, \"spot.'\": 1, 'encourage': 1, 'all:': 2, 'shifting': 1, 'uneasily': 1, 'bread-and-butter.': 1, 'sensation,': 1, 'court;': 1, 'remain': 1, 'squeeze': 1, \"so.'\": 1, \"breathe.'\": 1, 'meekly:': 1, \"growing.'\": 1, \"'you've\": 1, \"nonsense,'\": 1, 'boldly:': 1, \"too.'\": 1, 'reasonable': 1, \"pace,'\": 1, 'dormouse:': 1, 'ridiculous': 1, \"fashion.'\": 1, 'court.': 3, 'officers': 3, \"'bring\": 1, 'list': 2, 'singers': 1, \"concert!'\": 1, 'man,': 2, \"'--and\": 2, 'tea--not': 1, 'week': 2, 'so--and': 1, 'thin--and': 1, 'twinkling': 3, \"tea--'\": 1, \"t!'\": 1, 'sharply.': 1, 'dunce?': 1, \"man,'\": 1, 'twinkled': 1, 'that--only': 1, \"did!'\": 1, 'deny': 2, 'denies': 1, \"part.'\": 1, 'too:': 1, 'denied': 1, 'asleep.': 1, \"bread-and-butter--'\": 1, \"say?'\": 1, \"remember,'\": 2, 'remarked': 1, \"executed.'\": 1, 'miserable': 2, 'knee.': 1, \"speaker,'\": 1, 'guinea-pigs': 1, 'cheered,': 2, 'suppressed': 3, 'done.': 1, 'canvas': 1, 'bag,': 1, 'tied': 1, 'strings:': 1, 'guinea-pig,': 1, 'newspapers,': 1, 'trials,': 1, 'attempts': 1, 'applause,': 1, 'court,\"': 1, 'understood': 1, \"lower,'\": 1, 'guinea-pig': 1, 'suppressed.': 1, \"guinea-pigs!'\": 1, \"better.'\": 1, 'reading': 2, 'singers.': 1, \"outside,'\": 1, 'officers:': 1, 'officer': 1, 'cook.': 3, 'pepper-box': 1, \"'shan't,'\": 1, 'majesty': 2, 'cross-examine': 2, \"witness.'\": 2, 'must,': 1, \"must,'\": 1, 'folding': 1, \"'pepper,\": 1, \"mostly,'\": 1, \"'collar\": 1, 'shrieked': 1, \"'behead\": 1, 'dormouse!': 1, 'court!': 1, 'suppress': 1, 'him!': 2, \"whiskers!'\": 1, 'disappeared.': 1, \"'never\": 1, \"mind!'\": 1, 'undertone': 1, 'witness.': 1, \"ache!'\": 1, 'fumbled': 1, 'list,': 1, \"'--for\": 1, 'evidence': 4, 'shrill': 3, \"'alice!'\": 1, 'xii.': 1, \"'here!'\": 1, 'flurry': 1, 'tipped': 1, 'jury-box': 1, 'skirt,': 1, 'upsetting': 1, 'jurymen': 2, 'below,': 1, 'sprawling': 1, 'reminding': 1, 'globe': 1, 'goldfish': 2, 'accidentally': 1, 'before.': 2, 'dismay,': 1, 'accident': 1, 'vague': 1, 'jury-box,': 2, 'die.': 1, 'cannot': 1, \"proceed,'\": 1, \"'until\": 1, \"places--all,'\": 1, 'emphasis,': 1, 'haste,': 1, 'lizard': 2, 'downwards,': 1, 'unable': 1, 'move.': 1, 'right;': 1, 'signifies': 1, \"other.'\": 1, 'shock': 1, 'upset,': 1, 'slates': 1, 'pencils': 1, 'diligently': 1, 'history': 1, 'accident,': 1, 'overcome': 1, 'open,': 1, 'gazing': 1, \"business?'\": 1, \"'nothing,'\": 1, \"'nothing\": 3, \"whatever?'\": 1, 'persisted': 1, \"whatever,'\": 1, \"important,'\": 1, 'interrupted:': 1, \"'unimportant,\": 2, 'means,': 1, 'respectful': 1, \"meant,'\": 1, 'undertone,': 1, \"'important--unimportant--unimportant--important--'\": 1, 'best.': 1, \"'important,'\": 1, \"'unimportant.'\": 1, 'slates;': 1, 'note-book,': 1, 'cackled': 1, \"'silence!'\": 1, \"'rule\": 1, 'forty-two.': 1, 'persons': 1, 'mile': 2, \"court.'\": 1, \"high,'\": 2, \"are,'\": 1, \"'nearly\": 1, \"rate,'\": 1, \"'besides,\": 1, 'rule:': 1, 'invented': 1, 'oldest': 1, 'note-book': 1, 'prisoner': 1, 'to--to': 1, \"somebody.'\": 1, \"'unless\": 1, 'usual,': 1, 'directed': 2, 'jurymen.': 2, 'rabbit;': 1, \"outside.'\": 1, \"verses.'\": 1, \"prisoner's\": 1, \"handwriting?'\": 1, 'queerest': 1, 'puzzled.)': 1, 'imitated': 1, \"else's\": 1, \"hand,'\": 1, 'again.)': 1, 'knave,': 1, 'prove': 1, 'did:': 1, 'signed': 2, \"end.'\": 1, 'sign': 1, 'worse.': 1, 'mischief,': 1, 'honest': 1, \"man.'\": 1, 'clapping': 1, 'clever': 1, 'proves': 2, \"guilt,'\": 1, \"sort!'\": 1, \"about!'\": 1, \"'read\": 1, 'spectacles.': 1, \"'where\": 1, 'begin,': 1, \"majesty?'\": 1, \"'begin\": 1, \"beginning,'\": 1, 'end:': 1, \"stop.'\": 1, 'verses': 3, 'read:--': 1, 'character,': 1, 'swim.': 1, '(we': 1, 'true):': 1, 'push': 1, 'more;': 1, 'returned': 2, 'involved': 1, 'affair,': 1, 'trusts': 1, 'free,': 1, 'were.': 1, '(before': 1, 'fit)': 1, 'obstacle': 1, 'ourselves,': 1, 'secret,': 1, 'rest,': 1, 'hands;': 1, \"jury--'\": 1, 'him,)': 1, 'sixpence.': 1, 'atom': 2, 'attempted': 1, 'paper.': 1, 'saves': 1, 'trouble,': 1, 'any.': 1, 'spreading': 1, 'knee,': 3, '\"--said': 1, 'swim--\"': 1, 'swim,': 1, 'knave.': 1, 'cardboard.)': 1, 'himself:': 1, '\\'\"we': 1, 'true--\"': 1, 'course--\"i': 1, 'two--\"': 1, \"'but,\": 1, '\"they': 1, 'you,\"\\'': 1, \"are!'\": 1, 'triumphantly,': 1, 'clearer': 1, 'that.': 1, 'again--\"before': 1, 'fit--\"': 1, 'fits,': 1, \"'never!'\": 1, 'furiously,': 1, 'inkstand': 1, 'slate': 1, 'finger,': 1, 'mark;': 1, 'ink,': 1, 'trickling': 1, 'lasted.)': 1, 'fit': 1, 'smile.': 1, \"pun!'\": 1, 'laughed,': 1, 'consider': 1, 'twentieth': 1, \"no!'\": 1, \"'sentence\": 1, 'first--verdict': 1, \"afterwards.'\": 1, \"'stuff\": 1, 'loudly.': 1, \"first!'\": 1, 'purple.': 1, \"won't!'\": 1, 'moved.': 1, 'time.)': 1, \"cards!'\": 1, 'rose': 1, 'flying': 1, 'scream,': 1, 'fright': 1, 'anger,': 1, 'sister,': 2, 'brushing': 1, 'fluttered': 1, 'sister;': 1, \"had!'\": 1, \"dream!'\": 1, 'about;': 1, 'kissed': 1, 'dream,': 1, 'tea;': 1, \"late.'\": 1, 'ran,': 1, 'might,': 1, 'wonderful': 2, 'been.': 1, 'setting': 1, 'sun,': 1, 'adventures,': 1, 'dreaming': 1, 'fashion,': 1, 'dream:--': 1, 'dreamed': 1, 'clasped': 1, 'hers--she': 1, 'toss': 1, 'wandering': 1, 'eyes--and': 1, 'listened,': 1, 'listen,': 1, 'around': 2, 'alive': 1, \"sister's\": 1, 'dream.': 1, 'grass': 2, 'rustled': 1, 'by--the': 1, 'splashed': 1, 'neighbouring': 1, 'pool--she': 1, 'rattle': 1, 'teacups': 2, 'shared': 1, 'never-ending': 1, 'meal,': 1, 'execution--once': 1, 'pig-baby': 1, 'plates': 1, 'dishes': 1, 'crashed': 1, 'it--once': 1, \"lizard's\": 1, 'slate-pencil,': 1, 'choking': 1, 'believed': 1, 'wonderland,': 1, 'reality--the': 1, 'rustling': 1, 'rippling': 1, 'reeds--the': 1, 'tinkling': 1, 'sheep-bells,': 1, 'cries': 1, 'shepherd': 1, 'boy--and': 1, 'sneeze': 1, 'noises,': 1, 'knew)': 1, 'clamour': 1, 'farm-yard--while': 1, 'lowing': 1, 'cattle': 1, 'distance': 1, 'sobs.': 1, 'lastly,': 1, 'pictured': 1, 'would,': 1, 'after-time,': 1, 'woman;': 1, 'keep,': 1, 'riper': 1, 'years,': 1, 'loving': 1, 'childhood:': 1, 'gather': 1, 'tale,': 1, 'ago:': 1, 'sorrows,': 1, 'joys,': 1, 'remembering': 1, 'child-life,': 1, 'happy': 1, 'days.': 1}\n"
          ]
        }
      ],
      "source": [
        "# code here\n",
        "f = open(\"alice_edited.txt\", \"r\")\n",
        "\n",
        "words_lower = {}\n",
        "\n",
        "for line in f.readlines():\n",
        "  for word in line.strip().split():\n",
        "    word_lower = word.lower()\n",
        "    if word_lower not in words_lower:\n",
        "      words_lower[word_lower] = 1\n",
        "    else:\n",
        "      words_lower[word_lower] += 1\n",
        "\n",
        "print(words_lower)"
      ]
    },
    {
      "cell_type": "markdown",
      "metadata": {
        "id": "9w8z_hm4Pvg2"
      },
      "source": [
        ">**(e)** Repeat the previous exercise, but instead of counting the number of times a word appears,\n",
        "count the number of times pairs of words appear. You might ﬁnd it useful to store the\n",
        "previous word in a variable."
      ]
    },
    {
      "cell_type": "code",
      "execution_count": 52,
      "metadata": {
        "id": "Ie9xogkJPvg3",
        "colab": {
          "base_uri": "https://localhost:8080/"
        },
        "outputId": "080186c4-003c-4e38-b644-239a610405ec"
      },
      "outputs": [
        {
          "output_type": "stream",
          "name": "stdout",
          "text": [
            "1605\n"
          ]
        }
      ],
      "source": [
        "# code here\n",
        "print(words_lower['the']) # The pair of “the”, “The” and “tHE”are included in counting 'the' in words_lower dictionary."
      ]
    },
    {
      "cell_type": "markdown",
      "metadata": {
        "id": "OxjDzLwYPvg3"
      },
      "source": [
        ">**(f)** What are the most common words and pairs of words in Alice in Wonderland?<br> You might find the *sorted* function or the *sort* function for lists to be useful.\n"
      ]
    },
    {
      "cell_type": "code",
      "execution_count": 55,
      "metadata": {
        "id": "9zjE2j06Pvg3",
        "colab": {
          "base_uri": "https://localhost:8080/"
        },
        "outputId": "dc04ecb3-6146-4fab-85c2-b6c7a26d3781"
      },
      "outputs": [
        {
          "output_type": "stream",
          "name": "stdout",
          "text": [
            "[1, 4, 2, 7, 5, 6, 3]\n",
            "[1, 2, 3, 4, 5, 6, 7] <class 'list'>\n"
          ]
        }
      ],
      "source": [
        "# hint: example of how you use sorted\n",
        "x = [1,4,2,7,5,6,3]\n",
        "print(x)\n",
        "print(sorted(x),type(sorted(x))) # outputs a list\n",
        "# print(sort(x),type(sort(x)))  # outputs a numpy.ndarray"
      ]
    },
    {
      "cell_type": "code",
      "source": [
        "sorted_words_by_counts = sorted(words.items(), key=lambda x:x[1])\n",
        "print(sorted_words_by_counts[-1]) # 첫 dictionary에서 가장 흔한 단어는 1507번 사용된 'the'이다."
      ],
      "metadata": {
        "colab": {
          "base_uri": "https://localhost:8080/"
        },
        "id": "albReB9oKwXH",
        "outputId": "9f987661-0578-42fc-a132-1e400cf1a866"
      },
      "execution_count": 62,
      "outputs": [
        {
          "output_type": "stream",
          "name": "stdout",
          "text": [
            "('the', 1507)\n"
          ]
        }
      ]
    },
    {
      "cell_type": "code",
      "source": [
        "sorted_words_lower_by_pairs = sorted(words_lower.items(), key=lambda x:x[1])\n",
        "print(sorted_words_lower_by_pairs[-1]) # 두 번째 dictionary에서 가장 흔한 페어는 1605번 사용된 'the' 페어이다."
      ],
      "metadata": {
        "colab": {
          "base_uri": "https://localhost:8080/"
        },
        "id": "N6mM2YNYMG2W",
        "outputId": "b88ad189-5fc4-40d3-fede-b24cc9b1bf90"
      },
      "execution_count": 65,
      "outputs": [
        {
          "output_type": "stream",
          "name": "stdout",
          "text": [
            "('the', 1605)\n"
          ]
        }
      ]
    },
    {
      "cell_type": "markdown",
      "metadata": {
        "id": "NEDsRI6tPvg4"
      },
      "source": [
        "### Problem 4. ArgMax and ArgSort"
      ]
    },
    {
      "cell_type": "markdown",
      "metadata": {
        "id": "SImlXUVGPvg4"
      },
      "source": [
        ">**(a)** Finding the index of the largest (or smallest) element in a list is a commonly needed opera-\n",
        "tion, but Python does not provide this function in its standard library (numpy will provide those). Write two functions\n"
      ]
    },
    {
      "cell_type": "code",
      "execution_count": 66,
      "metadata": {
        "id": "xvFBtgs6Pvg4"
      },
      "outputs": [],
      "source": [
        "def argmax(list_input):\n",
        "  idx = None\n",
        "  for i, item in enumerate(list_input):\n",
        "    if i== 0:\n",
        "      m = item\n",
        "    elif item > m:\n",
        "      idx = i\n",
        "      m = item\n",
        "  return idx\n",
        "\n",
        "def argmin(list_input):\n",
        "  idx = None\n",
        "  for i, item in enumerate(list_input):\n",
        "    if i== 0:\n",
        "      m = item\n",
        "    elif item < m:\n",
        "      idx = i\n",
        "      m = item\n",
        "  return idx"
      ]
    },
    {
      "cell_type": "markdown",
      "metadata": {
        "id": "xX6CpycSPvg5"
      },
      "source": [
        ">that return the index of the largest and smallest element in the list *list_input* respectively. Example output:\n"
      ]
    },
    {
      "cell_type": "markdown",
      "metadata": {
        "id": "FRegYMIsPvg5"
      },
      "source": [
        "    >>> list1 = [1,3,2,6,0,2,3,4,5]\n",
        "    >>> argmax(list1)\n",
        "    3\n",
        "    >>> argmin(list1)\n",
        "    4"
      ]
    },
    {
      "cell_type": "code",
      "execution_count": 67,
      "metadata": {
        "id": "iJnUX8NzPvg5",
        "colab": {
          "base_uri": "https://localhost:8080/"
        },
        "outputId": "5de331bd-5a27-4345-cfa9-b52436b2a9b4"
      },
      "outputs": [
        {
          "output_type": "execute_result",
          "data": {
            "text/plain": [
              "3"
            ]
          },
          "metadata": {},
          "execution_count": 67
        }
      ],
      "source": [
        "# try it here\n",
        "list1 = [1,3,2,6,0,2,3,4,5]\n",
        "argmax(list1)"
      ]
    },
    {
      "cell_type": "markdown",
      "metadata": {
        "id": "-06-8VXbPvg6"
      },
      "source": [
        ">**(b)** **(extra)** Instead of just finding the index of the largest or smallest element, one might be interested in the entire list of indices that would sort the list. In one of the previous exercises we presented you with this piece of code for finding the indices that sort a list.\n"
      ]
    },
    {
      "cell_type": "code",
      "execution_count": 78,
      "metadata": {
        "id": "qoRcMR6RPvg6",
        "colab": {
          "base_uri": "https://localhost:8080/"
        },
        "outputId": "e0244f82-2307-4455-89a9-3427e6b3db54"
      },
      "outputs": [
        {
          "output_type": "execute_result",
          "data": {
            "text/plain": [
              "(4, 0, 2, 5, 1, 6, 7, 8, 3)"
            ]
          },
          "metadata": {},
          "execution_count": 78
        }
      ],
      "source": [
        "l = [1,3,2,6,0,2,3,4,5]\n",
        "list(zip(*sorted(zip(l, range(len(l))))))[1]"
      ]
    },
    {
      "cell_type": "markdown",
      "metadata": {
        "id": "sVH3-Y6BPvg7"
      },
      "source": [
        ">It works by combining the list with the list of indices, sorting the combined list, and then untangling the results. Have a look at the documentation of the *zip* function to understand how it works. Write a function:"
      ]
    },
    {
      "cell_type": "code",
      "execution_count": 79,
      "metadata": {
        "id": "ZSOHYMVhPvg7"
      },
      "outputs": [],
      "source": [
        "def argsort(l):\n",
        "  sorted_idx = []\n",
        "  idx_and_item = []\n",
        "  for i, v in enumerate(l):\n",
        "    idx_and_item.append((v, i))\n",
        "  for v, i in sorted(idx_and_item):\n",
        "    sorted_idx.append(i)\n",
        "  return sorted_idx"
      ]
    },
    {
      "cell_type": "markdown",
      "metadata": {
        "id": "G1BH15yTPvg8"
      },
      "source": [
        ">that returns the list of indices that would sort the list, but instead of using the hard to read\n",
        "line above that uses zip, use list comprehensions. Example output:"
      ]
    },
    {
      "cell_type": "markdown",
      "metadata": {
        "id": "TH1PL0-iPvg8"
      },
      "source": [
        "    >>> l = [1,3,2,6,0,2,3,4,5]\n",
        "    >>> argsort(l)\n",
        "    [4, 0, 2, 5, 1, 6, 7, 8, 3]\n",
        "    >>> [l[i] for i in argsort(l)]\n",
        "    [0, 1, 2, 2, 3, 3, 4, 5, 6]\n"
      ]
    },
    {
      "cell_type": "code",
      "execution_count": 80,
      "metadata": {
        "id": "Gamh94ZXPvg8",
        "colab": {
          "base_uri": "https://localhost:8080/"
        },
        "outputId": "1208d3d3-9ce9-4b90-bf1d-65ae3079c561"
      },
      "outputs": [
        {
          "output_type": "stream",
          "name": "stdout",
          "text": [
            "[4, 0, 2, 5, 1, 6, 7, 8, 3]\n",
            "[0, 1, 2, 2, 3, 3, 4, 5, 6]\n"
          ]
        }
      ],
      "source": [
        "# try it here\n",
        "l = [1,3,2,6,0,2,3,4,5]\n",
        "print(argsort(l))\n",
        "print([l[i] for i in argsort(l)])"
      ]
    },
    {
      "cell_type": "markdown",
      "metadata": {
        "id": "Acay11vGPvg9"
      },
      "source": [
        "### Problem 5. Simple ciphers\n"
      ]
    },
    {
      "cell_type": "markdown",
      "metadata": {
        "id": "LkeaGF0-Pvg9"
      },
      "source": [
        "Suppose you wish to send your friend a message, and if someone happens to look at it, you do not want them to know what it says.<br>\n",
        "A simple way of doing this is to replace each letter, with\n",
        "a different one.<br>\n",
        "For example, suppose I wish to send the phrase “dancing is silent poetry”.<br>\n",
        "By exchanging each letter with another, we can encode this as: “robqwbu wg gwzsbh dcshfm”."
      ]
    },
    {
      "cell_type": "markdown",
      "metadata": {
        "id": "DDOOF9oRPvg9"
      },
      "source": [
        ">**(a)** Write a function that swaps the letter in a string according to a dictionary. For example:\n"
      ]
    },
    {
      "cell_type": "code",
      "execution_count": 81,
      "metadata": {
        "id": "R-H_GJWHPvg-"
      },
      "outputs": [],
      "source": [
        "def swapdict(string, dic):\n",
        "  swapped = ''\n",
        "  for c in string:\n",
        "    if c in dic:\n",
        "      swapped += dic[c]\n",
        "    else:\n",
        "      swapped += c\n",
        "  return swapped"
      ]
    },
    {
      "cell_type": "markdown",
      "metadata": {
        "id": "3Bx9Bw1FPvg-"
      },
      "source": [
        "    >>> print swapdict('hello', {'e': 'i'})\n",
        "    hillo\n",
        "    >>> print swapdict('hello', {'l': 'w'})\n",
        "    hewwo\n",
        "    >>> print swapdict('hello', {'l': 'm', 'h': 'p', 'e': 'o', 'o': 'e'})\n",
        "    pomme"
      ]
    },
    {
      "cell_type": "code",
      "execution_count": 82,
      "metadata": {
        "id": "Vz2eAl44Pvg-",
        "colab": {
          "base_uri": "https://localhost:8080/"
        },
        "outputId": "457b566d-f99e-4a8e-ca44-d984505c6405"
      },
      "outputs": [
        {
          "output_type": "stream",
          "name": "stdout",
          "text": [
            "hillo\n"
          ]
        }
      ],
      "source": [
        "# your code here\n",
        "print(swapdict('hello', {'e': 'i'}))"
      ]
    },
    {
      "cell_type": "markdown",
      "metadata": {
        "id": "AEPMq97kPvg_"
      },
      "source": [
        ">**(b)** Write a function that generates a dictionary whose keys are letters of the alphabet, and whose values are those letters shifted along by a given number of letters.\n"
      ]
    },
    {
      "cell_type": "code",
      "execution_count": 86,
      "metadata": {
        "id": "eguqZ2iQPvg_"
      },
      "outputs": [],
      "source": [
        "def shiftdict(i):\n",
        "\n",
        "  import string\n",
        "  alphabet = string.ascii_lowercase\n",
        "\n",
        "  shiftdict = {}\n",
        "  for c in alphabet:\n",
        "    shifted = ord(c) + i\n",
        "    if shifted < ord('a'):\n",
        "      shifted = ord('z') - (ord('a') - shifted) + 1\n",
        "    elif shifted > ord('z'):\n",
        "      shifted = ord('a') + (shifted - ord('z')) - 1\n",
        "    shiftdict[c] = chr(shifted)\n",
        "  return shiftdict"
      ]
    },
    {
      "cell_type": "code",
      "source": [
        "print(shiftdict(0))"
      ],
      "metadata": {
        "colab": {
          "base_uri": "https://localhost:8080/"
        },
        "id": "XadagSNUQXDr",
        "outputId": "aa7af4a4-30bc-4a88-83df-7944f1fb8ad6"
      },
      "execution_count": 88,
      "outputs": [
        {
          "output_type": "stream",
          "name": "stdout",
          "text": [
            "{'a': 'a', 'b': 'b', 'c': 'c', 'd': 'd', 'e': 'e', 'f': 'f', 'g': 'g', 'h': 'h', 'i': 'i', 'j': 'j', 'k': 'k', 'l': 'l', 'm': 'm', 'n': 'n', 'o': 'o', 'p': 'p', 'q': 'q', 'r': 'r', 's': 's', 't': 't', 'u': 'u', 'v': 'v', 'w': 'w', 'x': 'x', 'y': 'y', 'z': 'z'}\n"
          ]
        }
      ]
    },
    {
      "cell_type": "markdown",
      "metadata": {
        "id": "g9To0d5kPvhA"
      },
      "source": [
        "    >>> print shiftdict(0)\n",
        "    {'a': 'a', 'b': 'b', ..., 'z': 'z'}\n",
        "    >>> print shiftdict(3)\n",
        "    {'a': 'd', 'b': 'e', ..., 'z': 'c'}\n",
        "    >>> print shiftdict(13)\n",
        "    {'a': 'n', 'b': 'o', ..., 'z': 'm'}"
      ]
    },
    {
      "cell_type": "markdown",
      "metadata": {
        "id": "iq77-N4APvhA"
      },
      "source": [
        ">In the first case, the letters are not shifted, because the argument to *shiftdict* is zero. In the second case, letters are shifted along by three letters: “a” is the first letter, and “d” is the forth letter, and so key “a” points to letter “d”."
      ]
    },
    {
      "cell_type": "code",
      "execution_count": 89,
      "metadata": {
        "id": "Na1HmVFlPvhB",
        "colab": {
          "base_uri": "https://localhost:8080/"
        },
        "outputId": "98a04035-18d2-4999-dbdf-4ac3ebbc3b44"
      },
      "outputs": [
        {
          "output_type": "stream",
          "name": "stdout",
          "text": [
            "{'a': 'd', 'b': 'e', 'c': 'f', 'd': 'g', 'e': 'h', 'f': 'i', 'g': 'j', 'h': 'k', 'i': 'l', 'j': 'm', 'k': 'n', 'l': 'o', 'm': 'p', 'n': 'q', 'o': 'r', 'p': 's', 'q': 't', 'r': 'u', 's': 'v', 't': 'w', 'u': 'x', 'v': 'y', 'w': 'z', 'x': 'a', 'y': 'b', 'z': 'c'}\n"
          ]
        }
      ],
      "source": [
        "# try it here\n",
        "print(shiftdict(3))"
      ]
    },
    {
      "cell_type": "markdown",
      "metadata": {
        "id": "uL5d0f8yPvhB"
      },
      "source": [
        ">**(c)** Now we are ready to encode our message: “dancing is silent poetry”.\n"
      ]
    },
    {
      "cell_type": "markdown",
      "metadata": {
        "id": "9sifuyNyPvhC"
      },
      "source": [
        "    >>> print swapdict('dancing is silent poetry', shiftdict(14))"
      ]
    },
    {
      "cell_type": "code",
      "execution_count": 92,
      "metadata": {
        "id": "eAK0bkI5PvhC",
        "colab": {
          "base_uri": "https://localhost:8080/",
          "height": 35
        },
        "outputId": "b8361a2b-fa2d-4106-bc32-f675ed69dfdd"
      },
      "outputs": [
        {
          "output_type": "execute_result",
          "data": {
            "text/plain": [
              "'robqwbu wg gwzsbh dcshfm'"
            ],
            "application/vnd.google.colaboratory.intrinsic+json": {
              "type": "string"
            }
          },
          "metadata": {},
          "execution_count": 92
        }
      ],
      "source": [
        "# your code here\n",
        "swapdict(\"dancing is silent poetry\", shiftdict(14)) #  “robqwbu wg gwzsbh dcshfm”"
      ]
    },
    {
      "cell_type": "markdown",
      "metadata": {
        "id": "oSGkmZS7PvhC"
      },
      "source": [
        ">Check that it matches the encoding given above.\n"
      ]
    },
    {
      "cell_type": "markdown",
      "metadata": {
        "id": "ZdoMwxTcPvhD"
      },
      "source": [
        ">**(d)** Write a function that takes a dictionary and swaps the roles of the keys and the values.\n"
      ]
    },
    {
      "cell_type": "code",
      "execution_count": 93,
      "metadata": {
        "id": "M__auAciPvhD"
      },
      "outputs": [],
      "source": [
        "def invertdict(dictionary):\n",
        "  return dict((v, k) for k, v in dictionary.items())"
      ]
    },
    {
      "cell_type": "markdown",
      "metadata": {
        "id": "0t2OZUVgPvhE"
      },
      "source": [
        "Here are some examples to check it works:"
      ]
    },
    {
      "cell_type": "markdown",
      "metadata": {
        "id": "Iu-o1dMmPvhE"
      },
      "source": [
        "    >>> invertdict({'a':'b'})\n",
        "    {'b': 'a'}\n",
        "    >>> invertdict({'b':'a', 'a': 'b'})\n",
        "    {'a': 'b', 'b': 'a'}\n",
        "    >>> invertdict({'a':'b', 'b': 'c', 'c': 'a'})\n",
        "    {'a': 'c', 'b': 'a','c': 'b'}"
      ]
    },
    {
      "cell_type": "code",
      "execution_count": 94,
      "metadata": {
        "id": "xcf39_NzPvhE",
        "colab": {
          "base_uri": "https://localhost:8080/"
        },
        "outputId": "e831227e-dd30-4327-b32f-94b4be713f2b"
      },
      "outputs": [
        {
          "output_type": "execute_result",
          "data": {
            "text/plain": [
              "{'b': 'a'}"
            ]
          },
          "metadata": {},
          "execution_count": 94
        }
      ],
      "source": [
        "# your code here\n",
        "invertdict({'a':'b'})"
      ]
    },
    {
      "cell_type": "markdown",
      "metadata": {
        "id": "EuVKUP_hPvhF"
      },
      "source": [
        ">**(e)** Can you decode this message, that was encoded using the same scheme? “qzuipo nblft ju tjnqmf ipqfgvmmz”. Use only *invertdict*, *swapdict* and *shiftdict*.\n"
      ]
    },
    {
      "cell_type": "code",
      "execution_count": 96,
      "metadata": {
        "id": "wURQwzJlPvhF",
        "colab": {
          "base_uri": "https://localhost:8080/"
        },
        "outputId": "3c35a86e-01d3-4dba-c9f0-806789d672d1"
      },
      "outputs": [
        {
          "output_type": "stream",
          "name": "stdout",
          "text": [
            "python makes it simple hopefully\n"
          ]
        }
      ],
      "source": [
        "# your code here\n",
        "print(swapdict('qzuipo nblft ju tjnqmf ipqfgvmmz', shiftdict(25)))"
      ]
    },
    {
      "cell_type": "markdown",
      "metadata": {
        "id": "LyCn3HuDPvhG"
      },
      "source": [
        ">**(f)** You notice that your friend is sending encrypted messages to other people, but they appear to be encoded using a different argument to shiftdict.<br>\n",
        "Use a for-loop, swapdict and shiftdict to work out the encoding scheme, and what this message says: “nyhcpaf pz aol yvva vm spnoaulzz”.\n"
      ]
    },
    {
      "cell_type": "code",
      "execution_count": 101,
      "metadata": {
        "id": "ggRmC4CcPvhG",
        "colab": {
          "base_uri": "https://localhost:8080/"
        },
        "outputId": "141a362f-82cb-4086-adeb-9b5bf03c5b97"
      },
      "outputs": [
        {
          "output_type": "stream",
          "name": "stdout",
          "text": [
            "nyhcpaf pz aol yvva vm spnoaulzz\n",
            "ozidqbg qa bpm zwwb wn tqopbvmaa\n",
            "pajerch rb cqn axxc xo urpqcwnbb\n",
            "qbkfsdi sc dro byyd yp vsqrdxocc\n",
            "rclgtej td esp czze zq wtrseypdd\n",
            "sdmhufk ue ftq daaf ar xustfzqee\n",
            "tenivgl vf gur ebbg bs yvtugarff\n",
            "ufojwhm wg hvs fcch ct zwuvhbsgg\n",
            "vgpkxin xh iwt gddi du axvwicthh\n",
            "whqlyjo yi jxu heej ev bywxjduii\n",
            "xirmzkp zj kyv iffk fw czxykevjj\n",
            "yjsnalq ak lzw jggl gx dayzlfwkk\n",
            "zktobmr bl max khhm hy ebzamgxll\n",
            "alupcns cm nby liin iz fcabnhymm\n",
            "bmvqdot dn ocz mjjo ja gdbcoiznn\n",
            "cnwrepu eo pda nkkp kb hecdpjaoo\n",
            "doxsfqv fp qeb ollq lc ifdeqkbpp\n",
            "epytgrw gq rfc pmmr md jgefrlcqq\n",
            "fqzuhsx hr sgd qnns ne khfgsmdrr\n",
            "gravity is the root of lightness\n",
            "hsbwjuz jt uif sppu pg mjhiuoftt\n",
            "itcxkva ku vjg tqqv qh nkijvpguu\n",
            "judylwb lv wkh urrw ri oljkwqhvv\n",
            "kvezmxc mw xli vssx sj pmklxriww\n",
            "lwfanyd nx ymj wtty tk qnlmysjxx\n",
            "mxgboze oy znk xuuz ul romnztkyy\n",
            "nyhcpaf pz aol yvva vm spnoaulzz\n",
            "\n",
            "\n",
            "i = 19,  gravity is the root of lightness\n"
          ]
        }
      ],
      "source": [
        "# your code here\n",
        "for i in range(27):\n",
        "  print(swapdict('nyhcpaf pz aol yvva vm spnoaulzz', shiftdict(i)))\n",
        "\n",
        "print(\"\\n\")\n",
        "print('i = 19, ' , swapdict('nyhcpaf pz aol yvva vm spnoaulzz', shiftdict(19)))"
      ]
    }
  ],
  "metadata": {
    "kernelspec": {
      "display_name": "Python 3",
      "language": "python",
      "name": "python3"
    },
    "language_info": {
      "codemirror_mode": {
        "name": "ipython",
        "version": 3
      },
      "file_extension": ".py",
      "mimetype": "text/x-python",
      "name": "python",
      "nbconvert_exporter": "python",
      "pygments_lexer": "ipython3",
      "version": "3.6.6"
    },
    "colab": {
      "provenance": [],
      "include_colab_link": true
    }
  },
  "nbformat": 4,
  "nbformat_minor": 0
}